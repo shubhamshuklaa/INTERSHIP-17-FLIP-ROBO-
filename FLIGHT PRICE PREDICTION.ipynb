{
 "cells": [
  {
   "cell_type": "code",
   "execution_count": 1,
   "id": "2a499a1b",
   "metadata": {},
   "outputs": [
    {
     "name": "stdout",
     "output_type": "stream",
     "text": [
      "Requirement already satisfied: scikit-plot in c:\\users\\user\\anaconda3\\lib\\site-packages (0.3.7)\n",
      "Requirement already satisfied: scikit-learn>=0.18 in c:\\users\\user\\anaconda3\\lib\\site-packages (from scikit-plot) (0.24.1)\n",
      "Requirement already satisfied: matplotlib>=1.4.0 in c:\\users\\user\\anaconda3\\lib\\site-packages (from scikit-plot) (3.3.4)\n",
      "Requirement already satisfied: scipy>=0.9 in c:\\users\\user\\anaconda3\\lib\\site-packages (from scikit-plot) (1.6.2)\n",
      "Requirement already satisfied: joblib>=0.10 in c:\\users\\user\\anaconda3\\lib\\site-packages (from scikit-plot) (1.0.1)\n",
      "Requirement already satisfied: kiwisolver>=1.0.1 in c:\\users\\user\\anaconda3\\lib\\site-packages (from matplotlib>=1.4.0->scikit-plot) (1.3.1)\n",
      "Requirement already satisfied: pillow>=6.2.0 in c:\\users\\user\\anaconda3\\lib\\site-packages (from matplotlib>=1.4.0->scikit-plot) (8.2.0)\n",
      "Requirement already satisfied: numpy>=1.15 in c:\\users\\user\\anaconda3\\lib\\site-packages (from matplotlib>=1.4.0->scikit-plot) (1.20.1)\n",
      "Requirement already satisfied: cycler>=0.10 in c:\\users\\user\\anaconda3\\lib\\site-packages (from matplotlib>=1.4.0->scikit-plot) (0.10.0)\n",
      "Requirement already satisfied: pyparsing!=2.0.4,!=2.1.2,!=2.1.6,>=2.0.3 in c:\\users\\user\\anaconda3\\lib\\site-packages (from matplotlib>=1.4.0->scikit-plot) (2.4.7)\n",
      "Requirement already satisfied: python-dateutil>=2.1 in c:\\users\\user\\anaconda3\\lib\\site-packages (from matplotlib>=1.4.0->scikit-plot) (2.8.1)\n",
      "Requirement already satisfied: six in c:\\users\\user\\anaconda3\\lib\\site-packages (from cycler>=0.10->matplotlib>=1.4.0->scikit-plot) (1.15.0)\n",
      "Requirement already satisfied: threadpoolctl>=2.0.0 in c:\\users\\user\\anaconda3\\lib\\site-packages (from scikit-learn>=0.18->scikit-plot) (2.1.0)\n",
      "Collecting pyfiglet\n",
      "  Downloading pyfiglet-0.8.post1-py2.py3-none-any.whl (865 kB)\n",
      "Installing collected packages: pyfiglet\n",
      "Successfully installed pyfiglet-0.8.post1\n"
     ]
    }
   ],
   "source": [
    "import pandas as pd\n",
    "import numpy as np\n",
    "import matplotlib.pyplot as plt\n",
    "import seaborn as sns\n",
    "%matplotlib inline\n",
    "import warnings\n",
    "warnings.filterwarnings('ignore')\n",
    "from sklearn.preprocessing import OrdinalEncoder,power_transform,StandardScaler,MinMaxScaler\n",
    "from sklearn.model_selection import train_test_split,cross_val_score,GridSearchCV,KFold\n",
    "from sklearn.ensemble import ExtraTreesRegressor,RandomForestRegressor\n",
    "from sklearn.linear_model import LinearRegression,Lasso\n",
    "from lightgbm import LGBMRegressor\n",
    "from sklearn.tree import DecisionTreeRegressor\n",
    "from xgboost import XGBRegressor\n",
    "from sklearn.metrics import mean_absolute_error,mean_squared_error,r2_score\n",
    "!pip install scikit-plot\n",
    "import scikitplot as skplt\n",
    "from xgboost import XGBRegressor\n",
    "from lightgbm import LGBMRegressor\n",
    "!pip install pyfiglet\n",
    "import pyfiglet"
   ]
  },
  {
   "cell_type": "code",
   "execution_count": 6,
   "id": "6e136f42",
   "metadata": {},
   "outputs": [],
   "source": [
    "data=pd.read_csv('flight_data.csv')"
   ]
  },
  {
   "cell_type": "code",
   "execution_count": 7,
   "id": "8afc85ca",
   "metadata": {},
   "outputs": [
    {
     "data": {
      "text/html": [
       "<div>\n",
       "<style scoped>\n",
       "    .dataframe tbody tr th:only-of-type {\n",
       "        vertical-align: middle;\n",
       "    }\n",
       "\n",
       "    .dataframe tbody tr th {\n",
       "        vertical-align: top;\n",
       "    }\n",
       "\n",
       "    .dataframe thead th {\n",
       "        text-align: right;\n",
       "    }\n",
       "</style>\n",
       "<table border=\"1\" class=\"dataframe\">\n",
       "  <thead>\n",
       "    <tr style=\"text-align: right;\">\n",
       "      <th></th>\n",
       "      <th>Unnamed: 0</th>\n",
       "      <th>Unnamed: 0.1</th>\n",
       "      <th>Airline</th>\n",
       "      <th>Source</th>\n",
       "      <th>Destination</th>\n",
       "      <th>Dep_Time</th>\n",
       "      <th>Arrival_Time</th>\n",
       "      <th>Duration</th>\n",
       "      <th>Total_Stops</th>\n",
       "      <th>Price</th>\n",
       "    </tr>\n",
       "  </thead>\n",
       "  <tbody>\n",
       "    <tr>\n",
       "      <th>0</th>\n",
       "      <td>0</td>\n",
       "      <td>0</td>\n",
       "      <td>Jet Airways</td>\n",
       "      <td>Banglore</td>\n",
       "      <td>Delhi</td>\n",
       "      <td>18:55</td>\n",
       "      <td>22:00</td>\n",
       "      <td>3h 5m</td>\n",
       "      <td>non-stop</td>\n",
       "      <td>7229</td>\n",
       "    </tr>\n",
       "    <tr>\n",
       "      <th>1</th>\n",
       "      <td>1</td>\n",
       "      <td>1</td>\n",
       "      <td>Multiple carriers</td>\n",
       "      <td>Delhi</td>\n",
       "      <td>Cochin</td>\n",
       "      <td>10:20</td>\n",
       "      <td>01:30 22 May</td>\n",
       "      <td>15h 10m</td>\n",
       "      <td>1 stop</td>\n",
       "      <td>7485</td>\n",
       "    </tr>\n",
       "    <tr>\n",
       "      <th>2</th>\n",
       "      <td>2</td>\n",
       "      <td>2</td>\n",
       "      <td>IndiGo</td>\n",
       "      <td>Banglore</td>\n",
       "      <td>Delhi</td>\n",
       "      <td>18:55</td>\n",
       "      <td>21:50</td>\n",
       "      <td>2h 55m</td>\n",
       "      <td>non-stop</td>\n",
       "      <td>4823</td>\n",
       "    </tr>\n",
       "    <tr>\n",
       "      <th>3</th>\n",
       "      <td>3</td>\n",
       "      <td>3</td>\n",
       "      <td>Air India</td>\n",
       "      <td>Delhi</td>\n",
       "      <td>Cochin</td>\n",
       "      <td>05:55</td>\n",
       "      <td>07:40 07 Mar</td>\n",
       "      <td>25h 45m</td>\n",
       "      <td>2 stops</td>\n",
       "      <td>14641</td>\n",
       "    </tr>\n",
       "    <tr>\n",
       "      <th>4</th>\n",
       "      <td>4</td>\n",
       "      <td>4</td>\n",
       "      <td>SpiceJet</td>\n",
       "      <td>Kolkata</td>\n",
       "      <td>Banglore</td>\n",
       "      <td>06:55</td>\n",
       "      <td>09:30</td>\n",
       "      <td>2h 35m</td>\n",
       "      <td>non-stop</td>\n",
       "      <td>3841</td>\n",
       "    </tr>\n",
       "    <tr>\n",
       "      <th>...</th>\n",
       "      <td>...</td>\n",
       "      <td>...</td>\n",
       "      <td>...</td>\n",
       "      <td>...</td>\n",
       "      <td>...</td>\n",
       "      <td>...</td>\n",
       "      <td>...</td>\n",
       "      <td>...</td>\n",
       "      <td>...</td>\n",
       "      <td>...</td>\n",
       "    </tr>\n",
       "    <tr>\n",
       "      <th>1669</th>\n",
       "      <td>1669</td>\n",
       "      <td>1669</td>\n",
       "      <td>IndiGo</td>\n",
       "      <td>Banglore</td>\n",
       "      <td>Delhi</td>\n",
       "      <td>04:00</td>\n",
       "      <td>06:50</td>\n",
       "      <td>2h 50m</td>\n",
       "      <td>non-stop</td>\n",
       "      <td>4423</td>\n",
       "    </tr>\n",
       "    <tr>\n",
       "      <th>1670</th>\n",
       "      <td>1670</td>\n",
       "      <td>1670</td>\n",
       "      <td>Jet Airways</td>\n",
       "      <td>Kolkata</td>\n",
       "      <td>Banglore</td>\n",
       "      <td>08:25</td>\n",
       "      <td>18:15</td>\n",
       "      <td>9h 50m</td>\n",
       "      <td>1 stop</td>\n",
       "      <td>10844</td>\n",
       "    </tr>\n",
       "    <tr>\n",
       "      <th>1671</th>\n",
       "      <td>1671</td>\n",
       "      <td>1671</td>\n",
       "      <td>Jet Airways</td>\n",
       "      <td>Delhi</td>\n",
       "      <td>Cochin</td>\n",
       "      <td>19:30</td>\n",
       "      <td>12:35 28 Jun</td>\n",
       "      <td>17h 5m</td>\n",
       "      <td>2 stops</td>\n",
       "      <td>13764</td>\n",
       "    </tr>\n",
       "    <tr>\n",
       "      <th>1672</th>\n",
       "      <td>1672</td>\n",
       "      <td>1672</td>\n",
       "      <td>Air India</td>\n",
       "      <td>Delhi</td>\n",
       "      <td>Cochin</td>\n",
       "      <td>23:00</td>\n",
       "      <td>19:15 10 Mar</td>\n",
       "      <td>20h 15m</td>\n",
       "      <td>1 stop</td>\n",
       "      <td>11260</td>\n",
       "    </tr>\n",
       "    <tr>\n",
       "      <th>1673</th>\n",
       "      <td>1673</td>\n",
       "      <td>1673</td>\n",
       "      <td>Jet Airways</td>\n",
       "      <td>Kolkata</td>\n",
       "      <td>Banglore</td>\n",
       "      <td>16:30</td>\n",
       "      <td>20:45 13 May</td>\n",
       "      <td>28h 15m</td>\n",
       "      <td>1 stop</td>\n",
       "      <td>10844</td>\n",
       "    </tr>\n",
       "  </tbody>\n",
       "</table>\n",
       "<p>1674 rows × 10 columns</p>\n",
       "</div>"
      ],
      "text/plain": [
       "      Unnamed: 0  Unnamed: 0.1            Airline    Source Destination  \\\n",
       "0              0             0        Jet Airways  Banglore       Delhi   \n",
       "1              1             1  Multiple carriers     Delhi      Cochin   \n",
       "2              2             2             IndiGo  Banglore       Delhi   \n",
       "3              3             3          Air India     Delhi      Cochin   \n",
       "4              4             4           SpiceJet   Kolkata    Banglore   \n",
       "...          ...           ...                ...       ...         ...   \n",
       "1669        1669          1669             IndiGo  Banglore       Delhi   \n",
       "1670        1670          1670        Jet Airways   Kolkata    Banglore   \n",
       "1671        1671          1671        Jet Airways     Delhi      Cochin   \n",
       "1672        1672          1672          Air India     Delhi      Cochin   \n",
       "1673        1673          1673        Jet Airways   Kolkata    Banglore   \n",
       "\n",
       "     Dep_Time  Arrival_Time Duration Total_Stops  Price  \n",
       "0       18:55         22:00    3h 5m    non-stop   7229  \n",
       "1       10:20  01:30 22 May  15h 10m      1 stop   7485  \n",
       "2       18:55         21:50   2h 55m    non-stop   4823  \n",
       "3       05:55  07:40 07 Mar  25h 45m     2 stops  14641  \n",
       "4       06:55         09:30   2h 35m    non-stop   3841  \n",
       "...       ...           ...      ...         ...    ...  \n",
       "1669    04:00         06:50   2h 50m    non-stop   4423  \n",
       "1670    08:25         18:15   9h 50m      1 stop  10844  \n",
       "1671    19:30  12:35 28 Jun   17h 5m     2 stops  13764  \n",
       "1672    23:00  19:15 10 Mar  20h 15m      1 stop  11260  \n",
       "1673    16:30  20:45 13 May  28h 15m      1 stop  10844  \n",
       "\n",
       "[1674 rows x 10 columns]"
      ]
     },
     "execution_count": 7,
     "metadata": {},
     "output_type": "execute_result"
    }
   ],
   "source": [
    "data"
   ]
  },
  {
   "cell_type": "code",
   "execution_count": 8,
   "id": "f301a039",
   "metadata": {},
   "outputs": [
    {
     "name": "stdout",
     "output_type": "stream",
     "text": [
      "<class 'pandas.core.frame.DataFrame'>\n",
      "RangeIndex: 1674 entries, 0 to 1673\n",
      "Data columns (total 10 columns):\n",
      " #   Column        Non-Null Count  Dtype \n",
      "---  ------        --------------  ----- \n",
      " 0   Unnamed: 0    1674 non-null   int64 \n",
      " 1   Unnamed: 0.1  1674 non-null   int64 \n",
      " 2   Airline       1674 non-null   object\n",
      " 3   Source        1674 non-null   object\n",
      " 4   Destination   1674 non-null   object\n",
      " 5   Dep_Time      1674 non-null   object\n",
      " 6   Arrival_Time  1674 non-null   object\n",
      " 7   Duration      1674 non-null   object\n",
      " 8   Total_Stops   1674 non-null   object\n",
      " 9   Price         1674 non-null   int64 \n",
      "dtypes: int64(3), object(7)\n",
      "memory usage: 130.9+ KB\n"
     ]
    }
   ],
   "source": [
    "data.info()"
   ]
  },
  {
   "cell_type": "markdown",
   "id": "399de6d0",
   "metadata": {},
   "source": [
    "We have only one column that is numeric"
   ]
  },
  {
   "cell_type": "code",
   "execution_count": 9,
   "id": "cdc4b5b9",
   "metadata": {},
   "outputs": [
    {
     "data": {
      "text/plain": [
       "Unnamed: 0      0\n",
       "Unnamed: 0.1    0\n",
       "Airline         0\n",
       "Source          0\n",
       "Destination     0\n",
       "Dep_Time        0\n",
       "Arrival_Time    0\n",
       "Duration        0\n",
       "Total_Stops     0\n",
       "Price           0\n",
       "dtype: int64"
      ]
     },
     "execution_count": 9,
     "metadata": {},
     "output_type": "execute_result"
    }
   ],
   "source": [
    "data.isna().sum()"
   ]
  },
  {
   "cell_type": "code",
   "execution_count": 10,
   "id": "0f16d4a4",
   "metadata": {},
   "outputs": [
    {
     "data": {
      "text/html": [
       "<div>\n",
       "<style scoped>\n",
       "    .dataframe tbody tr th:only-of-type {\n",
       "        vertical-align: middle;\n",
       "    }\n",
       "\n",
       "    .dataframe tbody tr th {\n",
       "        vertical-align: top;\n",
       "    }\n",
       "\n",
       "    .dataframe thead th {\n",
       "        text-align: right;\n",
       "    }\n",
       "</style>\n",
       "<table border=\"1\" class=\"dataframe\">\n",
       "  <thead>\n",
       "    <tr style=\"text-align: right;\">\n",
       "      <th></th>\n",
       "      <th>Unnamed: 0</th>\n",
       "      <th>Unnamed: 0.1</th>\n",
       "      <th>Price</th>\n",
       "    </tr>\n",
       "  </thead>\n",
       "  <tbody>\n",
       "    <tr>\n",
       "      <th>count</th>\n",
       "      <td>1674.000000</td>\n",
       "      <td>1674.000000</td>\n",
       "      <td>1674.000000</td>\n",
       "    </tr>\n",
       "    <tr>\n",
       "      <th>mean</th>\n",
       "      <td>836.500000</td>\n",
       "      <td>836.500000</td>\n",
       "      <td>9083.091995</td>\n",
       "    </tr>\n",
       "    <tr>\n",
       "      <th>std</th>\n",
       "      <td>483.386491</td>\n",
       "      <td>483.386491</td>\n",
       "      <td>4475.845590</td>\n",
       "    </tr>\n",
       "    <tr>\n",
       "      <th>min</th>\n",
       "      <td>0.000000</td>\n",
       "      <td>0.000000</td>\n",
       "      <td>1965.000000</td>\n",
       "    </tr>\n",
       "    <tr>\n",
       "      <th>25%</th>\n",
       "      <td>418.250000</td>\n",
       "      <td>418.250000</td>\n",
       "      <td>5403.000000</td>\n",
       "    </tr>\n",
       "    <tr>\n",
       "      <th>50%</th>\n",
       "      <td>836.500000</td>\n",
       "      <td>836.500000</td>\n",
       "      <td>8529.000000</td>\n",
       "    </tr>\n",
       "    <tr>\n",
       "      <th>75%</th>\n",
       "      <td>1254.750000</td>\n",
       "      <td>1254.750000</td>\n",
       "      <td>12361.500000</td>\n",
       "    </tr>\n",
       "    <tr>\n",
       "      <th>max</th>\n",
       "      <td>1673.000000</td>\n",
       "      <td>1673.000000</td>\n",
       "      <td>57209.000000</td>\n",
       "    </tr>\n",
       "  </tbody>\n",
       "</table>\n",
       "</div>"
      ],
      "text/plain": [
       "        Unnamed: 0  Unnamed: 0.1         Price\n",
       "count  1674.000000   1674.000000   1674.000000\n",
       "mean    836.500000    836.500000   9083.091995\n",
       "std     483.386491    483.386491   4475.845590\n",
       "min       0.000000      0.000000   1965.000000\n",
       "25%     418.250000    418.250000   5403.000000\n",
       "50%     836.500000    836.500000   8529.000000\n",
       "75%    1254.750000   1254.750000  12361.500000\n",
       "max    1673.000000   1673.000000  57209.000000"
      ]
     },
     "execution_count": 10,
     "metadata": {},
     "output_type": "execute_result"
    }
   ],
   "source": [
    "data.describe()"
   ]
  },
  {
   "cell_type": "code",
   "execution_count": 12,
   "id": "357c6577",
   "metadata": {},
   "outputs": [
    {
     "data": {
      "text/plain": [
       "(1674, 10)"
      ]
     },
     "execution_count": 12,
     "metadata": {},
     "output_type": "execute_result"
    }
   ],
   "source": [
    "data.shape"
   ]
  },
  {
   "cell_type": "code",
   "execution_count": 13,
   "id": "f4f1eb2f",
   "metadata": {},
   "outputs": [
    {
     "data": {
      "text/plain": [
       "Unnamed: 0       int64\n",
       "Unnamed: 0.1     int64\n",
       "Airline         object\n",
       "Source          object\n",
       "Destination     object\n",
       "Dep_Time        object\n",
       "Arrival_Time    object\n",
       "Duration        object\n",
       "Total_Stops     object\n",
       "Price            int64\n",
       "dtype: object"
      ]
     },
     "execution_count": 13,
     "metadata": {},
     "output_type": "execute_result"
    }
   ],
   "source": [
    "data.dtypes"
   ]
  },
  {
   "cell_type": "code",
   "execution_count": 14,
   "id": "78fd8446",
   "metadata": {},
   "outputs": [
    {
     "data": {
      "text/plain": [
       "Index(['Unnamed: 0', 'Unnamed: 0.1', 'Airline', 'Source', 'Destination',\n",
       "       'Dep_Time', 'Arrival_Time', 'Duration', 'Total_Stops', 'Price'],\n",
       "      dtype='object')"
      ]
     },
     "execution_count": 14,
     "metadata": {},
     "output_type": "execute_result"
    }
   ],
   "source": [
    "data.columns"
   ]
  },
  {
   "cell_type": "markdown",
   "id": "f5c089fe",
   "metadata": {},
   "source": [
    "## DATA-PREPROCESSING"
   ]
  },
  {
   "cell_type": "code",
   "execution_count": 16,
   "id": "1e3601e3",
   "metadata": {},
   "outputs": [
    {
     "data": {
      "text/html": [
       "<div>\n",
       "<style scoped>\n",
       "    .dataframe tbody tr th:only-of-type {\n",
       "        vertical-align: middle;\n",
       "    }\n",
       "\n",
       "    .dataframe tbody tr th {\n",
       "        vertical-align: top;\n",
       "    }\n",
       "\n",
       "    .dataframe thead th {\n",
       "        text-align: right;\n",
       "    }\n",
       "</style>\n",
       "<table border=\"1\" class=\"dataframe\">\n",
       "  <thead>\n",
       "    <tr style=\"text-align: right;\">\n",
       "      <th></th>\n",
       "      <th>Unnamed: 0</th>\n",
       "      <th>Unnamed: 0.1</th>\n",
       "      <th>Airline</th>\n",
       "      <th>Source</th>\n",
       "      <th>Destination</th>\n",
       "      <th>Dep_Time</th>\n",
       "      <th>Arrival_Time</th>\n",
       "      <th>Total_Stops</th>\n",
       "      <th>Price</th>\n",
       "    </tr>\n",
       "  </thead>\n",
       "  <tbody>\n",
       "    <tr>\n",
       "      <th>0</th>\n",
       "      <td>0</td>\n",
       "      <td>0</td>\n",
       "      <td>Jet Airways</td>\n",
       "      <td>Banglore</td>\n",
       "      <td>Delhi</td>\n",
       "      <td>18:55</td>\n",
       "      <td>22:00</td>\n",
       "      <td>non-stop</td>\n",
       "      <td>7229</td>\n",
       "    </tr>\n",
       "    <tr>\n",
       "      <th>1</th>\n",
       "      <td>1</td>\n",
       "      <td>1</td>\n",
       "      <td>Multiple carriers</td>\n",
       "      <td>Delhi</td>\n",
       "      <td>Cochin</td>\n",
       "      <td>10:20</td>\n",
       "      <td>01:30 22 May</td>\n",
       "      <td>1 stop</td>\n",
       "      <td>7485</td>\n",
       "    </tr>\n",
       "    <tr>\n",
       "      <th>2</th>\n",
       "      <td>2</td>\n",
       "      <td>2</td>\n",
       "      <td>IndiGo</td>\n",
       "      <td>Banglore</td>\n",
       "      <td>Delhi</td>\n",
       "      <td>18:55</td>\n",
       "      <td>21:50</td>\n",
       "      <td>non-stop</td>\n",
       "      <td>4823</td>\n",
       "    </tr>\n",
       "    <tr>\n",
       "      <th>3</th>\n",
       "      <td>3</td>\n",
       "      <td>3</td>\n",
       "      <td>Air India</td>\n",
       "      <td>Delhi</td>\n",
       "      <td>Cochin</td>\n",
       "      <td>05:55</td>\n",
       "      <td>07:40 07 Mar</td>\n",
       "      <td>2 stops</td>\n",
       "      <td>14641</td>\n",
       "    </tr>\n",
       "    <tr>\n",
       "      <th>4</th>\n",
       "      <td>4</td>\n",
       "      <td>4</td>\n",
       "      <td>SpiceJet</td>\n",
       "      <td>Kolkata</td>\n",
       "      <td>Banglore</td>\n",
       "      <td>06:55</td>\n",
       "      <td>09:30</td>\n",
       "      <td>non-stop</td>\n",
       "      <td>3841</td>\n",
       "    </tr>\n",
       "    <tr>\n",
       "      <th>...</th>\n",
       "      <td>...</td>\n",
       "      <td>...</td>\n",
       "      <td>...</td>\n",
       "      <td>...</td>\n",
       "      <td>...</td>\n",
       "      <td>...</td>\n",
       "      <td>...</td>\n",
       "      <td>...</td>\n",
       "      <td>...</td>\n",
       "    </tr>\n",
       "    <tr>\n",
       "      <th>1669</th>\n",
       "      <td>1669</td>\n",
       "      <td>1669</td>\n",
       "      <td>IndiGo</td>\n",
       "      <td>Banglore</td>\n",
       "      <td>Delhi</td>\n",
       "      <td>04:00</td>\n",
       "      <td>06:50</td>\n",
       "      <td>non-stop</td>\n",
       "      <td>4423</td>\n",
       "    </tr>\n",
       "    <tr>\n",
       "      <th>1670</th>\n",
       "      <td>1670</td>\n",
       "      <td>1670</td>\n",
       "      <td>Jet Airways</td>\n",
       "      <td>Kolkata</td>\n",
       "      <td>Banglore</td>\n",
       "      <td>08:25</td>\n",
       "      <td>18:15</td>\n",
       "      <td>1 stop</td>\n",
       "      <td>10844</td>\n",
       "    </tr>\n",
       "    <tr>\n",
       "      <th>1671</th>\n",
       "      <td>1671</td>\n",
       "      <td>1671</td>\n",
       "      <td>Jet Airways</td>\n",
       "      <td>Delhi</td>\n",
       "      <td>Cochin</td>\n",
       "      <td>19:30</td>\n",
       "      <td>12:35 28 Jun</td>\n",
       "      <td>2 stops</td>\n",
       "      <td>13764</td>\n",
       "    </tr>\n",
       "    <tr>\n",
       "      <th>1672</th>\n",
       "      <td>1672</td>\n",
       "      <td>1672</td>\n",
       "      <td>Air India</td>\n",
       "      <td>Delhi</td>\n",
       "      <td>Cochin</td>\n",
       "      <td>23:00</td>\n",
       "      <td>19:15 10 Mar</td>\n",
       "      <td>1 stop</td>\n",
       "      <td>11260</td>\n",
       "    </tr>\n",
       "    <tr>\n",
       "      <th>1673</th>\n",
       "      <td>1673</td>\n",
       "      <td>1673</td>\n",
       "      <td>Jet Airways</td>\n",
       "      <td>Kolkata</td>\n",
       "      <td>Banglore</td>\n",
       "      <td>16:30</td>\n",
       "      <td>20:45 13 May</td>\n",
       "      <td>1 stop</td>\n",
       "      <td>10844</td>\n",
       "    </tr>\n",
       "  </tbody>\n",
       "</table>\n",
       "<p>1674 rows × 9 columns</p>\n",
       "</div>"
      ],
      "text/plain": [
       "      Unnamed: 0  Unnamed: 0.1            Airline    Source Destination  \\\n",
       "0              0             0        Jet Airways  Banglore       Delhi   \n",
       "1              1             1  Multiple carriers     Delhi      Cochin   \n",
       "2              2             2             IndiGo  Banglore       Delhi   \n",
       "3              3             3          Air India     Delhi      Cochin   \n",
       "4              4             4           SpiceJet   Kolkata    Banglore   \n",
       "...          ...           ...                ...       ...         ...   \n",
       "1669        1669          1669             IndiGo  Banglore       Delhi   \n",
       "1670        1670          1670        Jet Airways   Kolkata    Banglore   \n",
       "1671        1671          1671        Jet Airways     Delhi      Cochin   \n",
       "1672        1672          1672          Air India     Delhi      Cochin   \n",
       "1673        1673          1673        Jet Airways   Kolkata    Banglore   \n",
       "\n",
       "     Dep_Time  Arrival_Time Total_Stops  Price  \n",
       "0       18:55         22:00    non-stop   7229  \n",
       "1       10:20  01:30 22 May      1 stop   7485  \n",
       "2       18:55         21:50    non-stop   4823  \n",
       "3       05:55  07:40 07 Mar     2 stops  14641  \n",
       "4       06:55         09:30    non-stop   3841  \n",
       "...       ...           ...         ...    ...  \n",
       "1669    04:00         06:50    non-stop   4423  \n",
       "1670    08:25         18:15      1 stop  10844  \n",
       "1671    19:30  12:35 28 Jun     2 stops  13764  \n",
       "1672    23:00  19:15 10 Mar      1 stop  11260  \n",
       "1673    16:30  20:45 13 May      1 stop  10844  \n",
       "\n",
       "[1674 rows x 9 columns]"
      ]
     },
     "execution_count": 16,
     "metadata": {},
     "output_type": "execute_result"
    }
   ],
   "source": [
    "def preprocess1(df):\n",
    "  df['Total_Stops']=df['Total_Stops'].fillna(df['Total_Stops'].mode()[0])\n",
    "  df=df.drop(['Duration'],axis=1)\n",
    "  return df\n",
    "data=preprocess1(data)\n",
    "data"
   ]
  },
  {
   "cell_type": "code",
   "execution_count": 17,
   "id": "9a3422cc",
   "metadata": {},
   "outputs": [
    {
     "data": {
      "text/html": [
       "<div>\n",
       "<style scoped>\n",
       "    .dataframe tbody tr th:only-of-type {\n",
       "        vertical-align: middle;\n",
       "    }\n",
       "\n",
       "    .dataframe tbody tr th {\n",
       "        vertical-align: top;\n",
       "    }\n",
       "\n",
       "    .dataframe thead th {\n",
       "        text-align: right;\n",
       "    }\n",
       "</style>\n",
       "<table border=\"1\" class=\"dataframe\">\n",
       "  <thead>\n",
       "    <tr style=\"text-align: right;\">\n",
       "      <th></th>\n",
       "      <th>Unnamed: 0</th>\n",
       "      <th>Unnamed: 0.1</th>\n",
       "      <th>Airline</th>\n",
       "      <th>Source</th>\n",
       "      <th>Destination</th>\n",
       "      <th>Total_Stops</th>\n",
       "      <th>Price</th>\n",
       "      <th>Dep_hour</th>\n",
       "      <th>Dep_minute</th>\n",
       "      <th>arrival_hour</th>\n",
       "      <th>arrival_minute</th>\n",
       "    </tr>\n",
       "  </thead>\n",
       "  <tbody>\n",
       "    <tr>\n",
       "      <th>0</th>\n",
       "      <td>0</td>\n",
       "      <td>0</td>\n",
       "      <td>Jet Airways</td>\n",
       "      <td>Banglore</td>\n",
       "      <td>Delhi</td>\n",
       "      <td>non-stop</td>\n",
       "      <td>7229</td>\n",
       "      <td>18</td>\n",
       "      <td>55</td>\n",
       "      <td>22</td>\n",
       "      <td>0</td>\n",
       "    </tr>\n",
       "    <tr>\n",
       "      <th>1</th>\n",
       "      <td>1</td>\n",
       "      <td>1</td>\n",
       "      <td>Multiple carriers</td>\n",
       "      <td>Delhi</td>\n",
       "      <td>Cochin</td>\n",
       "      <td>1 stop</td>\n",
       "      <td>7485</td>\n",
       "      <td>10</td>\n",
       "      <td>20</td>\n",
       "      <td>1</td>\n",
       "      <td>30</td>\n",
       "    </tr>\n",
       "    <tr>\n",
       "      <th>2</th>\n",
       "      <td>2</td>\n",
       "      <td>2</td>\n",
       "      <td>IndiGo</td>\n",
       "      <td>Banglore</td>\n",
       "      <td>Delhi</td>\n",
       "      <td>non-stop</td>\n",
       "      <td>4823</td>\n",
       "      <td>18</td>\n",
       "      <td>55</td>\n",
       "      <td>21</td>\n",
       "      <td>50</td>\n",
       "    </tr>\n",
       "    <tr>\n",
       "      <th>3</th>\n",
       "      <td>3</td>\n",
       "      <td>3</td>\n",
       "      <td>Air India</td>\n",
       "      <td>Delhi</td>\n",
       "      <td>Cochin</td>\n",
       "      <td>2 stops</td>\n",
       "      <td>14641</td>\n",
       "      <td>5</td>\n",
       "      <td>55</td>\n",
       "      <td>7</td>\n",
       "      <td>40</td>\n",
       "    </tr>\n",
       "    <tr>\n",
       "      <th>4</th>\n",
       "      <td>4</td>\n",
       "      <td>4</td>\n",
       "      <td>SpiceJet</td>\n",
       "      <td>Kolkata</td>\n",
       "      <td>Banglore</td>\n",
       "      <td>non-stop</td>\n",
       "      <td>3841</td>\n",
       "      <td>6</td>\n",
       "      <td>55</td>\n",
       "      <td>9</td>\n",
       "      <td>30</td>\n",
       "    </tr>\n",
       "    <tr>\n",
       "      <th>...</th>\n",
       "      <td>...</td>\n",
       "      <td>...</td>\n",
       "      <td>...</td>\n",
       "      <td>...</td>\n",
       "      <td>...</td>\n",
       "      <td>...</td>\n",
       "      <td>...</td>\n",
       "      <td>...</td>\n",
       "      <td>...</td>\n",
       "      <td>...</td>\n",
       "      <td>...</td>\n",
       "    </tr>\n",
       "    <tr>\n",
       "      <th>1669</th>\n",
       "      <td>1669</td>\n",
       "      <td>1669</td>\n",
       "      <td>IndiGo</td>\n",
       "      <td>Banglore</td>\n",
       "      <td>Delhi</td>\n",
       "      <td>non-stop</td>\n",
       "      <td>4423</td>\n",
       "      <td>4</td>\n",
       "      <td>0</td>\n",
       "      <td>6</td>\n",
       "      <td>50</td>\n",
       "    </tr>\n",
       "    <tr>\n",
       "      <th>1670</th>\n",
       "      <td>1670</td>\n",
       "      <td>1670</td>\n",
       "      <td>Jet Airways</td>\n",
       "      <td>Kolkata</td>\n",
       "      <td>Banglore</td>\n",
       "      <td>1 stop</td>\n",
       "      <td>10844</td>\n",
       "      <td>8</td>\n",
       "      <td>25</td>\n",
       "      <td>18</td>\n",
       "      <td>15</td>\n",
       "    </tr>\n",
       "    <tr>\n",
       "      <th>1671</th>\n",
       "      <td>1671</td>\n",
       "      <td>1671</td>\n",
       "      <td>Jet Airways</td>\n",
       "      <td>Delhi</td>\n",
       "      <td>Cochin</td>\n",
       "      <td>2 stops</td>\n",
       "      <td>13764</td>\n",
       "      <td>19</td>\n",
       "      <td>30</td>\n",
       "      <td>12</td>\n",
       "      <td>35</td>\n",
       "    </tr>\n",
       "    <tr>\n",
       "      <th>1672</th>\n",
       "      <td>1672</td>\n",
       "      <td>1672</td>\n",
       "      <td>Air India</td>\n",
       "      <td>Delhi</td>\n",
       "      <td>Cochin</td>\n",
       "      <td>1 stop</td>\n",
       "      <td>11260</td>\n",
       "      <td>23</td>\n",
       "      <td>0</td>\n",
       "      <td>19</td>\n",
       "      <td>15</td>\n",
       "    </tr>\n",
       "    <tr>\n",
       "      <th>1673</th>\n",
       "      <td>1673</td>\n",
       "      <td>1673</td>\n",
       "      <td>Jet Airways</td>\n",
       "      <td>Kolkata</td>\n",
       "      <td>Banglore</td>\n",
       "      <td>1 stop</td>\n",
       "      <td>10844</td>\n",
       "      <td>16</td>\n",
       "      <td>30</td>\n",
       "      <td>20</td>\n",
       "      <td>45</td>\n",
       "    </tr>\n",
       "  </tbody>\n",
       "</table>\n",
       "<p>1674 rows × 11 columns</p>\n",
       "</div>"
      ],
      "text/plain": [
       "      Unnamed: 0  Unnamed: 0.1            Airline    Source Destination  \\\n",
       "0              0             0        Jet Airways  Banglore       Delhi   \n",
       "1              1             1  Multiple carriers     Delhi      Cochin   \n",
       "2              2             2             IndiGo  Banglore       Delhi   \n",
       "3              3             3          Air India     Delhi      Cochin   \n",
       "4              4             4           SpiceJet   Kolkata    Banglore   \n",
       "...          ...           ...                ...       ...         ...   \n",
       "1669        1669          1669             IndiGo  Banglore       Delhi   \n",
       "1670        1670          1670        Jet Airways   Kolkata    Banglore   \n",
       "1671        1671          1671        Jet Airways     Delhi      Cochin   \n",
       "1672        1672          1672          Air India     Delhi      Cochin   \n",
       "1673        1673          1673        Jet Airways   Kolkata    Banglore   \n",
       "\n",
       "     Total_Stops  Price  Dep_hour  Dep_minute  arrival_hour  arrival_minute  \n",
       "0       non-stop   7229        18          55            22               0  \n",
       "1         1 stop   7485        10          20             1              30  \n",
       "2       non-stop   4823        18          55            21              50  \n",
       "3        2 stops  14641         5          55             7              40  \n",
       "4       non-stop   3841         6          55             9              30  \n",
       "...          ...    ...       ...         ...           ...             ...  \n",
       "1669    non-stop   4423         4           0             6              50  \n",
       "1670      1 stop  10844         8          25            18              15  \n",
       "1671     2 stops  13764        19          30            12              35  \n",
       "1672      1 stop  11260        23           0            19              15  \n",
       "1673      1 stop  10844        16          30            20              45  \n",
       "\n",
       "[1674 rows x 11 columns]"
      ]
     },
     "execution_count": 17,
     "metadata": {},
     "output_type": "execute_result"
    }
   ],
   "source": [
    "def preprocess2(df):\n",
    "  df['Dep_hour']=pd.to_datetime(df['Dep_Time']).dt.hour\n",
    "  df['Dep_minute']=pd.to_datetime(df['Dep_Time']).dt.minute\n",
    "  df=df.drop(['Dep_Time'],axis=1)\n",
    "  df['arrival_hour']=pd.to_datetime(df['Arrival_Time']).dt.hour\n",
    "  df['arrival_minute']=pd.to_datetime(df['Arrival_Time']).dt.minute\n",
    "  df=df.drop(['Arrival_Time'],axis=1)\n",
    "  return df\n",
    "data=preprocess2(data)\n",
    "data"
   ]
  },
  {
   "cell_type": "code",
   "execution_count": 18,
   "id": "6b9793a6",
   "metadata": {},
   "outputs": [],
   "source": [
    "def countplot(x):\n",
    "  plt.figure(figsize=(12,8))\n",
    "  sns.countplot(x)\n",
    "  plt.xticks(rotation=90,fontsize=14)\n",
    "  plt.yticks(fontsize=14)\n",
    "  return plt.show()"
   ]
  },
  {
   "cell_type": "markdown",
   "id": "48b34328",
   "metadata": {},
   "source": [
    "### Countplot of Airlines"
   ]
  },
  {
   "cell_type": "code",
   "execution_count": 19,
   "id": "7c66ba55",
   "metadata": {},
   "outputs": [
    {
     "data": {
      "image/png": "[encoded data removed]",
      "text/plain": [
       "<Figure size 864x576 with 1 Axes>"
      ]
     },
     "metadata": {
      "needs_background": "light"
     },
     "output_type": "display_data"
    }
   ],
   "source": [
    "countplot(data['Airline'])"
   ]
  },
  {
   "cell_type": "markdown",
   "id": "459962ee",
   "metadata": {},
   "source": [
    "Maximum passengers travel with Jet Airways."
   ]
  },
  {
   "cell_type": "markdown",
   "id": "c2997f73",
   "metadata": {},
   "source": [
    "### Countplot of Source"
   ]
  },
  {
   "cell_type": "code",
   "execution_count": 20,
   "id": "a3b412b5",
   "metadata": {},
   "outputs": [
    {
     "data": {
      "image/png": "[encoded data removed]",
      "text/plain": [
       "<Figure size 864x576 with 1 Axes>"
      ]
     },
     "metadata": {
      "needs_background": "light"
     },
     "output_type": "display_data"
    }
   ],
   "source": [
    "countplot(data['Source'])"
   ]
  },
  {
   "cell_type": "markdown",
   "id": "d0e331eb",
   "metadata": {},
   "source": [
    "Delhi has the maximum count."
   ]
  },
  {
   "cell_type": "markdown",
   "id": "a16b2112",
   "metadata": {},
   "source": [
    "### Countplot of Destination"
   ]
  },
  {
   "cell_type": "code",
   "execution_count": 21,
   "id": "023e1173",
   "metadata": {},
   "outputs": [
    {
     "data": {
      "image/png": "[encoded data removed]",
      "text/plain": [
       "<Figure size 864x576 with 1 Axes>"
      ]
     },
     "metadata": {
      "needs_background": "light"
     },
     "output_type": "display_data"
    }
   ],
   "source": [
    "countplot(data['Destination'])"
   ]
  },
  {
   "cell_type": "markdown",
   "id": "df47dfa5",
   "metadata": {},
   "source": [
    "Maximum people are going to Cochin."
   ]
  },
  {
   "cell_type": "markdown",
   "id": "c3387a60",
   "metadata": {},
   "source": [
    "### Countplot of Total_Stops"
   ]
  },
  {
   "cell_type": "code",
   "execution_count": 23,
   "id": "4d725128",
   "metadata": {},
   "outputs": [
    {
     "data": {
      "image/png": "[encoded data removed]",
      "text/plain": [
       "<Figure size 864x576 with 1 Axes>"
      ]
     },
     "metadata": {
      "needs_background": "light"
     },
     "output_type": "display_data"
    }
   ],
   "source": [
    "countplot(data['Total_Stops'])"
   ]
  },
  {
   "cell_type": "markdown",
   "id": "3714453a",
   "metadata": {},
   "source": [
    "most of the flights have only 1 stop."
   ]
  },
  {
   "cell_type": "code",
   "execution_count": 24,
   "id": "3c3a090b",
   "metadata": {},
   "outputs": [
    {
     "data": {
      "text/plain": [
       "(array([    0., 10000., 20000., 30000., 40000., 50000., 60000., 70000.]),\n",
       " [Text(0, 0, ''),\n",
       "  Text(0, 0, ''),\n",
       "  Text(0, 0, ''),\n",
       "  Text(0, 0, ''),\n",
       "  Text(0, 0, ''),\n",
       "  Text(0, 0, ''),\n",
       "  Text(0, 0, ''),\n",
       "  Text(0, 0, '')])"
      ]
     },
     "execution_count": 24,
     "metadata": {},
     "output_type": "execute_result"
    },
    {
     "data": {
      "image/png": "[encoded data removed]",
      "text/plain": [
       "<Figure size 2160x1080 with 1 Axes>"
      ]
     },
     "metadata": {
      "needs_background": "light"
     },
     "output_type": "display_data"
    }
   ],
   "source": [
    "plt.figure(figsize=(30,15))\n",
    "sns.barplot(x='Airline',y='Price',data=data)\n",
    "plt.xticks(rotation=90,fontsize=15)\n",
    "plt.yticks(fontsize=15)"
   ]
  },
  {
   "cell_type": "markdown",
   "id": "974f9ec6",
   "metadata": {},
   "source": [
    "Jet Airways Business has the highest price."
   ]
  },
  {
   "cell_type": "code",
   "execution_count": 25,
   "id": "43899a2b",
   "metadata": {},
   "outputs": [
    {
     "data": {
      "text/html": [
       "<div>\n",
       "<style scoped>\n",
       "    .dataframe tbody tr th:only-of-type {\n",
       "        vertical-align: middle;\n",
       "    }\n",
       "\n",
       "    .dataframe tbody tr th {\n",
       "        vertical-align: top;\n",
       "    }\n",
       "\n",
       "    .dataframe thead th {\n",
       "        text-align: right;\n",
       "    }\n",
       "</style>\n",
       "<table border=\"1\" class=\"dataframe\">\n",
       "  <thead>\n",
       "    <tr style=\"text-align: right;\">\n",
       "      <th></th>\n",
       "      <th>Unnamed: 0</th>\n",
       "      <th>Unnamed: 0.1</th>\n",
       "      <th>Airline</th>\n",
       "      <th>Source</th>\n",
       "      <th>Destination</th>\n",
       "      <th>Total_Stops</th>\n",
       "      <th>Price</th>\n",
       "      <th>Dep_hour</th>\n",
       "      <th>Dep_minute</th>\n",
       "      <th>arrival_hour</th>\n",
       "      <th>arrival_minute</th>\n",
       "    </tr>\n",
       "  </thead>\n",
       "  <tbody>\n",
       "    <tr>\n",
       "      <th>0</th>\n",
       "      <td>0</td>\n",
       "      <td>0</td>\n",
       "      <td>Jet Airways</td>\n",
       "      <td>Banglore</td>\n",
       "      <td>Delhi</td>\n",
       "      <td>non-stop</td>\n",
       "      <td>7229</td>\n",
       "      <td>18</td>\n",
       "      <td>55</td>\n",
       "      <td>22</td>\n",
       "      <td>0</td>\n",
       "    </tr>\n",
       "    <tr>\n",
       "      <th>1</th>\n",
       "      <td>1</td>\n",
       "      <td>1</td>\n",
       "      <td>Multiple carriers</td>\n",
       "      <td>Delhi</td>\n",
       "      <td>Cochin</td>\n",
       "      <td>1 stop</td>\n",
       "      <td>7485</td>\n",
       "      <td>10</td>\n",
       "      <td>20</td>\n",
       "      <td>1</td>\n",
       "      <td>30</td>\n",
       "    </tr>\n",
       "    <tr>\n",
       "      <th>2</th>\n",
       "      <td>2</td>\n",
       "      <td>2</td>\n",
       "      <td>IndiGo</td>\n",
       "      <td>Banglore</td>\n",
       "      <td>Delhi</td>\n",
       "      <td>non-stop</td>\n",
       "      <td>4823</td>\n",
       "      <td>18</td>\n",
       "      <td>55</td>\n",
       "      <td>21</td>\n",
       "      <td>50</td>\n",
       "    </tr>\n",
       "    <tr>\n",
       "      <th>3</th>\n",
       "      <td>3</td>\n",
       "      <td>3</td>\n",
       "      <td>Air India</td>\n",
       "      <td>Delhi</td>\n",
       "      <td>Cochin</td>\n",
       "      <td>2 stops</td>\n",
       "      <td>14641</td>\n",
       "      <td>5</td>\n",
       "      <td>55</td>\n",
       "      <td>7</td>\n",
       "      <td>40</td>\n",
       "    </tr>\n",
       "    <tr>\n",
       "      <th>4</th>\n",
       "      <td>4</td>\n",
       "      <td>4</td>\n",
       "      <td>SpiceJet</td>\n",
       "      <td>Kolkata</td>\n",
       "      <td>Banglore</td>\n",
       "      <td>non-stop</td>\n",
       "      <td>3841</td>\n",
       "      <td>6</td>\n",
       "      <td>55</td>\n",
       "      <td>9</td>\n",
       "      <td>30</td>\n",
       "    </tr>\n",
       "  </tbody>\n",
       "</table>\n",
       "</div>"
      ],
      "text/plain": [
       "   Unnamed: 0  Unnamed: 0.1            Airline    Source Destination  \\\n",
       "0           0             0        Jet Airways  Banglore       Delhi   \n",
       "1           1             1  Multiple carriers     Delhi      Cochin   \n",
       "2           2             2             IndiGo  Banglore       Delhi   \n",
       "3           3             3          Air India     Delhi      Cochin   \n",
       "4           4             4           SpiceJet   Kolkata    Banglore   \n",
       "\n",
       "  Total_Stops  Price  Dep_hour  Dep_minute  arrival_hour  arrival_minute  \n",
       "0    non-stop   7229        18          55            22               0  \n",
       "1      1 stop   7485        10          20             1              30  \n",
       "2    non-stop   4823        18          55            21              50  \n",
       "3     2 stops  14641         5          55             7              40  \n",
       "4    non-stop   3841         6          55             9              30  "
      ]
     },
     "execution_count": 25,
     "metadata": {},
     "output_type": "execute_result"
    }
   ],
   "source": [
    "data.head()"
   ]
  },
  {
   "cell_type": "markdown",
   "id": "b2a634d3",
   "metadata": {},
   "source": [
    "### Feature Transformation"
   ]
  },
  {
   "cell_type": "code",
   "execution_count": 26,
   "id": "13290cfc",
   "metadata": {},
   "outputs": [],
   "source": [
    "oe=OrdinalEncoder()\n",
    "def ordinal_encoder(df,col):\n",
    "  df[col]=oe.fit_transform(df[col])\n",
    "  return df"
   ]
  },
  {
   "cell_type": "code",
   "execution_count": 27,
   "id": "a4b0272a",
   "metadata": {},
   "outputs": [],
   "source": [
    "data=ordinal_encoder(data,['Airline','Source','Destination','Total_Stops'])"
   ]
  },
  {
   "cell_type": "markdown",
   "id": "83cf2622",
   "metadata": {},
   "source": [
    "### DATA SPLITTING"
   ]
  },
  {
   "cell_type": "code",
   "execution_count": 28,
   "id": "42390850",
   "metadata": {},
   "outputs": [
    {
     "data": {
      "text/plain": [
       "<AxesSubplot:>"
      ]
     },
     "execution_count": 28,
     "metadata": {},
     "output_type": "execute_result"
    },
    {
     "data": {
      "image/png": "[encoded data removed]",
      "text/plain": [
       "<Figure size 864x576 with 2 Axes>"
      ]
     },
     "metadata": {
      "needs_background": "light"
     },
     "output_type": "display_data"
    }
   ],
   "source": [
    "def preprocess3(df):\n",
    "  df=df.copy()\n",
    "  X=df.drop(['Price'],axis=1)\n",
    "  y=df['Price']\n",
    "  return X,y\n",
    "X,y=preprocess3(data)\n",
    "X.drop(['Unnamed: 0','Unnamed: 0.1'],axis=1,inplace=True)\n",
    "X_train,X_test,y_train,y_test=train_test_split(X,np.log(y),test_size=0.3,random_state=42)\n",
    "X_corr=X.corr()\n",
    "plt.figure(figsize=(12,8))\n",
    "sns.heatmap(X_corr,annot=True)"
   ]
  },
  {
   "cell_type": "markdown",
   "id": "c210283e",
   "metadata": {},
   "source": [
    "Most of the columns have less correlation in upper graph."
   ]
  },
  {
   "cell_type": "markdown",
   "id": "e4ebe6a7",
   "metadata": {},
   "source": [
    "# OUTLIERS"
   ]
  },
  {
   "cell_type": "code",
   "execution_count": 29,
   "id": "9f66d97a",
   "metadata": {},
   "outputs": [
    {
     "data": {
      "image/png": "[encoded data removed]",
      "text/plain": [
       "<Figure size 864x1440 with 8 Axes>"
      ]
     },
     "metadata": {
      "needs_background": "light"
     },
     "output_type": "display_data"
    }
   ],
   "source": [
    "X_val=X.columns.values\n",
    "plt.figure(figsize=(12,20))\n",
    "for i in range(len(X_val)):\n",
    "  plt.subplot(10,3,i+1)\n",
    "  sns.boxplot(X[X_val[i]])\n",
    "  plt.tight_layout()"
   ]
  },
  {
   "cell_type": "markdown",
   "id": "5645dc88",
   "metadata": {},
   "source": [
    "There is no outliers present in the data."
   ]
  },
  {
   "cell_type": "markdown",
   "id": "10272b5c",
   "metadata": {},
   "source": [
    "# SKEWNESS"
   ]
  },
  {
   "cell_type": "code",
   "execution_count": 30,
   "id": "c12e223d",
   "metadata": {},
   "outputs": [
    {
     "data": {
      "text/plain": [
       "Airline           0.511883\n",
       "Source           -0.480290\n",
       "Destination       1.311241\n",
       "Total_Stops       0.643756\n",
       "Dep_hour          0.194887\n",
       "Dep_minute        0.183776\n",
       "arrival_hour     -0.420247\n",
       "arrival_minute    0.158993\n",
       "dtype: float64"
      ]
     },
     "execution_count": 30,
     "metadata": {},
     "output_type": "execute_result"
    }
   ],
   "source": [
    "X.skew()"
   ]
  },
  {
   "cell_type": "markdown",
   "id": "ef6307b4",
   "metadata": {},
   "source": [
    "There is no skewness present in the data."
   ]
  },
  {
   "cell_type": "markdown",
   "id": "bfdee7b6",
   "metadata": {},
   "source": [
    "# Model Building"
   ]
  },
  {
   "cell_type": "code",
   "execution_count": 31,
   "id": "cdf89045",
   "metadata": {},
   "outputs": [],
   "source": [
    "models={\n",
    "    \"XGB Regressor\":XGBRegressor(),\n",
    "    \"ExtraTrees Regressor\":ExtraTreesRegressor(),\n",
    "    \"RandomForest Regressor\":RandomForestRegressor(),\n",
    "    \"Linear Regression\":LinearRegression(),\n",
    "    \"DecisionTree Regressor\":DecisionTreeRegressor(),\n",
    "    \"Lasso\":Lasso(),\n",
    "    \"LIGHT GBM\":LGBMRegressor()\n",
    "}"
   ]
  },
  {
   "cell_type": "code",
   "execution_count": 32,
   "id": "8c6deceb",
   "metadata": {},
   "outputs": [
    {
     "name": "stdout",
     "output_type": "stream",
     "text": [
      "__  ______ ____    ____                                         \n",
      "\\ \\/ / ___| __ )  |  _ \\ ___  __ _ _ __ ___  ___ ___  ___  _ __ \n",
      " \\  / |  _|  _ \\  | |_) / _ \\/ _` | '__/ _ \\/ __/ __|/ _ \\| '__|\n",
      " /  \\ |_| | |_) | |  _ <  __/ (_| | | |  __/\\__ \\__ \\ (_) | |   \n",
      "/_/\\_\\____|____/  |_| \\_\\___|\\__, |_|  \\___||___/___/\\___/|_|   \n",
      "                             |___/                              \n",
      "\n",
      "MEAN SQUARED ERROR 0.078107977143037\n",
      "\n",
      "\n",
      "MEAN ABSOLUTE ERROR 0.1912025403530653\n",
      "\n",
      "\n",
      "CVS_SCORE 0.650748297204597\n",
      "\n",
      "\n",
      "R2_SCORE 0.6890629002765949\n",
      "\n",
      "\n",
      "RMSE 0.27947804411623645\n",
      "\n",
      "\n",
      "MODEL PERFORMANCE CURVE\n"
     ]
    },
    {
     "data": {
      "image/png": "[encoded data removed]",
      "text/plain": [
       "<Figure size 432x288 with 1 Axes>"
      ]
     },
     "metadata": {
      "needs_background": "light"
     },
     "output_type": "display_data"
    },
    {
     "name": "stdout",
     "output_type": "stream",
     "text": [
      " _____      _            _____                   \n",
      "| ____|_  _| |_ _ __ __ |_   _| __ ___  ___  ___ \n",
      "|  _| \\ \\/ / __| '__/ _` || || '__/ _ \\/ _ \\/ __|\n",
      "| |___ >  <| |_| | | (_| || || | |  __/  __/\\__ \\\n",
      "|_____/_/\\_\\\\__|_|  \\__,_||_||_|  \\___|\\___||___/\n",
      "                                                 \n",
      " ____                                         \n",
      "|  _ \\ ___  __ _ _ __ ___  ___ ___  ___  _ __ \n",
      "| |_) / _ \\/ _` | '__/ _ \\/ __/ __|/ _ \\| '__|\n",
      "|  _ <  __/ (_| | | |  __/\\__ \\__ \\ (_) | |   \n",
      "|_| \\_\\___|\\__, |_|  \\___||___/___/\\___/|_|   \n",
      "           |___/                              \n",
      "\n",
      "MEAN SQUARED ERROR 0.07955321308188189\n",
      "\n",
      "\n",
      "MEAN ABSOLUTE ERROR 0.18549381780594026\n",
      "\n",
      "\n",
      "CVS_SCORE 0.6880438815265817\n",
      "\n",
      "\n",
      "R2_SCORE 0.6833096150466172\n",
      "\n",
      "\n",
      "RMSE 0.28205179148851706\n",
      "\n",
      "\n",
      "MODEL PERFORMANCE CURVE\n"
     ]
    },
    {
     "data": {
      "image/png": "[encoded data removed]",
      "text/plain": [
       "<Figure size 432x288 with 1 Axes>"
      ]
     },
     "metadata": {
      "needs_background": "light"
     },
     "output_type": "display_data"
    },
    {
     "name": "stdout",
     "output_type": "stream",
     "text": [
      " ____                 _                 _____                   _   \n",
      "|  _ \\ __ _ _ __   __| | ___  _ __ ___ |  ___|__  _ __ ___  ___| |_ \n",
      "| |_) / _` | '_ \\ / _` |/ _ \\| '_ ` _ \\| |_ / _ \\| '__/ _ \\/ __| __|\n",
      "|  _ < (_| | | | | (_| | (_) | | | | | |  _| (_) | | |  __/\\__ \\ |_ \n",
      "|_| \\_\\__,_|_| |_|\\__,_|\\___/|_| |_| |_|_|  \\___/|_|  \\___||___/\\__|\n",
      "                                                                    \n",
      " ____                                         \n",
      "|  _ \\ ___  __ _ _ __ ___  ___ ___  ___  _ __ \n",
      "| |_) / _ \\/ _` | '__/ _ \\/ __/ __|/ _ \\| '__|\n",
      "|  _ <  __/ (_| | | |  __/\\__ \\__ \\ (_) | |   \n",
      "|_| \\_\\___|\\__, |_|  \\___||___/___/\\___/|_|   \n",
      "           |___/                              \n",
      "\n",
      "MEAN SQUARED ERROR 0.06672500661726857\n",
      "\n",
      "\n",
      "MEAN ABSOLUTE ERROR 0.17936930108732038\n",
      "\n",
      "\n",
      "CVS_SCORE 0.7100003944649341\n",
      "\n",
      "\n",
      "R2_SCORE 0.734376938240193\n",
      "\n",
      "\n",
      "RMSE 0.2583118398704724\n",
      "\n",
      "\n",
      "MODEL PERFORMANCE CURVE\n"
     ]
    },
    {
     "data": {
      "image/png": "[encoded data removed]",
      "text/plain": [
       "<Figure size 432x288 with 1 Axes>"
      ]
     },
     "metadata": {
      "needs_background": "light"
     },
     "output_type": "display_data"
    },
    {
     "name": "stdout",
     "output_type": "stream",
     "text": [
      " _     _                       \n",
      "| |   (_)_ __   ___  __ _ _ __ \n",
      "| |   | | '_ \\ / _ \\/ _` | '__|\n",
      "| |___| | | | |  __/ (_| | |   \n",
      "|_____|_|_| |_|\\___|\\__,_|_|   \n",
      "                               \n",
      " ____                              _             \n",
      "|  _ \\ ___  __ _ _ __ ___  ___ ___(_) ___  _ __  \n",
      "| |_) / _ \\/ _` | '__/ _ \\/ __/ __| |/ _ \\| '_ \\ \n",
      "|  _ <  __/ (_| | | |  __/\\__ \\__ \\ | (_) | | | |\n",
      "|_| \\_\\___|\\__, |_|  \\___||___/___/_|\\___/|_| |_|\n",
      "           |___/                                 \n",
      "\n",
      "MEAN SQUARED ERROR 0.1450343456720913\n",
      "\n",
      "\n",
      "MEAN ABSOLUTE ERROR 0.31072677462294684\n",
      "\n",
      "\n",
      "CVS_SCORE 0.4464196337761558\n",
      "\n",
      "\n",
      "R2_SCORE 0.4226382444781821\n",
      "\n",
      "\n",
      "RMSE 0.38083375069981823\n",
      "\n",
      "\n",
      "MODEL PERFORMANCE CURVE\n"
     ]
    },
    {
     "data": {
      "image/png": "[encoded data removed]",
      "text/plain": [
       "<Figure size 432x288 with 1 Axes>"
      ]
     },
     "metadata": {
      "needs_background": "light"
     },
     "output_type": "display_data"
    },
    {
     "name": "stdout",
     "output_type": "stream",
     "text": [
      " ____            _     _           _____              \n",
      "|  _ \\  ___  ___(_)___(_) ___  _ _|_   _| __ ___  ___ \n",
      "| | | |/ _ \\/ __| / __| |/ _ \\| '_ \\| || '__/ _ \\/ _ \\\n",
      "| |_| |  __/ (__| \\__ \\ | (_) | | | | || | |  __/  __/\n",
      "|____/ \\___|\\___|_|___/_|\\___/|_| |_|_||_|  \\___|\\___|\n",
      "                                                      \n",
      " ____                                         \n",
      "|  _ \\ ___  __ _ _ __ ___  ___ ___  ___  _ __ \n",
      "| |_) / _ \\/ _` | '__/ _ \\/ __/ __|/ _ \\| '__|\n",
      "|  _ <  __/ (_| | | |  __/\\__ \\__ \\ (_) | |   \n",
      "|_| \\_\\___|\\__, |_|  \\___||___/___/\\___/|_|   \n",
      "           |___/                              \n",
      "\n",
      "MEAN SQUARED ERROR 0.099347262717311\n",
      "\n",
      "\n",
      "MEAN ABSOLUTE ERROR 0.20701765973686617\n",
      "\n",
      "\n",
      "CVS_SCORE 0.5923356442805642\n",
      "\n",
      "\n",
      "R2_SCORE 0.604512229548456\n",
      "\n",
      "\n",
      "RMSE 0.3151940080606086\n",
      "\n",
      "\n",
      "MODEL PERFORMANCE CURVE\n"
     ]
    },
    {
     "data": {
      "image/png": "[encoded data removed]",
      "text/plain": [
       "<Figure size 432x288 with 1 Axes>"
      ]
     },
     "metadata": {
      "needs_background": "light"
     },
     "output_type": "display_data"
    },
    {
     "name": "stdout",
     "output_type": "stream",
     "text": [
      " _                        \n",
      "| |    __ _ ___ ___  ___  \n",
      "| |   / _` / __/ __|/ _ \\ \n",
      "| |__| (_| \\__ \\__ \\ (_) |\n",
      "|_____\\__,_|___/___/\\___/ \n",
      "                          \n",
      "\n",
      "MEAN SQUARED ERROR 0.25219223792388173\n",
      "\n",
      "\n",
      "MEAN ABSOLUTE ERROR 0.42147797609076587\n",
      "\n",
      "\n",
      "CVS_SCORE -0.002567775538554695\n",
      "\n",
      "\n",
      "R2_SCORE -0.003942566444984363\n",
      "\n",
      "\n",
      "RMSE 0.502187452973371\n",
      "\n",
      "\n",
      "MODEL PERFORMANCE CURVE\n"
     ]
    },
    {
     "data": {
      "image/png": "[encoded data removed]",
      "text/plain": [
       "<Figure size 432x288 with 1 Axes>"
      ]
     },
     "metadata": {
      "needs_background": "light"
     },
     "output_type": "display_data"
    },
    {
     "name": "stdout",
     "output_type": "stream",
     "text": [
      " _     ___ ____ _   _ _____    ____ ____  __  __ \n",
      "| |   |_ _/ ___| | | |_   _|  / ___| __ )|  \\/  |\n",
      "| |    | | |  _| |_| | | |   | |  _|  _ \\| |\\/| |\n",
      "| |___ | | |_| |  _  | | |   | |_| | |_) | |  | |\n",
      "|_____|___\\____|_| |_| |_|    \\____|____/|_|  |_|\n",
      "                                                 \n",
      "\n",
      "MEAN SQUARED ERROR 0.06780527033441756\n",
      "\n",
      "\n",
      "MEAN ABSOLUTE ERROR 0.18596436927896234\n",
      "\n",
      "\n",
      "CVS_SCORE 0.7118519667073924\n",
      "\n",
      "\n",
      "R2_SCORE 0.730076557159633\n",
      "\n",
      "\n",
      "RMSE 0.2603944514278627\n",
      "\n",
      "\n",
      "MODEL PERFORMANCE CURVE\n"
     ]
    },
    {
     "data": {
      "image/png": "[encoded data removed]",
      "text/plain": [
       "<Figure size 432x288 with 1 Axes>"
      ]
     },
     "metadata": {
      "needs_background": "light"
     },
     "output_type": "display_data"
    }
   ],
   "source": [
    "CVS=[]\n",
    "R2=[]\n",
    "MSE=[]\n",
    "MAE=[]\n",
    "RMSE=[]\n",
    "NAME=[]\n",
    "kf=KFold(n_splits=5,shuffle=True)\n",
    "for name, model in models.items():\n",
    "  font=pyfiglet.figlet_format(name)\n",
    "  print(font)\n",
    "  NAME.append(name)\n",
    "  model.fit(X_train,y_train)\n",
    "  y_pred=model.predict(X_test)\n",
    "  mse=mean_squared_error(y_test,y_pred)\n",
    "  MSE.append(mse)\n",
    "  print(\"MEAN SQUARED ERROR\",mse)\n",
    "  mae=mean_absolute_error(y_test,y_pred)\n",
    "  MAE.append(mae)\n",
    "  print('\\n')\n",
    "  print(\"MEAN ABSOLUTE ERROR\",mae)\n",
    "  cvs=cross_val_score(model,X,np.log(y),scoring='r2',cv=kf).mean()\n",
    "  CVS.append(cvs)\n",
    "  print('\\n')\n",
    "  print(\"CVS_SCORE\",cvs)\n",
    "  r2=r2_score(y_test,y_pred)\n",
    "  R2.append(r2)\n",
    "  print('\\n')\n",
    "  print(\"R2_SCORE\",r2)\n",
    "  rmse=np.sqrt(mse)\n",
    "  RMSE.append(rmse)\n",
    "  print('\\n')\n",
    "  print(\"RMSE\",rmse)\n",
    "  print('\\n')\n",
    "  print('MODEL PERFORMANCE CURVE')\n",
    "  skplt.estimators.plot_learning_curve(model,X,np.log(y),cv=kf,scoring='r2',title=name,text_fontsize='large')\n",
    "  plt.show()"
   ]
  },
  {
   "cell_type": "code",
   "execution_count": 34,
   "id": "89e00375",
   "metadata": {},
   "outputs": [
    {
     "data": {
      "text/html": [
       "<div>\n",
       "<style scoped>\n",
       "    .dataframe tbody tr th:only-of-type {\n",
       "        vertical-align: middle;\n",
       "    }\n",
       "\n",
       "    .dataframe tbody tr th {\n",
       "        vertical-align: top;\n",
       "    }\n",
       "\n",
       "    .dataframe thead th {\n",
       "        text-align: right;\n",
       "    }\n",
       "</style>\n",
       "<table border=\"1\" class=\"dataframe\">\n",
       "  <thead>\n",
       "    <tr style=\"text-align: right;\">\n",
       "      <th></th>\n",
       "      <th>NAME</th>\n",
       "      <th>Cross_Val_Score</th>\n",
       "      <th>R2_score</th>\n",
       "      <th>Mean_squared_error</th>\n",
       "      <th>Mean_Absolute_Error</th>\n",
       "      <th>RMSE</th>\n",
       "    </tr>\n",
       "  </thead>\n",
       "  <tbody>\n",
       "    <tr>\n",
       "      <th>0</th>\n",
       "      <td>XGB Regressor</td>\n",
       "      <td>0.650748</td>\n",
       "      <td>0.689063</td>\n",
       "      <td>0.078108</td>\n",
       "      <td>0.191203</td>\n",
       "      <td>0.279478</td>\n",
       "    </tr>\n",
       "    <tr>\n",
       "      <th>1</th>\n",
       "      <td>ExtraTrees Regressor</td>\n",
       "      <td>0.688044</td>\n",
       "      <td>0.683310</td>\n",
       "      <td>0.079553</td>\n",
       "      <td>0.185494</td>\n",
       "      <td>0.282052</td>\n",
       "    </tr>\n",
       "    <tr>\n",
       "      <th>2</th>\n",
       "      <td>RandomForest Regressor</td>\n",
       "      <td>0.710000</td>\n",
       "      <td>0.734377</td>\n",
       "      <td>0.066725</td>\n",
       "      <td>0.179369</td>\n",
       "      <td>0.258312</td>\n",
       "    </tr>\n",
       "    <tr>\n",
       "      <th>3</th>\n",
       "      <td>Linear Regression</td>\n",
       "      <td>0.446420</td>\n",
       "      <td>0.422638</td>\n",
       "      <td>0.145034</td>\n",
       "      <td>0.310727</td>\n",
       "      <td>0.380834</td>\n",
       "    </tr>\n",
       "    <tr>\n",
       "      <th>4</th>\n",
       "      <td>DecisionTree Regressor</td>\n",
       "      <td>0.592336</td>\n",
       "      <td>0.604512</td>\n",
       "      <td>0.099347</td>\n",
       "      <td>0.207018</td>\n",
       "      <td>0.315194</td>\n",
       "    </tr>\n",
       "    <tr>\n",
       "      <th>5</th>\n",
       "      <td>Lasso</td>\n",
       "      <td>-0.002568</td>\n",
       "      <td>-0.003943</td>\n",
       "      <td>0.252192</td>\n",
       "      <td>0.421478</td>\n",
       "      <td>0.502187</td>\n",
       "    </tr>\n",
       "    <tr>\n",
       "      <th>6</th>\n",
       "      <td>LIGHT GBM</td>\n",
       "      <td>0.711852</td>\n",
       "      <td>0.730077</td>\n",
       "      <td>0.067805</td>\n",
       "      <td>0.185964</td>\n",
       "      <td>0.260394</td>\n",
       "    </tr>\n",
       "  </tbody>\n",
       "</table>\n",
       "</div>"
      ],
      "text/plain": [
       "                     NAME  Cross_Val_Score  R2_score  Mean_squared_error  \\\n",
       "0           XGB Regressor         0.650748  0.689063            0.078108   \n",
       "1    ExtraTrees Regressor         0.688044  0.683310            0.079553   \n",
       "2  RandomForest Regressor         0.710000  0.734377            0.066725   \n",
       "3       Linear Regression         0.446420  0.422638            0.145034   \n",
       "4  DecisionTree Regressor         0.592336  0.604512            0.099347   \n",
       "5                   Lasso        -0.002568 -0.003943            0.252192   \n",
       "6               LIGHT GBM         0.711852  0.730077            0.067805   \n",
       "\n",
       "   Mean_Absolute_Error      RMSE  \n",
       "0             0.191203  0.279478  \n",
       "1             0.185494  0.282052  \n",
       "2             0.179369  0.258312  \n",
       "3             0.310727  0.380834  \n",
       "4             0.207018  0.315194  \n",
       "5             0.421478  0.502187  \n",
       "6             0.185964  0.260394  "
      ]
     },
     "execution_count": 34,
     "metadata": {},
     "output_type": "execute_result"
    }
   ],
   "source": [
    "models_result=pd.DataFrame({\n",
    "    \"NAME\":NAME,\n",
    "    \"Cross_Val_Score\":CVS,\n",
    "    \"R2_score\":R2,\n",
    "    \"Mean_squared_error\":MSE,\n",
    "    \"Mean_Absolute_Error\":MAE,\n",
    "    \"RMSE\":RMSE\n",
    "})\n",
    "models_result"
   ]
  },
  {
   "cell_type": "code",
   "execution_count": 35,
   "id": "2d238cbc",
   "metadata": {},
   "outputs": [
    {
     "data": {
      "text/plain": [
       "XGBRegressor(base_score=0.5, booster='gbtree', colsample_bylevel=1,\n",
       "             colsample_bynode=1, colsample_bytree=1, gamma=0, gpu_id=-1,\n",
       "             importance_type='gain', interaction_constraints='',\n",
       "             learning_rate=0.300000012, max_delta_step=0, max_depth=6,\n",
       "             min_child_weight=1, missing=nan, monotone_constraints='()',\n",
       "             n_estimators=100, n_jobs=4, num_parallel_tree=1, random_state=0,\n",
       "             reg_alpha=0, reg_lambda=1, scale_pos_weight=1, subsample=1,\n",
       "             tree_method='exact', validate_parameters=1, verbosity=None)"
      ]
     },
     "execution_count": 35,
     "metadata": {},
     "output_type": "execute_result"
    }
   ],
   "source": [
    "XGB=XGBRegressor()\n",
    "XGB.fit(X_train,y_train)"
   ]
  },
  {
   "cell_type": "code",
   "execution_count": 36,
   "id": "8fb7621b",
   "metadata": {},
   "outputs": [
    {
     "data": {
      "text/plain": [
       "{'objective': 'reg:squarederror',\n",
       " 'base_score': 0.5,\n",
       " 'booster': 'gbtree',\n",
       " 'colsample_bylevel': 1,\n",
       " 'colsample_bynode': 1,\n",
       " 'colsample_bytree': 1,\n",
       " 'gamma': 0,\n",
       " 'gpu_id': -1,\n",
       " 'importance_type': 'gain',\n",
       " 'interaction_constraints': '',\n",
       " 'learning_rate': 0.300000012,\n",
       " 'max_delta_step': 0,\n",
       " 'max_depth': 6,\n",
       " 'min_child_weight': 1,\n",
       " 'missing': nan,\n",
       " 'monotone_constraints': '()',\n",
       " 'n_estimators': 100,\n",
       " 'n_jobs': 4,\n",
       " 'num_parallel_tree': 1,\n",
       " 'random_state': 0,\n",
       " 'reg_alpha': 0,\n",
       " 'reg_lambda': 1,\n",
       " 'scale_pos_weight': 1,\n",
       " 'subsample': 1,\n",
       " 'tree_method': 'exact',\n",
       " 'validate_parameters': 1,\n",
       " 'verbosity': None}"
      ]
     },
     "execution_count": 36,
     "metadata": {},
     "output_type": "execute_result"
    }
   ],
   "source": [
    "XGB.get_params()"
   ]
  },
  {
   "cell_type": "markdown",
   "id": "694da22b",
   "metadata": {},
   "source": [
    "# Hyperparameter Tuning"
   ]
  },
  {
   "cell_type": "code",
   "execution_count": 37,
   "id": "be4693ed",
   "metadata": {},
   "outputs": [
    {
     "data": {
      "text/plain": [
       "GridSearchCV(cv=KFold(n_splits=5, random_state=None, shuffle=True),\n",
       "             estimator=XGBRegressor(base_score=0.5, booster='gbtree',\n",
       "                                    colsample_bylevel=1, colsample_bynode=1,\n",
       "                                    colsample_bytree=1, gamma=0, gpu_id=-1,\n",
       "                                    importance_type='gain',\n",
       "                                    interaction_constraints='',\n",
       "                                    learning_rate=0.300000012, max_delta_step=0,\n",
       "                                    max_depth=6, min_child_weight=1,\n",
       "                                    missing=nan, monotone_constraints='()',\n",
       "                                    n_estimators=100, n_jobs=4,\n",
       "                                    num_parallel_tree=1, random_state=0,\n",
       "                                    reg_alpha=0, reg_lambda=1,\n",
       "                                    scale_pos_weight=1, subsample=1,\n",
       "                                    tree_method='exact', validate_parameters=1,\n",
       "                                    verbosity=None),\n",
       "             n_jobs=-1,\n",
       "             param_grid={'booster': ['gbtree', 'dart'],\n",
       "                         'importance_type': ['gain', 'split'],\n",
       "                         'max_depth': [3, 4, 6, 5, 7],\n",
       "                         'n_estimators': [100, 200, 500]},\n",
       "             scoring='r2')"
      ]
     },
     "execution_count": 37,
     "metadata": {},
     "output_type": "execute_result"
    }
   ],
   "source": [
    "params={\n",
    "    'booster':['gbtree','dart'],\n",
    "    'importance_type':['gain','split'],\n",
    "    'max_depth':[3,4,6,5,7],\n",
    "    'n_estimators':[100,200,500]\n",
    "}\n",
    "Grid=GridSearchCV(estimator=XGB,param_grid=params,cv=kf,n_jobs=-1,scoring='r2')\n",
    "Grid.fit(X,np.log(y))"
   ]
  },
  {
   "cell_type": "code",
   "execution_count": 38,
   "id": "7ef2af62",
   "metadata": {},
   "outputs": [
    {
     "data": {
      "text/plain": [
       "{'booster': 'gbtree',\n",
       " 'importance_type': 'gain',\n",
       " 'max_depth': 3,\n",
       " 'n_estimators': 100}"
      ]
     },
     "execution_count": 38,
     "metadata": {},
     "output_type": "execute_result"
    }
   ],
   "source": [
    "Grid.best_params_"
   ]
  },
  {
   "cell_type": "code",
   "execution_count": 39,
   "id": "60d50403",
   "metadata": {},
   "outputs": [
    {
     "data": {
      "text/plain": [
       "0.7159611434643521"
      ]
     },
     "execution_count": 39,
     "metadata": {},
     "output_type": "execute_result"
    }
   ],
   "source": [
    "Grid.best_score_"
   ]
  },
  {
   "cell_type": "code",
   "execution_count": 40,
   "id": "b1e8e38d",
   "metadata": {},
   "outputs": [
    {
     "data": {
      "text/plain": [
       "XGBRegressor(base_score=0.5, booster='dart', colsample_bylevel=1,\n",
       "             colsample_bynode=1, colsample_bytree=1, gamma=0, gpu_id=-1,\n",
       "             importance_type='gain', interaction_constraints='',\n",
       "             learning_rate=0.300000012, max_delta_step=0, max_depth=7,\n",
       "             min_child_weight=1, missing=nan, monotone_constraints='()',\n",
       "             n_estimators=200, n_jobs=4, num_parallel_tree=1, random_state=0,\n",
       "             reg_alpha=0, reg_lambda=1, scale_pos_weight=1, subsample=1,\n",
       "             tree_method='exact', validate_parameters=1, verbosity=None)"
      ]
     },
     "execution_count": 40,
     "metadata": {},
     "output_type": "execute_result"
    }
   ],
   "source": [
    "XGBR=XGBRegressor(booster= 'dart',\n",
    " importance_type= 'gain',\n",
    " max_depth= 7,\n",
    " n_estimators= 200)\n",
    "XGBR.fit(X_train,y_train)"
   ]
  },
  {
   "cell_type": "markdown",
   "id": "a4cca3df",
   "metadata": {},
   "source": [
    "# FINAL MODEL"
   ]
  },
  {
   "cell_type": "code",
   "execution_count": 41,
   "id": "2d4afdbf",
   "metadata": {},
   "outputs": [
    {
     "name": "stdout",
     "output_type": "stream",
     "text": [
      "MODEL PERFORMANCE CURVE\n"
     ]
    },
    {
     "data": {
      "image/png": "[encoded data removed]",
      "text/plain": [
       "<Figure size 432x288 with 1 Axes>"
      ]
     },
     "metadata": {
      "needs_background": "light"
     },
     "output_type": "display_data"
    }
   ],
   "source": [
    "print('MODEL PERFORMANCE CURVE')\n",
    "skplt.estimators.plot_learning_curve(XGBR,X,y,cv=kf,scoring='r2')\n",
    "plt.show()"
   ]
  },
  {
   "cell_type": "code",
   "execution_count": 42,
   "id": "e7a28a7e",
   "metadata": {},
   "outputs": [],
   "source": [
    "y_pred=XGBR.predict(X_test)"
   ]
  },
  {
   "cell_type": "markdown",
   "id": "b0f05d46",
   "metadata": {},
   "source": [
    "# FINAL MODEL METRICS"
   ]
  },
  {
   "cell_type": "code",
   "execution_count": 43,
   "id": "b9e4a1d0",
   "metadata": {},
   "outputs": [
    {
     "name": "stdout",
     "output_type": "stream",
     "text": [
      "MSE 0.08195270738588471\n",
      "MAE 0.19439573996960813\n",
      "RMSE 0.2862738328696577\n",
      "R2_Score 0.6737575586884916\n",
      "Model_Score 0.6737575586884916\n"
     ]
    }
   ],
   "source": [
    "print(\"MSE\",mean_squared_error(y_test,y_pred))\n",
    "print(\"MAE\",mean_absolute_error(y_test,y_pred))\n",
    "print(\"RMSE\",np.sqrt(mean_squared_error(y_test,y_pred)))\n",
    "print(\"R2_Score\",r2_score(y_test,y_pred))\n",
    "print(\"Model_Score\",XGBR.score(X_test,y_test))"
   ]
  },
  {
   "cell_type": "code",
   "execution_count": 45,
   "id": "9b6acc5d",
   "metadata": {},
   "outputs": [
    {
     "data": {
      "text/plain": [
       "['Flight_Pred.obj']"
      ]
     },
     "execution_count": 45,
     "metadata": {},
     "output_type": "execute_result"
    }
   ],
   "source": [
    "import joblib\n",
    "joblib.dump(Grid,\"Flight_Pred.obj\")"
   ]
  },
  {
   "cell_type": "code",
   "execution_count": 47,
   "id": "0f93da69",
   "metadata": {},
   "outputs": [],
   "source": [
    "model=joblib.load('Flight_Pred.obj')"
   ]
  },
  {
   "cell_type": "code",
   "execution_count": 48,
   "id": "5a8ea882",
   "metadata": {},
   "outputs": [
    {
     "data": {
      "text/plain": [
       "array([13713.74  , 10738.047 ,  3432.3904,  6879.904 ,  4128.842 ,\n",
       "       11115.283 , 11423.987 ,  4033.086 , 11212.412 , 11981.567 ,\n",
       "       13096.8545, 11215.46  ,  2822.3022,  4913.274 ,  9805.761 ,\n",
       "       12845.498 , 11215.46  ,  7319.87  ,  5752.34  , 11330.859 ,\n",
       "       13876.161 ,  4693.4814, 11396.261 , 11533.83  ,  5178.19  ,\n",
       "        8813.792 ,  4415.7705,  3731.1404, 10515.011 ,  8662.843 ,\n",
       "        3928.4116, 11198.21  , 10620.873 ,  5112.7056, 13369.375 ,\n",
       "        5178.19  , 11357.1045,  5512.517 , 10711.863 , 11532.29  ,\n",
       "        9719.724 ,  6572.4614,  5957.486 ,  6520.8853,  6138.887 ,\n",
       "        5221.8   , 12025.411 , 13123.272 , 12727.398 , 12535.266 ,\n",
       "       11488.316 , 10036.68  ,  3526.857 ,  4271.903 , 10149.335 ,\n",
       "        7714.097 ,  2728.9758,  5928.7275, 14584.744 , 11366.055 ,\n",
       "       15604.84  , 14281.605 ,  4772.8657, 11516.431 , 10190.953 ,\n",
       "       13876.161 , 12995.343 ,  3883.6257, 10390.099 , 10278.055 ,\n",
       "        4691.9688, 13454.83  ,  9224.169 , 11776.882 ,  6455.895 ,\n",
       "        9635.92  , 10485.66  ,  9872.589 ,  6279.997 , 11080.812 ,\n",
       "       11999.304 , 10711.863 , 14281.605 , 10420.195 ,  4033.086 ,\n",
       "       11933.388 , 10631.828 , 12330.831 , 11180.848 , 12408.369 ,\n",
       "        9115.87  ,  8214.551 ,  6475.0713, 11302.001 , 11502.875 ,\n",
       "       13096.8545,  9546.61  ,  4466.706 ,  5021.708 ,  7754.251 ,\n",
       "       13713.74  ,  5017.39  , 10711.863 ,  6455.895 , 16849.78  ,\n",
       "        4061.9006,  6279.997 , 10994.286 , 13479.142 ,  5860.9746,\n",
       "       11924.469 , 11488.612 , 14939.6   ,  5654.049 ,  7911.263 ,\n",
       "        4673.329 ,  6753.3687, 28261.781 , 11681.835 , 11776.882 ,\n",
       "       11243.519 ,  8104.5522, 15275.194 ,  5715.3364,  6196.7725,\n",
       "       11363.356 , 10390.099 ,  4400.6655,  8803.393 ,  4772.8657,\n",
       "        2650.6401, 13053.312 , 10557.031 , 10969.904 , 13147.587 ,\n",
       "        8083.279 ,  5124.475 ,  4693.4814, 11071.241 , 10420.94  ,\n",
       "       11460.532 , 12727.398 ,  5021.708 ,  2822.3022,  7285.5845,\n",
       "       10510.569 , 11075.412 ,  9046.491 ,  6376.4297, 10712.384 ,\n",
       "        5436.5693,  3610.3079,  3731.1404, 13514.358 , 10919.75  ,\n",
       "        6572.4614,  7538.836 ,  4092.7397, 12189.404 ,  5405.034 ,\n",
       "        9053.542 ,  8104.5522, 13527.278 ,  4225.3076, 10397.206 ,\n",
       "       11318.698 , 11031.244 ,  4971.4507,  5957.486 , 10994.286 ,\n",
       "        9044.714 ,  5715.3364,  5242.2573,  8022.486 ,  5757.0815,\n",
       "        8784.062 , 11403.153 , 10390.099 ,  9639.615 ,  4092.7397,\n",
       "        4066.773 ,  6211.286 , 12026.559 , 11954.529 ,  5405.034 ,\n",
       "       11491.406 ,  8583.354 , 10926.251 ,  5191.5405,  2721.025 ,\n",
       "        4121.863 , 13082.224 ,  3234.747 ,  4400.5903, 10335.043 ,\n",
       "       11491.406 ,  6340.1807,  4788.9604, 10711.863 ,  4124.745 ,\n",
       "       11115.283 , 11601.422 , 13719.169 , 11724.18  , 10882.864 ,\n",
       "       11584.528 ,  6946.141 ,  9882.423 ,  2822.3022,  6659.919 ,\n",
       "        9046.491 ,  5858.3203, 13043.68  ,  9350.371 , 11768.607 ,\n",
       "       10478.652 , 12047.565 ,  9437.368 ,  9044.714 , 11279.12  ,\n",
       "       13422.431 ,  8214.551 ,  7694.12  ,  6753.3687,  4033.086 ,\n",
       "       10478.652 , 13830.291 , 13850.394 ,  3928.4116,  5435.2373,\n",
       "        5234.2544,  5757.0815,  4647.422 ,  9475.543 , 13830.291 ,\n",
       "        4971.4507, 11167.059 , 11776.882 ,  7914.5083,  6367.861 ,\n",
       "        4994.3794, 10264.331 ,  2945.5361,  7969.4805,  3984.062 ,\n",
       "        5162.7065, 10593.591 ,  9349.524 ,  6041.229 , 11924.469 ,\n",
       "        5190.6245, 10262.07  ,  5840.391 , 12683.766 , 11969.37  ,\n",
       "        9719.724 , 16077.236 , 10937.4375, 10711.863 ,  7885.713 ,\n",
       "        3719.9485, 11243.519 ,  2721.025 ,  8382.186 ,  3673.0737,\n",
       "        4642.2173, 10593.591 , 12627.438 ,  6455.895 , 10713.334 ,\n",
       "       11575.925 , 11745.88  ,  9437.368 ,  3610.3079,  3484.8303,\n",
       "        4128.842 ,  4061.9006,  4820.7705,  4124.745 ,  9940.053 ,\n",
       "        9245.43  ,  5017.39  , 11302.001 ,  3673.0737, 12092.942 ,\n",
       "       10480.581 , 12256.114 , 11958.475 , 11958.475 , 11377.648 ,\n",
       "        5882.124 , 12683.766 , 11191.035 ,  6211.286 , 12850.656 ,\n",
       "        5928.7275, 14789.688 ,  7620.7065,  6994.7676,  8589.561 ,\n",
       "        6091.759 ,  9882.423 , 13096.8545,  4081.1638,  8382.186 ,\n",
       "        6165.1187, 11868.706 , 13096.8545,  4579.915 , 11458.871 ,\n",
       "        4400.6655,  5911.4116,  4820.7705, 13198.882 , 11179.601 ,\n",
       "       15980.414 , 13529.885 , 11492.403 , 14400.551 , 10648.824 ,\n",
       "        6754.2896, 10397.206 ,  6994.7676,  6117.147 ,  8735.092 ,\n",
       "       12235.1045, 11001.723 ,  5715.3364, 10504.656 ,  3201.0579,\n",
       "       10874.721 ,  7959.242 ,  6239.659 , 10919.75  , 10390.099 ,\n",
       "        3728.5793,  5419.089 ,  6141.288 ,  5782.8286, 13349.08  ,\n",
       "        4589.3154, 12338.124 , 10169.478 , 11243.519 ,  7523.6094,\n",
       "        4579.915 ,  9088.621 , 10981.722 ,  4415.7705, 11188.795 ,\n",
       "        7403.7393,  3673.0737,  7885.713 ,  6096.2686, 13147.587 ,\n",
       "        6912.9595, 11211.161 ,  6754.2896,  6896.787 ,  9540.212 ,\n",
       "        4579.915 ,  7754.251 ,  9350.371 , 11127.47  , 13269.37  ,\n",
       "        5710.9453,  3854.6748,  6178.45  ,  7962.309 , 11776.882 ,\n",
       "        5234.2544,  4957.196 ,  5928.7275,  4128.842 , 10044.187 ,\n",
       "        4093.5593,  6094.8384, 16491.318 ,  9044.714 , 11462.565 ,\n",
       "        6475.0713,  5911.4116,  9386.726 , 13096.8545,  6854.0293,\n",
       "        6376.4297,  9044.714 , 11502.875 ,  5782.8286,  9895.815 ,\n",
       "        5419.089 ,  4081.1638,  3834.6409,  4647.422 , 17612.99  ,\n",
       "       10027.285 , 10972.102 , 12039.836 , 11454.971 ,  5977.119 ,\n",
       "        6896.787 ,  4271.903 , 13777.804 ,  3936.1445,  3959.7212,\n",
       "        7032.9883, 13549.848 ,  4023.9385,  3883.6257,  5867.7026,\n",
       "        5523.405 ,  6141.288 ,  3928.4116,  7403.7393,  5643.1567,\n",
       "        3201.0579,  4454.3613,  4128.6333, 12238.291 , 10165.3955,\n",
       "       10190.953 ,  8383.745 ,  9673.929 ,  6173.5557, 10510.569 ,\n",
       "       11745.88  ,  4156.7075,  4788.9604, 12201.849 ,  9799.067 ,\n",
       "       11924.469 , 11429.011 ,  9185.334 , 11322.79  , 11958.475 ,\n",
       "        7705.1636, 10761.811 , 11681.835 ,  6475.0713, 11330.859 ,\n",
       "       11455.287 ,  3415.3   ,  6659.919 , 10945.963 , 12426.216 ,\n",
       "       11776.882 , 25126.578 ,  6475.0713, 13269.712 ,  3031.351 ,\n",
       "       13529.885 ,  5191.5405,  5894.4727,  9720.622 , 12042.178 ,\n",
       "        5405.034 , 10631.828 ,  7283.8125, 11179.601 , 10179.967 ,\n",
       "       10901.988 ,  5105.295 ,  4066.773 ,  9041.765 ,  5911.4116,\n",
       "       11294.868 , 15058.05  ,  5715.3364,  6371.767 , 10006.078 ,\n",
       "        4687.7554, 13220.0205,  9528.8   ,  4233.815 ,  2641.9673,\n",
       "        3610.3079,  5368.775 ,  6404.342 ,  8673.383 , 11560.314 ,\n",
       "        9690.476 ,  6782.8076,  6094.8384,  6041.229 , 13850.394 ,\n",
       "        8708.691 ,  2721.025 ,  8103.2383, 14789.688 , 12253.952 ,\n",
       "       11075.412 ,  4820.7705,  7962.309 ,  7048.1562, 11681.835 ,\n",
       "        4400.6655, 13162.893 ,  9326.966 ,  4081.1638,  7714.6416,\n",
       "        5702.0254, 10711.863 ,  5405.034 ], dtype=float32)"
      ]
     },
     "execution_count": 48,
     "metadata": {},
     "output_type": "execute_result"
    }
   ],
   "source": [
    "np.exp(model.predict(X_test))"
   ]
  },
  {
   "cell_type": "markdown",
   "id": "7d93f828",
   "metadata": {},
   "source": [
    "# THANKYOU"
   ]
  },
  {
   "cell_type": "code",
   "execution_count": null,
   "id": "b0217dc0",
   "metadata": {},
   "outputs": [],
   "source": []
  }
 ],
 "metadata": {
  "kernelspec": {
   "display_name": "Python 3",
   "language": "python",
   "name": "python3"
  },
  "language_info": {
   "codemirror_mode": {
    "name": "ipython",
    "version": 3
   },
   "file_extension": ".py",
   "mimetype": "text/x-python",
   "name": "python",
   "nbconvert_exporter": "python",
   "pygments_lexer": "ipython3",
   "version": "3.8.8"
  }
 },
 "nbformat": 4,
 "nbformat_minor": 5
}
