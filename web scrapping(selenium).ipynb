{
 "cells": [
  {
   "cell_type": "code",
   "execution_count": 426,
   "id": "4c7675fc",
   "metadata": {},
   "outputs": [
    {
     "name": "stdout",
     "output_type": "stream",
     "text": [
      "Requirement already satisfied: selenium in c:\\users\\r p shukla\\anaconda3\\lib\\site-packages (3.141.0)\n",
      "Requirement already satisfied: urllib3 in c:\\users\\r p shukla\\anaconda3\\lib\\site-packages (from selenium) (1.26.4)\n"
     ]
    }
   ],
   "source": [
    "!pip install selenium"
   ]
  },
  {
   "cell_type": "code",
   "execution_count": 1,
   "id": "1327d2e2",
   "metadata": {},
   "outputs": [],
   "source": [
    "import selenium\n",
    "import pandas as pd\n",
    "import time\n",
    "\n",
    "from selenium import webdriver"
   ]
  },
  {
   "cell_type": "code",
   "execution_count": 2,
   "id": "636b4962",
   "metadata": {},
   "outputs": [],
   "source": [
    "driver = webdriver.Chrome(r\"C:\\Users\\R P SHUKLA\\Downloads\\chromedriver.exe\")"
   ]
  },
  {
   "cell_type": "markdown",
   "id": "133b0288",
   "metadata": {},
   "source": [
    "###  Q1: Write a python program to scrape data for “Data Analyst” Job position in “Bangalore” location. You have to scrape the job-title, job-location, company_name,experience_required. You have to scrape first 10 jobs data."
   ]
  },
  {
   "cell_type": "code",
   "execution_count": 21,
   "id": "409afbd9",
   "metadata": {},
   "outputs": [],
   "source": [
    "driver.get('https://www.naukri.com')"
   ]
  },
  {
   "cell_type": "code",
   "execution_count": 23,
   "id": "47633fb8",
   "metadata": {},
   "outputs": [
    {
     "name": "stdout",
     "output_type": "stream",
     "text": [
      "Enter the post name: Data Analyst\n",
      "Enter location: Bangalore\n"
     ]
    }
   ],
   "source": [
    "search_inp = input('Enter the post name: ')\n",
    "search_bar = driver.find_element_by_xpath(\"//div[@class='inpWrap']/input\")\n",
    "search_bar.clear()\n",
    "search_bar.send_keys(search_inp)\n",
    "\n",
    "loc_inp = input('Enter location: ')\n",
    "loc_bar = driver.find_element_by_id('qsb-location-sugg')\n",
    "loc_bar.clear()\n",
    "loc_bar.send_keys(loc_inp)\n",
    "time.sleep(4)\n",
    "\n",
    "search_btn = driver.find_element_by_xpath(\"//div[@class='search-btn']/button\")\n",
    "search_btn.click()\n"
   ]
  },
  {
   "cell_type": "code",
   "execution_count": 24,
   "id": "4a3983ea",
   "metadata": {},
   "outputs": [],
   "source": [
    "job_title = []\n",
    "job_loc = []\n",
    "comp_name = []\n",
    "expr = []"
   ]
  },
  {
   "cell_type": "code",
   "execution_count": 25,
   "id": "0532bbce",
   "metadata": {},
   "outputs": [],
   "source": [
    "# extracting job title\n",
    "for i in driver.find_elements_by_xpath(\"//a[@class='title fw500 ellipsis']\"):\n",
    "    if len(job_title) == 10:\n",
    "        break\n",
    "    else:\n",
    "        job_title.append(i.text)\n",
    "\n",
    "\n",
    "# extracting job location\n",
    "for j in driver.find_elements_by_xpath(\"//li[@class='fleft grey-text br2 placeHolderLi location']/span\"):\n",
    "    if len(job_loc) == 10:\n",
    "        break\n",
    "    else:\n",
    "        job_loc.append(j.text)\n",
    "\n",
    "# extracting company name\n",
    "for k in driver.find_elements_by_xpath(\"//a[@class='subTitle ellipsis fleft']\"):\n",
    "    if len(comp_name) == 10:\n",
    "        break\n",
    "    else:\n",
    "        comp_name.append(k.text)\n",
    "\n",
    "# extracting experirncr required\n",
    "for l in driver.find_elements_by_xpath(\"//li[@class='fleft grey-text br2 placeHolderLi experience']/span\"):\n",
    "    if len(expr) == 10:\n",
    "        break\n",
    "    else:\n",
    "        expr.append(l.text)"
   ]
  },
  {
   "cell_type": "code",
   "execution_count": 26,
   "id": "4b818597",
   "metadata": {},
   "outputs": [
    {
     "name": "stdout",
     "output_type": "stream",
     "text": [
      "10 10 10 10\n"
     ]
    }
   ],
   "source": [
    "print(len(job_title), len(job_loc), len(comp_name), len(expr))"
   ]
  },
  {
   "cell_type": "code",
   "execution_count": 27,
   "id": "8f05e5f6",
   "metadata": {},
   "outputs": [],
   "source": [
    "Jobs = pd.DataFrame({})\n",
    "Jobs['title'] = job_title\n",
    "Jobs['company'] = comp_name\n",
    "Jobs['location'] = job_loc\n",
    "Jobs['experience'] = expr"
   ]
  },
  {
   "cell_type": "code",
   "execution_count": 28,
   "id": "7d396748",
   "metadata": {},
   "outputs": [
    {
     "data": {
      "text/html": [
       "<div>\n",
       "<style scoped>\n",
       "    .dataframe tbody tr th:only-of-type {\n",
       "        vertical-align: middle;\n",
       "    }\n",
       "\n",
       "    .dataframe tbody tr th {\n",
       "        vertical-align: top;\n",
       "    }\n",
       "\n",
       "    .dataframe thead th {\n",
       "        text-align: right;\n",
       "    }\n",
       "</style>\n",
       "<table border=\"1\" class=\"dataframe\">\n",
       "  <thead>\n",
       "    <tr style=\"text-align: right;\">\n",
       "      <th></th>\n",
       "      <th>title</th>\n",
       "      <th>company</th>\n",
       "      <th>location</th>\n",
       "      <th>experience</th>\n",
       "    </tr>\n",
       "  </thead>\n",
       "  <tbody>\n",
       "    <tr>\n",
       "      <th>0</th>\n",
       "      <td>Data Scientist / Data Analyst -Business Analyst</td>\n",
       "      <td>Inflexion Analytix Private Limited</td>\n",
       "      <td>Hyderabad/Secunderabad, Chennai, Bangalore/Ben...</td>\n",
       "      <td>0-3 Yrs</td>\n",
       "    </tr>\n",
       "    <tr>\n",
       "      <th>1</th>\n",
       "      <td>Junior Data Analyst</td>\n",
       "      <td>Simplilearn</td>\n",
       "      <td>Bangalore/Bengaluru(Sector 2 HSR Layout)</td>\n",
       "      <td>0-2 Yrs</td>\n",
       "    </tr>\n",
       "    <tr>\n",
       "      <th>2</th>\n",
       "      <td>Hot Vacancies - Senior Data Analyst, Bengaluru</td>\n",
       "      <td>WSP CONSULTANTS INDIA PRIVATE LIMITED</td>\n",
       "      <td>(WFH during Covid)</td>\n",
       "      <td>5-10 Yrs</td>\n",
       "    </tr>\n",
       "    <tr>\n",
       "      <th>3</th>\n",
       "      <td>Assistant Vice President - MIS &amp; Reporting ( B...</td>\n",
       "      <td>INTERTRUSTVITEOS CORPORATE AND FUND SERVICES P...</td>\n",
       "      <td>Bangalore/Bengaluru</td>\n",
       "      <td>10-15 Yrs</td>\n",
       "    </tr>\n",
       "    <tr>\n",
       "      <th>4</th>\n",
       "      <td>Data Analyst</td>\n",
       "      <td>Flipkart</td>\n",
       "      <td>Mumbai, Bangalore/Bengaluru</td>\n",
       "      <td>3-8 Yrs</td>\n",
       "    </tr>\n",
       "    <tr>\n",
       "      <th>5</th>\n",
       "      <td>Data Analyst</td>\n",
       "      <td>IBM India Pvt. Limited</td>\n",
       "      <td>Bangalore/Bengaluru</td>\n",
       "      <td>3-7 Yrs</td>\n",
       "    </tr>\n",
       "    <tr>\n",
       "      <th>6</th>\n",
       "      <td>Network Design &amp; Data Analyst</td>\n",
       "      <td>Dell International Services India Private Limited</td>\n",
       "      <td>Bangalore/Bengaluru</td>\n",
       "      <td>0-2 Yrs</td>\n",
       "    </tr>\n",
       "    <tr>\n",
       "      <th>7</th>\n",
       "      <td>PDM - Data Analyst</td>\n",
       "      <td>Schneider Electric India Pvt. Ltd.</td>\n",
       "      <td>Bangalore/Bengaluru</td>\n",
       "      <td>3-4 Yrs</td>\n",
       "    </tr>\n",
       "    <tr>\n",
       "      <th>8</th>\n",
       "      <td>Senior Data Analyst</td>\n",
       "      <td>Publicis Groupe</td>\n",
       "      <td>Davangere, Bangalore/Bengaluru</td>\n",
       "      <td>6-8 Yrs</td>\n",
       "    </tr>\n",
       "    <tr>\n",
       "      <th>9</th>\n",
       "      <td>Business Data Analyst - MIS &amp; Reporting</td>\n",
       "      <td>INTERTRUST GROUP</td>\n",
       "      <td>Bangalore/Bengaluru</td>\n",
       "      <td>3-8 Yrs</td>\n",
       "    </tr>\n",
       "  </tbody>\n",
       "</table>\n",
       "</div>"
      ],
      "text/plain": [
       "                                               title  \\\n",
       "0    Data Scientist / Data Analyst -Business Analyst   \n",
       "1                                Junior Data Analyst   \n",
       "2     Hot Vacancies - Senior Data Analyst, Bengaluru   \n",
       "3  Assistant Vice President - MIS & Reporting ( B...   \n",
       "4                                       Data Analyst   \n",
       "5                                       Data Analyst   \n",
       "6                      Network Design & Data Analyst   \n",
       "7                                 PDM - Data Analyst   \n",
       "8                                Senior Data Analyst   \n",
       "9            Business Data Analyst - MIS & Reporting   \n",
       "\n",
       "                                             company  \\\n",
       "0                 Inflexion Analytix Private Limited   \n",
       "1                                        Simplilearn   \n",
       "2              WSP CONSULTANTS INDIA PRIVATE LIMITED   \n",
       "3  INTERTRUSTVITEOS CORPORATE AND FUND SERVICES P...   \n",
       "4                                           Flipkart   \n",
       "5                             IBM India Pvt. Limited   \n",
       "6  Dell International Services India Private Limited   \n",
       "7                 Schneider Electric India Pvt. Ltd.   \n",
       "8                                    Publicis Groupe   \n",
       "9                                   INTERTRUST GROUP   \n",
       "\n",
       "                                            location experience  \n",
       "0  Hyderabad/Secunderabad, Chennai, Bangalore/Ben...    0-3 Yrs  \n",
       "1           Bangalore/Bengaluru(Sector 2 HSR Layout)    0-2 Yrs  \n",
       "2                                 (WFH during Covid)   5-10 Yrs  \n",
       "3                                Bangalore/Bengaluru  10-15 Yrs  \n",
       "4                        Mumbai, Bangalore/Bengaluru    3-8 Yrs  \n",
       "5                                Bangalore/Bengaluru    3-7 Yrs  \n",
       "6                                Bangalore/Bengaluru    0-2 Yrs  \n",
       "7                                Bangalore/Bengaluru    3-4 Yrs  \n",
       "8                     Davangere, Bangalore/Bengaluru    6-8 Yrs  \n",
       "9                                Bangalore/Bengaluru    3-8 Yrs  "
      ]
     },
     "execution_count": 28,
     "metadata": {},
     "output_type": "execute_result"
    }
   ],
   "source": [
    "Jobs"
   ]
  },
  {
   "cell_type": "markdown",
   "id": "eaa3bf9d",
   "metadata": {},
   "source": [
    "### Q2: Write a python program to scrape data for “Data Scientist” Job position in “Bangalore” location. You have to scrape the job-title, job-location,company_name, full job-description. You have to scrape first 10 jobs data. "
   ]
  },
  {
   "cell_type": "code",
   "execution_count": 6,
   "id": "01bd3ad9",
   "metadata": {},
   "outputs": [],
   "source": [
    "url2 = 'https://www.naukri.com/'\n",
    "\n",
    "driver.get(url2)"
   ]
  },
  {
   "cell_type": "code",
   "execution_count": 7,
   "id": "da87d7b2",
   "metadata": {},
   "outputs": [
    {
     "data": {
      "text/plain": [
       "<selenium.webdriver.remote.webelement.WebElement (session=\"5ee42651c4c411c7657c91964be75552\", element=\"ef86b0e9-1a02-43eb-a990-e8812c922299\")>"
      ]
     },
     "execution_count": 7,
     "metadata": {},
     "output_type": "execute_result"
    }
   ],
   "source": [
    "src_tag = driver.find_element_by_xpath('//input[@class=\"sugInp\"]')\n",
    "\n",
    "src_tag"
   ]
  },
  {
   "cell_type": "code",
   "execution_count": 8,
   "id": "88f147d9",
   "metadata": {},
   "outputs": [],
   "source": [
    "src_tag.send_keys('Data Scientist')"
   ]
  },
  {
   "cell_type": "code",
   "execution_count": 9,
   "id": "141f0198",
   "metadata": {},
   "outputs": [
    {
     "data": {
      "text/plain": [
       "<selenium.webdriver.remote.webelement.WebElement (session=\"5ee42651c4c411c7657c91964be75552\", element=\"bd4aca48-42ee-4630-be0c-b98efe34d13c\")>"
      ]
     },
     "execution_count": 9,
     "metadata": {},
     "output_type": "execute_result"
    }
   ],
   "source": [
    "src_loc = driver.find_element_by_xpath('//input[@name=\"location\"]')\n",
    "src_loc"
   ]
  },
  {
   "cell_type": "code",
   "execution_count": 11,
   "id": "8925e547",
   "metadata": {},
   "outputs": [],
   "source": [
    "src_loc.send_keys('Bangalore')"
   ]
  },
  {
   "cell_type": "code",
   "execution_count": 12,
   "id": "b995d4e3",
   "metadata": {},
   "outputs": [
    {
     "data": {
      "text/plain": [
       "<selenium.webdriver.remote.webelement.WebElement (session=\"5ee42651c4c411c7657c91964be75552\", element=\"8b7a4a83-635c-4188-8c5a-e2bb29cf198c\")>"
      ]
     },
     "execution_count": 12,
     "metadata": {},
     "output_type": "execute_result"
    }
   ],
   "source": [
    "src_bar = driver.find_element_by_xpath('//button[@class=\"btn\"]')\n",
    "src_bar"
   ]
  },
  {
   "cell_type": "code",
   "execution_count": 13,
   "id": "9afdcfff",
   "metadata": {},
   "outputs": [],
   "source": [
    "src_bar.click()"
   ]
  },
  {
   "cell_type": "code",
   "execution_count": 14,
   "id": "18afe8b5",
   "metadata": {},
   "outputs": [
    {
     "data": {
      "text/plain": [
       "[<selenium.webdriver.remote.webelement.WebElement (session=\"5ee42651c4c411c7657c91964be75552\", element=\"b74d4989-3fc8-40eb-b2f5-15cb3899d625\")>,\n",
       " <selenium.webdriver.remote.webelement.WebElement (session=\"5ee42651c4c411c7657c91964be75552\", element=\"2ea45142-7ae2-4db6-923b-913b162fe44e\")>,\n",
       " <selenium.webdriver.remote.webelement.WebElement (session=\"5ee42651c4c411c7657c91964be75552\", element=\"57671edf-2380-4c57-a9fd-273b489d8dec\")>,\n",
       " <selenium.webdriver.remote.webelement.WebElement (session=\"5ee42651c4c411c7657c91964be75552\", element=\"138125df-7037-4b7e-96db-8d8928f7f48d\")>,\n",
       " <selenium.webdriver.remote.webelement.WebElement (session=\"5ee42651c4c411c7657c91964be75552\", element=\"7407c7f5-5bde-47cc-b5c7-8dedbda6d590\")>,\n",
       " <selenium.webdriver.remote.webelement.WebElement (session=\"5ee42651c4c411c7657c91964be75552\", element=\"c78ee840-555d-4a43-9058-8e34fa7f8b23\")>,\n",
       " <selenium.webdriver.remote.webelement.WebElement (session=\"5ee42651c4c411c7657c91964be75552\", element=\"1d1b7d55-d893-40c5-9766-d6ef12ff6a1f\")>,\n",
       " <selenium.webdriver.remote.webelement.WebElement (session=\"5ee42651c4c411c7657c91964be75552\", element=\"403a06b0-1c67-460c-8bc1-33abff802747\")>,\n",
       " <selenium.webdriver.remote.webelement.WebElement (session=\"5ee42651c4c411c7657c91964be75552\", element=\"3b67c64d-1cf3-4f14-8454-b874b86d6e8a\")>,\n",
       " <selenium.webdriver.remote.webelement.WebElement (session=\"5ee42651c4c411c7657c91964be75552\", element=\"77a61177-3255-4dad-a255-d22f501a64a6\")>,\n",
       " <selenium.webdriver.remote.webelement.WebElement (session=\"5ee42651c4c411c7657c91964be75552\", element=\"8cd62824-b306-4c29-a08d-f191df7433ab\")>,\n",
       " <selenium.webdriver.remote.webelement.WebElement (session=\"5ee42651c4c411c7657c91964be75552\", element=\"f577772a-1d8a-4dfa-bdcc-f1ca818b4f91\")>,\n",
       " <selenium.webdriver.remote.webelement.WebElement (session=\"5ee42651c4c411c7657c91964be75552\", element=\"880cf7a2-2216-4294-8a89-4a6a76d91414\")>,\n",
       " <selenium.webdriver.remote.webelement.WebElement (session=\"5ee42651c4c411c7657c91964be75552\", element=\"c2e0ab16-8f1a-4537-85de-13a921b83f94\")>,\n",
       " <selenium.webdriver.remote.webelement.WebElement (session=\"5ee42651c4c411c7657c91964be75552\", element=\"e4d1d1dc-019a-42b1-91a2-f2de124836f4\")>,\n",
       " <selenium.webdriver.remote.webelement.WebElement (session=\"5ee42651c4c411c7657c91964be75552\", element=\"425780c9-e125-4698-aa2b-de3f7b5087e9\")>,\n",
       " <selenium.webdriver.remote.webelement.WebElement (session=\"5ee42651c4c411c7657c91964be75552\", element=\"0e1637e7-b0c6-4df5-8324-88273c22a32c\")>,\n",
       " <selenium.webdriver.remote.webelement.WebElement (session=\"5ee42651c4c411c7657c91964be75552\", element=\"e01ba4fe-9ac7-4a11-8030-72685d83275f\")>,\n",
       " <selenium.webdriver.remote.webelement.WebElement (session=\"5ee42651c4c411c7657c91964be75552\", element=\"36dab436-f134-47db-860e-4a20ab31d7f7\")>,\n",
       " <selenium.webdriver.remote.webelement.WebElement (session=\"5ee42651c4c411c7657c91964be75552\", element=\"a26cf6a0-84e3-4f43-a3c2-6075252bc120\")>]"
      ]
     },
     "execution_count": 14,
     "metadata": {},
     "output_type": "execute_result"
    }
   ],
   "source": [
    "ttl_tag = driver.find_elements_by_xpath('//a[@class=\"title fw500 ellipsis\"]')\n",
    "\n",
    "ttl_tag"
   ]
  },
  {
   "cell_type": "code",
   "execution_count": 15,
   "id": "5082d89b",
   "metadata": {},
   "outputs": [
    {
     "data": {
      "text/plain": [
       "['Data Scientist',\n",
       " 'Data Scientist/Quantitative Analyst',\n",
       " 'Data Scientist / Data Analyst -Business Analyst',\n",
       " 'Fresher / Data Scientist / Data Analyst / Power BI / Big Data Engineer',\n",
       " 'Data Scientist/Data Analyst /Business Analyst',\n",
       " 'Junior Data Scientist/Data Analyst - Remote',\n",
       " 'Associate Data Scientist - Retail',\n",
       " 'Senior Data Scientist',\n",
       " 'Sr. Data Scientist I, SIP',\n",
       " 'Ignitarium is hiring For Senior Data Scientist, Bangalore / Kochi',\n",
       " 'Senior Data Scientist For advisory/ teaching/ projects role Remote',\n",
       " 'Sr. Data Scientist',\n",
       " 'Sr . Data Scientist',\n",
       " 'Excellent Opportunity For Data Scientist, Hyderabad',\n",
       " 'Site Lead - Data Scientist',\n",
       " 'Senior/Lead Data Scientist - Machine Learning/Deep Learning',\n",
       " 'Data Scientists and Engineers',\n",
       " 'Lead Data Scientist',\n",
       " 'Data Scientist',\n",
       " 'Associate Data Scientist']"
      ]
     },
     "execution_count": 15,
     "metadata": {},
     "output_type": "execute_result"
    }
   ],
   "source": [
    "titles = []\n",
    "for t in ttl_tag:\n",
    "    titles.append(t.text)\\\n",
    "    \n",
    "titles"
   ]
  },
  {
   "cell_type": "code",
   "execution_count": 16,
   "id": "06b1ed4a",
   "metadata": {},
   "outputs": [
    {
     "data": {
      "text/plain": [
       "['Data Scientist',\n",
       " 'Data Scientist/Quantitative Analyst',\n",
       " 'Data Scientist / Data Analyst -Business Analyst',\n",
       " 'Fresher / Data Scientist / Data Analyst / Power BI / Big Data Engineer',\n",
       " 'Data Scientist/Data Analyst /Business Analyst',\n",
       " 'Junior Data Scientist/Data Analyst - Remote',\n",
       " 'Associate Data Scientist - Retail',\n",
       " 'Senior Data Scientist',\n",
       " 'Sr. Data Scientist I, SIP',\n",
       " 'Ignitarium is hiring For Senior Data Scientist, Bangalore / Kochi']"
      ]
     },
     "execution_count": 16,
     "metadata": {},
     "output_type": "execute_result"
    }
   ],
   "source": [
    "job_title = titles[:10]\n",
    "\n",
    "job_title"
   ]
  },
  {
   "cell_type": "code",
   "execution_count": 17,
   "id": "7fa39f70",
   "metadata": {},
   "outputs": [
    {
     "data": {
      "text/plain": [
       "[<selenium.webdriver.remote.webelement.WebElement (session=\"5ee42651c4c411c7657c91964be75552\", element=\"a0b8c42b-b43c-4df3-bf09-825f133cf1eb\")>,\n",
       " <selenium.webdriver.remote.webelement.WebElement (session=\"5ee42651c4c411c7657c91964be75552\", element=\"55dfbd8a-3e32-4f14-9188-b1ec13c88e15\")>,\n",
       " <selenium.webdriver.remote.webelement.WebElement (session=\"5ee42651c4c411c7657c91964be75552\", element=\"32139245-1015-4d56-9666-97feaa083e07\")>,\n",
       " <selenium.webdriver.remote.webelement.WebElement (session=\"5ee42651c4c411c7657c91964be75552\", element=\"ebd685c6-68e8-44cb-a3d3-9c849dd87776\")>,\n",
       " <selenium.webdriver.remote.webelement.WebElement (session=\"5ee42651c4c411c7657c91964be75552\", element=\"20391fb6-643f-4403-afdf-313866dad8dd\")>,\n",
       " <selenium.webdriver.remote.webelement.WebElement (session=\"5ee42651c4c411c7657c91964be75552\", element=\"1c8599ba-3b12-459a-8b0d-0a599f45a43b\")>,\n",
       " <selenium.webdriver.remote.webelement.WebElement (session=\"5ee42651c4c411c7657c91964be75552\", element=\"c6caf0a7-c0bc-475a-abaf-3af582304fcb\")>,\n",
       " <selenium.webdriver.remote.webelement.WebElement (session=\"5ee42651c4c411c7657c91964be75552\", element=\"7378e5f9-ffcb-4d5e-8bff-750d19ed4ffa\")>,\n",
       " <selenium.webdriver.remote.webelement.WebElement (session=\"5ee42651c4c411c7657c91964be75552\", element=\"ba79fb66-fd98-4626-b4be-73c4116a9862\")>,\n",
       " <selenium.webdriver.remote.webelement.WebElement (session=\"5ee42651c4c411c7657c91964be75552\", element=\"45dad3fd-4e50-4e64-a7e8-0b93d94649d7\")>,\n",
       " <selenium.webdriver.remote.webelement.WebElement (session=\"5ee42651c4c411c7657c91964be75552\", element=\"f9f410ef-9c26-4949-9498-185ca28a5ff1\")>,\n",
       " <selenium.webdriver.remote.webelement.WebElement (session=\"5ee42651c4c411c7657c91964be75552\", element=\"f33a6420-fed2-4db7-8f64-4df343de645d\")>,\n",
       " <selenium.webdriver.remote.webelement.WebElement (session=\"5ee42651c4c411c7657c91964be75552\", element=\"b9f9137b-2f85-4f41-90d4-4ed2d214382f\")>,\n",
       " <selenium.webdriver.remote.webelement.WebElement (session=\"5ee42651c4c411c7657c91964be75552\", element=\"5ecc73e0-8276-4236-ac81-85a05c833d5c\")>,\n",
       " <selenium.webdriver.remote.webelement.WebElement (session=\"5ee42651c4c411c7657c91964be75552\", element=\"ca2a7b2b-b68a-4d62-8ce0-5ca4fefce31a\")>,\n",
       " <selenium.webdriver.remote.webelement.WebElement (session=\"5ee42651c4c411c7657c91964be75552\", element=\"be4e3569-3465-48f8-b1b6-9947c5110aed\")>,\n",
       " <selenium.webdriver.remote.webelement.WebElement (session=\"5ee42651c4c411c7657c91964be75552\", element=\"a105da7a-da76-40d8-8591-e13d0d51b896\")>,\n",
       " <selenium.webdriver.remote.webelement.WebElement (session=\"5ee42651c4c411c7657c91964be75552\", element=\"f41457d7-fff4-4320-9f66-defd1b251d8a\")>,\n",
       " <selenium.webdriver.remote.webelement.WebElement (session=\"5ee42651c4c411c7657c91964be75552\", element=\"72687610-e29f-4531-8a52-14112ba8273f\")>,\n",
       " <selenium.webdriver.remote.webelement.WebElement (session=\"5ee42651c4c411c7657c91964be75552\", element=\"e5e8f0f1-f7f7-4de3-9696-28acb8a8acf3\")>]"
      ]
     },
     "execution_count": 17,
     "metadata": {},
     "output_type": "execute_result"
    }
   ],
   "source": [
    "loc = driver.find_elements_by_xpath('//li[@class=\"fleft grey-text br2 placeHolderLi location\"]')\n",
    "\n",
    "loc"
   ]
  },
  {
   "cell_type": "code",
   "execution_count": 18,
   "id": "731fe3c5",
   "metadata": {},
   "outputs": [
    {
     "data": {
      "text/plain": [
       "['Bangalore/Bengaluru',\n",
       " 'Chandigarh',\n",
       " 'Hyderabad/Secunderabad, Chennai, Bangalore/Bengaluru',\n",
       " 'Ahmedabad',\n",
       " 'Pune, Delhi / NCR, Mumbai (All Areas)',\n",
       " 'Chennai',\n",
       " 'Chennai',\n",
       " 'Bangalore/Bengaluru',\n",
       " 'Hyderabad/Secunderabad',\n",
       " 'Kochi/Cochin, Ernakulam, Bangalore/Bengaluru',\n",
       " 'Hyderabad/Secunderabad, Chennai, Bangalore/Bengaluru',\n",
       " 'Bangalore/Bengaluru',\n",
       " 'Bangalore/Bengaluru',\n",
       " 'Hyderabad/Secunderabad, Uppal',\n",
       " 'Mumbai, Indore',\n",
       " 'Bangalore/Bengaluru',\n",
       " 'Chennai',\n",
       " 'Bangalore/Bengaluru',\n",
       " 'Noida, New Delhi',\n",
       " 'Bangalore/Bengaluru']"
      ]
     },
     "execution_count": 18,
     "metadata": {},
     "output_type": "execute_result"
    }
   ],
   "source": [
    "location2 = []\n",
    "for lc in loc:\n",
    "    location2.append(lc.text)\n",
    "    \n",
    "location2"
   ]
  },
  {
   "cell_type": "code",
   "execution_count": 19,
   "id": "b044c55b",
   "metadata": {},
   "outputs": [
    {
     "data": {
      "text/plain": [
       "['Bangalore/Bengaluru',\n",
       " 'Chandigarh',\n",
       " 'Hyderabad/Secunderabad, Chennai, Bangalore/Bengaluru',\n",
       " 'Ahmedabad',\n",
       " 'Pune, Delhi / NCR, Mumbai (All Areas)',\n",
       " 'Chennai',\n",
       " 'Chennai',\n",
       " 'Bangalore/Bengaluru',\n",
       " 'Hyderabad/Secunderabad',\n",
       " 'Kochi/Cochin, Ernakulam, Bangalore/Bengaluru']"
      ]
     },
     "execution_count": 19,
     "metadata": {},
     "output_type": "execute_result"
    }
   ],
   "source": [
    "job_loc = location2[:10]\n",
    "job_loc"
   ]
  },
  {
   "cell_type": "code",
   "execution_count": 20,
   "id": "31a434dc",
   "metadata": {},
   "outputs": [
    {
     "data": {
      "text/plain": [
       "[<selenium.webdriver.remote.webelement.WebElement (session=\"5ee42651c4c411c7657c91964be75552\", element=\"703c1cc4-2b74-4092-981d-0320a741f8fc\")>,\n",
       " <selenium.webdriver.remote.webelement.WebElement (session=\"5ee42651c4c411c7657c91964be75552\", element=\"1bac8bc4-e187-4e3e-b81c-71ea6c7841f3\")>,\n",
       " <selenium.webdriver.remote.webelement.WebElement (session=\"5ee42651c4c411c7657c91964be75552\", element=\"dc2b9548-d6c0-451b-b815-1dc840184de9\")>,\n",
       " <selenium.webdriver.remote.webelement.WebElement (session=\"5ee42651c4c411c7657c91964be75552\", element=\"8b182d9e-75b0-4f19-93c4-99500b6b057d\")>,\n",
       " <selenium.webdriver.remote.webelement.WebElement (session=\"5ee42651c4c411c7657c91964be75552\", element=\"e93ae098-1ef0-43ac-b0be-4be1d8936d9d\")>,\n",
       " <selenium.webdriver.remote.webelement.WebElement (session=\"5ee42651c4c411c7657c91964be75552\", element=\"be45c3ce-be4d-43c8-b0ee-f7e79402e273\")>,\n",
       " <selenium.webdriver.remote.webelement.WebElement (session=\"5ee42651c4c411c7657c91964be75552\", element=\"1ff07fe0-4ba8-4fce-8edf-0677e54885aa\")>,\n",
       " <selenium.webdriver.remote.webelement.WebElement (session=\"5ee42651c4c411c7657c91964be75552\", element=\"46170920-aa41-4b13-bf49-22b0a5fa0941\")>,\n",
       " <selenium.webdriver.remote.webelement.WebElement (session=\"5ee42651c4c411c7657c91964be75552\", element=\"16be0594-073a-4b05-b688-e4bed1aaea90\")>,\n",
       " <selenium.webdriver.remote.webelement.WebElement (session=\"5ee42651c4c411c7657c91964be75552\", element=\"0ce1bae0-155a-41f1-95b4-48ccadce2500\")>,\n",
       " <selenium.webdriver.remote.webelement.WebElement (session=\"5ee42651c4c411c7657c91964be75552\", element=\"a44497ee-66be-4cce-aa97-0175d1aa23bc\")>,\n",
       " <selenium.webdriver.remote.webelement.WebElement (session=\"5ee42651c4c411c7657c91964be75552\", element=\"b6bf5dd2-ebc1-4f7f-947d-a2571e05142c\")>,\n",
       " <selenium.webdriver.remote.webelement.WebElement (session=\"5ee42651c4c411c7657c91964be75552\", element=\"3a46fd12-630d-4c7d-b9c8-2a8237e627d3\")>,\n",
       " <selenium.webdriver.remote.webelement.WebElement (session=\"5ee42651c4c411c7657c91964be75552\", element=\"fcab9a8a-c9b2-44ed-ac17-4f32af14e651\")>,\n",
       " <selenium.webdriver.remote.webelement.WebElement (session=\"5ee42651c4c411c7657c91964be75552\", element=\"57d8c9d4-6fba-41c8-bf93-a7fc789127eb\")>,\n",
       " <selenium.webdriver.remote.webelement.WebElement (session=\"5ee42651c4c411c7657c91964be75552\", element=\"b5afa42e-8462-40ef-adfc-ee063846cd01\")>,\n",
       " <selenium.webdriver.remote.webelement.WebElement (session=\"5ee42651c4c411c7657c91964be75552\", element=\"55f5de25-971b-4747-b20a-67b66dc76b6f\")>,\n",
       " <selenium.webdriver.remote.webelement.WebElement (session=\"5ee42651c4c411c7657c91964be75552\", element=\"cff4b29e-edea-49c1-920b-97004d063e14\")>,\n",
       " <selenium.webdriver.remote.webelement.WebElement (session=\"5ee42651c4c411c7657c91964be75552\", element=\"77cc7e29-1c78-417f-a455-9f83512cb3e5\")>,\n",
       " <selenium.webdriver.remote.webelement.WebElement (session=\"5ee42651c4c411c7657c91964be75552\", element=\"5cdab945-429e-4611-bc4c-59e1ea9c0ab7\")>]"
      ]
     },
     "execution_count": 20,
     "metadata": {},
     "output_type": "execute_result"
    }
   ],
   "source": [
    "cmp_tag = driver.find_elements_by_xpath('//a[@class=\"subTitle ellipsis fleft\"]')\n",
    "\n",
    "cmp_tag"
   ]
  },
  {
   "cell_type": "code",
   "execution_count": 22,
   "id": "e0499cdb",
   "metadata": {},
   "outputs": [
    {
     "data": {
      "text/plain": [
       "['Flipkart Internet Private Limited',\n",
       " 'Antier Solutions',\n",
       " 'Inflexion Analytix Private Limited',\n",
       " 'Excel PTP Solutions',\n",
       " 'Inflexion Analytix Private Limited',\n",
       " 'ADF Data Science Private Limited',\n",
       " 'Shell India Markets Private Limited',\n",
       " 'Flipkart Internet Private Limited',\n",
       " 'Invesco (India) Pvt Ltd',\n",
       " 'Ignitarium Technology Solutions Private Limited',\n",
       " 'Shikvix LLC',\n",
       " 'Neustar MarketShare',\n",
       " 'Target Corporation India Pvt Ltd',\n",
       " 'Genpact',\n",
       " 'Cipla Ltd',\n",
       " 'Squareroot Consulting Pvt Ltd.',\n",
       " 'PFIZER LIMITED',\n",
       " 'bd',\n",
       " 'R Systems International Ltd.',\n",
       " 'Atonarp']"
      ]
     },
     "execution_count": 22,
     "metadata": {},
     "output_type": "execute_result"
    }
   ],
   "source": [
    "cmp_name = []\n",
    "for c in cmp_tag:\n",
    "    cmp_name.append(c.text)\n",
    "    \n",
    "cmp_name"
   ]
  },
  {
   "cell_type": "code",
   "execution_count": 23,
   "id": "ee45309b",
   "metadata": {},
   "outputs": [
    {
     "data": {
      "text/plain": [
       "['Flipkart Internet Private Limited',\n",
       " 'Antier Solutions',\n",
       " 'Inflexion Analytix Private Limited',\n",
       " 'Excel PTP Solutions',\n",
       " 'Inflexion Analytix Private Limited',\n",
       " 'ADF Data Science Private Limited',\n",
       " 'Shell India Markets Private Limited',\n",
       " 'Flipkart Internet Private Limited',\n",
       " 'Invesco (India) Pvt Ltd',\n",
       " 'Ignitarium Technology Solutions Private Limited']"
      ]
     },
     "execution_count": 23,
     "metadata": {},
     "output_type": "execute_result"
    }
   ],
   "source": [
    "# scraping 10 companies name.\n",
    "\n",
    "company = cmp_name[:10]\n",
    "\n",
    "company"
   ]
  },
  {
   "cell_type": "code",
   "execution_count": 24,
   "id": "a708972d",
   "metadata": {},
   "outputs": [
    {
     "data": {
      "text/plain": [
       "['https://www.naukri.com/job-listings-data-scientist-flipkart-internet-private-limited-bangalore-bengaluru-0-to-5-years-080721904425?src=jobsearchDesk&sid=16262671509446862_1&xp=1&px=1',\n",
       " 'https://www.naukri.com/job-listings-data-scientist-quantitative-analyst-antier-solutions-chandigarh-3-to-5-years-120721901363?src=jobsearchDesk&sid=16262671509446862_1&xp=2&px=1',\n",
       " 'https://www.naukri.com/job-listings-data-scientist-data-analyst-business-analyst-inflexion-analytix-private-limited-hyderabad-secunderabad-chennai-bangalore-bengaluru-0-to-3-years-020721003625?src=jobsearchDesk&sid=16262671509446862_1&xp=3&px=1',\n",
       " 'https://www.naukri.com/job-listings-fresher-data-scientist-data-analyst-power-bi-big-data-engineer-excel-ptp-solutions-ahmedabad-0-to-2-years-140721004352?src=jobsearchDesk&sid=16262671509446862_1&xp=4&px=1',\n",
       " 'https://www.naukri.com/job-listings-data-scientist-data-analyst-business-analyst-inflexion-analytix-private-limited-pune-delhi-ncr-mumbai-all-areas-0-to-3-years-040721000317?src=jobsearchDesk&sid=16262671509446862_1&xp=5&px=1',\n",
       " 'https://www.naukri.com/job-listings-junior-data-scientist-data-analyst-remote-adf-data-science-private-limited-chennai-0-to-3-years-300621000839?src=jobsearchDesk&sid=16262671509446862_1&xp=6&px=1',\n",
       " 'https://www.naukri.com/job-listings-associate-data-scientist-retail-shell-india-markets-private-limited-chennai-3-to-5-years-130721907128?src=jobsearchDesk&sid=16262671509446862_1&xp=7&px=1',\n",
       " 'https://www.naukri.com/job-listings-senior-data-scientist-flipkart-internet-private-limited-bangalore-bengaluru-5-to-10-years-090721908235?src=jobsearchDesk&sid=16262671509446862_1&xp=8&px=1',\n",
       " 'https://www.naukri.com/job-listings-sr-data-scientist-i-sip-invesco-india-pvt-ltd-hyderabad-secunderabad-5-to-7-years-120721900869?src=jobsearchDesk&sid=16262671509446862_1&xp=9&px=1',\n",
       " 'https://www.naukri.com/job-listings-ignitarium-is-hiring-for-senior-data-scientist-bangalore-kochi-ignitarium-technology-solutions-private-limited-kochi-cochin-ernakulam-bangalore-bengaluru-2-to-6-years-140721005105?src=jobsearchDesk&sid=16262671509446862_1&xp=10&px=1',\n",
       " 'https://www.naukri.com/job-listings-senior-data-scientist-for-advisory-teaching-projects-role-remote-shikvix-llc-hyderabad-secunderabad-chennai-bangalore-bengaluru-3-to-8-years-130721002852?src=jobsearchDesk&sid=16262671509446862_1&xp=11&px=1',\n",
       " 'https://www.naukri.com/job-listings-sr-data-scientist-neustar-marketshare-bangalore-bengaluru-2-to-5-years-130721500641?src=jobsearchDesk&sid=16262671509446862_1&xp=12&px=1',\n",
       " 'https://www.naukri.com/job-listings-sr-data-scientist-target-corporation-india-pvt-ltd-bangalore-bengaluru-5-to-8-years-130721500976?src=jobsearchDesk&sid=16262671509446862_1&xp=13&px=1',\n",
       " 'https://www.naukri.com/job-listings-excellent-opportunity-for-data-scientist-hyderabad-genpact-hyderabad-secunderabad-uppal-4-to-8-years-130721009109?src=jobsearchDesk&sid=16262671509446862_1&xp=14&px=1',\n",
       " 'https://www.naukri.com/job-listings-site-lead-data-scientist-cipla-ltd-mumbai-indore-1-to-6-years-130721906737?src=jobsearchDesk&sid=16262671509446862_1&xp=15&px=1',\n",
       " 'https://www.naukri.com/job-listings-senior-lead-data-scientist-machine-learning-deep-learning-squareroot-consulting-pvt-ltd-bangalore-bengaluru-1-to-6-years-010320600083?src=jobsearchDesk&sid=16262671509446862_1&xp=16&px=1',\n",
       " 'https://www.naukri.com/job-listings-data-scientists-and-engineers-pfizer-limited-chennai-4-to-8-years-080721500385?src=jobsearchDesk&sid=16262671509446862_1&xp=17&px=1',\n",
       " 'https://www.naukri.com/job-listings-lead-data-scientist-bd-bangalore-bengaluru-2-to-7-years-090721501722?src=jobsearchDesk&sid=16262671509446862_1&xp=18&px=1',\n",
       " 'https://www.naukri.com/job-listings-data-scientist-r-systems-international-ltd-noida-new-delhi-2-to-6-years-130721005829?src=jobsearchDesk&sid=16262671509446862_1&xp=19&px=1',\n",
       " 'https://www.naukri.com/job-listings-associate-data-scientist-atonarp-bangalore-bengaluru-1-to-4-years-120721501671?src=jobsearchDesk&sid=16262671509446862_1&xp=20&px=1']"
      ]
     },
     "execution_count": 24,
     "metadata": {},
     "output_type": "execute_result"
    }
   ],
   "source": [
    "# Now we'll extract the JDs (Job Descriptions). For this we'll extract the web elements.\n",
    "\n",
    "jd_urls = []\n",
    "\n",
    "urls = driver.find_elements_by_xpath('//a[@class=\"title fw500 ellipsis\"]')\n",
    "\n",
    "for u in urls:\n",
    "    jd_urls.append(u.get_attribute('href'))\n",
    "    \n",
    "jd_urls"
   ]
  },
  {
   "cell_type": "code",
   "execution_count": 25,
   "id": "3e641908",
   "metadata": {},
   "outputs": [
    {
     "data": {
      "text/plain": [
       "['Job descriptionAbout the teamThe Data Sciences team at Flipkart is on a mission to build systemic intelligence across Flipkart products and the overarching ecosystem. Being India’s largest online marketplace and the most used e-commerce app in India, places Flipkart in a unique position and gives this team a distinctive opportunity — to decipher the richest possible data about Indian consumers. Add the dimension of a vast product selection and a proliferating seller base to that and what you get is a multitude of disruptive possibilities.In a nutshell, the terabytes of daily data compounded in Flipkart’s data centres offer a dynamic mix of numerical, structured, unstructured, image- and audio-based statistics, all set to define shopping in the future.At Flipkart, the work of a Data Scientist involves collaboration with the engineering and product teams to ensure a holistic outcome at the product delivery. The flat functional structure within Flipkart engineering enables data scientists to focus on excellence and create a deep sense of ownership at every stage of work.If you aspire to redefine ‘state-of-the-art’ and create an impact on India’s online shopping landscape, Flipkart’s Data Science team can offer you the right podium to solve challenging real-world problems and take a giant leap in your career as a Data Scientist.About the roleA Data Scientist in Flipkart is required to develop and implement ML or statistical models for the various projects formulated from business and product views. The responsible person should be able to communicate and collaborate with multiple stakeholders representing various teams to better understand the problem at hand. At a fundamental level, the responsible person should be able to dive deep into a problem statement and extract interesting insights as well as solutions. In addition to being a quick learner, a DS is expected to get involved in active research projects with a view to publish them.What you’ll doUnderstand Business and product needs and use ML or statistical techniques to provide solutions to those in a time bound fashion.Communicate and collaborate with business and product teams to have a better understanding of the project so as to be able to drive it within the DS team.Get involved in in-depth exploration of solutions using various methods and extract statistical insights from data as well as models, which are to be shared with business and product teams.Active participation in working with new methods and learning new technologies, both in the area of data science and data engineering.What you’ll need:B.Tech or M.Tech in CS or Statistics with experience ranging from 0 to 5 years through publications/deployed solutions/projects.Deep understanding of the algorithms (theory and application) that they have worked on.Good grasp on the theory and practise of basic statistical models such as regression or clustering and general ML algorithms such as tree, Random Forests, SVM, Boosting, Neural Networks etc. It is not expected that the candidate has actually worked on all these modules.Strong proficiency in Python or R is necessary.Skills Required :Understanding of text representation techniquesDesirable Skills :Familiarity with Big Data frameworks – Spark, HadoopRoleData AnalystIndustry TypeInternetFunctional AreaAnalytics & Business IntelligenceEmployment TypeFull Time, PermanentRole CategoryAnalytics & BIEducationUG :B.Tech/B.E. in ComputersPG :M.Tech in ComputersKey SkillsPython SVMData ScientistRandom Forests Neural Networks Big Data frameworks Spark BoostingML algorithms Hadoop',\n",
       " \"Job descriptionIdeal candidate should possess strong analytical, technical, and/or statistical skills with proven ability to process large datasets and create new data models.This is an exciting opportunity to join the explosively growing Blockchain fraternity and work constructively with our in-house industry experts.We expect you to have hands on working experience with -- Machine Learning techniques and algorithms, such as k-NN, Naive Bayes, SVM, Decision Forests, etc.- Python data science toolkit with Scikit-Learn and Keras/Pytorch- Prowess with both SQL and NoSQL Databases- Good, applied statistics skills, such as distributions, statistical testing, regression, etc.- Excellent scripting and programming skills- Fundamental principles of the CCAR or CCEL or Basel II Accord or IFRS- Docker and other PaaS (Platform-as-a-Service) products- MUST Specialize in Natural Language ProcessingKey Roles & Responsibilities- Develop predictive models, statistical analyses, optimization procedures, monitoring processes, data quality analyses, and score implementations supporting impairment and collections.- Produce robust documentation to ensure replicability of results and fulfill Antier's governance requirements.- Superlative communication skills to represent us before stakeholders- Leadership skills to build, expand and drive a new processAcademic & other Qualifications- Postgraduate university degree in the quantitative discipline required (ex. Statistics, Operations Research, Economics, Computer Science). Graduate studies.- An ability to produce reports and interrogate systems to produce analysis and resolve discrepancies/queries.- Proficiency with analytical software Python or SAS or R, SQL tools.- Prior experience in banking products such as Mutual Funds will add value.RoleData AnalystIndustry TypeIT Services & ConsultingFunctional AreaAnalytics & Business IntelligenceEmployment TypeFull Time, PermanentRole CategoryAnalytics & BIEducationUG :Any GraduatePG :MS/M.Sc(Science) in Statistics, Computers, M.Tech in Computers, MCA in Computers, M.A in Economics, StatisticsDoctorate :Doctorate Not RequiredKey SkillsData SciencePredictive ModelingPytorchSASData ScientistData ManagementKerasData AnalyticsAnalyticsPythonSQL\",\n",
       " \"Job descriptionJob descriptionJob Role: Data Scientist/Data Analyst /Business AnalystLocation: Chennai/Bangalore/HyderabadGreetings from CAIA - Center for Artificial Intelligence & Advanced Analytics43% of companies experienced a high deficit of skilled resources with Advanced Analytical skills and AI implementing capabilities in the year 2020. CAIA gives you a great opportunity to enter the world of future technologies and Innovations- Data Science, Analytics, AI, Data Visualization, and Cloud Computing.While 2020 was a year like no other, we are living in an interesting times where data is reshaping the world, and businesses are rapidly adopting technology to gain an edge over others. Hence, there's a substantial increase in demand for technology professionals who can implement systems in data science, machine learning, and AI in Tier 1 and Tier 2 organizations working closely with us.To help you build a sustainable career we would like you to utilize data, software and Analytical approaches in Data Science and AI to upskill and get recruited into an organization appreciating your skilling journey.Applications invited from all Freshers and experienced candidates (0-3 yrs) aspiring to make a career in Artificial Intelligence and Advanced Analytics and Data Science.If you wish to make a shift in your career or undergo a career transition, upskilling is essential since it allows you to learn more about the domain and acquire the required skills.Call to schedule interview Monday -Saturday from 10:00 am to 7 PmKoodesh B- +91 73395 11107Manigandan B - +91 93444 57360Email :careerguidance.koodes@centerforaia.commanigandan@centerforaia.comWhat is needed from you?Freshers who wish to start their career in Analytics and AI and professionals who wish toupskill or change their domain to analytics and emerging technologies are free to apply.Educational background in any one of the following- BE/B.Tech, ME/M Tech, MSc, BSc/MSc Math's and Statistics, B Com, BCA, BSc CS, BSC IT, MSC IT, MCASkills relating to Mathematics/Statistics.Natural passion towards numbers, business, coding, Analytics, and Artificial Intelligence, Machine Learning, visualizationGood verbal and written communication skillsAbility to understand domains in businesses across various sectorsSelection procedure includesAptitude Test & Communication Exam - Online / OfflineSQL/Python test - Online / OfflineCandidates who clear the above will have one-one discussions with our Career Guidance Manager for further evaluation and processing of your Resume.All the Shortlisted candidates will be eligible to continue the corporate training with CAIAWhat you can expect from us?You will get trained on the following modules for a period of 12-14 weeks:SQL & PLSQLData Wrangling using PythonData Visualization Using Power-BIStatistics for Machine LearningArtificial Intelligence, Data InterpretationSupervised & Unsupervised Learning,NLP & Deep LearningCloud Data LakeBusiness intelligence & Data VisualizationSimulation ProjectsExpected Outcome?At the end of the Training you are expected to be well versed with the following:Analysis of large and complex data sets from multiple sourcesDevelopment and evaluation of data analytics models, algorithms, and solutionsUnderstanding/implementation of ML algorithms, performance tuning, and reportingImplementation of algorithms to mine targeted data and the ability to convert data into a business storyTranslation of business requirements into technical requirements; Data extraction, preparation, and transformationIdentification, development, and implementation of statistical techniques and algorithms that address business challenges and adds value to the organizationRequirement Analysis and communication of findings in the form of a meaningful story with the stakeholdersFinding analytical solutions to abstract business issues.Apply objective analysis of facts before coming to a conclusionRoleData AnalystIndustry TypeIT Services & ConsultingFunctional AreaAnalytics & Business IntelligenceEmployment TypeFull Time, PermanentRole CategoryAnalytics & BIEducationUG :B.B.A/ B.M.S in Any Specialization, B.Sc in Any Specialization, BCA in Any Specialization, B.Tech/B.E. in Any Specialization, Any Graduate, B.Com in Any SpecializationKey SkillsBusiness IntelligencePower BiData WranglingArtificial IntelligenceBig DataITMachine LearningStatisticsAnalyticsDeep LearningBusiness AnalysisSQLData ScienceNLPCloud ComputingData AnalysisData VisualizationData WarehousingData AnalyticsETLPython\",\n",
       " 'Job descriptionMS Office skills: Excel (Advanced, pivot tables, and macro), Word & PowerPointWork independentlyAnalytical problem-solvingSelf-starterUnderstand customer needs and drive impact-full businessFresher any graduate can apply - Limited vacanciesRequired Candidate profile1.Good Communication2.Good Logical and Analytical skillset needed.3.Good in problem-solving.Freshers who wish to start their career in Analytics and AI and professionals can join our team today.RoleData AnalystIndustry TypeIT Services & ConsultingFunctional AreaAnalytics & Business IntelligenceEmployment TypeFull Time, PermanentRole CategoryAnalytics & BIEducationUG :Any GraduatePG :Any PostgraduateKey SkillsBusiness IntelligencepythonPower BiData WranglingArtificial IntelligenceNLPCloud ComputingBig DataSQLData ScienceITMachine LearningStatisticsAnalyticsDeep LearningBusiness AnalysisSQLExcelData AnalysisData VisualizationData WarehousingData Analytics',\n",
       " 'Job descriptionLocation: Pune /Mumbai/Delhi/Noida/KolkattaGreetings from CAIA - Center for Artificial Intelligence & Advanced AnalyticsThe Artificial Intelligence (AI) market is expected to grow at over `36% to be a $190 Bn markets in 2025. Numerous engines are expected to fuel its growth increase in the amount of big data, increased adoption of cloud-based applications and services, increase in demand for virtual assistants, the emergence of new use cases and IoT devicesFrom computer vision systems and predictive analytics improving manufacturing operations to self-learning algorithms that help us make better decisions, the AI/ML algorithms will continue to evolve and provide a host of attractive, high-growth opportunities. Today there is an extremely high demand for AI solutions and service providers across all domains in the industry that can benefit from this unprecedented growth over the next 5 years.CAIA gives you a great opportunity to enter the world of future technologies and Innovations- Data Science, Analytics, AI, Data Visualization, and Cloud Computing.To help you build a sustainable career we would like you to utilize data, software and Analytical approaches in Data Science and AI to upskill and get recruited into an organization appreciating your skilling journey.Applications invited from all Freshers and experienced candidates (0-3 yrs) aspiring to make a career in Artificial Intelligence and Advanced Analytics and Data Science.If you wish to make a shift in your career or undergo a career transition, upskilling is essential since it allows you to learn more about the domain and acquire the required skills. We have exciting opportunities for you to explore!Call to schedule interview Monday -Saturday from 10:00 am to 7 PmAishwaria N- +91 91507 91234Sriya - +91 70281 94563Email :sriyak@centerforaia.comaishwarian@centerforaia.comWhat is needed from you?Freshers who wish to start their career in Analytics and AI and professionals who wish to upskill or change their domain to analytics and emerging technologies are free to apply.Educational background in any one of the following- BE/B.Tech, ME/M Tech, MSc, BSc/MSc Maths and Statistics, B Com, BCA, BSc CS, BSC IT, MSC IT, MCANatural passion towards numbers, business, coding, Analytics, and Artificial Intelligence, Machine Learning, visualizationGood verbal and written communication skillsAbility to understand domains in businesses across various sectorsSelection procedure includesAptitude Test & Communication Exam - Online / OfflineOnline Profile DiscussionCandidates who clear the above will have one-one discussions with our Career Guidance Manager for further evaluation and processing of your Resume.All the Shortlisted candidates will be eligible to continue the corporate training with CAIAWhat you can expect from us?You will get trained on the following modules for a period of 12-14 weeks:SQL & PLSQLData Wrangling using PythonData Visualisation Using Power-BIStatistics for Machine LearningArtificial Intelligence, Data InterpretationSupervised & Unsupervised Learning,NLP & Deep LearningCloud Data LakeBusiness intelligence & Data VisualizationSimulation ProjectsExpected Outcome?At the end of the Training you are expected to be well versed with the following:Analysis of large and complex data sets from multiple sourcesDevelopment and evaluation of data analytics models, algorithms, and solutionsUnderstanding/implementation of ML algorithms, performance tuning, and reportingImplementation of algorithms to mine targeted data and the ability to convert data into a business storyTranslation of business requirements into technical requirements; Data extraction, preparation, and transformationIdentification, development, and implementation of statistical techniques and algorithms that address business challenges and adds value to the organizationRequirement Analysis and communication of findings in the form of a meaningful story with the stakeholdersFinding analytical solutions to abstract business issues.Apply objective analysis of facts before coming to a conclusionRoleData AnalystIndustry TypeIT Services & ConsultingFunctional AreaAnalytics & Business IntelligenceEmployment TypeFull Time, PermanentRole CategoryAnalytics & BIEducationUG :B.Sc in Any Specialization, B.Com in Any Specialization, BCA in Any Specialization, Diploma in Any Specialization, B.A in Any Specialization, B.Tech/B.E. in Any SpecializationPG :Any Postgraduate, MBA/PGDM in Any Specialization, M.Tech in Any Specialization, MCA in Any Specialization, M.Com in Any Specialization, MS/M.Sc(Science) in Any SpecializationKey SkillsBusiness IntelligenceData WranglingBusiness AnalyticsArtificial IntelligenceData ExtractionMachine LearningDeep LearningAnalyticsSQLData ScienceNLPCloud ComputingData VisualizationSoftwareData WarehousingData AnalyticsPythonPredictive Analytics',\n",
       " 'Job descriptionWe have immediate, multiple (Junior or) Data Scientist/Data Analyst openings for various analytics product teams in ADF. (All positions will continue to work remotely.)Requirements (Any one of below):1. 1 to 3 years of experience in data science, with good analytics skills in risk, marketing or operational analytics, backed by good academic record.2. Freshers, with (B. Tech or related degrees) with good enthusiasm for data science, demonstrated by participating in Kaggle competitions and good projects, with skill sets in Python, and data science packages, such as pandas, scikit-learn, etc., and SQL. 2021 BE/BTech/CS (or related discipline) graduates can also apply.3. 1 to 2 years of software development experience, with strong programming skills in any OOPS languages (Java/Python).Selection will be based on an online test and interviews. Online test will cover various topics, including sql, programming, and data science including knowledge of python data science packages.Based on overall performance, candidates will be called for interviews. Selected candidates will be required to join at the shortest possible time,Roles and Responsibilities:Selected candidates will join various analytics product teams, working in development and implementation of predictive models and recommend actionable insights; they will use advanced machine learning techniques, among others, as per business requirements.People, with no prior experience in the field and/or domain will spend their initial months in understanding data, do basic analysis and validation, reports, to get deeper understanding of the underlying business, before diving deep into analytic techniques.Please send your CVs to careersindia@applieddatafinance.com, with subject line: Requirement 1, 2 or 3.RoleSoftware DeveloperIndustry TypeSoftware ProductFunctional AreaIT Software - Application Programming, MaintenanceEmployment TypeFull Time, PermanentRole CategoryProgramming & DesignEducationUG :Any GraduateKey SkillsPythonSQLData ScienceJavaCVSSoftware DevelopmentData AnalysisMachine LearningScikit-LearnAnalyticsSkills highlighted with ‘‘ are preferred keyskills',\n",
       " 'Job descriptionThe RoleGeneral Position DefinitionIncumbent is responsible for developing analytical models for projects collaborating with different business stakeholders & other partners and working across a range of technologies and tools.The ideal candidate has strong background in quantitative skills (like statistics, mathematics, advanced computing, machine learning) and has applied those skills in solving real world problems across different businesses / functions.PurposeDevelops analytics models using specialized tools based on the business problem and data availableIdentifies the right set of models and develops the right code / package to execute themEvaluates the validity of the model (both scientifically as well as from a business perspective)Support the Data Science Team Lead in design and execution of analytics projectsWork with Shell stakeholders and subject matter experts to complete tasks and deliverables on projectsSkillsStakeholder Engagement SkillsWorking collaboratively across multiple sets of stakeholders - business SMEs, IT, Data teams, Analytics resources, etc. to deliver on project deliverables and tasksIdentify actionable insights that directly address challenges / opportunitiesArticulate business insights and recommendations (based on model output) to respective stakeholdersUnderstanding business KPIs, frameworks and drivers for performanceProficiency Level: SkillEducation Requirement/ Field of Study :3+ years of relevant experience in Retail domainAdvanced university degree in Mathematics, Statistics, Engineering, Economics, Quantitative Finance, OR, etc.Good interpersonal communication skills and influencing skillsEagerness to learn and ability to work with limited supervisionRequirements :Industry / Functional ExpertiseProvide deep business expertise preferably Oil & Gas - Upstream or Downstream businesses. (If these are not available, willing to consider other industries that are similar or related - manufacturing, mining, power generation, etc.)orfunctional expertise in any one or more of the following industry / functional areasCustomer / Marketing - pricing analytics, churn prediction, cross-sell / up-sell, Market Basket Analysis, Product Recommendation, Marketing Mix Modeling, Campaign design and effectiveness testing, Network Modeling, Customer segmentation, propensity analysis, customer lifetime value, profitability analysis, Customer experience (incl. voice of customer), CRM, Loyalty program management,Supply Chain / Spend: Demand & Supply Forecasting, Spend Analytics, Vendor Scoring, Pricing analysis (buy-side), product substitution analysis, product portfolio optimization, Tail spend analysis, logistics / network / route optimization, Contract ComplianceProficiency Level:MasteryModeling and Technology SkillsGood expertise in machine learning techniques (supervised and unsupervised) statistics / mathematics / operations research including (but not limited to): Advanced Machine learning techniques: Decision Trees, Neural Networks, Deep Learning, Support Vector Machines, Clustering, Bayesian Networks, Reinforcement Learning, Feature Reduction / engineering, Anomaly deduction, Natural Language Processing (incl. Theme deduction, sentiment analysis, Topic Modeling), Natural Language Generationand/orStatistics / Mathematics: Data Quality Analysis, Data identification, Hypothesis testing, Univariate / Multivariate Analysis, Cluster Analysis, Classification/PCA, Factor Analysis, Linear Modeling, Logit/Probit Model, Affinity & Association, Time Series, DoE, distribution / probability theoryand/orOperations Research: Sensitivity Analysis – Shadow price, Allowable decrease or increase, Transportation problem & variants, Allocation Problem & variants, Selection problem, Multi-criteria decision-making, models, DEA, Employee Scheduling, Knapsack problem, Supply Chain Problem & variants, Location Selection, Network designing – VRP, TSP, Heuristics ModelingStrong experience in specialized analytics tools and technologies (including, but not limited to)Python, Azure Analysis ServicesSpotfire, PowerBIAwareness of Data Bricks, Apache Spark, HadoopAwareness of Agile / Scrum ways of workingIdentify the right modeling approach(es) for given scenario and articulate why the approach fitsAssess data availability and modeling feasibilityReview interpretation of models resultsEvaluate model fit and based on business / function scenarioProficiency Level:Skill-to-MasterySpecial ChallengesRapid onboarding on projects, understanding analytics goal and working with ill-defined datasetsCommunicating technical jargon in plain English to colleagues within Data Science team and outsideVirtual working with network of colleagues located throughout the globe.RoleData AnalystIndustry TypePetrochemical / Plastics / RubberFunctional AreaAnalytics & Business IntelligenceEmployment TypeFull Time, PermanentRole CategoryAnalytics & BIEducationUG :Any GraduatePG :M.A in Maths, Economics, Statistics, MS/M.Sc(Science) in Maths, Statistics, M.Tech in Any SpecializationKey SkillsData ScienceMultivariate AnalysisFactor AnalysisNatural Language ProcessingReinforcement LearningMarket Basket AnalysisDecision TreesMachine Learning',\n",
       " 'Job descriptionAbout the roleA Senior Data Scientist in Flipkart is required to drive research and development of various Machine Learning and Statistical modules, keeping business goals and product planning at the front. The responsible person should be able to communicate and collaborate with multiple stakeholders representing various teams. The crux of the work is defined by developing innovative problem statements as well as end to end implementation of state of the art ML and statistical algorithms. The candidate is additionally expected to work proactively with a team of junior Data Scientists and guide them in various research projects with a view to publish their findings.What you’ll doUnderstand Business and product needs and use advanced modeling techniques to provide solutions to those in a time bound fashion.Develop research and hypothesis on problem statements around on-going work to provide additional value to the organisation.Keep the team updated on current trends in the area of ML and Statistics, thereby ensuring that state of the art solutions are provided for the business problems.Regular collaboration with various stakeholders from business or product to better understand the vision and gain insights which is to be leveraged for providing better solutions.What you’ll need:B.Tech in CS or Statistics with demonstrable experience of over 8 years through publications/deployed solutions/projects.M.Tech or PhD in CS or Statistics with demonstrable experience of over 5 years through publications/deployed solutions/projects.A deep understanding of applied statistical analysis and predictive modeling is desired.The candidate must have a thorough grasp of the theory and application of broad ML algorithms namely, but not limited to regression, SVM, Tree, Random Forests, Boosting, Neural Network, clustering, forecasting, deep learning, text analysis etc. It is not expected that the candidate has actually worked on all these modules.Strong proficiency in Python or R is necessaryRoleData AnalystIndustry TypeInternetFunctional AreaAnalytics & Business IntelligenceEmployment TypeFull Time, PermanentRole CategoryAnalytics & BIEducationUG :B.Tech/B.E. in Computers, B.A in Statistics, B.Sc in StatisticsPG :M.Tech in Computers, M.A in Statistics, MS/M.Sc(Science) in StatisticsDoctorate :Ph.D/Doctorate in Statistics, ComputersKey SkillsData ScienceRSVMClusteringMachine LearningStatistical AnalysisStatisticsDeep LearningPython',\n",
       " 'Job descriptionSenior Data ScientistPlease find the JD below:Data Engineering experience using Python.Experience in NumPy, Scikit-learn, Scipy, Pandas etc.Hand on experience in classification, regression, clustering, machine learning algorithms.Working experience with any of the object-oriented/object function scripting languages: Python, Java, Scala, Shell, .NET scripting.Experience in any of the cloud platforms like AWS, Azure, GCPLet me know your interest. Please mail your profile to arathy.rajkumar@ignitarium.comRoleSoftware DeveloperIndustry TypeIT Services & ConsultingFunctional AreaIT Software - Application Programming, MaintenanceEmployment TypeFull Time, PermanentRole CategoryProgramming & DesignEducationUG :Any GraduatePG :Any PostgraduateDoctorate :Any DoctorateKey SkillsAlgorithmsRegressionPythonData ScienceJavaScipyData EngineeringSCALAClassificationMachine LearningScikit-LearnNumpySkills highlighted with ‘‘ are preferred keyskills',\n",
       " \"Job descriptionSeeking senior data scientists for part-time roles that involve advising or teaching or working on various projects.The candidate must have experience in Python coding language and machine learning. The candidate will be working on a part-time basis and hours will be flexible based on the candidate's availability.Opportunity to grow in a startup setting.What you'll need:B.Tech in CS or Statistics with demonstrable experience of over 5 years through publications/deployed solutions/projects.M.Tech or Ph.D. in CS or Statistics with demonstrable experience of over 3 years through publications/deployed solutions/projects.A deep understanding of applied statistical analysis and predictive modeling is desired.The candidate must have a thorough grasp of the theory and application of broad ML algorithms namely, but not limited to regression, SVM, Tree, Random Forests, Boosting, Neural Network, clustering, forecasting, deep learning, text analysis, etc.It is not expected that the candidate has actually worked on all these modules.Strong proficiency in Python or R is necessaryPlease Note:One of our primary contact methods is the WhatsApp messenger service. Please make sure your primary contact on the Naukri profile is also your WhatsApp contact information. If you are unable to make that change please email us your resume and WhatsApp contact information at hiring@shikvix.com. Thank you!RoleData AnalystIndustry TypeInternetFunctional AreaAnalytics & Business IntelligenceEmployment TypePart Time, Freelance/HomebasedRole CategoryAnalytics & BIEducationUG :Graduation Not RequiredKey SkillsData ScienceRSVMClusteringMachine LearningStatistical AnalysisStatisticsDeep LearningPython\",\n",
       " 'Job descriptionResponsibilities:Algorithm Development: Develop a deep understanding of all the data relevant to the problem to be addressed. Establish deterministic and probabilistic linkages between data sources and develop ways to extract and summarize the sought information in the data using a wide variety of statistical, data mining and machine learning techniques.Prototyping: Create prototypes of models and algorithms to perform the analysis at scale, provide documentation and help educate your colleagues in different function about the solution.Support Implementation: Closely work with product, engineering and client teams to incorporate Data Science capabilities into Neustar s products and services.Experience and Qualifications:Sr. Data Scientist A PhD in an analytical field such as computer science, machine learning, data science, statistics, physics and/or engineering, or a Master s degree in a related field with minimum 3 to 5 years of experience.Experience in Privacy, Ad fraud, Risk is good to have/will be preferred.Minimum 5 years of experience with Python, Scala and SQL, and one or more enterprise level programming languages such as Java or Scala.Minimum 2 years of hands-on experience with Linux-based cloud systems such as AWS and GCP.Minimum 2 years of experience with wrangling large (terabytes) event level datasets.Academic or industrial experience in privacy-preserving analytics on large datasets preferred.Some experience writing code for highly distributed systems such as Apache Spark,SCALA and Hive.Several years of experience engineering features for machine learning models from raw data.Background in applying optimization theory to real-world problems.Ability to modify cost functions in machine learning algorithms based on business problems.Some experience with JAX, TensorFlow or PyTorch .Excellent oral and communication skills.Ability and experience working in a cross-functional environment.RoleClinical Research Associate/ScientistIndustry TypeIT Services & ConsultingFunctional AreaMedical, Healthcare, R&D, Pharmaceuticals, BiotechnologyEmployment TypeFull Time, PermanentRole CategoryR&DEducationUG :Any GraduatePG :Post Graduation Not RequiredKey SkillsComputer scienceProduct engineeringLinuxdata scienceAnalyticalMachine learningAlgorithm developmentData miningAnalyticsSQL',\n",
       " 'Job descriptionA role with the Target Data Science and Analytics team means building scalable data science products in support of the ever-changing supply chain landscape. This will mean being more intelligent, automated and algorithmic in ourdecision-making. Evaluating product flow from vendor to distribution center and to the stores across the first mile, middle mile and last mile, with focus on inventory modeling and replenishment, to improve operating efficiencies both within 4 walls of distribution center and across the network.So, we are looking for exceptional people who are proactive, creative, independent, innovative and comfortable working in varying degrees of ambiguity. Are you a creative problem-solver who seeks root cause, simplifies problems, quicklyidentifies solutions, commits to a plan and then positively influences others to execute itIf so, you will have success onthis dynamic team.Primary responsibilitiesDevelop a strong understanding of Target supply chain and logistics data and work on analytical projects supportingfirst, middle and last mile delivery. The role involves working closely with clients and internal teams to deliver highquality, end-to-end analytical solutions that create strong business impact.Work hands on and actively partner across the team defining business problem, data discovery to insights/predictionsUnderstand the business problem, identify the key challenges, formalize the problem algorithmically, and prototypesolutionsAnticipate and Evaluate impact of analytical solutions on related projects as part of the developing complex analytical algorithm/solutions for various business problemsWork with data engineers on data quality assessment, data cleansing and data analytics.Perform exploratory and targeted data analyses using descriptive statistics and other methodsAbility to develop and deploy scalable and reproducible analytical models for answering variety of business problemsBuild self-service tools for error detection, diagnosis and predictive metrics.Work on developing optimization / statistical / Discrete event simulation models to answer problems for replenishment,inventory positioning/planning, product flow etcAbility to test and analyze the prototype results on Target data, actively engage with business partners to identifyimprovement areas and implement enhancements based on statistical analysis and business logicGenerate analyses, annotated code, and other project artefacts to document, archive, and communicate work andoutcomes.QualificationsMaster s degree in Quantitative disciplines (Science, Technology, Engineering, Mathematics) or equivalent experiencefrom a reputed tier 1 education institutes like IITs, ISI, IISc etc.5-8 years of relevant experienceGood Knowledge and experience developing optimization, simulation and statistical models,Strong analytical thinking skills. Ability to creatively solve business problems, innovating new approaches whererequired.Background in supply chain will be preferable but not mandatoryStrong hands on programming skills in Python, SQL, Hadoop/Hive. Additional knowledge of Spark, Scala, R, Javadesired but not mandatoryGood working Knowledge of Mathematical and statistical concepts, MILP, algorithms and computational complexity,data analysis, data mining, forecasting/predictive modeling, simulations, visualizations, machine learning, etc.Passion for solving interesting and relevant real-world problems using Data science approach Experience in implementing advanced statistical techniques like regression, clustering, PCA, forecasting (time series)etc.Able to produce reasonable documents/narrative suggesting actionable insightsExcellent communication skillsSelf-driven and results oriented. Willing to stretch to meet tight timelines.Strong team player with ability to collaborate effectively across geographies/ time zonesRoleSoftware DeveloperIndustry TypeRetailFunctional AreaIT Software - OtherEmployment TypeFull Time, PermanentRole CategoryProgramming & DesignEducationUG :Any GraduatePG :Post Graduation Not RequiredKey SkillsSupply chainData analysisPrototypeSimulationAnalyticalMachine learningData miningSQLPythonLogistics',\n",
       " 'Job descriptionWith a startup spirit and 80,000+ curious and courageous minds, we have the expertise to go deep with the worlds biggest brands—and we have fun doing it. Now, we’re calling all you rule-breakers and risk-takers who see the world differently and are bold enough to reinvent it. Come, transform with us.Inviting applications for the role of Data Scientist -ITMSResponsibilitiesMust be able to clearly understand and articulate a data science problem and work on it independently.Experience in implementing and optimizing various algorithms of big data analytics, machine learning and statistical algorithms using computer languages such as SQL, Python, and Machine Learning.Hands on experience on writing Machine learning models using Linear regression, Classification modelsExtensive background in data mining and statistical analysis.Able to understand various data structures and common methods in data transformation.Must be very strong EDAExcellent pattern recognition and predictive modeling skills.Minimum qualificationsMCA / B. Tech GraduateExperience in the machine learning domain, preferably AI OPS for IT InfrastructurePreferred qualificationsExtensive programming skills, ideally in Python. Proficiency in Numpy, Pandas and Scikit.Intermediate to advanced level knowledge in Machine Learning / Statistics.Hands on Experience into Natural Language Processing, Machine Learning, Text, Voice.Good to have experience in reporting tool –Power BIRoleTechnical ArchitectIndustry TypeIT Services & ConsultingFunctional AreaIT Software - Application Programming, MaintenanceEmployment TypeFull Time, PermanentRole CategoryProgramming & DesignEducationUG :Any GraduateKey SkillsData ScienceBig Data AnalyticsArtificial IntelligenceAIMachine LearningPythonSQL',\n",
       " 'Job descriptionRoles and ResponsibilitiesHiring for US based Start-up AI Fintech which is building Digital Banking platform for North American region.Experience for the Role : Data Scientist (1+ Yrs) & Senior/ Lead Data Scientist (3+ Yrs)Location : Bangalore (HSR Layout)Looking expert machine learning and a statistical mastermind and who are keen to make a difference in a unique way.We expect a Data Scientist & ML Engineer to take the onus of creating and leveraging the state-of-the-art algorithms in machine learning, deep learning and AI which will impact billions of people.Main Responsibilities :As an ML Engineer / Data Scientist, you will work on cutting edge problems in Natural Language Processing using Deep Learning.- Perform exploratory data analysis to understand the problem- Implement and experiment with different features and architectures for Deep-Learning models for NLP- Do literature review and come up with possible solutions- Do visualisation for understanding the problem and showcasing models- Make the model faster for real-time predictions- Build tools to help the team build models and deploy themWhat We are looking:- B.Tech, M.Tech or Ph.D in Computer Science or equivalent work experience- Knowledgeable on common data structures and algorithms- Knowledgeable in one or more of the following : Machine Learning / Information Retrieval / Deep Learning / NLP- 1 to 5 year experience working with real world datasets- Strong interest in solving real world problems in Machine Learning- Programming experience (in any programming language) is a must- Good familiarity with Python and its scientific computing / ML ecosystem is preferable.RoleSoftware DeveloperIndustry TypeInternetFunctional AreaIT Software - eCommerce, Internet TechnologiesEmployment TypeFull Time, PermanentRole CategoryProgramming & DesignEducationUG :Any GraduatePG :Any PostgraduateDoctorate :Any DoctorateKey SkillsVisualizationExploratory TestingMachine LearningPHDDeep Learning.Data StructureNLPAlgorithmsIITData ScientistData AnalyticsStartup',\n",
       " 'Job description  ResponsibilitiesProvide expert advanced modelling and data analytics support to all teams in the Manufacturing Intelligence organisation and in support of project execution at PGS manufacturing sites.Support the development , testing , deployment , and qualification of process soft sensor models .Stay abreast of industry 4.0 trends and developments in Artificial I ntelligence /M achine L earning and work with other MI teams to pilot new advances to drive value for PGS.Participate in validation activities, specifically around development of test scripts and other GxP documentation generated during system support and validation.Model data from multiple sources to create front end dashboards and reporting visualizations.Qualifications:Relevant degree and background in Engineering, Mathematics, Statistics, Physics, Chemistry, Computer Science, or a related technical field with s trong focus on advanced analytics .Experience:Applicants with hands on experience in some or all of the following technical areas will be of interest:Data analytics/modelling with domain expertise and industrial exposureF irst principle (thermodynamics, heat transfer, chemical reactions, etc.) and hybrid model development (including soft sensors)Configuration of f ilesystems, data warehouses, cloud solutions including experience of H a d oop , snowflake, SQL, AWS Sagemaker , Spark .D ata science/ ML and AI experience including S c ikit Learn, Tensorflow and Pytortch librariesDeployment of Python codes for real time execution including experience of Tibco Streambase , Tibco Data Science, Tibco Spotfire, Kafka , Docker containerDevelopment of connectivity interfaces with data sources and historians including OSI PI , SQL, Informa, MQTTProcess simulation and Digital twins - ( C omputational F luid D ynamics , gPROMS )Intelligent and dynamic scheduling platformsP rocess Analytical Technology , process modelling and A dvanced Process ControlTechnical k nowledge of pharmaceutical manufacturing unit operations and experience of delivery of innovative solutions in a regulated environmentKnowledge of Industrial Control Systems and Historian platformsAttributes:Ability to c ollaborate effectively internally and with cross-functional teams and key stakeholders .High level of innovative ability, agility with high energy for continuous learning.Highly self-motivated and results focused , with track record of value delivery through technical innovationAbility to communicate effectively (oral and writing ) at multiple levels covering project technical details or progress and impact updates to key stakeholdersProven track record of managing deadlines and scheduling workload.Ability to work within a team, leveraging and/or engaging others to accomplish projects, and equally as an individual contributor in a fast-paced, changing environment.RoleProcess Flow AnalystIndustry TypeEngineering & ConstructionFunctional AreaITES, BPO, KPO, LPO, Customer Service, OperationsEmployment TypeFull Time, PermanentRole CategoryOperationsEducationUG :Any GraduatePG :Post Graduation Not RequiredKey SkillsFront endSimulationPharmaProcess controlAnalyticalTIBCOSchedulingData analyticsSQLPython',\n",
       " 'Job descriptionEvaluating business requirements and developing compelling user stories in collaboration with business stakeholders across various functions and regionsCollecting, interpreting, preparing and modelling data to provide actionable insightsPrototyping advanced data analytics solutions for presentation to business partners and stakeholdersApplying predictive analytics and machine learning methods and techniques appropriately to address business requirementsProvide expertise to guide business stakeholders in identifying opportunities for the use of BD s data assets for the purpose of advanced data analyticsWork closely with data engineering and DataOps peers to productionalize advanced data analytics use casesQualificationsMaster s degree in STEM field or equivalent demonstrated work experienceExperience with Python, R, Hadoop, HIVE, SPARK, Jupyter and related advanced analytics / machine learning libraries (Scikitlearn, Tensorflow, Keras, )Minimum 2 years of relevant work experienceAbility to translate complex solutions to a non-technical audience (storytelling visualization)Expertise in machine learning, neural networks, clustering, classification, regression and other common advanced analytics methods and techniquesMature competency for critical thinking, problem solving, working with ambiguity, communications and collaborationPreferredExperience with technologies related to data preparation, processing optimization (e.g. Azure, HQL, SPARK SQL)Experience with data visualization tools (Power BI)Flexibility to accommodate meetings with international stakeholders in their respective time-zoneRoleAssociate/Senior Associate -(NonTechnical)Industry TypeMedical Services / HospitalFunctional AreaITES, BPO, KPO, LPO, Customer Service, OperationsEmployment TypeFull Time, PermanentRole CategoryVoiceEducationUG :Any GraduatePG :Post Graduation Not RequiredKey Skillsadvanced analyticsNeural networksMachine learningHealthcareGeneticsData analyticsdata visualizationPredictive analyticsSQLBusiness operations',\n",
       " 'Job descriptionWhat you ll be doingIndividual technical contributor with self-drive to understand problem statements and make design decisions - own what you do, make your calls, and defend themBuild a first generation analytical software product - design, code, test (unit functional) and maintain the software, while proving that your implementations workImplement software engineering processes and discipline for fast and reliable development of high-quality software product - make the software elegantWork as a team player in a high performance environment that rewards ownership - make your opinion count within the team and the organizationGrow engineering team by interviewing and assisting in hiring and mentor junior and mid-level engineers.Requirements What we need to seeBachelors or Masters in CS / Electronics from a premier institute with 0-3 years of experienceSolid design, excellent programming and debugging skills on a Unix-based OS (Ubuntu, Fedora, OSX) and fluent with a DVCS like Git.Programming Languages: C++, PythonClear communication - verbally and diagrammaticallyDeal-clinchers (any 1, preferably any 2, more the better!)Skilled with python packages: scikit-learn, pandas, numpy and scipyUnderstanding of common algorithms and their application in solving real-world problemsStrong mathematical background in linear algebra, optimization and/or descriptive inferential statisticsUnderstanding of machine learning concepts like generalization, regularization, linear models, neural network and expertise with building systems based on machine learning techniquesRoleSoftware DeveloperIndustry TypeEngineering & ConstructionFunctional AreaIT Software - Application Programming, MaintenanceEmployment TypeFull Time, PermanentRole CategoryProgramming & DesignEducationUG :Any GraduatePG :Any PostgraduateKey SkillsAlgorithmsSoftware EngineeringC + +Data ScientistMachine LearningPython']"
      ]
     },
     "execution_count": 25,
     "metadata": {},
     "output_type": "execute_result"
    }
   ],
   "source": [
    "job_desc = []\n",
    "\n",
    "for j in jd_urls:\n",
    "    driver.get(j)\n",
    "    try:\n",
    "        job_jd = driver.find_element_by_xpath('//section[@class=\"job-desc\"]')\n",
    "        job_desc.append(job_jd.text.replace('\\n',''))\n",
    "    except:\n",
    "        pass\n",
    "job_desc"
   ]
  },
  {
   "cell_type": "code",
   "execution_count": 26,
   "id": "b58b5ab1",
   "metadata": {},
   "outputs": [
    {
     "data": {
      "text/plain": [
       "['Job descriptionAbout the teamThe Data Sciences team at Flipkart is on a mission to build systemic intelligence across Flipkart products and the overarching ecosystem. Being India’s largest online marketplace and the most used e-commerce app in India, places Flipkart in a unique position and gives this team a distinctive opportunity — to decipher the richest possible data about Indian consumers. Add the dimension of a vast product selection and a proliferating seller base to that and what you get is a multitude of disruptive possibilities.In a nutshell, the terabytes of daily data compounded in Flipkart’s data centres offer a dynamic mix of numerical, structured, unstructured, image- and audio-based statistics, all set to define shopping in the future.At Flipkart, the work of a Data Scientist involves collaboration with the engineering and product teams to ensure a holistic outcome at the product delivery. The flat functional structure within Flipkart engineering enables data scientists to focus on excellence and create a deep sense of ownership at every stage of work.If you aspire to redefine ‘state-of-the-art’ and create an impact on India’s online shopping landscape, Flipkart’s Data Science team can offer you the right podium to solve challenging real-world problems and take a giant leap in your career as a Data Scientist.About the roleA Data Scientist in Flipkart is required to develop and implement ML or statistical models for the various projects formulated from business and product views. The responsible person should be able to communicate and collaborate with multiple stakeholders representing various teams to better understand the problem at hand. At a fundamental level, the responsible person should be able to dive deep into a problem statement and extract interesting insights as well as solutions. In addition to being a quick learner, a DS is expected to get involved in active research projects with a view to publish them.What you’ll doUnderstand Business and product needs and use ML or statistical techniques to provide solutions to those in a time bound fashion.Communicate and collaborate with business and product teams to have a better understanding of the project so as to be able to drive it within the DS team.Get involved in in-depth exploration of solutions using various methods and extract statistical insights from data as well as models, which are to be shared with business and product teams.Active participation in working with new methods and learning new technologies, both in the area of data science and data engineering.What you’ll need:B.Tech or M.Tech in CS or Statistics with experience ranging from 0 to 5 years through publications/deployed solutions/projects.Deep understanding of the algorithms (theory and application) that they have worked on.Good grasp on the theory and practise of basic statistical models such as regression or clustering and general ML algorithms such as tree, Random Forests, SVM, Boosting, Neural Networks etc. It is not expected that the candidate has actually worked on all these modules.Strong proficiency in Python or R is necessary.Skills Required :Understanding of text representation techniquesDesirable Skills :Familiarity with Big Data frameworks – Spark, HadoopRoleData AnalystIndustry TypeInternetFunctional AreaAnalytics & Business IntelligenceEmployment TypeFull Time, PermanentRole CategoryAnalytics & BIEducationUG :B.Tech/B.E. in ComputersPG :M.Tech in ComputersKey SkillsPython SVMData ScientistRandom Forests Neural Networks Big Data frameworks Spark BoostingML algorithms Hadoop',\n",
       " \"Job descriptionIdeal candidate should possess strong analytical, technical, and/or statistical skills with proven ability to process large datasets and create new data models.This is an exciting opportunity to join the explosively growing Blockchain fraternity and work constructively with our in-house industry experts.We expect you to have hands on working experience with -- Machine Learning techniques and algorithms, such as k-NN, Naive Bayes, SVM, Decision Forests, etc.- Python data science toolkit with Scikit-Learn and Keras/Pytorch- Prowess with both SQL and NoSQL Databases- Good, applied statistics skills, such as distributions, statistical testing, regression, etc.- Excellent scripting and programming skills- Fundamental principles of the CCAR or CCEL or Basel II Accord or IFRS- Docker and other PaaS (Platform-as-a-Service) products- MUST Specialize in Natural Language ProcessingKey Roles & Responsibilities- Develop predictive models, statistical analyses, optimization procedures, monitoring processes, data quality analyses, and score implementations supporting impairment and collections.- Produce robust documentation to ensure replicability of results and fulfill Antier's governance requirements.- Superlative communication skills to represent us before stakeholders- Leadership skills to build, expand and drive a new processAcademic & other Qualifications- Postgraduate university degree in the quantitative discipline required (ex. Statistics, Operations Research, Economics, Computer Science). Graduate studies.- An ability to produce reports and interrogate systems to produce analysis and resolve discrepancies/queries.- Proficiency with analytical software Python or SAS or R, SQL tools.- Prior experience in banking products such as Mutual Funds will add value.RoleData AnalystIndustry TypeIT Services & ConsultingFunctional AreaAnalytics & Business IntelligenceEmployment TypeFull Time, PermanentRole CategoryAnalytics & BIEducationUG :Any GraduatePG :MS/M.Sc(Science) in Statistics, Computers, M.Tech in Computers, MCA in Computers, M.A in Economics, StatisticsDoctorate :Doctorate Not RequiredKey SkillsData SciencePredictive ModelingPytorchSASData ScientistData ManagementKerasData AnalyticsAnalyticsPythonSQL\",\n",
       " \"Job descriptionJob descriptionJob Role: Data Scientist/Data Analyst /Business AnalystLocation: Chennai/Bangalore/HyderabadGreetings from CAIA - Center for Artificial Intelligence & Advanced Analytics43% of companies experienced a high deficit of skilled resources with Advanced Analytical skills and AI implementing capabilities in the year 2020. CAIA gives you a great opportunity to enter the world of future technologies and Innovations- Data Science, Analytics, AI, Data Visualization, and Cloud Computing.While 2020 was a year like no other, we are living in an interesting times where data is reshaping the world, and businesses are rapidly adopting technology to gain an edge over others. Hence, there's a substantial increase in demand for technology professionals who can implement systems in data science, machine learning, and AI in Tier 1 and Tier 2 organizations working closely with us.To help you build a sustainable career we would like you to utilize data, software and Analytical approaches in Data Science and AI to upskill and get recruited into an organization appreciating your skilling journey.Applications invited from all Freshers and experienced candidates (0-3 yrs) aspiring to make a career in Artificial Intelligence and Advanced Analytics and Data Science.If you wish to make a shift in your career or undergo a career transition, upskilling is essential since it allows you to learn more about the domain and acquire the required skills.Call to schedule interview Monday -Saturday from 10:00 am to 7 PmKoodesh B- +91 73395 11107Manigandan B - +91 93444 57360Email :careerguidance.koodes@centerforaia.commanigandan@centerforaia.comWhat is needed from you?Freshers who wish to start their career in Analytics and AI and professionals who wish toupskill or change their domain to analytics and emerging technologies are free to apply.Educational background in any one of the following- BE/B.Tech, ME/M Tech, MSc, BSc/MSc Math's and Statistics, B Com, BCA, BSc CS, BSC IT, MSC IT, MCASkills relating to Mathematics/Statistics.Natural passion towards numbers, business, coding, Analytics, and Artificial Intelligence, Machine Learning, visualizationGood verbal and written communication skillsAbility to understand domains in businesses across various sectorsSelection procedure includesAptitude Test & Communication Exam - Online / OfflineSQL/Python test - Online / OfflineCandidates who clear the above will have one-one discussions with our Career Guidance Manager for further evaluation and processing of your Resume.All the Shortlisted candidates will be eligible to continue the corporate training with CAIAWhat you can expect from us?You will get trained on the following modules for a period of 12-14 weeks:SQL & PLSQLData Wrangling using PythonData Visualization Using Power-BIStatistics for Machine LearningArtificial Intelligence, Data InterpretationSupervised & Unsupervised Learning,NLP & Deep LearningCloud Data LakeBusiness intelligence & Data VisualizationSimulation ProjectsExpected Outcome?At the end of the Training you are expected to be well versed with the following:Analysis of large and complex data sets from multiple sourcesDevelopment and evaluation of data analytics models, algorithms, and solutionsUnderstanding/implementation of ML algorithms, performance tuning, and reportingImplementation of algorithms to mine targeted data and the ability to convert data into a business storyTranslation of business requirements into technical requirements; Data extraction, preparation, and transformationIdentification, development, and implementation of statistical techniques and algorithms that address business challenges and adds value to the organizationRequirement Analysis and communication of findings in the form of a meaningful story with the stakeholdersFinding analytical solutions to abstract business issues.Apply objective analysis of facts before coming to a conclusionRoleData AnalystIndustry TypeIT Services & ConsultingFunctional AreaAnalytics & Business IntelligenceEmployment TypeFull Time, PermanentRole CategoryAnalytics & BIEducationUG :B.B.A/ B.M.S in Any Specialization, B.Sc in Any Specialization, BCA in Any Specialization, B.Tech/B.E. in Any Specialization, Any Graduate, B.Com in Any SpecializationKey SkillsBusiness IntelligencePower BiData WranglingArtificial IntelligenceBig DataITMachine LearningStatisticsAnalyticsDeep LearningBusiness AnalysisSQLData ScienceNLPCloud ComputingData AnalysisData VisualizationData WarehousingData AnalyticsETLPython\",\n",
       " 'Job descriptionMS Office skills: Excel (Advanced, pivot tables, and macro), Word & PowerPointWork independentlyAnalytical problem-solvingSelf-starterUnderstand customer needs and drive impact-full businessFresher any graduate can apply - Limited vacanciesRequired Candidate profile1.Good Communication2.Good Logical and Analytical skillset needed.3.Good in problem-solving.Freshers who wish to start their career in Analytics and AI and professionals can join our team today.RoleData AnalystIndustry TypeIT Services & ConsultingFunctional AreaAnalytics & Business IntelligenceEmployment TypeFull Time, PermanentRole CategoryAnalytics & BIEducationUG :Any GraduatePG :Any PostgraduateKey SkillsBusiness IntelligencepythonPower BiData WranglingArtificial IntelligenceNLPCloud ComputingBig DataSQLData ScienceITMachine LearningStatisticsAnalyticsDeep LearningBusiness AnalysisSQLExcelData AnalysisData VisualizationData WarehousingData Analytics',\n",
       " 'Job descriptionLocation: Pune /Mumbai/Delhi/Noida/KolkattaGreetings from CAIA - Center for Artificial Intelligence & Advanced AnalyticsThe Artificial Intelligence (AI) market is expected to grow at over `36% to be a $190 Bn markets in 2025. Numerous engines are expected to fuel its growth increase in the amount of big data, increased adoption of cloud-based applications and services, increase in demand for virtual assistants, the emergence of new use cases and IoT devicesFrom computer vision systems and predictive analytics improving manufacturing operations to self-learning algorithms that help us make better decisions, the AI/ML algorithms will continue to evolve and provide a host of attractive, high-growth opportunities. Today there is an extremely high demand for AI solutions and service providers across all domains in the industry that can benefit from this unprecedented growth over the next 5 years.CAIA gives you a great opportunity to enter the world of future technologies and Innovations- Data Science, Analytics, AI, Data Visualization, and Cloud Computing.To help you build a sustainable career we would like you to utilize data, software and Analytical approaches in Data Science and AI to upskill and get recruited into an organization appreciating your skilling journey.Applications invited from all Freshers and experienced candidates (0-3 yrs) aspiring to make a career in Artificial Intelligence and Advanced Analytics and Data Science.If you wish to make a shift in your career or undergo a career transition, upskilling is essential since it allows you to learn more about the domain and acquire the required skills. We have exciting opportunities for you to explore!Call to schedule interview Monday -Saturday from 10:00 am to 7 PmAishwaria N- +91 91507 91234Sriya - +91 70281 94563Email :sriyak@centerforaia.comaishwarian@centerforaia.comWhat is needed from you?Freshers who wish to start their career in Analytics and AI and professionals who wish to upskill or change their domain to analytics and emerging technologies are free to apply.Educational background in any one of the following- BE/B.Tech, ME/M Tech, MSc, BSc/MSc Maths and Statistics, B Com, BCA, BSc CS, BSC IT, MSC IT, MCANatural passion towards numbers, business, coding, Analytics, and Artificial Intelligence, Machine Learning, visualizationGood verbal and written communication skillsAbility to understand domains in businesses across various sectorsSelection procedure includesAptitude Test & Communication Exam - Online / OfflineOnline Profile DiscussionCandidates who clear the above will have one-one discussions with our Career Guidance Manager for further evaluation and processing of your Resume.All the Shortlisted candidates will be eligible to continue the corporate training with CAIAWhat you can expect from us?You will get trained on the following modules for a period of 12-14 weeks:SQL & PLSQLData Wrangling using PythonData Visualisation Using Power-BIStatistics for Machine LearningArtificial Intelligence, Data InterpretationSupervised & Unsupervised Learning,NLP & Deep LearningCloud Data LakeBusiness intelligence & Data VisualizationSimulation ProjectsExpected Outcome?At the end of the Training you are expected to be well versed with the following:Analysis of large and complex data sets from multiple sourcesDevelopment and evaluation of data analytics models, algorithms, and solutionsUnderstanding/implementation of ML algorithms, performance tuning, and reportingImplementation of algorithms to mine targeted data and the ability to convert data into a business storyTranslation of business requirements into technical requirements; Data extraction, preparation, and transformationIdentification, development, and implementation of statistical techniques and algorithms that address business challenges and adds value to the organizationRequirement Analysis and communication of findings in the form of a meaningful story with the stakeholdersFinding analytical solutions to abstract business issues.Apply objective analysis of facts before coming to a conclusionRoleData AnalystIndustry TypeIT Services & ConsultingFunctional AreaAnalytics & Business IntelligenceEmployment TypeFull Time, PermanentRole CategoryAnalytics & BIEducationUG :B.Sc in Any Specialization, B.Com in Any Specialization, BCA in Any Specialization, Diploma in Any Specialization, B.A in Any Specialization, B.Tech/B.E. in Any SpecializationPG :Any Postgraduate, MBA/PGDM in Any Specialization, M.Tech in Any Specialization, MCA in Any Specialization, M.Com in Any Specialization, MS/M.Sc(Science) in Any SpecializationKey SkillsBusiness IntelligenceData WranglingBusiness AnalyticsArtificial IntelligenceData ExtractionMachine LearningDeep LearningAnalyticsSQLData ScienceNLPCloud ComputingData VisualizationSoftwareData WarehousingData AnalyticsPythonPredictive Analytics',\n",
       " 'Job descriptionWe have immediate, multiple (Junior or) Data Scientist/Data Analyst openings for various analytics product teams in ADF. (All positions will continue to work remotely.)Requirements (Any one of below):1. 1 to 3 years of experience in data science, with good analytics skills in risk, marketing or operational analytics, backed by good academic record.2. Freshers, with (B. Tech or related degrees) with good enthusiasm for data science, demonstrated by participating in Kaggle competitions and good projects, with skill sets in Python, and data science packages, such as pandas, scikit-learn, etc., and SQL. 2021 BE/BTech/CS (or related discipline) graduates can also apply.3. 1 to 2 years of software development experience, with strong programming skills in any OOPS languages (Java/Python).Selection will be based on an online test and interviews. Online test will cover various topics, including sql, programming, and data science including knowledge of python data science packages.Based on overall performance, candidates will be called for interviews. Selected candidates will be required to join at the shortest possible time,Roles and Responsibilities:Selected candidates will join various analytics product teams, working in development and implementation of predictive models and recommend actionable insights; they will use advanced machine learning techniques, among others, as per business requirements.People, with no prior experience in the field and/or domain will spend their initial months in understanding data, do basic analysis and validation, reports, to get deeper understanding of the underlying business, before diving deep into analytic techniques.Please send your CVs to careersindia@applieddatafinance.com, with subject line: Requirement 1, 2 or 3.RoleSoftware DeveloperIndustry TypeSoftware ProductFunctional AreaIT Software - Application Programming, MaintenanceEmployment TypeFull Time, PermanentRole CategoryProgramming & DesignEducationUG :Any GraduateKey SkillsPythonSQLData ScienceJavaCVSSoftware DevelopmentData AnalysisMachine LearningScikit-LearnAnalyticsSkills highlighted with ‘‘ are preferred keyskills',\n",
       " 'Job descriptionThe RoleGeneral Position DefinitionIncumbent is responsible for developing analytical models for projects collaborating with different business stakeholders & other partners and working across a range of technologies and tools.The ideal candidate has strong background in quantitative skills (like statistics, mathematics, advanced computing, machine learning) and has applied those skills in solving real world problems across different businesses / functions.PurposeDevelops analytics models using specialized tools based on the business problem and data availableIdentifies the right set of models and develops the right code / package to execute themEvaluates the validity of the model (both scientifically as well as from a business perspective)Support the Data Science Team Lead in design and execution of analytics projectsWork with Shell stakeholders and subject matter experts to complete tasks and deliverables on projectsSkillsStakeholder Engagement SkillsWorking collaboratively across multiple sets of stakeholders - business SMEs, IT, Data teams, Analytics resources, etc. to deliver on project deliverables and tasksIdentify actionable insights that directly address challenges / opportunitiesArticulate business insights and recommendations (based on model output) to respective stakeholdersUnderstanding business KPIs, frameworks and drivers for performanceProficiency Level: SkillEducation Requirement/ Field of Study :3+ years of relevant experience in Retail domainAdvanced university degree in Mathematics, Statistics, Engineering, Economics, Quantitative Finance, OR, etc.Good interpersonal communication skills and influencing skillsEagerness to learn and ability to work with limited supervisionRequirements :Industry / Functional ExpertiseProvide deep business expertise preferably Oil & Gas - Upstream or Downstream businesses. (If these are not available, willing to consider other industries that are similar or related - manufacturing, mining, power generation, etc.)orfunctional expertise in any one or more of the following industry / functional areasCustomer / Marketing - pricing analytics, churn prediction, cross-sell / up-sell, Market Basket Analysis, Product Recommendation, Marketing Mix Modeling, Campaign design and effectiveness testing, Network Modeling, Customer segmentation, propensity analysis, customer lifetime value, profitability analysis, Customer experience (incl. voice of customer), CRM, Loyalty program management,Supply Chain / Spend: Demand & Supply Forecasting, Spend Analytics, Vendor Scoring, Pricing analysis (buy-side), product substitution analysis, product portfolio optimization, Tail spend analysis, logistics / network / route optimization, Contract ComplianceProficiency Level:MasteryModeling and Technology SkillsGood expertise in machine learning techniques (supervised and unsupervised) statistics / mathematics / operations research including (but not limited to): Advanced Machine learning techniques: Decision Trees, Neural Networks, Deep Learning, Support Vector Machines, Clustering, Bayesian Networks, Reinforcement Learning, Feature Reduction / engineering, Anomaly deduction, Natural Language Processing (incl. Theme deduction, sentiment analysis, Topic Modeling), Natural Language Generationand/orStatistics / Mathematics: Data Quality Analysis, Data identification, Hypothesis testing, Univariate / Multivariate Analysis, Cluster Analysis, Classification/PCA, Factor Analysis, Linear Modeling, Logit/Probit Model, Affinity & Association, Time Series, DoE, distribution / probability theoryand/orOperations Research: Sensitivity Analysis – Shadow price, Allowable decrease or increase, Transportation problem & variants, Allocation Problem & variants, Selection problem, Multi-criteria decision-making, models, DEA, Employee Scheduling, Knapsack problem, Supply Chain Problem & variants, Location Selection, Network designing – VRP, TSP, Heuristics ModelingStrong experience in specialized analytics tools and technologies (including, but not limited to)Python, Azure Analysis ServicesSpotfire, PowerBIAwareness of Data Bricks, Apache Spark, HadoopAwareness of Agile / Scrum ways of workingIdentify the right modeling approach(es) for given scenario and articulate why the approach fitsAssess data availability and modeling feasibilityReview interpretation of models resultsEvaluate model fit and based on business / function scenarioProficiency Level:Skill-to-MasterySpecial ChallengesRapid onboarding on projects, understanding analytics goal and working with ill-defined datasetsCommunicating technical jargon in plain English to colleagues within Data Science team and outsideVirtual working with network of colleagues located throughout the globe.RoleData AnalystIndustry TypePetrochemical / Plastics / RubberFunctional AreaAnalytics & Business IntelligenceEmployment TypeFull Time, PermanentRole CategoryAnalytics & BIEducationUG :Any GraduatePG :M.A in Maths, Economics, Statistics, MS/M.Sc(Science) in Maths, Statistics, M.Tech in Any SpecializationKey SkillsData ScienceMultivariate AnalysisFactor AnalysisNatural Language ProcessingReinforcement LearningMarket Basket AnalysisDecision TreesMachine Learning',\n",
       " 'Job descriptionAbout the roleA Senior Data Scientist in Flipkart is required to drive research and development of various Machine Learning and Statistical modules, keeping business goals and product planning at the front. The responsible person should be able to communicate and collaborate with multiple stakeholders representing various teams. The crux of the work is defined by developing innovative problem statements as well as end to end implementation of state of the art ML and statistical algorithms. The candidate is additionally expected to work proactively with a team of junior Data Scientists and guide them in various research projects with a view to publish their findings.What you’ll doUnderstand Business and product needs and use advanced modeling techniques to provide solutions to those in a time bound fashion.Develop research and hypothesis on problem statements around on-going work to provide additional value to the organisation.Keep the team updated on current trends in the area of ML and Statistics, thereby ensuring that state of the art solutions are provided for the business problems.Regular collaboration with various stakeholders from business or product to better understand the vision and gain insights which is to be leveraged for providing better solutions.What you’ll need:B.Tech in CS or Statistics with demonstrable experience of over 8 years through publications/deployed solutions/projects.M.Tech or PhD in CS or Statistics with demonstrable experience of over 5 years through publications/deployed solutions/projects.A deep understanding of applied statistical analysis and predictive modeling is desired.The candidate must have a thorough grasp of the theory and application of broad ML algorithms namely, but not limited to regression, SVM, Tree, Random Forests, Boosting, Neural Network, clustering, forecasting, deep learning, text analysis etc. It is not expected that the candidate has actually worked on all these modules.Strong proficiency in Python or R is necessaryRoleData AnalystIndustry TypeInternetFunctional AreaAnalytics & Business IntelligenceEmployment TypeFull Time, PermanentRole CategoryAnalytics & BIEducationUG :B.Tech/B.E. in Computers, B.A in Statistics, B.Sc in StatisticsPG :M.Tech in Computers, M.A in Statistics, MS/M.Sc(Science) in StatisticsDoctorate :Ph.D/Doctorate in Statistics, ComputersKey SkillsData ScienceRSVMClusteringMachine LearningStatistical AnalysisStatisticsDeep LearningPython',\n",
       " 'Job descriptionSenior Data ScientistPlease find the JD below:Data Engineering experience using Python.Experience in NumPy, Scikit-learn, Scipy, Pandas etc.Hand on experience in classification, regression, clustering, machine learning algorithms.Working experience with any of the object-oriented/object function scripting languages: Python, Java, Scala, Shell, .NET scripting.Experience in any of the cloud platforms like AWS, Azure, GCPLet me know your interest. Please mail your profile to arathy.rajkumar@ignitarium.comRoleSoftware DeveloperIndustry TypeIT Services & ConsultingFunctional AreaIT Software - Application Programming, MaintenanceEmployment TypeFull Time, PermanentRole CategoryProgramming & DesignEducationUG :Any GraduatePG :Any PostgraduateDoctorate :Any DoctorateKey SkillsAlgorithmsRegressionPythonData ScienceJavaScipyData EngineeringSCALAClassificationMachine LearningScikit-LearnNumpySkills highlighted with ‘‘ are preferred keyskills',\n",
       " \"Job descriptionSeeking senior data scientists for part-time roles that involve advising or teaching or working on various projects.The candidate must have experience in Python coding language and machine learning. The candidate will be working on a part-time basis and hours will be flexible based on the candidate's availability.Opportunity to grow in a startup setting.What you'll need:B.Tech in CS or Statistics with demonstrable experience of over 5 years through publications/deployed solutions/projects.M.Tech or Ph.D. in CS or Statistics with demonstrable experience of over 3 years through publications/deployed solutions/projects.A deep understanding of applied statistical analysis and predictive modeling is desired.The candidate must have a thorough grasp of the theory and application of broad ML algorithms namely, but not limited to regression, SVM, Tree, Random Forests, Boosting, Neural Network, clustering, forecasting, deep learning, text analysis, etc.It is not expected that the candidate has actually worked on all these modules.Strong proficiency in Python or R is necessaryPlease Note:One of our primary contact methods is the WhatsApp messenger service. Please make sure your primary contact on the Naukri profile is also your WhatsApp contact information. If you are unable to make that change please email us your resume and WhatsApp contact information at hiring@shikvix.com. Thank you!RoleData AnalystIndustry TypeInternetFunctional AreaAnalytics & Business IntelligenceEmployment TypePart Time, Freelance/HomebasedRole CategoryAnalytics & BIEducationUG :Graduation Not RequiredKey SkillsData ScienceRSVMClusteringMachine LearningStatistical AnalysisStatisticsDeep LearningPython\"]"
      ]
     },
     "execution_count": 26,
     "metadata": {},
     "output_type": "execute_result"
    }
   ],
   "source": [
    "job_description = job_desc[:10]\n",
    "\n",
    "job_description"
   ]
  },
  {
   "cell_type": "code",
   "execution_count": 27,
   "id": "ba6f2a9d",
   "metadata": {},
   "outputs": [
    {
     "name": "stdout",
     "output_type": "stream",
     "text": [
      "10 10 10 10\n"
     ]
    }
   ],
   "source": [
    "print(len(job_title),len(job_loc),len(company),len(job_description))"
   ]
  },
  {
   "cell_type": "code",
   "execution_count": 28,
   "id": "52103b92",
   "metadata": {},
   "outputs": [
    {
     "data": {
      "text/html": [
       "<div>\n",
       "<style scoped>\n",
       "    .dataframe tbody tr th:only-of-type {\n",
       "        vertical-align: middle;\n",
       "    }\n",
       "\n",
       "    .dataframe tbody tr th {\n",
       "        vertical-align: top;\n",
       "    }\n",
       "\n",
       "    .dataframe thead th {\n",
       "        text-align: right;\n",
       "    }\n",
       "</style>\n",
       "<table border=\"1\" class=\"dataframe\">\n",
       "  <thead>\n",
       "    <tr style=\"text-align: right;\">\n",
       "      <th></th>\n",
       "      <th>Job Title</th>\n",
       "      <th>Location</th>\n",
       "      <th>Company Name</th>\n",
       "      <th>Job Description</th>\n",
       "    </tr>\n",
       "  </thead>\n",
       "  <tbody>\n",
       "    <tr>\n",
       "      <th>0</th>\n",
       "      <td>Data Scientist</td>\n",
       "      <td>Bangalore/Bengaluru</td>\n",
       "      <td>Flipkart Internet Private Limited</td>\n",
       "      <td>Job descriptionAbout the teamThe Data Sciences...</td>\n",
       "    </tr>\n",
       "    <tr>\n",
       "      <th>1</th>\n",
       "      <td>Data Scientist/Quantitative Analyst</td>\n",
       "      <td>Chandigarh</td>\n",
       "      <td>Antier Solutions</td>\n",
       "      <td>Job descriptionIdeal candidate should possess ...</td>\n",
       "    </tr>\n",
       "    <tr>\n",
       "      <th>2</th>\n",
       "      <td>Data Scientist / Data Analyst -Business Analyst</td>\n",
       "      <td>Hyderabad/Secunderabad, Chennai, Bangalore/Ben...</td>\n",
       "      <td>Inflexion Analytix Private Limited</td>\n",
       "      <td>Job descriptionJob descriptionJob Role: Data S...</td>\n",
       "    </tr>\n",
       "    <tr>\n",
       "      <th>3</th>\n",
       "      <td>Fresher / Data Scientist / Data Analyst / Powe...</td>\n",
       "      <td>Ahmedabad</td>\n",
       "      <td>Excel PTP Solutions</td>\n",
       "      <td>Job descriptionMS Office skills: Excel (Advanc...</td>\n",
       "    </tr>\n",
       "    <tr>\n",
       "      <th>4</th>\n",
       "      <td>Data Scientist/Data Analyst /Business Analyst</td>\n",
       "      <td>Pune, Delhi / NCR, Mumbai (All Areas)</td>\n",
       "      <td>Inflexion Analytix Private Limited</td>\n",
       "      <td>Job descriptionLocation: Pune /Mumbai/Delhi/No...</td>\n",
       "    </tr>\n",
       "    <tr>\n",
       "      <th>5</th>\n",
       "      <td>Junior Data Scientist/Data Analyst - Remote</td>\n",
       "      <td>Chennai</td>\n",
       "      <td>ADF Data Science Private Limited</td>\n",
       "      <td>Job descriptionWe have immediate, multiple (Ju...</td>\n",
       "    </tr>\n",
       "    <tr>\n",
       "      <th>6</th>\n",
       "      <td>Associate Data Scientist - Retail</td>\n",
       "      <td>Chennai</td>\n",
       "      <td>Shell India Markets Private Limited</td>\n",
       "      <td>Job descriptionThe RoleGeneral Position Defini...</td>\n",
       "    </tr>\n",
       "    <tr>\n",
       "      <th>7</th>\n",
       "      <td>Senior Data Scientist</td>\n",
       "      <td>Bangalore/Bengaluru</td>\n",
       "      <td>Flipkart Internet Private Limited</td>\n",
       "      <td>Job descriptionAbout the roleA Senior Data Sci...</td>\n",
       "    </tr>\n",
       "    <tr>\n",
       "      <th>8</th>\n",
       "      <td>Sr. Data Scientist I, SIP</td>\n",
       "      <td>Hyderabad/Secunderabad</td>\n",
       "      <td>Invesco (India) Pvt Ltd</td>\n",
       "      <td>Job descriptionSenior Data ScientistPlease fin...</td>\n",
       "    </tr>\n",
       "    <tr>\n",
       "      <th>9</th>\n",
       "      <td>Ignitarium is hiring For Senior Data Scientist...</td>\n",
       "      <td>Kochi/Cochin, Ernakulam, Bangalore/Bengaluru</td>\n",
       "      <td>Ignitarium Technology Solutions Private Limited</td>\n",
       "      <td>Job descriptionSeeking senior data scientists ...</td>\n",
       "    </tr>\n",
       "  </tbody>\n",
       "</table>\n",
       "</div>"
      ],
      "text/plain": [
       "                                          Job Title   \\\n",
       "0                                     Data Scientist   \n",
       "1                Data Scientist/Quantitative Analyst   \n",
       "2    Data Scientist / Data Analyst -Business Analyst   \n",
       "3  Fresher / Data Scientist / Data Analyst / Powe...   \n",
       "4      Data Scientist/Data Analyst /Business Analyst   \n",
       "5        Junior Data Scientist/Data Analyst - Remote   \n",
       "6                  Associate Data Scientist - Retail   \n",
       "7                              Senior Data Scientist   \n",
       "8                          Sr. Data Scientist I, SIP   \n",
       "9  Ignitarium is hiring For Senior Data Scientist...   \n",
       "\n",
       "                                           Location   \\\n",
       "0                                Bangalore/Bengaluru   \n",
       "1                                         Chandigarh   \n",
       "2  Hyderabad/Secunderabad, Chennai, Bangalore/Ben...   \n",
       "3                                          Ahmedabad   \n",
       "4              Pune, Delhi / NCR, Mumbai (All Areas)   \n",
       "5                                            Chennai   \n",
       "6                                            Chennai   \n",
       "7                                Bangalore/Bengaluru   \n",
       "8                             Hyderabad/Secunderabad   \n",
       "9       Kochi/Cochin, Ernakulam, Bangalore/Bengaluru   \n",
       "\n",
       "                                     Company Name   \\\n",
       "0                Flipkart Internet Private Limited   \n",
       "1                                 Antier Solutions   \n",
       "2               Inflexion Analytix Private Limited   \n",
       "3                              Excel PTP Solutions   \n",
       "4               Inflexion Analytix Private Limited   \n",
       "5                 ADF Data Science Private Limited   \n",
       "6              Shell India Markets Private Limited   \n",
       "7                Flipkart Internet Private Limited   \n",
       "8                          Invesco (India) Pvt Ltd   \n",
       "9  Ignitarium Technology Solutions Private Limited   \n",
       "\n",
       "                                    Job Description   \n",
       "0  Job descriptionAbout the teamThe Data Sciences...  \n",
       "1  Job descriptionIdeal candidate should possess ...  \n",
       "2  Job descriptionJob descriptionJob Role: Data S...  \n",
       "3  Job descriptionMS Office skills: Excel (Advanc...  \n",
       "4  Job descriptionLocation: Pune /Mumbai/Delhi/No...  \n",
       "5  Job descriptionWe have immediate, multiple (Ju...  \n",
       "6  Job descriptionThe RoleGeneral Position Defini...  \n",
       "7  Job descriptionAbout the roleA Senior Data Sci...  \n",
       "8  Job descriptionSenior Data ScientistPlease fin...  \n",
       "9  Job descriptionSeeking senior data scientists ...  "
      ]
     },
     "execution_count": 28,
     "metadata": {},
     "output_type": "execute_result"
    }
   ],
   "source": [
    "jobs = pd.DataFrame({})\n",
    "\n",
    "jobs[' Job Title ']= job_title\n",
    "jobs[' Location ']= job_loc\n",
    "jobs[' Company Name ']= company\n",
    "jobs[' Job Description ']= job_description\n",
    "\n",
    "jobs"
   ]
  },
  {
   "cell_type": "markdown",
   "id": "9d6d88ef",
   "metadata": {},
   "source": [
    "### Q3: In this question you have to scrape data using the filters"
   ]
  },
  {
   "cell_type": "code",
   "execution_count": 57,
   "id": "0d6cc147",
   "metadata": {},
   "outputs": [],
   "source": [
    "url = \"https://www.naukri.com/\"\n",
    "driver.get(url)"
   ]
  },
  {
   "cell_type": "code",
   "execution_count": 58,
   "id": "7d2d3d1d",
   "metadata": {},
   "outputs": [],
   "source": [
    "search_job = driver.find_element_by_id('qsb-keyword-sugg')"
   ]
  },
  {
   "cell_type": "code",
   "execution_count": 59,
   "id": "8ea934ed",
   "metadata": {},
   "outputs": [],
   "source": [
    "search_job.send_keys('Data Scientist')"
   ]
  },
  {
   "cell_type": "code",
   "execution_count": 60,
   "id": "49bb8316",
   "metadata": {},
   "outputs": [
    {
     "data": {
      "text/plain": [
       "<selenium.webdriver.remote.webelement.WebElement (session=\"b61d11704846bc77106f3b92af600fe8\", element=\"9027daf5-238d-48a6-a436-f4ecb1db8f40\")>"
      ]
     },
     "execution_count": 60,
     "metadata": {},
     "output_type": "execute_result"
    }
   ],
   "source": [
    "search_button = driver.find_element_by_xpath(\"//button[@class='btn']\")\n",
    "search_button"
   ]
  },
  {
   "cell_type": "code",
   "execution_count": 61,
   "id": "b078f49c",
   "metadata": {},
   "outputs": [],
   "source": [
    "search_button.click()"
   ]
  },
  {
   "cell_type": "code",
   "execution_count": 62,
   "id": "11db16a3",
   "metadata": {},
   "outputs": [
    {
     "data": {
      "text/plain": [
       "<selenium.webdriver.remote.webelement.WebElement (session=\"b61d11704846bc77106f3b92af600fe8\", element=\"45f00e83-2d0b-4f41-9ab3-2c4fa94c3a94\")>"
      ]
     },
     "execution_count": 62,
     "metadata": {},
     "output_type": "execute_result"
    }
   ],
   "source": [
    "location_12 = driver.find_element_by_xpath('/html/body/div[1]/div[3]/div[2]/section[1]/div[2]/div[3]/div[2]/div[3]/label/i')\n",
    "location_12"
   ]
  },
  {
   "cell_type": "code",
   "execution_count": 63,
   "id": "049df350",
   "metadata": {},
   "outputs": [],
   "source": [
    "location_12.click()"
   ]
  },
  {
   "cell_type": "code",
   "execution_count": 64,
   "id": "f00009e3",
   "metadata": {},
   "outputs": [
    {
     "data": {
      "text/plain": [
       "<selenium.webdriver.remote.webelement.WebElement (session=\"b61d11704846bc77106f3b92af600fe8\", element=\"c049e7d9-05c5-4bf0-a1d5-59e21630e8a0\")>"
      ]
     },
     "execution_count": 64,
     "metadata": {},
     "output_type": "execute_result"
    }
   ],
   "source": [
    "salary_12 = driver.find_element_by_xpath('/html/body/div[1]/div[3]/div[2]/section[1]/div[2]/div[4]/div[2]/div[1]/label/i')\n",
    "salary_12"
   ]
  },
  {
   "cell_type": "code",
   "execution_count": 65,
   "id": "34cf923f",
   "metadata": {},
   "outputs": [],
   "source": [
    "salary_12.click()"
   ]
  },
  {
   "cell_type": "code",
   "execution_count": 66,
   "id": "6fcf4970",
   "metadata": {},
   "outputs": [
    {
     "data": {
      "text/plain": [
       "[<selenium.webdriver.remote.webelement.WebElement (session=\"b61d11704846bc77106f3b92af600fe8\", element=\"88fa0752-0394-4784-ae45-2b1447a5b035\")>,\n",
       " <selenium.webdriver.remote.webelement.WebElement (session=\"b61d11704846bc77106f3b92af600fe8\", element=\"457ed14a-88e6-48f7-809c-35f1ac006719\")>,\n",
       " <selenium.webdriver.remote.webelement.WebElement (session=\"b61d11704846bc77106f3b92af600fe8\", element=\"cfc2178e-3561-4d6d-963d-f94affeefe46\")>,\n",
       " <selenium.webdriver.remote.webelement.WebElement (session=\"b61d11704846bc77106f3b92af600fe8\", element=\"2bb87ef7-dbdc-46b2-bb8e-16b3884710e3\")>,\n",
       " <selenium.webdriver.remote.webelement.WebElement (session=\"b61d11704846bc77106f3b92af600fe8\", element=\"d1a2c114-488a-4b4a-a348-b5635c3c47bb\")>,\n",
       " <selenium.webdriver.remote.webelement.WebElement (session=\"b61d11704846bc77106f3b92af600fe8\", element=\"3dd455a7-a29f-45b2-8ce1-a663f061d5e9\")>,\n",
       " <selenium.webdriver.remote.webelement.WebElement (session=\"b61d11704846bc77106f3b92af600fe8\", element=\"3cc6e33a-3ae9-4178-863a-31cddb7ac5d0\")>,\n",
       " <selenium.webdriver.remote.webelement.WebElement (session=\"b61d11704846bc77106f3b92af600fe8\", element=\"3e1bded0-6887-4a6c-81ac-68d653fee5f7\")>,\n",
       " <selenium.webdriver.remote.webelement.WebElement (session=\"b61d11704846bc77106f3b92af600fe8\", element=\"2ad84473-c1cf-4be3-8ac1-b710fa74e8ea\")>,\n",
       " <selenium.webdriver.remote.webelement.WebElement (session=\"b61d11704846bc77106f3b92af600fe8\", element=\"b63d3a7c-6cd6-4841-a0dd-ad731b62f02e\")>]"
      ]
     },
     "execution_count": 66,
     "metadata": {},
     "output_type": "execute_result"
    }
   ],
   "source": [
    "designation = driver.find_elements_by_xpath(\"//a[@class='title fw500 ellipsis']\")\n",
    "designation[:10]"
   ]
  },
  {
   "cell_type": "code",
   "execution_count": 67,
   "id": "ab866d71",
   "metadata": {},
   "outputs": [
    {
     "data": {
      "text/plain": [
       "['Only Fresher / Data Scientist / Data Analyst / Analytics - MNC Jobs',\n",
       " 'Data Scientist ( Hadoop / Redshift / BigQuery)',\n",
       " 'Data Scientist / Data Analyst - ( BFSI Industry ) - New Delhi',\n",
       " 'Data Scientist (Hadoop/ Redshift/ BigQuery)',\n",
       " 'Data Scientist / Data Analyst - ( BFSI Industry ) - New Delhi',\n",
       " 'Data Scientist',\n",
       " 'Data Scientist - Machine Learning/NLP',\n",
       " 'Data Scientist - Machine Learning/NLP',\n",
       " 'Data Scientist - Machine Learning/ NLP',\n",
       " 'Data Scientist']"
      ]
     },
     "execution_count": 67,
     "metadata": {},
     "output_type": "execute_result"
    }
   ],
   "source": [
    "# looping the job title\n",
    "\n",
    "job_title_123 = []\n",
    "\n",
    "for i in designation:\n",
    "    job_title_123.append(i.text)\n",
    "job_title_123[:10]"
   ]
  },
  {
   "cell_type": "code",
   "execution_count": 68,
   "id": "b347749a",
   "metadata": {},
   "outputs": [
    {
     "data": {
      "text/plain": [
       "[<selenium.webdriver.remote.webelement.WebElement (session=\"b61d11704846bc77106f3b92af600fe8\", element=\"3504d984-aa3e-42d8-8261-451f5506900f\")>,\n",
       " <selenium.webdriver.remote.webelement.WebElement (session=\"b61d11704846bc77106f3b92af600fe8\", element=\"2825db92-e415-4954-8b72-6c1fc1e3baef\")>,\n",
       " <selenium.webdriver.remote.webelement.WebElement (session=\"b61d11704846bc77106f3b92af600fe8\", element=\"6d5e2a5e-f9a6-49c5-bb72-fed07fa78f36\")>,\n",
       " <selenium.webdriver.remote.webelement.WebElement (session=\"b61d11704846bc77106f3b92af600fe8\", element=\"a82039d9-5233-45de-addc-0f1ff67545b8\")>,\n",
       " <selenium.webdriver.remote.webelement.WebElement (session=\"b61d11704846bc77106f3b92af600fe8\", element=\"ee5fe1bd-34fc-48f4-9108-76e06b933a87\")>,\n",
       " <selenium.webdriver.remote.webelement.WebElement (session=\"b61d11704846bc77106f3b92af600fe8\", element=\"082dfaf5-e118-4825-a004-fcfcb5a7c776\")>,\n",
       " <selenium.webdriver.remote.webelement.WebElement (session=\"b61d11704846bc77106f3b92af600fe8\", element=\"170993fb-27fc-4a9c-b33e-caa821f5d4a6\")>,\n",
       " <selenium.webdriver.remote.webelement.WebElement (session=\"b61d11704846bc77106f3b92af600fe8\", element=\"46c160a3-38e0-45a2-875f-6d7bfed4ebb6\")>,\n",
       " <selenium.webdriver.remote.webelement.WebElement (session=\"b61d11704846bc77106f3b92af600fe8\", element=\"f850b243-3c33-4dba-8d69-29f8ea9eca2b\")>,\n",
       " <selenium.webdriver.remote.webelement.WebElement (session=\"b61d11704846bc77106f3b92af600fe8\", element=\"90e8c787-bb6c-4ef1-be50-da0a4bc7de71\")>]"
      ]
     },
     "execution_count": 68,
     "metadata": {},
     "output_type": "execute_result"
    }
   ],
   "source": [
    "# extract top 10  job_location under 0-3 salary filter and in delhi/ncr location\n",
    "\n",
    "location123 = driver.find_elements_by_xpath(\"//li[@class='fleft grey-text br2 placeHolderLi location']//span\")\n",
    "location123[:10]"
   ]
  },
  {
   "cell_type": "code",
   "execution_count": 69,
   "id": "60dbc17f",
   "metadata": {},
   "outputs": [
    {
     "data": {
      "text/plain": [
       "['Noida, Greater Noida, Delhi / NCR',\n",
       " 'Noida',\n",
       " 'New Delhi',\n",
       " 'Noida',\n",
       " 'New Delhi',\n",
       " 'Kolkata, Hyderabad/Secunderabad, Pune, Ahmedabad, Chennai, Bangalore/Bengaluru, Delhi / NCR, Mumbai (All Areas)',\n",
       " 'Gurgaon/Gurugram',\n",
       " 'Gurgaon/Gurugram',\n",
       " 'Gurgaon/Gurugram',\n",
       " 'Noida']"
      ]
     },
     "execution_count": 69,
     "metadata": {},
     "output_type": "execute_result"
    }
   ],
   "source": [
    "# looping location \n",
    "\n",
    "job_location1 = []\n",
    "\n",
    "for i in location123:\n",
    "    job_location1.append(i.text)\n",
    "job_location1[:10]"
   ]
  },
  {
   "cell_type": "code",
   "execution_count": 70,
   "id": "7b3ca43b",
   "metadata": {},
   "outputs": [
    {
     "data": {
      "text/plain": [
       "[<selenium.webdriver.remote.webelement.WebElement (session=\"b61d11704846bc77106f3b92af600fe8\", element=\"5151af67-8988-4ac5-a66f-a3117cd79b90\")>,\n",
       " <selenium.webdriver.remote.webelement.WebElement (session=\"b61d11704846bc77106f3b92af600fe8\", element=\"4119881a-821b-4db7-ab8b-43fe8177ec73\")>,\n",
       " <selenium.webdriver.remote.webelement.WebElement (session=\"b61d11704846bc77106f3b92af600fe8\", element=\"f3b603aa-a729-4fe5-94fc-b8f46e0955e5\")>,\n",
       " <selenium.webdriver.remote.webelement.WebElement (session=\"b61d11704846bc77106f3b92af600fe8\", element=\"b8239618-92f1-4c62-a4b6-018826a12acd\")>,\n",
       " <selenium.webdriver.remote.webelement.WebElement (session=\"b61d11704846bc77106f3b92af600fe8\", element=\"909bbe80-220a-45e0-8c06-e8d07c3ced0b\")>,\n",
       " <selenium.webdriver.remote.webelement.WebElement (session=\"b61d11704846bc77106f3b92af600fe8\", element=\"49582b1a-d648-421d-8c23-f20c98d7995e\")>,\n",
       " <selenium.webdriver.remote.webelement.WebElement (session=\"b61d11704846bc77106f3b92af600fe8\", element=\"dca649a2-2e18-4c9c-a9c7-f5ee23759358\")>,\n",
       " <selenium.webdriver.remote.webelement.WebElement (session=\"b61d11704846bc77106f3b92af600fe8\", element=\"160c528c-b4b8-4652-b53c-959a3cc31171\")>,\n",
       " <selenium.webdriver.remote.webelement.WebElement (session=\"b61d11704846bc77106f3b92af600fe8\", element=\"12ce25ac-f654-49f7-b64c-bb2a71b2dbed\")>,\n",
       " <selenium.webdriver.remote.webelement.WebElement (session=\"b61d11704846bc77106f3b92af600fe8\", element=\"0f478420-3819-41be-b790-fea5808e7a0c\")>]"
      ]
     },
     "execution_count": 70,
     "metadata": {},
     "output_type": "execute_result"
    }
   ],
   "source": [
    "# extract top 10  company name under 0-3 salary filter and in delhi/ncr location\n",
    "\n",
    "companies11 = driver.find_elements_by_xpath(\"//a[@class='subTitle ellipsis fleft']\")\n",
    "companies11[:10]"
   ]
  },
  {
   "cell_type": "code",
   "execution_count": 71,
   "id": "e3233bec",
   "metadata": {},
   "outputs": [
    {
     "data": {
      "text/plain": [
       "['GABA Consultancy services',\n",
       " 'Jubna',\n",
       " 'Reckon HR consulting',\n",
       " 'Jubna',\n",
       " 'Reckon HR consulting',\n",
       " 'Replicon Software',\n",
       " 'TalPro',\n",
       " 'TalPro',\n",
       " 'TalPro',\n",
       " 'Gauge Data Solutions Pvt Ltd']"
      ]
     },
     "execution_count": 71,
     "metadata": {},
     "output_type": "execute_result"
    }
   ],
   "source": [
    "# looping company_name\n",
    "company_name2 = []\n",
    "\n",
    "for i in companies11:\n",
    "    company_name2.append(i.text)\n",
    "company_name2[:10]"
   ]
  },
  {
   "cell_type": "code",
   "execution_count": 72,
   "id": "685fc4d7",
   "metadata": {},
   "outputs": [
    {
     "data": {
      "text/plain": [
       "[<selenium.webdriver.remote.webelement.WebElement (session=\"b61d11704846bc77106f3b92af600fe8\", element=\"3801f6a5-4ab6-4b94-9c70-628e54ee938a\")>,\n",
       " <selenium.webdriver.remote.webelement.WebElement (session=\"b61d11704846bc77106f3b92af600fe8\", element=\"14b82a7e-ee0a-4c03-b551-c0df7e513b46\")>,\n",
       " <selenium.webdriver.remote.webelement.WebElement (session=\"b61d11704846bc77106f3b92af600fe8\", element=\"9f97c437-7aa3-447c-8526-ae89da889460\")>,\n",
       " <selenium.webdriver.remote.webelement.WebElement (session=\"b61d11704846bc77106f3b92af600fe8\", element=\"b9ca6565-e0d7-4da8-b440-0bdb9acb5efc\")>,\n",
       " <selenium.webdriver.remote.webelement.WebElement (session=\"b61d11704846bc77106f3b92af600fe8\", element=\"4c25447a-e342-4b23-83e8-12c6a231cbab\")>,\n",
       " <selenium.webdriver.remote.webelement.WebElement (session=\"b61d11704846bc77106f3b92af600fe8\", element=\"9f75290a-7636-4c03-ad68-e7d20bb535fd\")>,\n",
       " <selenium.webdriver.remote.webelement.WebElement (session=\"b61d11704846bc77106f3b92af600fe8\", element=\"8ff27a55-1129-49cf-8b74-33fe6b50e34e\")>,\n",
       " <selenium.webdriver.remote.webelement.WebElement (session=\"b61d11704846bc77106f3b92af600fe8\", element=\"54e36f90-2471-4981-adff-6ef1e51e1f2d\")>,\n",
       " <selenium.webdriver.remote.webelement.WebElement (session=\"b61d11704846bc77106f3b92af600fe8\", element=\"c818eee5-5a02-44bf-bae9-53dda22be058\")>,\n",
       " <selenium.webdriver.remote.webelement.WebElement (session=\"b61d11704846bc77106f3b92af600fe8\", element=\"eeb332e1-6ab6-4920-b727-59ca526e5e0f\")>]"
      ]
     },
     "execution_count": 72,
     "metadata": {},
     "output_type": "execute_result"
    }
   ],
   "source": [
    "# extract top 10 experiences required under 0-3 salary filter and in delhi/ncr location\n",
    "years_of_experience = driver.find_elements_by_xpath(\"//li[@class='fleft grey-text br2 placeHolderLi experience']//span\")\n",
    "years_of_experience[:10]"
   ]
  },
  {
   "cell_type": "code",
   "execution_count": 73,
   "id": "c924f8ed",
   "metadata": {},
   "outputs": [
    {
     "data": {
      "text/plain": [
       "['0-0 Yrs',\n",
       " '3-5 Yrs',\n",
       " '2-5 Yrs',\n",
       " '3-5 Yrs',\n",
       " '2-5 Yrs',\n",
       " '5-10 Yrs',\n",
       " '2-6 Yrs',\n",
       " '2-4 Yrs',\n",
       " '2-6 Yrs',\n",
       " '2-7 Yrs']"
      ]
     },
     "execution_count": 73,
     "metadata": {},
     "output_type": "execute_result"
    }
   ],
   "source": [
    "# looping experiences\n",
    "\n",
    "experience_required3 = []\n",
    "\n",
    "for i in years_of_experience:\n",
    "    experience_required3.append(i.text)\n",
    "    \n",
    "experience_required3[:10]"
   ]
  },
  {
   "cell_type": "code",
   "execution_count": 74,
   "id": "2f28c43d",
   "metadata": {},
   "outputs": [
    {
     "name": "stdout",
     "output_type": "stream",
     "text": [
      "20 20 20 20\n"
     ]
    }
   ],
   "source": [
    "print(len(job_title_123),len(job_location1),len(company_name2),len(experience_required3))"
   ]
  },
  {
   "cell_type": "code",
   "execution_count": 76,
   "id": "6fc70767",
   "metadata": {},
   "outputs": [],
   "source": [
    "# creating dataframe\n",
    "\n",
    "jobs = pd.DataFrame({})\n",
    "jobs['Title']=job_title_123\n",
    "jobs['Company_Nmae']=company_name2\n",
    "jobs['Experiences_Required']=experience_required3\n",
    "jobs['Location']=job_location1"
   ]
  },
  {
   "cell_type": "code",
   "execution_count": 77,
   "id": "ae210b66",
   "metadata": {},
   "outputs": [
    {
     "data": {
      "text/html": [
       "<div>\n",
       "<style scoped>\n",
       "    .dataframe tbody tr th:only-of-type {\n",
       "        vertical-align: middle;\n",
       "    }\n",
       "\n",
       "    .dataframe tbody tr th {\n",
       "        vertical-align: top;\n",
       "    }\n",
       "\n",
       "    .dataframe thead th {\n",
       "        text-align: right;\n",
       "    }\n",
       "</style>\n",
       "<table border=\"1\" class=\"dataframe\">\n",
       "  <thead>\n",
       "    <tr style=\"text-align: right;\">\n",
       "      <th></th>\n",
       "      <th>Title</th>\n",
       "      <th>Company_Nmae</th>\n",
       "      <th>Experiences_Required</th>\n",
       "      <th>Location</th>\n",
       "    </tr>\n",
       "  </thead>\n",
       "  <tbody>\n",
       "    <tr>\n",
       "      <th>0</th>\n",
       "      <td>Only Fresher / Data Scientist / Data Analyst /...</td>\n",
       "      <td>GABA Consultancy services</td>\n",
       "      <td>0-0 Yrs</td>\n",
       "      <td>Noida, Greater Noida, Delhi / NCR</td>\n",
       "    </tr>\n",
       "    <tr>\n",
       "      <th>1</th>\n",
       "      <td>Data Scientist ( Hadoop / Redshift / BigQuery)</td>\n",
       "      <td>Jubna</td>\n",
       "      <td>3-5 Yrs</td>\n",
       "      <td>Noida</td>\n",
       "    </tr>\n",
       "    <tr>\n",
       "      <th>2</th>\n",
       "      <td>Data Scientist / Data Analyst - ( BFSI Industr...</td>\n",
       "      <td>Reckon HR consulting</td>\n",
       "      <td>2-5 Yrs</td>\n",
       "      <td>New Delhi</td>\n",
       "    </tr>\n",
       "    <tr>\n",
       "      <th>3</th>\n",
       "      <td>Data Scientist (Hadoop/ Redshift/ BigQuery)</td>\n",
       "      <td>Jubna</td>\n",
       "      <td>3-5 Yrs</td>\n",
       "      <td>Noida</td>\n",
       "    </tr>\n",
       "    <tr>\n",
       "      <th>4</th>\n",
       "      <td>Data Scientist / Data Analyst - ( BFSI Industr...</td>\n",
       "      <td>Reckon HR consulting</td>\n",
       "      <td>2-5 Yrs</td>\n",
       "      <td>New Delhi</td>\n",
       "    </tr>\n",
       "    <tr>\n",
       "      <th>5</th>\n",
       "      <td>Data Scientist</td>\n",
       "      <td>Replicon Software</td>\n",
       "      <td>5-10 Yrs</td>\n",
       "      <td>Kolkata, Hyderabad/Secunderabad, Pune, Ahmedab...</td>\n",
       "    </tr>\n",
       "    <tr>\n",
       "      <th>6</th>\n",
       "      <td>Data Scientist - Machine Learning/NLP</td>\n",
       "      <td>TalPro</td>\n",
       "      <td>2-6 Yrs</td>\n",
       "      <td>Gurgaon/Gurugram</td>\n",
       "    </tr>\n",
       "    <tr>\n",
       "      <th>7</th>\n",
       "      <td>Data Scientist - Machine Learning/NLP</td>\n",
       "      <td>TalPro</td>\n",
       "      <td>2-4 Yrs</td>\n",
       "      <td>Gurgaon/Gurugram</td>\n",
       "    </tr>\n",
       "    <tr>\n",
       "      <th>8</th>\n",
       "      <td>Data Scientist - Machine Learning/ NLP</td>\n",
       "      <td>TalPro</td>\n",
       "      <td>2-6 Yrs</td>\n",
       "      <td>Gurgaon/Gurugram</td>\n",
       "    </tr>\n",
       "    <tr>\n",
       "      <th>9</th>\n",
       "      <td>Data Scientist</td>\n",
       "      <td>Gauge Data Solutions Pvt Ltd</td>\n",
       "      <td>2-7 Yrs</td>\n",
       "      <td>Noida</td>\n",
       "    </tr>\n",
       "  </tbody>\n",
       "</table>\n",
       "</div>"
      ],
      "text/plain": [
       "                                               Title  \\\n",
       "0  Only Fresher / Data Scientist / Data Analyst /...   \n",
       "1     Data Scientist ( Hadoop / Redshift / BigQuery)   \n",
       "2  Data Scientist / Data Analyst - ( BFSI Industr...   \n",
       "3        Data Scientist (Hadoop/ Redshift/ BigQuery)   \n",
       "4  Data Scientist / Data Analyst - ( BFSI Industr...   \n",
       "5                                     Data Scientist   \n",
       "6              Data Scientist - Machine Learning/NLP   \n",
       "7              Data Scientist - Machine Learning/NLP   \n",
       "8             Data Scientist - Machine Learning/ NLP   \n",
       "9                                     Data Scientist   \n",
       "\n",
       "                   Company_Nmae Experiences_Required  \\\n",
       "0     GABA Consultancy services              0-0 Yrs   \n",
       "1                         Jubna              3-5 Yrs   \n",
       "2          Reckon HR consulting              2-5 Yrs   \n",
       "3                         Jubna              3-5 Yrs   \n",
       "4          Reckon HR consulting              2-5 Yrs   \n",
       "5             Replicon Software             5-10 Yrs   \n",
       "6                        TalPro              2-6 Yrs   \n",
       "7                        TalPro              2-4 Yrs   \n",
       "8                        TalPro              2-6 Yrs   \n",
       "9  Gauge Data Solutions Pvt Ltd              2-7 Yrs   \n",
       "\n",
       "                                            Location  \n",
       "0                  Noida, Greater Noida, Delhi / NCR  \n",
       "1                                              Noida  \n",
       "2                                          New Delhi  \n",
       "3                                              Noida  \n",
       "4                                          New Delhi  \n",
       "5  Kolkata, Hyderabad/Secunderabad, Pune, Ahmedab...  \n",
       "6                                   Gurgaon/Gurugram  \n",
       "7                                   Gurgaon/Gurugram  \n",
       "8                                   Gurgaon/Gurugram  \n",
       "9                                              Noida  "
      ]
     },
     "execution_count": 77,
     "metadata": {},
     "output_type": "execute_result"
    }
   ],
   "source": [
    "jobs[:10]"
   ]
  },
  {
   "cell_type": "markdown",
   "id": "cac11b17",
   "metadata": {},
   "source": [
    "### Q4: Write a python program to scrape data for first 10 job results for Data scientist Designation in Noida location. You have to scrape company_name, No. of days ago when job was posted, Rating of the company. "
   ]
  },
  {
   "cell_type": "code",
   "execution_count": 30,
   "id": "e0137a9a",
   "metadata": {},
   "outputs": [],
   "source": [
    "def glassdoor_4():\n",
    "    #Connecting to web driver and going to the url\n",
    "    driver= webdriver.Chrome(r\"C:\\Users\\R P SHUKLA\\Downloads\\chromedriver.exe\")\n",
    "    driver.get('https://www.glassdoor.co.in/index.htm')\n",
    "    \n",
    "    #Entering Data Scientist in job title field\n",
    "    srch_bar=driver.find_element_by_id(\"sc.keyword\")\n",
    "    srch_bar.clear()\n",
    "    srch_bar.send_keys('Data Scientist')\n",
    "    \n",
    "    #Entering Noida in location field\n",
    "    loc_bar=driver.find_element_by_id(\"sc.location\")\n",
    "    loc_bar.clear()\n",
    "    loc_bar.send_keys('Noida')\n",
    "    \n",
    "    #Clicking on search\n",
    "    srch=driver.find_element_by_xpath(\"//button[@class='gd-ui-button ml-std col-auto SearchStyles__newSearchButton css-iixdfr']\")\n",
    "    srch.click()\n",
    "    \n",
    "    #Creating empty lists to store data\n",
    "    company=[]\n",
    "    days=[]\n",
    "    rating=[]\n",
    "    \n",
    "    #Fetching company name, no of days ago job was posted and rating of the company\n",
    "    for i in driver.find_elements_by_xpath(\"//a[@class=' css-l2wjgv e1n63ojh0 jobLink']\"):\n",
    "        company.append(i.text)\n",
    "    for j in driver.find_elements_by_xpath(\"//div[@class='d-flex align-items-end pl-std css-mi55ob']\"):\n",
    "        days.append(j.text)\n",
    "    for k in driver.find_elements_by_xpath(\"//div[@class='d-flex flex-column css-x75kgh e1rrn5ka3']\"):\n",
    "        rating.append(k.text)\n",
    "        \n",
    "    #Creating data frame and storing the fetched data\n",
    "    jobs=pd.DataFrame({'Company Name':company[:10],'No. of days posted ago':days[:10],'Rating':rating[:10]})\n",
    "    jobs=jobs.replace('','NA')\n",
    "    return jobs"
   ]
  },
  {
   "cell_type": "code",
   "execution_count": 32,
   "id": "3ec5f1ad",
   "metadata": {},
   "outputs": [
    {
     "ename": "NoSuchElementException",
     "evalue": "Message: no such element: Unable to locate element: {\"method\":\"css selector\",\"selector\":\"[id=\"sc.keyword\"]\"}\n  (Session info: chrome=91.0.4472.124)\n",
     "output_type": "error",
     "traceback": [
      "\u001b[1;31m---------------------------------------------------------------------------\u001b[0m",
      "\u001b[1;31mNoSuchElementException\u001b[0m                    Traceback (most recent call last)",
      "\u001b[1;32m<ipython-input-32-3f77292c7a3e>\u001b[0m in \u001b[0;36m<module>\u001b[1;34m\u001b[0m\n\u001b[1;32m----> 1\u001b[1;33m \u001b[0mglassdoor_4\u001b[0m\u001b[1;33m(\u001b[0m\u001b[1;33m)\u001b[0m\u001b[1;33m\u001b[0m\u001b[1;33m\u001b[0m\u001b[0m\n\u001b[0m",
      "\u001b[1;32m<ipython-input-30-d6bf786c5e84>\u001b[0m in \u001b[0;36mglassdoor_4\u001b[1;34m()\u001b[0m\n\u001b[0;32m      5\u001b[0m \u001b[1;33m\u001b[0m\u001b[0m\n\u001b[0;32m      6\u001b[0m     \u001b[1;31m#Entering Data Scientist in job title field\u001b[0m\u001b[1;33m\u001b[0m\u001b[1;33m\u001b[0m\u001b[1;33m\u001b[0m\u001b[0m\n\u001b[1;32m----> 7\u001b[1;33m     \u001b[0msrch_bar\u001b[0m\u001b[1;33m=\u001b[0m\u001b[0mdriver\u001b[0m\u001b[1;33m.\u001b[0m\u001b[0mfind_element_by_id\u001b[0m\u001b[1;33m(\u001b[0m\u001b[1;34m\"sc.keyword\"\u001b[0m\u001b[1;33m)\u001b[0m\u001b[1;33m\u001b[0m\u001b[1;33m\u001b[0m\u001b[0m\n\u001b[0m\u001b[0;32m      8\u001b[0m     \u001b[0msrch_bar\u001b[0m\u001b[1;33m.\u001b[0m\u001b[0mclear\u001b[0m\u001b[1;33m(\u001b[0m\u001b[1;33m)\u001b[0m\u001b[1;33m\u001b[0m\u001b[1;33m\u001b[0m\u001b[0m\n\u001b[0;32m      9\u001b[0m     \u001b[0msrch_bar\u001b[0m\u001b[1;33m.\u001b[0m\u001b[0msend_keys\u001b[0m\u001b[1;33m(\u001b[0m\u001b[1;34m'Data Scientist'\u001b[0m\u001b[1;33m)\u001b[0m\u001b[1;33m\u001b[0m\u001b[1;33m\u001b[0m\u001b[0m\n",
      "\u001b[1;32m~\\anaconda3\\lib\\site-packages\\selenium\\webdriver\\remote\\webdriver.py\u001b[0m in \u001b[0;36mfind_element_by_id\u001b[1;34m(self, id_)\u001b[0m\n\u001b[0;32m    358\u001b[0m             \u001b[0melement\u001b[0m \u001b[1;33m=\u001b[0m \u001b[0mdriver\u001b[0m\u001b[1;33m.\u001b[0m\u001b[0mfind_element_by_id\u001b[0m\u001b[1;33m(\u001b[0m\u001b[1;34m'foo'\u001b[0m\u001b[1;33m)\u001b[0m\u001b[1;33m\u001b[0m\u001b[1;33m\u001b[0m\u001b[0m\n\u001b[0;32m    359\u001b[0m         \"\"\"\n\u001b[1;32m--> 360\u001b[1;33m         \u001b[1;32mreturn\u001b[0m \u001b[0mself\u001b[0m\u001b[1;33m.\u001b[0m\u001b[0mfind_element\u001b[0m\u001b[1;33m(\u001b[0m\u001b[0mby\u001b[0m\u001b[1;33m=\u001b[0m\u001b[0mBy\u001b[0m\u001b[1;33m.\u001b[0m\u001b[0mID\u001b[0m\u001b[1;33m,\u001b[0m \u001b[0mvalue\u001b[0m\u001b[1;33m=\u001b[0m\u001b[0mid_\u001b[0m\u001b[1;33m)\u001b[0m\u001b[1;33m\u001b[0m\u001b[1;33m\u001b[0m\u001b[0m\n\u001b[0m\u001b[0;32m    361\u001b[0m \u001b[1;33m\u001b[0m\u001b[0m\n\u001b[0;32m    362\u001b[0m     \u001b[1;32mdef\u001b[0m \u001b[0mfind_elements_by_id\u001b[0m\u001b[1;33m(\u001b[0m\u001b[0mself\u001b[0m\u001b[1;33m,\u001b[0m \u001b[0mid_\u001b[0m\u001b[1;33m)\u001b[0m\u001b[1;33m:\u001b[0m\u001b[1;33m\u001b[0m\u001b[1;33m\u001b[0m\u001b[0m\n",
      "\u001b[1;32m~\\anaconda3\\lib\\site-packages\\selenium\\webdriver\\remote\\webdriver.py\u001b[0m in \u001b[0;36mfind_element\u001b[1;34m(self, by, value)\u001b[0m\n\u001b[0;32m    974\u001b[0m                 \u001b[0mby\u001b[0m \u001b[1;33m=\u001b[0m \u001b[0mBy\u001b[0m\u001b[1;33m.\u001b[0m\u001b[0mCSS_SELECTOR\u001b[0m\u001b[1;33m\u001b[0m\u001b[1;33m\u001b[0m\u001b[0m\n\u001b[0;32m    975\u001b[0m                 \u001b[0mvalue\u001b[0m \u001b[1;33m=\u001b[0m \u001b[1;34m'[name=\"%s\"]'\u001b[0m \u001b[1;33m%\u001b[0m \u001b[0mvalue\u001b[0m\u001b[1;33m\u001b[0m\u001b[1;33m\u001b[0m\u001b[0m\n\u001b[1;32m--> 976\u001b[1;33m         return self.execute(Command.FIND_ELEMENT, {\n\u001b[0m\u001b[0;32m    977\u001b[0m             \u001b[1;34m'using'\u001b[0m\u001b[1;33m:\u001b[0m \u001b[0mby\u001b[0m\u001b[1;33m,\u001b[0m\u001b[1;33m\u001b[0m\u001b[1;33m\u001b[0m\u001b[0m\n\u001b[0;32m    978\u001b[0m             'value': value})['value']\n",
      "\u001b[1;32m~\\anaconda3\\lib\\site-packages\\selenium\\webdriver\\remote\\webdriver.py\u001b[0m in \u001b[0;36mexecute\u001b[1;34m(self, driver_command, params)\u001b[0m\n\u001b[0;32m    319\u001b[0m         \u001b[0mresponse\u001b[0m \u001b[1;33m=\u001b[0m \u001b[0mself\u001b[0m\u001b[1;33m.\u001b[0m\u001b[0mcommand_executor\u001b[0m\u001b[1;33m.\u001b[0m\u001b[0mexecute\u001b[0m\u001b[1;33m(\u001b[0m\u001b[0mdriver_command\u001b[0m\u001b[1;33m,\u001b[0m \u001b[0mparams\u001b[0m\u001b[1;33m)\u001b[0m\u001b[1;33m\u001b[0m\u001b[1;33m\u001b[0m\u001b[0m\n\u001b[0;32m    320\u001b[0m         \u001b[1;32mif\u001b[0m \u001b[0mresponse\u001b[0m\u001b[1;33m:\u001b[0m\u001b[1;33m\u001b[0m\u001b[1;33m\u001b[0m\u001b[0m\n\u001b[1;32m--> 321\u001b[1;33m             \u001b[0mself\u001b[0m\u001b[1;33m.\u001b[0m\u001b[0merror_handler\u001b[0m\u001b[1;33m.\u001b[0m\u001b[0mcheck_response\u001b[0m\u001b[1;33m(\u001b[0m\u001b[0mresponse\u001b[0m\u001b[1;33m)\u001b[0m\u001b[1;33m\u001b[0m\u001b[1;33m\u001b[0m\u001b[0m\n\u001b[0m\u001b[0;32m    322\u001b[0m             response['value'] = self._unwrap_value(\n\u001b[0;32m    323\u001b[0m                 response.get('value', None))\n",
      "\u001b[1;32m~\\anaconda3\\lib\\site-packages\\selenium\\webdriver\\remote\\errorhandler.py\u001b[0m in \u001b[0;36mcheck_response\u001b[1;34m(self, response)\u001b[0m\n\u001b[0;32m    240\u001b[0m                 \u001b[0malert_text\u001b[0m \u001b[1;33m=\u001b[0m \u001b[0mvalue\u001b[0m\u001b[1;33m[\u001b[0m\u001b[1;34m'alert'\u001b[0m\u001b[1;33m]\u001b[0m\u001b[1;33m.\u001b[0m\u001b[0mget\u001b[0m\u001b[1;33m(\u001b[0m\u001b[1;34m'text'\u001b[0m\u001b[1;33m)\u001b[0m\u001b[1;33m\u001b[0m\u001b[1;33m\u001b[0m\u001b[0m\n\u001b[0;32m    241\u001b[0m             \u001b[1;32mraise\u001b[0m \u001b[0mexception_class\u001b[0m\u001b[1;33m(\u001b[0m\u001b[0mmessage\u001b[0m\u001b[1;33m,\u001b[0m \u001b[0mscreen\u001b[0m\u001b[1;33m,\u001b[0m \u001b[0mstacktrace\u001b[0m\u001b[1;33m,\u001b[0m \u001b[0malert_text\u001b[0m\u001b[1;33m)\u001b[0m\u001b[1;33m\u001b[0m\u001b[1;33m\u001b[0m\u001b[0m\n\u001b[1;32m--> 242\u001b[1;33m         \u001b[1;32mraise\u001b[0m \u001b[0mexception_class\u001b[0m\u001b[1;33m(\u001b[0m\u001b[0mmessage\u001b[0m\u001b[1;33m,\u001b[0m \u001b[0mscreen\u001b[0m\u001b[1;33m,\u001b[0m \u001b[0mstacktrace\u001b[0m\u001b[1;33m)\u001b[0m\u001b[1;33m\u001b[0m\u001b[1;33m\u001b[0m\u001b[0m\n\u001b[0m\u001b[0;32m    243\u001b[0m \u001b[1;33m\u001b[0m\u001b[0m\n\u001b[0;32m    244\u001b[0m     \u001b[1;32mdef\u001b[0m \u001b[0m_value_or_default\u001b[0m\u001b[1;33m(\u001b[0m\u001b[0mself\u001b[0m\u001b[1;33m,\u001b[0m \u001b[0mobj\u001b[0m\u001b[1;33m,\u001b[0m \u001b[0mkey\u001b[0m\u001b[1;33m,\u001b[0m \u001b[0mdefault\u001b[0m\u001b[1;33m)\u001b[0m\u001b[1;33m:\u001b[0m\u001b[1;33m\u001b[0m\u001b[1;33m\u001b[0m\u001b[0m\n",
      "\u001b[1;31mNoSuchElementException\u001b[0m: Message: no such element: Unable to locate element: {\"method\":\"css selector\",\"selector\":\"[id=\"sc.keyword\"]\"}\n  (Session info: chrome=91.0.4472.124)\n"
     ]
    }
   ],
   "source": [
    "glassdoor_4()"
   ]
  },
  {
   "cell_type": "markdown",
   "id": "7df0762c",
   "metadata": {},
   "source": [
    "### Q5: Write a python program to scrape the salary data for Data Scientist designation in Noida location. "
   ]
  },
  {
   "cell_type": "code",
   "execution_count": 183,
   "id": "20ecbe18",
   "metadata": {},
   "outputs": [],
   "source": [
    "import selenium \n",
    "import pandas as pd\n",
    "from selenium import webdriver"
   ]
  },
  {
   "cell_type": "code",
   "execution_count": 184,
   "id": "20bfe685",
   "metadata": {},
   "outputs": [],
   "source": [
    "driver = webdriver.Chrome(r\"C:\\Users\\R P SHUKLA\\Downloads\\chromedriver.exe\")"
   ]
  },
  {
   "cell_type": "code",
   "execution_count": 185,
   "id": "ae4465f1",
   "metadata": {},
   "outputs": [],
   "source": [
    "url4 = \"https://www.glassdoor.co.in/Salaries/index.htm\"\n",
    "driver.get(url)"
   ]
  },
  {
   "cell_type": "code",
   "execution_count": 186,
   "id": "babda426",
   "metadata": {},
   "outputs": [],
   "source": [
    "search_designation = driver.find_element_by_id('KeywordSearch')"
   ]
  },
  {
   "cell_type": "code",
   "execution_count": 187,
   "id": "e05a78b3",
   "metadata": {},
   "outputs": [],
   "source": [
    "search_designation.send_keys('Data Scientist')"
   ]
  },
  {
   "cell_type": "code",
   "execution_count": 188,
   "id": "e1f2fed5",
   "metadata": {},
   "outputs": [],
   "source": [
    "search_location = driver.find_element_by_id('LocationSearch')"
   ]
  },
  {
   "cell_type": "code",
   "execution_count": 189,
   "id": "f0d2a707",
   "metadata": {},
   "outputs": [],
   "source": [
    "search_location.send_keys('Noida')"
   ]
  },
  {
   "cell_type": "code",
   "execution_count": 190,
   "id": "a39e4754",
   "metadata": {},
   "outputs": [
    {
     "data": {
      "text/plain": [
       "<selenium.webdriver.remote.webelement.WebElement (session=\"2af18fabfc874179b7b9eedc768d9d80\", element=\"0c9a898d-c6e2-4017-a446-f4eec1fab227\")>"
      ]
     },
     "execution_count": 190,
     "metadata": {},
     "output_type": "execute_result"
    }
   ],
   "source": [
    "search = driver.find_element_by_xpath(\"//button[@class='gd-btn-mkt']\")\n",
    "search"
   ]
  },
  {
   "cell_type": "code",
   "execution_count": 191,
   "id": "2adff27f",
   "metadata": {},
   "outputs": [],
   "source": [
    "search.click()"
   ]
  },
  {
   "cell_type": "code",
   "execution_count": 194,
   "id": "b1e5f540",
   "metadata": {},
   "outputs": [
    {
     "data": {
      "text/plain": [
       "[]"
      ]
     },
     "execution_count": 194,
     "metadata": {},
     "output_type": "execute_result"
    }
   ],
   "source": [
    "ten_company = driver.find_elements_by_xpath(\"//a[@class='css-f3vw95 e1aj7ssy3']\")\n",
    "ten_company[:10]"
   ]
  },
  {
   "cell_type": "code",
   "execution_count": 195,
   "id": "160bc61a",
   "metadata": {},
   "outputs": [
    {
     "data": {
      "text/plain": [
       "[]"
      ]
     },
     "execution_count": 195,
     "metadata": {},
     "output_type": "execute_result"
    }
   ],
   "source": [
    "# looping the companies\n",
    "\n",
    "Companies = []\n",
    "\n",
    "for i in ten_company:\n",
    "    Companies.append(i.text)\n",
    "Companies[:10]"
   ]
  },
  {
   "cell_type": "code",
   "execution_count": 196,
   "id": "aa5217d0",
   "metadata": {},
   "outputs": [
    {
     "data": {
      "text/plain": [
       "[]"
      ]
     },
     "execution_count": 196,
     "metadata": {},
     "output_type": "execute_result"
    }
   ],
   "source": [
    "salary = driver.find_elements_by_xpath(\"//span[@class='d-block d-lg-none m-0 css-1b6bxoo']\")\n",
    "salary[:10]"
   ]
  },
  {
   "cell_type": "code",
   "execution_count": 197,
   "id": "512e939d",
   "metadata": {},
   "outputs": [
    {
     "data": {
      "text/plain": [
       "[]"
      ]
     },
     "execution_count": 197,
     "metadata": {},
     "output_type": "execute_result"
    }
   ],
   "source": [
    "# looping min & max salary\n",
    "\n",
    "Min_Max_Salary = []\n",
    "\n",
    "for i in salary:\n",
    "    Min_Max_Salary.append(i.text)\n",
    "Min_Max_Salary[:10]"
   ]
  },
  {
   "cell_type": "code",
   "execution_count": 198,
   "id": "89b10e0a",
   "metadata": {},
   "outputs": [
    {
     "data": {
      "text/plain": [
       "[]"
      ]
     },
     "execution_count": 198,
     "metadata": {},
     "output_type": "execute_result"
    }
   ],
   "source": [
    "avg_salaries = driver.find_elements_by_xpath(\"//div[@class='col-12 col-lg-4 px-lg-0 d-flex align-items-baseline']\")\n",
    "avg_salaries[:10]"
   ]
  },
  {
   "cell_type": "code",
   "execution_count": 199,
   "id": "2b70c183",
   "metadata": {},
   "outputs": [
    {
     "data": {
      "text/plain": [
       "[]"
      ]
     },
     "execution_count": 199,
     "metadata": {},
     "output_type": "execute_result"
    }
   ],
   "source": [
    "Average_salary = []\n",
    "\n",
    "for i in avg_salaries:\n",
    "    Average_salary.append(i.text)\n",
    "Average_salary[:10]"
   ]
  },
  {
   "cell_type": "code",
   "execution_count": 200,
   "id": "8aa3f652",
   "metadata": {},
   "outputs": [
    {
     "data": {
      "text/plain": [
       "[]"
      ]
     },
     "execution_count": 200,
     "metadata": {},
     "output_type": "execute_result"
    }
   ],
   "source": [
    "company_rating = driver.find_elements_by_xpath(\"//span[@class='m-0 css-kyx745']\")\n",
    "company_rating[:10]"
   ]
  },
  {
   "cell_type": "code",
   "execution_count": 201,
   "id": "10439e42",
   "metadata": {},
   "outputs": [
    {
     "data": {
      "text/plain": [
       "[]"
      ]
     },
     "execution_count": 201,
     "metadata": {},
     "output_type": "execute_result"
    }
   ],
   "source": [
    "Co_rating = []\n",
    "\n",
    "for i in company_rating:\n",
    "    Co_rating.append(i.text)\n",
    "Co_rating[:10]"
   ]
  },
  {
   "cell_type": "code",
   "execution_count": 202,
   "id": "444f7405",
   "metadata": {},
   "outputs": [
    {
     "name": "stdout",
     "output_type": "stream",
     "text": [
      "[]\n",
      "[]\n",
      "[]\n",
      "[]\n"
     ]
    }
   ],
   "source": [
    "print(Companies)\n",
    "print(Min_Max_Salary)\n",
    "print(Average_salary)\n",
    "print(Co_rating)"
   ]
  },
  {
   "cell_type": "code",
   "execution_count": 203,
   "id": "484c5ff4",
   "metadata": {},
   "outputs": [
    {
     "name": "stdout",
     "output_type": "stream",
     "text": [
      "0\n",
      "0\n",
      "0\n",
      "0\n"
     ]
    }
   ],
   "source": [
    "print(len(Companies))\n",
    "print(len(Min_Max_Salary))\n",
    "print(len(Average_salary))\n",
    "print(len(Co_rating))"
   ]
  },
  {
   "cell_type": "code",
   "execution_count": 204,
   "id": "f0ef8bdc",
   "metadata": {},
   "outputs": [],
   "source": [
    "df=pd.DataFrame({})\n",
    "df['Company_Name']=Companies\n",
    "df['Salary_min_max']=Min_Max_Salary\n",
    "df['Avg_salary']=Average_salary\n",
    "df['Companies_Rating']=Co_rating"
   ]
  },
  {
   "cell_type": "code",
   "execution_count": 205,
   "id": "90b6d83f",
   "metadata": {},
   "outputs": [
    {
     "data": {
      "text/html": [
       "<div>\n",
       "<style scoped>\n",
       "    .dataframe tbody tr th:only-of-type {\n",
       "        vertical-align: middle;\n",
       "    }\n",
       "\n",
       "    .dataframe tbody tr th {\n",
       "        vertical-align: top;\n",
       "    }\n",
       "\n",
       "    .dataframe thead th {\n",
       "        text-align: right;\n",
       "    }\n",
       "</style>\n",
       "<table border=\"1\" class=\"dataframe\">\n",
       "  <thead>\n",
       "    <tr style=\"text-align: right;\">\n",
       "      <th></th>\n",
       "      <th>Company_Name</th>\n",
       "      <th>Salary_min_max</th>\n",
       "      <th>Avg_salary</th>\n",
       "      <th>Companies_Rating</th>\n",
       "    </tr>\n",
       "  </thead>\n",
       "  <tbody>\n",
       "  </tbody>\n",
       "</table>\n",
       "</div>"
      ],
      "text/plain": [
       "Empty DataFrame\n",
       "Columns: [Company_Name, Salary_min_max, Avg_salary, Companies_Rating]\n",
       "Index: []"
      ]
     },
     "execution_count": 205,
     "metadata": {},
     "output_type": "execute_result"
    }
   ],
   "source": [
    "\n",
    "df[:10]"
   ]
  },
  {
   "cell_type": "markdown",
   "id": "202ac678",
   "metadata": {},
   "source": [
    "# Q6 : Scrape data of first 100 sunglasses listings on flipkart.com. "
   ]
  },
  {
   "cell_type": "code",
   "execution_count": 354,
   "id": "14e0627b",
   "metadata": {},
   "outputs": [],
   "source": [
    "import selenium \n",
    "import pandas as pd\n",
    "from selenium import webdriver\n",
    "import time\n",
    "from selenium.common.exceptions import NoSuchElementException"
   ]
  },
  {
   "cell_type": "code",
   "execution_count": 355,
   "id": "aa6cafaf",
   "metadata": {},
   "outputs": [],
   "source": [
    "driver = webdriver.Chrome(r\"C:\\Users\\R P SHUKLA\\Downloads\\chromedriver.exe\")"
   ]
  },
  {
   "cell_type": "code",
   "execution_count": 356,
   "id": "544fc632",
   "metadata": {},
   "outputs": [],
   "source": [
    "url6 = 'https://www.flipkart.com/'\n",
    "\n",
    "driver.get(url6)"
   ]
  },
  {
   "cell_type": "code",
   "execution_count": 357,
   "id": "e3bdd862",
   "metadata": {},
   "outputs": [
    {
     "data": {
      "text/plain": [
       "<selenium.webdriver.remote.webelement.WebElement (session=\"afdecdcd50121fcd333b0bb341df7390\", element=\"f490eb58-c806-46da-ac8b-ddd35598470b\")>"
      ]
     },
     "execution_count": 357,
     "metadata": {},
     "output_type": "execute_result"
    }
   ],
   "source": [
    "search = driver.find_element_by_xpath('//input[@class=\"_3704LK\"]')\n",
    "\n",
    "search"
   ]
  },
  {
   "cell_type": "code",
   "execution_count": 358,
   "id": "e1481956",
   "metadata": {},
   "outputs": [],
   "source": [
    "search.send_keys('sunglasses')"
   ]
  },
  {
   "cell_type": "code",
   "execution_count": null,
   "id": "5ef6e49c",
   "metadata": {},
   "outputs": [],
   "source": []
  },
  {
   "cell_type": "code",
   "execution_count": 368,
   "id": "9796cf7e",
   "metadata": {},
   "outputs": [],
   "source": [
    "src_bttn = driver.find_element_by_xpath('//button[@class=\"L0Z3Pu\"]')\n",
    "\n",
    "src_bttn.click()"
   ]
  },
  {
   "cell_type": "code",
   "execution_count": 369,
   "id": "77e24bbb",
   "metadata": {},
   "outputs": [
    {
     "data": {
      "text/plain": [
       "[<selenium.webdriver.remote.webelement.WebElement (session=\"afdecdcd50121fcd333b0bb341df7390\", element=\"b27492c6-ef8f-43dd-b542-5c8dc5027b2a\")>,\n",
       " <selenium.webdriver.remote.webelement.WebElement (session=\"afdecdcd50121fcd333b0bb341df7390\", element=\"f9c880d4-c69d-4214-a025-b434652295b8\")>,\n",
       " <selenium.webdriver.remote.webelement.WebElement (session=\"afdecdcd50121fcd333b0bb341df7390\", element=\"4d6e0e4d-daba-410b-9d8c-9363bb65f5e8\")>,\n",
       " <selenium.webdriver.remote.webelement.WebElement (session=\"afdecdcd50121fcd333b0bb341df7390\", element=\"69049b18-d9e3-4467-aa72-92dc1f5cdf3f\")>,\n",
       " <selenium.webdriver.remote.webelement.WebElement (session=\"afdecdcd50121fcd333b0bb341df7390\", element=\"5e90c654-09e7-4c01-b50b-4c26581f26a3\")>,\n",
       " <selenium.webdriver.remote.webelement.WebElement (session=\"afdecdcd50121fcd333b0bb341df7390\", element=\"85d73d50-a0ab-4a87-a2b2-022f06ab7726\")>,\n",
       " <selenium.webdriver.remote.webelement.WebElement (session=\"afdecdcd50121fcd333b0bb341df7390\", element=\"341006db-eef5-4bfd-bbfe-c0d97848fd23\")>,\n",
       " <selenium.webdriver.remote.webelement.WebElement (session=\"afdecdcd50121fcd333b0bb341df7390\", element=\"e5a7479b-2a97-4a53-9eb7-ed3aeafad3f4\")>,\n",
       " <selenium.webdriver.remote.webelement.WebElement (session=\"afdecdcd50121fcd333b0bb341df7390\", element=\"320f5e30-a49a-4104-ace9-f696cb8a943f\")>,\n",
       " <selenium.webdriver.remote.webelement.WebElement (session=\"afdecdcd50121fcd333b0bb341df7390\", element=\"92c784f6-7b54-4e3a-bd08-04f968238a01\")>,\n",
       " <selenium.webdriver.remote.webelement.WebElement (session=\"afdecdcd50121fcd333b0bb341df7390\", element=\"a4b14a3b-fca8-4980-b3a4-3b24bdff10b3\")>,\n",
       " <selenium.webdriver.remote.webelement.WebElement (session=\"afdecdcd50121fcd333b0bb341df7390\", element=\"5e77b13e-e6a6-45fa-bdf6-c94a12bebe06\")>,\n",
       " <selenium.webdriver.remote.webelement.WebElement (session=\"afdecdcd50121fcd333b0bb341df7390\", element=\"6ed153e8-8361-4d42-a910-3c774e0b601a\")>,\n",
       " <selenium.webdriver.remote.webelement.WebElement (session=\"afdecdcd50121fcd333b0bb341df7390\", element=\"4a5f4c6b-fbb3-4c09-b46a-6a13b740f986\")>,\n",
       " <selenium.webdriver.remote.webelement.WebElement (session=\"afdecdcd50121fcd333b0bb341df7390\", element=\"375ebf73-41ab-4c27-a26c-4fba30f7ba66\")>,\n",
       " <selenium.webdriver.remote.webelement.WebElement (session=\"afdecdcd50121fcd333b0bb341df7390\", element=\"f42e6f8c-061e-4025-9b99-9ed3bb205218\")>,\n",
       " <selenium.webdriver.remote.webelement.WebElement (session=\"afdecdcd50121fcd333b0bb341df7390\", element=\"07502fec-249f-4a68-a3a6-6bc502dd93ad\")>,\n",
       " <selenium.webdriver.remote.webelement.WebElement (session=\"afdecdcd50121fcd333b0bb341df7390\", element=\"98a0cdcb-362c-414e-8803-beb8f69849a8\")>,\n",
       " <selenium.webdriver.remote.webelement.WebElement (session=\"afdecdcd50121fcd333b0bb341df7390\", element=\"2d6f1664-37b6-4278-8b1b-4c9fcdca7efc\")>,\n",
       " <selenium.webdriver.remote.webelement.WebElement (session=\"afdecdcd50121fcd333b0bb341df7390\", element=\"3f00578e-495a-4d2a-b1b2-9f2ced3ec0c1\")>,\n",
       " <selenium.webdriver.remote.webelement.WebElement (session=\"afdecdcd50121fcd333b0bb341df7390\", element=\"884c9e76-f803-4207-8574-0f11a63bd909\")>,\n",
       " <selenium.webdriver.remote.webelement.WebElement (session=\"afdecdcd50121fcd333b0bb341df7390\", element=\"d949f609-96c6-406b-af5d-666a1977937c\")>,\n",
       " <selenium.webdriver.remote.webelement.WebElement (session=\"afdecdcd50121fcd333b0bb341df7390\", element=\"fedec1aa-b493-48bc-b3af-508879ee5820\")>,\n",
       " <selenium.webdriver.remote.webelement.WebElement (session=\"afdecdcd50121fcd333b0bb341df7390\", element=\"fc2cd1cb-44a7-4524-afd0-4efd16559c05\")>,\n",
       " <selenium.webdriver.remote.webelement.WebElement (session=\"afdecdcd50121fcd333b0bb341df7390\", element=\"2cd758bd-90a2-434f-b930-caaa18e6e701\")>,\n",
       " <selenium.webdriver.remote.webelement.WebElement (session=\"afdecdcd50121fcd333b0bb341df7390\", element=\"35eef33d-d30d-4d93-8719-549f9eb83875\")>,\n",
       " <selenium.webdriver.remote.webelement.WebElement (session=\"afdecdcd50121fcd333b0bb341df7390\", element=\"5366b0a0-f7f1-4ff5-96c6-200033e174b5\")>,\n",
       " <selenium.webdriver.remote.webelement.WebElement (session=\"afdecdcd50121fcd333b0bb341df7390\", element=\"a70b9704-cc59-4df5-90db-c0b1c383f3e1\")>,\n",
       " <selenium.webdriver.remote.webelement.WebElement (session=\"afdecdcd50121fcd333b0bb341df7390\", element=\"9a445517-021a-466c-814b-1983d745eced\")>,\n",
       " <selenium.webdriver.remote.webelement.WebElement (session=\"afdecdcd50121fcd333b0bb341df7390\", element=\"f733922c-d71b-4910-9048-e39210584d3b\")>,\n",
       " <selenium.webdriver.remote.webelement.WebElement (session=\"afdecdcd50121fcd333b0bb341df7390\", element=\"704cd462-407a-4acd-a97b-d7caaee6af74\")>,\n",
       " <selenium.webdriver.remote.webelement.WebElement (session=\"afdecdcd50121fcd333b0bb341df7390\", element=\"9a9a66d1-56a2-495c-a2bb-7a46372d71b1\")>,\n",
       " <selenium.webdriver.remote.webelement.WebElement (session=\"afdecdcd50121fcd333b0bb341df7390\", element=\"0c63d7b4-6b42-490c-8f42-84dfde1efe20\")>,\n",
       " <selenium.webdriver.remote.webelement.WebElement (session=\"afdecdcd50121fcd333b0bb341df7390\", element=\"4d602f7c-2884-458c-945f-c0614385f464\")>,\n",
       " <selenium.webdriver.remote.webelement.WebElement (session=\"afdecdcd50121fcd333b0bb341df7390\", element=\"7206e816-8d1e-4836-b71a-e9b33cb7eb54\")>,\n",
       " <selenium.webdriver.remote.webelement.WebElement (session=\"afdecdcd50121fcd333b0bb341df7390\", element=\"e57f8e89-3c2d-4c3e-855e-f89775d5a4ec\")>,\n",
       " <selenium.webdriver.remote.webelement.WebElement (session=\"afdecdcd50121fcd333b0bb341df7390\", element=\"017f05b3-b132-40c7-a3e8-b7663beb31d8\")>,\n",
       " <selenium.webdriver.remote.webelement.WebElement (session=\"afdecdcd50121fcd333b0bb341df7390\", element=\"9609762c-caed-460c-ad9d-65f739d31a8a\")>,\n",
       " <selenium.webdriver.remote.webelement.WebElement (session=\"afdecdcd50121fcd333b0bb341df7390\", element=\"703edf40-dc08-4cf3-8b4d-c52e6ae9d891\")>,\n",
       " <selenium.webdriver.remote.webelement.WebElement (session=\"afdecdcd50121fcd333b0bb341df7390\", element=\"5820da6d-791f-4c89-b46b-75d5e61a3694\")>]"
      ]
     },
     "execution_count": 369,
     "metadata": {},
     "output_type": "execute_result"
    }
   ],
   "source": [
    "brand_tag1 = driver.find_elements_by_xpath('//div[@class=\"_2WkVRV\"]')\n",
    "brand_tag1"
   ]
  },
  {
   "cell_type": "code",
   "execution_count": 370,
   "id": "39b959ca",
   "metadata": {},
   "outputs": [
    {
     "data": {
      "text/plain": [
       "['hipe',\n",
       " 'ROYAL SON',\n",
       " 'kingsunglasses',\n",
       " 'Fastrack',\n",
       " 'Fastrack',\n",
       " 'PIRASO',\n",
       " 'Fastrack',\n",
       " 'Silver Kartz',\n",
       " 'PHENOMENAL',\n",
       " 'kingsunglasses',\n",
       " 'PIRASO',\n",
       " 'DAHAAZIL',\n",
       " 'PIRASO',\n",
       " 'GANSTA',\n",
       " 'PHENOMENAL',\n",
       " 'Silver Kartz',\n",
       " 'kingsunglasses',\n",
       " 'Villain',\n",
       " 'Fastrack',\n",
       " 'ROYAL SON',\n",
       " 'kingsunglasses',\n",
       " 'Elligator',\n",
       " 'Fastrack',\n",
       " 'ROYAL SON',\n",
       " 'PIRASO',\n",
       " 'hipe',\n",
       " 'kingsunglasses',\n",
       " 'style guru',\n",
       " 'HIPPON',\n",
       " 'Fastrack',\n",
       " 'PHENOMENAL',\n",
       " 'Silver Kartz',\n",
       " 'ROZZETTA CRAFT',\n",
       " 'kingsunglasses',\n",
       " 'Fastrack',\n",
       " 'VINCENT CHASE',\n",
       " 'ROZZETTA CRAFT',\n",
       " 'Flizz',\n",
       " 'Fastrack',\n",
       " 'ROYAL SON']"
      ]
     },
     "execution_count": 370,
     "metadata": {},
     "output_type": "execute_result"
    }
   ],
   "source": [
    "brand_name1 = []\n",
    "for b in brand_tag1:\n",
    "    brand_name1.append(b.text)\n",
    "    \n",
    "brand_name1"
   ]
  },
  {
   "cell_type": "code",
   "execution_count": 371,
   "id": "4ae89024",
   "metadata": {},
   "outputs": [
    {
     "data": {
      "text/plain": [
       "40"
      ]
     },
     "execution_count": 371,
     "metadata": {},
     "output_type": "execute_result"
    }
   ],
   "source": [
    "len (brand_name1)"
   ]
  },
  {
   "cell_type": "code",
   "execution_count": 372,
   "id": "93965b8b",
   "metadata": {},
   "outputs": [
    {
     "data": {
      "text/plain": [
       "[<selenium.webdriver.remote.webelement.WebElement (session=\"afdecdcd50121fcd333b0bb341df7390\", element=\"4d7294b4-0805-4f58-a87b-4650cf2ad85e\")>,\n",
       " <selenium.webdriver.remote.webelement.WebElement (session=\"afdecdcd50121fcd333b0bb341df7390\", element=\"1dd5ad9b-ce96-4399-9136-944160075a56\")>,\n",
       " <selenium.webdriver.remote.webelement.WebElement (session=\"afdecdcd50121fcd333b0bb341df7390\", element=\"ba7b36fc-e347-4886-8457-74169bb87a38\")>,\n",
       " <selenium.webdriver.remote.webelement.WebElement (session=\"afdecdcd50121fcd333b0bb341df7390\", element=\"91895af7-550e-48e7-b028-8e2ee55e9767\")>,\n",
       " <selenium.webdriver.remote.webelement.WebElement (session=\"afdecdcd50121fcd333b0bb341df7390\", element=\"9f9e67c6-d2be-4473-bbc5-6c79d137adce\")>,\n",
       " <selenium.webdriver.remote.webelement.WebElement (session=\"afdecdcd50121fcd333b0bb341df7390\", element=\"d3635ef4-73be-4749-8d58-2403f1207a38\")>,\n",
       " <selenium.webdriver.remote.webelement.WebElement (session=\"afdecdcd50121fcd333b0bb341df7390\", element=\"81182ed8-53f9-43f8-8125-a9dffcfeafcc\")>,\n",
       " <selenium.webdriver.remote.webelement.WebElement (session=\"afdecdcd50121fcd333b0bb341df7390\", element=\"65201289-a58f-49a7-80ca-4c3caa91dd2e\")>,\n",
       " <selenium.webdriver.remote.webelement.WebElement (session=\"afdecdcd50121fcd333b0bb341df7390\", element=\"9046ecb3-e972-489a-a62a-63baee05809e\")>,\n",
       " <selenium.webdriver.remote.webelement.WebElement (session=\"afdecdcd50121fcd333b0bb341df7390\", element=\"a4a2f9d1-a4c1-4f8a-b9cc-8069e0a8ab5b\")>,\n",
       " <selenium.webdriver.remote.webelement.WebElement (session=\"afdecdcd50121fcd333b0bb341df7390\", element=\"7949d0c4-329d-49fb-b417-1d674a17d5ab\")>,\n",
       " <selenium.webdriver.remote.webelement.WebElement (session=\"afdecdcd50121fcd333b0bb341df7390\", element=\"8711be4e-c1ca-4849-9a29-25ba9adc8b8e\")>,\n",
       " <selenium.webdriver.remote.webelement.WebElement (session=\"afdecdcd50121fcd333b0bb341df7390\", element=\"ea5f9792-754c-4441-9ee0-1941be23bd5a\")>,\n",
       " <selenium.webdriver.remote.webelement.WebElement (session=\"afdecdcd50121fcd333b0bb341df7390\", element=\"16cfe2ed-e084-43d0-9050-a99b0e07a84b\")>,\n",
       " <selenium.webdriver.remote.webelement.WebElement (session=\"afdecdcd50121fcd333b0bb341df7390\", element=\"160bf3f2-7faa-43dd-8a79-fc300be0a9df\")>,\n",
       " <selenium.webdriver.remote.webelement.WebElement (session=\"afdecdcd50121fcd333b0bb341df7390\", element=\"14dc7e08-17c6-4689-87d2-d3004008d7c3\")>,\n",
       " <selenium.webdriver.remote.webelement.WebElement (session=\"afdecdcd50121fcd333b0bb341df7390\", element=\"33624495-78ac-44cc-9ef1-833a8738e8a9\")>,\n",
       " <selenium.webdriver.remote.webelement.WebElement (session=\"afdecdcd50121fcd333b0bb341df7390\", element=\"92be2815-f220-456e-a54f-1a81f26f8dd4\")>,\n",
       " <selenium.webdriver.remote.webelement.WebElement (session=\"afdecdcd50121fcd333b0bb341df7390\", element=\"afff15a9-ee19-4d18-a361-45be14a422db\")>,\n",
       " <selenium.webdriver.remote.webelement.WebElement (session=\"afdecdcd50121fcd333b0bb341df7390\", element=\"80576fbf-f5a7-40f0-b664-7f510616bfcf\")>,\n",
       " <selenium.webdriver.remote.webelement.WebElement (session=\"afdecdcd50121fcd333b0bb341df7390\", element=\"c169f872-27b1-413f-ac6d-4c0d61f8ed79\")>,\n",
       " <selenium.webdriver.remote.webelement.WebElement (session=\"afdecdcd50121fcd333b0bb341df7390\", element=\"2828d75f-7bb6-4d12-8744-da8ee0ca64fe\")>,\n",
       " <selenium.webdriver.remote.webelement.WebElement (session=\"afdecdcd50121fcd333b0bb341df7390\", element=\"63e1041c-840e-4a8b-9340-e58be6cd2e58\")>,\n",
       " <selenium.webdriver.remote.webelement.WebElement (session=\"afdecdcd50121fcd333b0bb341df7390\", element=\"c525fa6b-79bd-4055-ad6f-6eebd2d445e8\")>,\n",
       " <selenium.webdriver.remote.webelement.WebElement (session=\"afdecdcd50121fcd333b0bb341df7390\", element=\"39c156fe-6539-46de-8492-4678c6d5bc10\")>,\n",
       " <selenium.webdriver.remote.webelement.WebElement (session=\"afdecdcd50121fcd333b0bb341df7390\", element=\"96b74bcc-819c-4614-ab79-072f64764f8f\")>,\n",
       " <selenium.webdriver.remote.webelement.WebElement (session=\"afdecdcd50121fcd333b0bb341df7390\", element=\"95babde4-d093-4fa2-a183-d50e78f8c208\")>,\n",
       " <selenium.webdriver.remote.webelement.WebElement (session=\"afdecdcd50121fcd333b0bb341df7390\", element=\"7fab3604-42d7-4dfb-b014-725a24a6b1c1\")>,\n",
       " <selenium.webdriver.remote.webelement.WebElement (session=\"afdecdcd50121fcd333b0bb341df7390\", element=\"cd74b469-187e-41fb-9c79-c186dd735ebd\")>,\n",
       " <selenium.webdriver.remote.webelement.WebElement (session=\"afdecdcd50121fcd333b0bb341df7390\", element=\"1ec7bc09-8f9e-472c-8252-fa5137dc1ad8\")>,\n",
       " <selenium.webdriver.remote.webelement.WebElement (session=\"afdecdcd50121fcd333b0bb341df7390\", element=\"99b19143-ed59-4a10-9e67-64b9999fd017\")>,\n",
       " <selenium.webdriver.remote.webelement.WebElement (session=\"afdecdcd50121fcd333b0bb341df7390\", element=\"52078608-4286-4187-8101-b7f3a8c6411f\")>,\n",
       " <selenium.webdriver.remote.webelement.WebElement (session=\"afdecdcd50121fcd333b0bb341df7390\", element=\"4d9c73ba-1c04-4336-87d2-d1358d283353\")>,\n",
       " <selenium.webdriver.remote.webelement.WebElement (session=\"afdecdcd50121fcd333b0bb341df7390\", element=\"a0881b90-100d-44db-948a-d4c48b6af586\")>,\n",
       " <selenium.webdriver.remote.webelement.WebElement (session=\"afdecdcd50121fcd333b0bb341df7390\", element=\"327c0a6f-6c87-4a3f-9f62-1963c6f0e0a4\")>,\n",
       " <selenium.webdriver.remote.webelement.WebElement (session=\"afdecdcd50121fcd333b0bb341df7390\", element=\"3f531225-a591-4d5b-8d57-32e071de0741\")>,\n",
       " <selenium.webdriver.remote.webelement.WebElement (session=\"afdecdcd50121fcd333b0bb341df7390\", element=\"2d38416c-9018-4aa4-8c66-428d9ecbb3c8\")>,\n",
       " <selenium.webdriver.remote.webelement.WebElement (session=\"afdecdcd50121fcd333b0bb341df7390\", element=\"93d8f742-6118-483a-a19d-89c3df0fa0ad\")>,\n",
       " <selenium.webdriver.remote.webelement.WebElement (session=\"afdecdcd50121fcd333b0bb341df7390\", element=\"a3e58699-fd89-42df-b185-4e891b5924da\")>,\n",
       " <selenium.webdriver.remote.webelement.WebElement (session=\"afdecdcd50121fcd333b0bb341df7390\", element=\"6ed5e62c-c3e1-4360-b0b4-208ea9b17fc7\")>]"
      ]
     },
     "execution_count": 372,
     "metadata": {},
     "output_type": "execute_result"
    }
   ],
   "source": [
    "pdt_desc1 = driver.find_elements_by_xpath('//a[@class=\"IRpwTa\"]')\n",
    "\n",
    "pdt_desc1"
   ]
  },
  {
   "cell_type": "code",
   "execution_count": 373,
   "id": "34a066d4",
   "metadata": {},
   "outputs": [
    {
     "data": {
      "text/plain": [
       "['UV Protection, Gradient, Mirrored, Riding Glasses Aviat...',\n",
       " 'Polarized, UV Protection Round Sunglasses (53)',\n",
       " 'Mirrored, UV Protection Wayfarer Sunglasses (Free Size)',\n",
       " 'UV Protection Rectangular Sunglasses (Free Size)',\n",
       " 'UV Protection Wayfarer Sunglasses (Free Size)',\n",
       " 'UV Protection Aviator Sunglasses (54)',\n",
       " 'Gradient, UV Protection Wayfarer Sunglasses (Free Size)',\n",
       " 'UV Protection Aviator Sunglasses (88)',\n",
       " 'UV Protection Round Sunglasses (53)',\n",
       " 'UV Protection Round Sunglasses (Free Size)',\n",
       " 'UV Protection Aviator Sunglasses (58)',\n",
       " 'UV Protection, Night Vision, Riding Glasses Round Sungl...',\n",
       " 'UV Protection Aviator Sunglasses (Free Size)',\n",
       " 'UV Protection Aviator Sunglasses (57)',\n",
       " 'UV Protection Retro Square Sunglasses (Free Size)',\n",
       " 'UV Protection Aviator Sunglasses (62)',\n",
       " 'Mirrored, UV Protection Wayfarer Sunglasses (Free Size)',\n",
       " 'Others Retro Square Sunglasses (Free Size)',\n",
       " 'UV Protection Aviator Sunglasses (Free Size)',\n",
       " 'Polarized, UV Protection Aviator Sunglasses (58)',\n",
       " 'UV Protection Round Sunglasses (54)',\n",
       " 'UV Protection Round Sunglasses (54)',\n",
       " 'UV Protection Wayfarer Sunglasses (Free Size)',\n",
       " 'UV Protection Round Sunglasses (54)',\n",
       " 'UV Protection Aviator Sunglasses (54)',\n",
       " 'Mirrored, UV Protection, Gradient Round Sunglasses (55)',\n",
       " 'UV Protection Rectangular Sunglasses (55)',\n",
       " 'UV Protection Retro Square Sunglasses (Free Size)',\n",
       " 'UV Protection Wayfarer Sunglasses (55)',\n",
       " 'UV Protection Aviator Sunglasses (58)',\n",
       " 'UV Protection, Mirrored Retro Square Sunglasses (53)',\n",
       " 'UV Protection Oval Sunglasses (56)',\n",
       " 'UV Protection Retro Square Sunglasses (Free Size)',\n",
       " 'UV Protection Rectangular Sunglasses (Free Size)',\n",
       " 'UV Protection Aviator Sunglasses (58)',\n",
       " 'by Lenskart UV Protection Wayfarer Sunglasses (49)',\n",
       " 'UV Protection, Gradient Rectangular Sunglasses (Free Si...',\n",
       " 'UV Protection Retro Square Sunglasses (Free Size)',\n",
       " 'UV Protection Wayfarer Sunglasses (56)',\n",
       " 'UV Protection, Gradient Over-sized Sunglasses (59)']"
      ]
     },
     "execution_count": 373,
     "metadata": {},
     "output_type": "execute_result"
    }
   ],
   "source": [
    "product_desc1 = []\n",
    "\n",
    "for p in pdt_desc1:\n",
    "    product_desc1.append(p.text)\n",
    "    \n",
    "product_desc1"
   ]
  },
  {
   "cell_type": "code",
   "execution_count": 374,
   "id": "2fafbc64",
   "metadata": {},
   "outputs": [
    {
     "data": {
      "text/plain": [
       "40"
      ]
     },
     "execution_count": 374,
     "metadata": {},
     "output_type": "execute_result"
    }
   ],
   "source": [
    "\n",
    "len(product_desc1)"
   ]
  },
  {
   "cell_type": "code",
   "execution_count": 375,
   "id": "bcdad88a",
   "metadata": {},
   "outputs": [
    {
     "data": {
      "text/plain": [
       "[<selenium.webdriver.remote.webelement.WebElement (session=\"afdecdcd50121fcd333b0bb341df7390\", element=\"1bc03e22-2251-4cab-b3a6-651ddde0ae2a\")>,\n",
       " <selenium.webdriver.remote.webelement.WebElement (session=\"afdecdcd50121fcd333b0bb341df7390\", element=\"fe4a748c-a0c2-4b35-a88e-ae318a5b3de6\")>,\n",
       " <selenium.webdriver.remote.webelement.WebElement (session=\"afdecdcd50121fcd333b0bb341df7390\", element=\"e288f22e-77b1-4770-812e-b42aee2cf2b3\")>,\n",
       " <selenium.webdriver.remote.webelement.WebElement (session=\"afdecdcd50121fcd333b0bb341df7390\", element=\"be1a5531-c8b9-4bc2-aea3-ed0cc4933395\")>,\n",
       " <selenium.webdriver.remote.webelement.WebElement (session=\"afdecdcd50121fcd333b0bb341df7390\", element=\"9699d02a-32a2-4f62-b02b-c92f536b3164\")>,\n",
       " <selenium.webdriver.remote.webelement.WebElement (session=\"afdecdcd50121fcd333b0bb341df7390\", element=\"54fb8828-9001-4ff5-b506-a668c47a8ba9\")>,\n",
       " <selenium.webdriver.remote.webelement.WebElement (session=\"afdecdcd50121fcd333b0bb341df7390\", element=\"6de0c99a-1c49-46f4-9f21-96696d3e5d2f\")>,\n",
       " <selenium.webdriver.remote.webelement.WebElement (session=\"afdecdcd50121fcd333b0bb341df7390\", element=\"79ad9a83-22a4-41f3-8647-1aa1ad00c6cf\")>,\n",
       " <selenium.webdriver.remote.webelement.WebElement (session=\"afdecdcd50121fcd333b0bb341df7390\", element=\"5b2cac76-79d3-46ef-a1d2-ac752099951b\")>,\n",
       " <selenium.webdriver.remote.webelement.WebElement (session=\"afdecdcd50121fcd333b0bb341df7390\", element=\"83883c65-e1dd-4b61-894c-10fe54168ccb\")>,\n",
       " <selenium.webdriver.remote.webelement.WebElement (session=\"afdecdcd50121fcd333b0bb341df7390\", element=\"d489c0ee-6da7-467b-9e1b-b0f7e1689184\")>,\n",
       " <selenium.webdriver.remote.webelement.WebElement (session=\"afdecdcd50121fcd333b0bb341df7390\", element=\"61db867a-9f62-4925-b427-6627357ec0e8\")>,\n",
       " <selenium.webdriver.remote.webelement.WebElement (session=\"afdecdcd50121fcd333b0bb341df7390\", element=\"283e9314-cf8d-4483-97e2-021140a46049\")>,\n",
       " <selenium.webdriver.remote.webelement.WebElement (session=\"afdecdcd50121fcd333b0bb341df7390\", element=\"f7b95651-78f5-451f-bdca-92fc42d753b7\")>,\n",
       " <selenium.webdriver.remote.webelement.WebElement (session=\"afdecdcd50121fcd333b0bb341df7390\", element=\"b9e7be69-ce5c-476b-9a46-ec196c6d1a8e\")>,\n",
       " <selenium.webdriver.remote.webelement.WebElement (session=\"afdecdcd50121fcd333b0bb341df7390\", element=\"a34c671a-ab98-476a-8cf5-8fca4a3f61a6\")>,\n",
       " <selenium.webdriver.remote.webelement.WebElement (session=\"afdecdcd50121fcd333b0bb341df7390\", element=\"7b9e18da-d6d5-4a0b-8880-13c924cf0766\")>,\n",
       " <selenium.webdriver.remote.webelement.WebElement (session=\"afdecdcd50121fcd333b0bb341df7390\", element=\"3489cb4a-ba6b-4891-b92a-49be06807823\")>,\n",
       " <selenium.webdriver.remote.webelement.WebElement (session=\"afdecdcd50121fcd333b0bb341df7390\", element=\"d1306263-3d97-4e0c-ac5e-effbbf82cabc\")>,\n",
       " <selenium.webdriver.remote.webelement.WebElement (session=\"afdecdcd50121fcd333b0bb341df7390\", element=\"611c4210-18f4-4b03-b815-9b9dedc2b4ff\")>,\n",
       " <selenium.webdriver.remote.webelement.WebElement (session=\"afdecdcd50121fcd333b0bb341df7390\", element=\"5a14f34e-0b22-4ed1-b2df-55c36e21fc3d\")>,\n",
       " <selenium.webdriver.remote.webelement.WebElement (session=\"afdecdcd50121fcd333b0bb341df7390\", element=\"f9422cc1-7093-4874-b65e-9dcab26990c3\")>,\n",
       " <selenium.webdriver.remote.webelement.WebElement (session=\"afdecdcd50121fcd333b0bb341df7390\", element=\"bc486d69-8b76-445d-9c49-beb08b7b75f8\")>,\n",
       " <selenium.webdriver.remote.webelement.WebElement (session=\"afdecdcd50121fcd333b0bb341df7390\", element=\"d467864c-7832-4398-9384-492d45380571\")>,\n",
       " <selenium.webdriver.remote.webelement.WebElement (session=\"afdecdcd50121fcd333b0bb341df7390\", element=\"1794fb8f-f5f2-40e0-9c5d-cf2169513caf\")>,\n",
       " <selenium.webdriver.remote.webelement.WebElement (session=\"afdecdcd50121fcd333b0bb341df7390\", element=\"f103d071-7efd-42f6-a356-7c9f1247f597\")>,\n",
       " <selenium.webdriver.remote.webelement.WebElement (session=\"afdecdcd50121fcd333b0bb341df7390\", element=\"2e75964f-f6ee-4843-8fa8-722acf70d0e4\")>,\n",
       " <selenium.webdriver.remote.webelement.WebElement (session=\"afdecdcd50121fcd333b0bb341df7390\", element=\"46e68c9b-b48f-488b-99c5-3bdcc22aa631\")>,\n",
       " <selenium.webdriver.remote.webelement.WebElement (session=\"afdecdcd50121fcd333b0bb341df7390\", element=\"ba3cbd7f-ba7e-41a3-b275-8a32b0bcc851\")>,\n",
       " <selenium.webdriver.remote.webelement.WebElement (session=\"afdecdcd50121fcd333b0bb341df7390\", element=\"b7238c2f-fe3b-4ae7-a88d-417b05e6bace\")>,\n",
       " <selenium.webdriver.remote.webelement.WebElement (session=\"afdecdcd50121fcd333b0bb341df7390\", element=\"9f53e23b-136c-4a4a-8321-30c39112045f\")>,\n",
       " <selenium.webdriver.remote.webelement.WebElement (session=\"afdecdcd50121fcd333b0bb341df7390\", element=\"93eba8bc-b486-4236-8458-89569fddebe2\")>,\n",
       " <selenium.webdriver.remote.webelement.WebElement (session=\"afdecdcd50121fcd333b0bb341df7390\", element=\"7350638f-31af-4f1f-b7fb-3730117b4eac\")>,\n",
       " <selenium.webdriver.remote.webelement.WebElement (session=\"afdecdcd50121fcd333b0bb341df7390\", element=\"fbf044a7-34d1-402a-a6ad-d6ba89ab1337\")>,\n",
       " <selenium.webdriver.remote.webelement.WebElement (session=\"afdecdcd50121fcd333b0bb341df7390\", element=\"8da97411-6d91-4b62-aa96-f06ef6d3900b\")>,\n",
       " <selenium.webdriver.remote.webelement.WebElement (session=\"afdecdcd50121fcd333b0bb341df7390\", element=\"b1e64e1e-416a-44ca-a5d3-062f9d0972dc\")>,\n",
       " <selenium.webdriver.remote.webelement.WebElement (session=\"afdecdcd50121fcd333b0bb341df7390\", element=\"deb1e25e-c666-4eef-9ac3-2bd9de0c79bf\")>,\n",
       " <selenium.webdriver.remote.webelement.WebElement (session=\"afdecdcd50121fcd333b0bb341df7390\", element=\"268b8b55-2884-4749-adba-3658ac3a76b3\")>,\n",
       " <selenium.webdriver.remote.webelement.WebElement (session=\"afdecdcd50121fcd333b0bb341df7390\", element=\"269cad41-8e51-4fe9-81f7-f1105318fe38\")>,\n",
       " <selenium.webdriver.remote.webelement.WebElement (session=\"afdecdcd50121fcd333b0bb341df7390\", element=\"d772cc50-dcef-4996-8f4b-76dbc4b8aef4\")>]"
      ]
     },
     "execution_count": 375,
     "metadata": {},
     "output_type": "execute_result"
    }
   ],
   "source": [
    "prc_tag1 = driver.find_elements_by_xpath('//div[@class=\"_30jeq3\"]')\n",
    "\n",
    "prc_tag1"
   ]
  },
  {
   "cell_type": "code",
   "execution_count": 376,
   "id": "4c35479a",
   "metadata": {},
   "outputs": [
    {
     "data": {
      "text/plain": [
       "['₹209',\n",
       " '₹664',\n",
       " '₹299',\n",
       " '₹513',\n",
       " '₹758',\n",
       " '₹237',\n",
       " '₹509',\n",
       " '₹255',\n",
       " '₹297',\n",
       " '₹349',\n",
       " '₹331',\n",
       " '₹198',\n",
       " '₹331',\n",
       " '₹281',\n",
       " '₹399',\n",
       " '₹255',\n",
       " '₹299',\n",
       " '₹599',\n",
       " '₹674',\n",
       " '₹759',\n",
       " '₹225',\n",
       " '₹295',\n",
       " '₹647',\n",
       " '₹664',\n",
       " '₹237',\n",
       " '₹210',\n",
       " '₹349',\n",
       " '₹349',\n",
       " '₹251',\n",
       " '₹1,010',\n",
       " '₹399',\n",
       " '₹284',\n",
       " '₹499',\n",
       " '₹210',\n",
       " '₹1,085',\n",
       " '₹1,179',\n",
       " '₹499',\n",
       " '₹399',\n",
       " '₹655',\n",
       " '₹699']"
      ]
     },
     "execution_count": 376,
     "metadata": {},
     "output_type": "execute_result"
    }
   ],
   "source": [
    "prices1 = []\n",
    "for p1 in prc_tag1:\n",
    "    prices1.append(p1.text)\n",
    "    \n",
    "prices1"
   ]
  },
  {
   "cell_type": "code",
   "execution_count": 377,
   "id": "f32bf552",
   "metadata": {},
   "outputs": [
    {
     "data": {
      "text/plain": [
       "40"
      ]
     },
     "execution_count": 377,
     "metadata": {},
     "output_type": "execute_result"
    }
   ],
   "source": [
    "\n",
    "len(prices1)"
   ]
  },
  {
   "cell_type": "code",
   "execution_count": 378,
   "id": "708faa2f",
   "metadata": {},
   "outputs": [
    {
     "data": {
      "text/plain": [
       "[<selenium.webdriver.remote.webelement.WebElement (session=\"afdecdcd50121fcd333b0bb341df7390\", element=\"7fdec7d4-2983-484f-8ac6-0a57d168658b\")>,\n",
       " <selenium.webdriver.remote.webelement.WebElement (session=\"afdecdcd50121fcd333b0bb341df7390\", element=\"7a92d103-4b5f-4e2b-8bdc-febb0a9ba1aa\")>,\n",
       " <selenium.webdriver.remote.webelement.WebElement (session=\"afdecdcd50121fcd333b0bb341df7390\", element=\"66843f93-a986-4657-bb4e-4bd742c35e98\")>,\n",
       " <selenium.webdriver.remote.webelement.WebElement (session=\"afdecdcd50121fcd333b0bb341df7390\", element=\"77f836cf-eefc-4c2f-8a3b-1f4a707425aa\")>,\n",
       " <selenium.webdriver.remote.webelement.WebElement (session=\"afdecdcd50121fcd333b0bb341df7390\", element=\"14d96e9c-c391-490a-9d29-4f745cb21968\")>,\n",
       " <selenium.webdriver.remote.webelement.WebElement (session=\"afdecdcd50121fcd333b0bb341df7390\", element=\"86b5c069-c89a-4972-a7a4-729cfcfc3246\")>,\n",
       " <selenium.webdriver.remote.webelement.WebElement (session=\"afdecdcd50121fcd333b0bb341df7390\", element=\"559ff1bf-7d1a-4b9b-850e-d27893e7145b\")>,\n",
       " <selenium.webdriver.remote.webelement.WebElement (session=\"afdecdcd50121fcd333b0bb341df7390\", element=\"fbc046a4-3b33-43bf-b436-6382b5964b4a\")>,\n",
       " <selenium.webdriver.remote.webelement.WebElement (session=\"afdecdcd50121fcd333b0bb341df7390\", element=\"e5160aee-70d2-4011-8d76-9ce47d43eaa9\")>,\n",
       " <selenium.webdriver.remote.webelement.WebElement (session=\"afdecdcd50121fcd333b0bb341df7390\", element=\"afb4142b-cd09-4fb9-aecc-20b7121b1754\")>,\n",
       " <selenium.webdriver.remote.webelement.WebElement (session=\"afdecdcd50121fcd333b0bb341df7390\", element=\"1c158087-8d72-4abf-9330-fd4908e1356c\")>,\n",
       " <selenium.webdriver.remote.webelement.WebElement (session=\"afdecdcd50121fcd333b0bb341df7390\", element=\"46f90058-b069-4446-a8ed-cc6f356a779b\")>,\n",
       " <selenium.webdriver.remote.webelement.WebElement (session=\"afdecdcd50121fcd333b0bb341df7390\", element=\"30a7986b-a0a4-4bf0-a49d-da70573d61bd\")>,\n",
       " <selenium.webdriver.remote.webelement.WebElement (session=\"afdecdcd50121fcd333b0bb341df7390\", element=\"24dee1cd-b37b-45a1-a4e4-90dfc436b687\")>,\n",
       " <selenium.webdriver.remote.webelement.WebElement (session=\"afdecdcd50121fcd333b0bb341df7390\", element=\"eba69edb-76c6-465c-9763-54d7c76a0392\")>,\n",
       " <selenium.webdriver.remote.webelement.WebElement (session=\"afdecdcd50121fcd333b0bb341df7390\", element=\"ea50774d-c1da-488c-98a6-49b1af494d62\")>,\n",
       " <selenium.webdriver.remote.webelement.WebElement (session=\"afdecdcd50121fcd333b0bb341df7390\", element=\"17aaff42-0c30-4ff1-9d2a-637ab25c1404\")>,\n",
       " <selenium.webdriver.remote.webelement.WebElement (session=\"afdecdcd50121fcd333b0bb341df7390\", element=\"d27c76c7-9084-4f37-8181-d92ac086de29\")>,\n",
       " <selenium.webdriver.remote.webelement.WebElement (session=\"afdecdcd50121fcd333b0bb341df7390\", element=\"4e8be46c-73a8-4e60-9add-32523095b9e2\")>,\n",
       " <selenium.webdriver.remote.webelement.WebElement (session=\"afdecdcd50121fcd333b0bb341df7390\", element=\"3e851920-de9d-44fc-8d57-5938af0f9654\")>,\n",
       " <selenium.webdriver.remote.webelement.WebElement (session=\"afdecdcd50121fcd333b0bb341df7390\", element=\"786e2bd7-595a-4faf-bb81-c8b9156f1fee\")>,\n",
       " <selenium.webdriver.remote.webelement.WebElement (session=\"afdecdcd50121fcd333b0bb341df7390\", element=\"c7e8ec51-9f8a-4104-810b-ff7480a83def\")>,\n",
       " <selenium.webdriver.remote.webelement.WebElement (session=\"afdecdcd50121fcd333b0bb341df7390\", element=\"890f5242-0f71-4230-b963-4d1ba47ae9a5\")>,\n",
       " <selenium.webdriver.remote.webelement.WebElement (session=\"afdecdcd50121fcd333b0bb341df7390\", element=\"93df9ea9-571b-4812-b477-d4a896978bde\")>,\n",
       " <selenium.webdriver.remote.webelement.WebElement (session=\"afdecdcd50121fcd333b0bb341df7390\", element=\"818d166a-54fa-4d45-9f4f-6c4c55d2fa46\")>,\n",
       " <selenium.webdriver.remote.webelement.WebElement (session=\"afdecdcd50121fcd333b0bb341df7390\", element=\"26506a31-9364-4a00-a0d6-699b1ec3146f\")>,\n",
       " <selenium.webdriver.remote.webelement.WebElement (session=\"afdecdcd50121fcd333b0bb341df7390\", element=\"3237f5d1-c751-4127-adb6-c985afdc9f68\")>,\n",
       " <selenium.webdriver.remote.webelement.WebElement (session=\"afdecdcd50121fcd333b0bb341df7390\", element=\"c7865b5d-da5b-47bb-9666-4bf088419056\")>,\n",
       " <selenium.webdriver.remote.webelement.WebElement (session=\"afdecdcd50121fcd333b0bb341df7390\", element=\"e11f0e74-6d4d-4b28-b8a0-8560f633a282\")>,\n",
       " <selenium.webdriver.remote.webelement.WebElement (session=\"afdecdcd50121fcd333b0bb341df7390\", element=\"ca42146c-bc84-44b9-8ea5-d4f501c9a0b6\")>,\n",
       " <selenium.webdriver.remote.webelement.WebElement (session=\"afdecdcd50121fcd333b0bb341df7390\", element=\"626829ca-25ee-4516-96c0-444813f3a62d\")>,\n",
       " <selenium.webdriver.remote.webelement.WebElement (session=\"afdecdcd50121fcd333b0bb341df7390\", element=\"53d41acd-55e1-48bd-b85e-e447b536c705\")>,\n",
       " <selenium.webdriver.remote.webelement.WebElement (session=\"afdecdcd50121fcd333b0bb341df7390\", element=\"9498e35d-3a5e-4941-98d7-a021a8b7ad6e\")>,\n",
       " <selenium.webdriver.remote.webelement.WebElement (session=\"afdecdcd50121fcd333b0bb341df7390\", element=\"f882e013-11db-4dc4-977e-0baa24274c47\")>,\n",
       " <selenium.webdriver.remote.webelement.WebElement (session=\"afdecdcd50121fcd333b0bb341df7390\", element=\"0098692f-130d-4640-8daa-460bcb574ee7\")>,\n",
       " <selenium.webdriver.remote.webelement.WebElement (session=\"afdecdcd50121fcd333b0bb341df7390\", element=\"eb32ece8-0bbc-41ff-8064-6dd8381924de\")>,\n",
       " <selenium.webdriver.remote.webelement.WebElement (session=\"afdecdcd50121fcd333b0bb341df7390\", element=\"52f3125c-1906-4133-962c-00a37d6746ea\")>,\n",
       " <selenium.webdriver.remote.webelement.WebElement (session=\"afdecdcd50121fcd333b0bb341df7390\", element=\"7de7d4d0-b605-47aa-8912-53660564dee6\")>,\n",
       " <selenium.webdriver.remote.webelement.WebElement (session=\"afdecdcd50121fcd333b0bb341df7390\", element=\"df95431c-e547-4fef-9b0e-1baad66d5fc7\")>,\n",
       " <selenium.webdriver.remote.webelement.WebElement (session=\"afdecdcd50121fcd333b0bb341df7390\", element=\"6ba19373-258a-4668-9b2d-a98088a77405\")>]"
      ]
     },
     "execution_count": 378,
     "metadata": {},
     "output_type": "execute_result"
    }
   ],
   "source": [
    "disc_tag1 = driver.find_elements_by_xpath('//div[@class=\"_3Ay6Sb\"]')\n",
    "\n",
    "disc_tag1"
   ]
  },
  {
   "cell_type": "code",
   "execution_count": 379,
   "id": "88f3524c",
   "metadata": {},
   "outputs": [
    {
     "data": {
      "text/plain": [
       "['₹790 off',\n",
       " '₹1335 off',\n",
       " '₹2300 off',\n",
       " '₹286 off',\n",
       " '₹141 off',\n",
       " '₹1362 off',\n",
       " '₹290 off',\n",
       " '₹944 off',\n",
       " '₹2001 off',\n",
       " '₹1250 off',\n",
       " '₹2268 off',\n",
       " '₹801 off',\n",
       " '₹1268 off',\n",
       " '₹1718 off',\n",
       " '₹1600 off',\n",
       " '₹944 off',\n",
       " '₹2300 off',\n",
       " '₹151 off',\n",
       " '₹225 off',\n",
       " '₹1240 off',\n",
       " '₹874 off',\n",
       " '₹2200 off',\n",
       " '₹252 off',\n",
       " '₹1335 off',\n",
       " '₹1362 off',\n",
       " '₹1256 off',\n",
       " '₹1150 off',\n",
       " '₹2150 off',\n",
       " '₹948 off',\n",
       " '₹289 off',\n",
       " '₹1600 off',\n",
       " '₹915 off',\n",
       " '₹1726 off',\n",
       " '₹989 off',\n",
       " '₹214 off',\n",
       " '₹820 off',\n",
       " '₹1757 off',\n",
       " '₹1800 off',\n",
       " '₹244 off',\n",
       " '₹1300 off']"
      ]
     },
     "execution_count": 379,
     "metadata": {},
     "output_type": "execute_result"
    }
   ],
   "source": [
    "discount1 = []\n",
    "for d1 in disc_tag1:\n",
    "    discount1.append(d1.text)\n",
    "    \n",
    "discount1"
   ]
  },
  {
   "cell_type": "code",
   "execution_count": 380,
   "id": "0bd76f95",
   "metadata": {},
   "outputs": [
    {
     "data": {
      "text/plain": [
       "40"
      ]
     },
     "execution_count": 380,
     "metadata": {},
     "output_type": "execute_result"
    }
   ],
   "source": [
    "len(discount1)"
   ]
  },
  {
   "cell_type": "code",
   "execution_count": 381,
   "id": "cbfb47be",
   "metadata": {},
   "outputs": [],
   "source": [
    "nxt_btn1 = driver.find_element_by_xpath('//a[@class=\"_1LKTO3\"]')\n",
    "\n",
    "nxt_btn1.click()"
   ]
  },
  {
   "cell_type": "code",
   "execution_count": 382,
   "id": "cd639cb0",
   "metadata": {},
   "outputs": [
    {
     "data": {
      "text/plain": [
       "[<selenium.webdriver.remote.webelement.WebElement (session=\"afdecdcd50121fcd333b0bb341df7390\", element=\"fd5dde75-1aa4-4223-85d0-511082eac87e\")>,\n",
       " <selenium.webdriver.remote.webelement.WebElement (session=\"afdecdcd50121fcd333b0bb341df7390\", element=\"b5b0bbcf-2868-4368-bf4a-2ff638d521c4\")>,\n",
       " <selenium.webdriver.remote.webelement.WebElement (session=\"afdecdcd50121fcd333b0bb341df7390\", element=\"c2f45c28-b9a2-439d-966e-a1bf5921e613\")>,\n",
       " <selenium.webdriver.remote.webelement.WebElement (session=\"afdecdcd50121fcd333b0bb341df7390\", element=\"a575e4d4-1d0c-4aac-a89f-7dc33a62d576\")>,\n",
       " <selenium.webdriver.remote.webelement.WebElement (session=\"afdecdcd50121fcd333b0bb341df7390\", element=\"6ff32d83-2043-4e30-93b1-0521866894ee\")>,\n",
       " <selenium.webdriver.remote.webelement.WebElement (session=\"afdecdcd50121fcd333b0bb341df7390\", element=\"9b201545-5106-4679-b87c-1748c244066d\")>,\n",
       " <selenium.webdriver.remote.webelement.WebElement (session=\"afdecdcd50121fcd333b0bb341df7390\", element=\"96ad9f7c-780e-4cb2-85e1-f56333d6708f\")>,\n",
       " <selenium.webdriver.remote.webelement.WebElement (session=\"afdecdcd50121fcd333b0bb341df7390\", element=\"aa7c2859-aa98-45d2-83cf-c595db071a4a\")>,\n",
       " <selenium.webdriver.remote.webelement.WebElement (session=\"afdecdcd50121fcd333b0bb341df7390\", element=\"18d32eb6-c85f-4b35-b991-a4d51d65d975\")>,\n",
       " <selenium.webdriver.remote.webelement.WebElement (session=\"afdecdcd50121fcd333b0bb341df7390\", element=\"73880f75-89ff-4bac-a97b-054f7fd90774\")>,\n",
       " <selenium.webdriver.remote.webelement.WebElement (session=\"afdecdcd50121fcd333b0bb341df7390\", element=\"b49912a4-edb7-4bee-9b05-57b986c531a2\")>,\n",
       " <selenium.webdriver.remote.webelement.WebElement (session=\"afdecdcd50121fcd333b0bb341df7390\", element=\"3f24f3b3-e4ef-4885-9785-0060389bcf24\")>,\n",
       " <selenium.webdriver.remote.webelement.WebElement (session=\"afdecdcd50121fcd333b0bb341df7390\", element=\"bb5d5503-e616-468e-9c17-33d2d9ff2950\")>,\n",
       " <selenium.webdriver.remote.webelement.WebElement (session=\"afdecdcd50121fcd333b0bb341df7390\", element=\"66b47b75-bca9-4a43-a75a-b741c195fe7a\")>,\n",
       " <selenium.webdriver.remote.webelement.WebElement (session=\"afdecdcd50121fcd333b0bb341df7390\", element=\"8794d24e-e06f-420d-8097-58926dd75cc6\")>,\n",
       " <selenium.webdriver.remote.webelement.WebElement (session=\"afdecdcd50121fcd333b0bb341df7390\", element=\"95d56852-4b38-417d-a982-6cad8bbc0be2\")>,\n",
       " <selenium.webdriver.remote.webelement.WebElement (session=\"afdecdcd50121fcd333b0bb341df7390\", element=\"77495fae-2fa5-4907-9e48-f6235475ca9f\")>,\n",
       " <selenium.webdriver.remote.webelement.WebElement (session=\"afdecdcd50121fcd333b0bb341df7390\", element=\"e8a85cc0-cbe1-45a9-807b-38f01eabdf16\")>,\n",
       " <selenium.webdriver.remote.webelement.WebElement (session=\"afdecdcd50121fcd333b0bb341df7390\", element=\"ff8d3f10-18cc-4d46-b00f-fb5402ec7b44\")>,\n",
       " <selenium.webdriver.remote.webelement.WebElement (session=\"afdecdcd50121fcd333b0bb341df7390\", element=\"c4828c36-e6bc-49c1-b6a0-61ef64217b73\")>,\n",
       " <selenium.webdriver.remote.webelement.WebElement (session=\"afdecdcd50121fcd333b0bb341df7390\", element=\"5f38c376-e200-4e81-9e16-5b1c71da99b3\")>,\n",
       " <selenium.webdriver.remote.webelement.WebElement (session=\"afdecdcd50121fcd333b0bb341df7390\", element=\"1e80d460-a32e-4b41-a329-977621b1e017\")>,\n",
       " <selenium.webdriver.remote.webelement.WebElement (session=\"afdecdcd50121fcd333b0bb341df7390\", element=\"ed756ffa-3988-44f8-bbc7-2f975f3f47e4\")>,\n",
       " <selenium.webdriver.remote.webelement.WebElement (session=\"afdecdcd50121fcd333b0bb341df7390\", element=\"547c1489-37e2-4a73-b6c4-88700ad53304\")>,\n",
       " <selenium.webdriver.remote.webelement.WebElement (session=\"afdecdcd50121fcd333b0bb341df7390\", element=\"b98e3cbc-0e73-4648-a8f8-4beecdb93cec\")>,\n",
       " <selenium.webdriver.remote.webelement.WebElement (session=\"afdecdcd50121fcd333b0bb341df7390\", element=\"5e5dad8f-be10-4fd1-83cc-d83c737cc823\")>,\n",
       " <selenium.webdriver.remote.webelement.WebElement (session=\"afdecdcd50121fcd333b0bb341df7390\", element=\"56918e07-7b55-4d26-a444-a5c97472a6fd\")>,\n",
       " <selenium.webdriver.remote.webelement.WebElement (session=\"afdecdcd50121fcd333b0bb341df7390\", element=\"0135e637-148a-44d5-8aeb-085e2e997e33\")>,\n",
       " <selenium.webdriver.remote.webelement.WebElement (session=\"afdecdcd50121fcd333b0bb341df7390\", element=\"64481bc7-0577-4510-8bf4-702341124bb0\")>,\n",
       " <selenium.webdriver.remote.webelement.WebElement (session=\"afdecdcd50121fcd333b0bb341df7390\", element=\"569b8ece-bca7-4319-9dcc-edb195da9b38\")>,\n",
       " <selenium.webdriver.remote.webelement.WebElement (session=\"afdecdcd50121fcd333b0bb341df7390\", element=\"9635c582-6add-4004-8c7d-c1ea760742f7\")>,\n",
       " <selenium.webdriver.remote.webelement.WebElement (session=\"afdecdcd50121fcd333b0bb341df7390\", element=\"c86878f0-8605-4b1b-9b6a-3ccfc54ee58b\")>,\n",
       " <selenium.webdriver.remote.webelement.WebElement (session=\"afdecdcd50121fcd333b0bb341df7390\", element=\"7960477a-477c-4e3d-8bda-8a01f6fcbf06\")>,\n",
       " <selenium.webdriver.remote.webelement.WebElement (session=\"afdecdcd50121fcd333b0bb341df7390\", element=\"95b252e1-6aae-43b8-b66e-7ac7df77486e\")>,\n",
       " <selenium.webdriver.remote.webelement.WebElement (session=\"afdecdcd50121fcd333b0bb341df7390\", element=\"350d43cc-8a70-410d-9088-882f68242bfb\")>,\n",
       " <selenium.webdriver.remote.webelement.WebElement (session=\"afdecdcd50121fcd333b0bb341df7390\", element=\"01cc4bef-8763-4b72-ae58-7b0827e63348\")>,\n",
       " <selenium.webdriver.remote.webelement.WebElement (session=\"afdecdcd50121fcd333b0bb341df7390\", element=\"273a2451-f608-454b-8aa2-a0b08b0e4bb6\")>,\n",
       " <selenium.webdriver.remote.webelement.WebElement (session=\"afdecdcd50121fcd333b0bb341df7390\", element=\"e19284f7-879d-4f42-926f-eb49fd468729\")>,\n",
       " <selenium.webdriver.remote.webelement.WebElement (session=\"afdecdcd50121fcd333b0bb341df7390\", element=\"04f2ee7a-28d3-4ffa-bc5e-a5e91cc4ded3\")>,\n",
       " <selenium.webdriver.remote.webelement.WebElement (session=\"afdecdcd50121fcd333b0bb341df7390\", element=\"b91e7c25-2666-4285-bded-fc068985caca\")>]"
      ]
     },
     "execution_count": 382,
     "metadata": {},
     "output_type": "execute_result"
    }
   ],
   "source": [
    "brand_tag2 = driver.find_elements_by_xpath('//div[@class=\"_2WkVRV\"]')\n",
    "\n",
    "brand_tag2"
   ]
  },
  {
   "cell_type": "code",
   "execution_count": 383,
   "id": "17436530",
   "metadata": {},
   "outputs": [
    {
     "data": {
      "text/plain": [
       "['Poland',\n",
       " 'Fastrack',\n",
       " 'ROYAL SON',\n",
       " 'Billion',\n",
       " 'Elligator',\n",
       " 'ROZZETTA CRAFT',\n",
       " 'Fastrack',\n",
       " 'AISLIN',\n",
       " 'Silver Kartz',\n",
       " 'Fastrack',\n",
       " 'hipe',\n",
       " 'NuVew',\n",
       " 'ROZZETTA CRAFT',\n",
       " 'kingsunglasses',\n",
       " 'kingsunglasses',\n",
       " 'Silver Kartz',\n",
       " 'Fastrack',\n",
       " 'NuVew',\n",
       " 'Singco',\n",
       " 'GANSTA',\n",
       " 'kingsunglasses',\n",
       " 'PHENOMENAL',\n",
       " 'Singco India',\n",
       " 'ROZZETTA CRAFT',\n",
       " 'PHENOMENAL',\n",
       " 'Singco',\n",
       " 'Fastrack',\n",
       " 'CRIBA',\n",
       " 'Singco India',\n",
       " 'GANSTA',\n",
       " 'Singco India',\n",
       " 'Villain',\n",
       " 'GANSTA',\n",
       " 'PIRASO',\n",
       " 'ROZZETTA CRAFT',\n",
       " 'AISLIN',\n",
       " 'Fastrack',\n",
       " 'ROYAL SON',\n",
       " 'hipe',\n",
       " 'Silver Kartz']"
      ]
     },
     "execution_count": 383,
     "metadata": {},
     "output_type": "execute_result"
    }
   ],
   "source": [
    "brand_name2 = []\n",
    "\n",
    "for b2 in brand_tag2:\n",
    "    brand_name2.append(b2.text)\n",
    "    \n",
    "brand_name2"
   ]
  },
  {
   "cell_type": "code",
   "execution_count": 384,
   "id": "11f912b6",
   "metadata": {},
   "outputs": [
    {
     "data": {
      "text/plain": [
       "40"
      ]
     },
     "execution_count": 384,
     "metadata": {},
     "output_type": "execute_result"
    }
   ],
   "source": [
    "len(brand_name2)"
   ]
  },
  {
   "cell_type": "code",
   "execution_count": 385,
   "id": "57f8e20f",
   "metadata": {},
   "outputs": [
    {
     "data": {
      "text/plain": [
       "[<selenium.webdriver.remote.webelement.WebElement (session=\"afdecdcd50121fcd333b0bb341df7390\", element=\"2a32e00e-b635-47d3-8957-657a6c56e09f\")>,\n",
       " <selenium.webdriver.remote.webelement.WebElement (session=\"afdecdcd50121fcd333b0bb341df7390\", element=\"6bc55fcf-1ffe-4e48-a040-11ffd9332ac7\")>,\n",
       " <selenium.webdriver.remote.webelement.WebElement (session=\"afdecdcd50121fcd333b0bb341df7390\", element=\"c3a80406-157f-47d6-bea7-1736890b8b5d\")>,\n",
       " <selenium.webdriver.remote.webelement.WebElement (session=\"afdecdcd50121fcd333b0bb341df7390\", element=\"94ab619c-7ef9-426b-9112-ec14fadaf6ff\")>,\n",
       " <selenium.webdriver.remote.webelement.WebElement (session=\"afdecdcd50121fcd333b0bb341df7390\", element=\"1a4e7c88-e18e-482e-a665-c31dd20a642d\")>,\n",
       " <selenium.webdriver.remote.webelement.WebElement (session=\"afdecdcd50121fcd333b0bb341df7390\", element=\"d8e77999-2080-43f2-8739-2a07014d6226\")>,\n",
       " <selenium.webdriver.remote.webelement.WebElement (session=\"afdecdcd50121fcd333b0bb341df7390\", element=\"40f00f2b-db48-4db7-ab47-2d1eb2c34730\")>,\n",
       " <selenium.webdriver.remote.webelement.WebElement (session=\"afdecdcd50121fcd333b0bb341df7390\", element=\"0bfbaa6f-4e98-4f79-9d60-692d6184caa6\")>,\n",
       " <selenium.webdriver.remote.webelement.WebElement (session=\"afdecdcd50121fcd333b0bb341df7390\", element=\"edb341df-2bfb-4f9d-bca3-2073e071280a\")>,\n",
       " <selenium.webdriver.remote.webelement.WebElement (session=\"afdecdcd50121fcd333b0bb341df7390\", element=\"15e3da22-7211-40fc-a679-bbc41f3cc56c\")>,\n",
       " <selenium.webdriver.remote.webelement.WebElement (session=\"afdecdcd50121fcd333b0bb341df7390\", element=\"887d21e4-7eb2-4d10-839f-06e68d606392\")>,\n",
       " <selenium.webdriver.remote.webelement.WebElement (session=\"afdecdcd50121fcd333b0bb341df7390\", element=\"25066ec4-ca15-4404-b483-b25120f3ed9f\")>,\n",
       " <selenium.webdriver.remote.webelement.WebElement (session=\"afdecdcd50121fcd333b0bb341df7390\", element=\"d8b92bf8-bb33-4000-af9a-2f5ac3710648\")>,\n",
       " <selenium.webdriver.remote.webelement.WebElement (session=\"afdecdcd50121fcd333b0bb341df7390\", element=\"c8d6fde2-6249-413c-a212-9543a3476755\")>,\n",
       " <selenium.webdriver.remote.webelement.WebElement (session=\"afdecdcd50121fcd333b0bb341df7390\", element=\"2ff5cf9d-9bbf-4b62-b748-8b1a20229bf7\")>,\n",
       " <selenium.webdriver.remote.webelement.WebElement (session=\"afdecdcd50121fcd333b0bb341df7390\", element=\"4287f26d-fb11-4350-b97c-b7c8f3c1e283\")>,\n",
       " <selenium.webdriver.remote.webelement.WebElement (session=\"afdecdcd50121fcd333b0bb341df7390\", element=\"491e02ce-927a-4b30-a054-5f801988187f\")>,\n",
       " <selenium.webdriver.remote.webelement.WebElement (session=\"afdecdcd50121fcd333b0bb341df7390\", element=\"a73d3644-5851-49b3-8735-e6d2cda94734\")>,\n",
       " <selenium.webdriver.remote.webelement.WebElement (session=\"afdecdcd50121fcd333b0bb341df7390\", element=\"c43ff422-4672-43d3-88fa-a134df2874e0\")>,\n",
       " <selenium.webdriver.remote.webelement.WebElement (session=\"afdecdcd50121fcd333b0bb341df7390\", element=\"50b666a9-a779-4bea-b964-213c29454f2c\")>,\n",
       " <selenium.webdriver.remote.webelement.WebElement (session=\"afdecdcd50121fcd333b0bb341df7390\", element=\"fb528076-8a8b-40ac-8b5a-cbeaa7289386\")>,\n",
       " <selenium.webdriver.remote.webelement.WebElement (session=\"afdecdcd50121fcd333b0bb341df7390\", element=\"4597c605-1db9-439b-b379-6eec725b93ab\")>,\n",
       " <selenium.webdriver.remote.webelement.WebElement (session=\"afdecdcd50121fcd333b0bb341df7390\", element=\"8d81def9-a023-47cc-947c-811b01719786\")>,\n",
       " <selenium.webdriver.remote.webelement.WebElement (session=\"afdecdcd50121fcd333b0bb341df7390\", element=\"2f1ec890-15c9-42c7-8abf-64cd7d08cd5d\")>,\n",
       " <selenium.webdriver.remote.webelement.WebElement (session=\"afdecdcd50121fcd333b0bb341df7390\", element=\"017ac2b8-ada3-4f7f-8908-b0b43c20a5ea\")>,\n",
       " <selenium.webdriver.remote.webelement.WebElement (session=\"afdecdcd50121fcd333b0bb341df7390\", element=\"74bc2140-8713-4b20-873b-a365ce8b7729\")>,\n",
       " <selenium.webdriver.remote.webelement.WebElement (session=\"afdecdcd50121fcd333b0bb341df7390\", element=\"85830cad-f3ab-4f83-aeff-6cd293c5af9e\")>,\n",
       " <selenium.webdriver.remote.webelement.WebElement (session=\"afdecdcd50121fcd333b0bb341df7390\", element=\"0e899061-95ae-473e-adea-c0c42137f9d6\")>,\n",
       " <selenium.webdriver.remote.webelement.WebElement (session=\"afdecdcd50121fcd333b0bb341df7390\", element=\"cb6df1f4-c42d-4c2a-b935-80adbd87a233\")>,\n",
       " <selenium.webdriver.remote.webelement.WebElement (session=\"afdecdcd50121fcd333b0bb341df7390\", element=\"9771d11d-6533-4a37-9380-64d6d8ce5242\")>,\n",
       " <selenium.webdriver.remote.webelement.WebElement (session=\"afdecdcd50121fcd333b0bb341df7390\", element=\"6806158d-3515-46ef-95d8-e3f5410574d9\")>,\n",
       " <selenium.webdriver.remote.webelement.WebElement (session=\"afdecdcd50121fcd333b0bb341df7390\", element=\"9dd6add7-37b4-49bc-bd25-b45f29ac35b1\")>,\n",
       " <selenium.webdriver.remote.webelement.WebElement (session=\"afdecdcd50121fcd333b0bb341df7390\", element=\"a235994e-d823-4b86-a437-7f54bf3d25a5\")>,\n",
       " <selenium.webdriver.remote.webelement.WebElement (session=\"afdecdcd50121fcd333b0bb341df7390\", element=\"eb15868e-6140-42e2-af73-98c32130bd23\")>,\n",
       " <selenium.webdriver.remote.webelement.WebElement (session=\"afdecdcd50121fcd333b0bb341df7390\", element=\"43dce107-ab22-42f9-b39f-8ad8b1d3fc39\")>,\n",
       " <selenium.webdriver.remote.webelement.WebElement (session=\"afdecdcd50121fcd333b0bb341df7390\", element=\"1b635fdc-b279-41e7-9784-c5a96fa11f67\")>,\n",
       " <selenium.webdriver.remote.webelement.WebElement (session=\"afdecdcd50121fcd333b0bb341df7390\", element=\"884d5e84-2ad6-4f16-ab9d-830af8ecabf6\")>,\n",
       " <selenium.webdriver.remote.webelement.WebElement (session=\"afdecdcd50121fcd333b0bb341df7390\", element=\"bbbd117e-5b62-447a-89ca-9322d687046f\")>,\n",
       " <selenium.webdriver.remote.webelement.WebElement (session=\"afdecdcd50121fcd333b0bb341df7390\", element=\"3bb3802b-6357-4b34-b20f-5db3736ccc83\")>,\n",
       " <selenium.webdriver.remote.webelement.WebElement (session=\"afdecdcd50121fcd333b0bb341df7390\", element=\"b5b41b6f-ba5b-4049-bac8-ffe0d125f1a7\")>]"
      ]
     },
     "execution_count": 385,
     "metadata": {},
     "output_type": "execute_result"
    }
   ],
   "source": [
    "pd_des2 = driver.find_elements_by_xpath('//a[@class=\"IRpwTa\"]')\n",
    "\n",
    "pd_des2"
   ]
  },
  {
   "cell_type": "code",
   "execution_count": 386,
   "id": "82070f64",
   "metadata": {},
   "outputs": [
    {
     "data": {
      "text/plain": [
       "['UV Protection Wayfarer Sunglasses (Free Size)',\n",
       " 'UV Protection Wrap-around Sunglasses (Free Size)',\n",
       " 'UV Protection, Gradient Wayfarer Sunglasses (55)',\n",
       " 'Polarized, UV Protection, Riding Glasses, Mirrored Wayf...',\n",
       " 'Mirrored Round Sunglasses (53)',\n",
       " 'UV Protection, Gradient Rectangular Sunglasses (Free Si...',\n",
       " 'UV Protection Shield Sunglasses (Free Size)',\n",
       " 'Toughened Glass Lens, UV Protection Wayfarer, Rectangul...',\n",
       " 'UV Protection Wayfarer Sunglasses (Free Size)',\n",
       " 'UV Protection, Polarized Wayfarer Sunglasses (56)',\n",
       " 'UV Protection Sports Sunglasses (Free Size)',\n",
       " 'UV Protection Cat-eye Sunglasses (60)',\n",
       " 'UV Protection, Gradient Round Sunglasses (Free Size)',\n",
       " 'Mirrored, UV Protection Wayfarer, Wayfarer, Wayfarer, W...',\n",
       " 'UV Protection Rectangular Sunglasses (Free Size)',\n",
       " 'UV Protection Wayfarer, Aviator Sunglasses (88)',\n",
       " 'Mirrored, UV Protection Wayfarer Sunglasses (Free Size)',\n",
       " 'UV Protection Aviator Sunglasses (58)',\n",
       " 'UV Protection, Others Aviator Sunglasses (32)',\n",
       " 'UV Protection, Riding Glasses Aviator Sunglasses (57)',\n",
       " 'UV Protection, Mirrored Round Sunglasses (54)',\n",
       " 'UV Protection, Mirrored Retro Square Sunglasses (Free S...',\n",
       " 'UV Protection Aviator Sunglasses (Free Size)',\n",
       " 'UV Protection Retro Square Sunglasses (Free Size)',\n",
       " 'UV Protection Clubmaster Sunglasses (Free Size)',\n",
       " 'Mirrored Aviator Sunglasses (53)',\n",
       " 'Gradient, UV Protection Wayfarer Sunglasses (Free Size)',\n",
       " 'UV Protection, Night Vision, Riding Glasses, Others Rou...',\n",
       " 'Mirrored, Riding Glasses, Others Sports Sunglasses (50)',\n",
       " 'UV Protection, Night Vision, Riding Glasses Aviator Sun...',\n",
       " 'Mirrored, UV Protection, Riding Glasses, Others Wrap-ar...',\n",
       " 'Others Wayfarer Sunglasses (Free Size)',\n",
       " 'UV Protection, Riding Glasses Wayfarer Sunglasses (53)',\n",
       " 'UV Protection Aviator Sunglasses (54)',\n",
       " 'UV Protection, Riding Glasses Rectangular Sunglasses (F...',\n",
       " 'UV Protection, Mirrored Wayfarer Sunglasses (61)',\n",
       " 'UV Protection Aviator Sunglasses (Free Size)',\n",
       " 'Mirrored Aviator Sunglasses (55)',\n",
       " 'UV Protection, Gradient, Mirrored, Riding Glasses Recta...',\n",
       " 'UV Protection Oval Sunglasses (56)']"
      ]
     },
     "execution_count": 386,
     "metadata": {},
     "output_type": "execute_result"
    }
   ],
   "source": [
    "product_desc2 = []\n",
    "\n",
    "for p2 in pd_des2:\n",
    "    product_desc2.append(p2.text)\n",
    "    \n",
    "product_desc2"
   ]
  },
  {
   "cell_type": "code",
   "execution_count": 387,
   "id": "5a63a91c",
   "metadata": {},
   "outputs": [
    {
     "data": {
      "text/plain": [
       "40"
      ]
     },
     "execution_count": 387,
     "metadata": {},
     "output_type": "execute_result"
    }
   ],
   "source": [
    "len (product_desc2)"
   ]
  },
  {
   "cell_type": "code",
   "execution_count": 388,
   "id": "17ba17a2",
   "metadata": {},
   "outputs": [
    {
     "data": {
      "text/plain": [
       "[<selenium.webdriver.remote.webelement.WebElement (session=\"afdecdcd50121fcd333b0bb341df7390\", element=\"2c283198-0e0a-4bbb-8f89-583edc41cb9a\")>,\n",
       " <selenium.webdriver.remote.webelement.WebElement (session=\"afdecdcd50121fcd333b0bb341df7390\", element=\"a6fed98b-628b-4c6a-889e-06abbe82eca8\")>,\n",
       " <selenium.webdriver.remote.webelement.WebElement (session=\"afdecdcd50121fcd333b0bb341df7390\", element=\"acd015e8-e13b-474b-b98d-5b9fe984e934\")>,\n",
       " <selenium.webdriver.remote.webelement.WebElement (session=\"afdecdcd50121fcd333b0bb341df7390\", element=\"49665df8-7935-47bf-aaca-62dd271ed5dd\")>,\n",
       " <selenium.webdriver.remote.webelement.WebElement (session=\"afdecdcd50121fcd333b0bb341df7390\", element=\"957b1c28-3d96-4fa9-a536-70a7cf276395\")>,\n",
       " <selenium.webdriver.remote.webelement.WebElement (session=\"afdecdcd50121fcd333b0bb341df7390\", element=\"436afe8f-94c7-4cd9-8cee-01a32f1fbf57\")>,\n",
       " <selenium.webdriver.remote.webelement.WebElement (session=\"afdecdcd50121fcd333b0bb341df7390\", element=\"50c9614c-bb36-49a4-8953-37463f2af247\")>,\n",
       " <selenium.webdriver.remote.webelement.WebElement (session=\"afdecdcd50121fcd333b0bb341df7390\", element=\"5514772d-5b1b-4f68-8fd0-e8b9955a1763\")>,\n",
       " <selenium.webdriver.remote.webelement.WebElement (session=\"afdecdcd50121fcd333b0bb341df7390\", element=\"8fc78fe1-84f7-4bb8-8708-ef393f259455\")>,\n",
       " <selenium.webdriver.remote.webelement.WebElement (session=\"afdecdcd50121fcd333b0bb341df7390\", element=\"f41605d1-b738-49d4-95ce-f6478daf88a1\")>,\n",
       " <selenium.webdriver.remote.webelement.WebElement (session=\"afdecdcd50121fcd333b0bb341df7390\", element=\"89e6f162-7832-46fa-a242-0e38d213e25d\")>,\n",
       " <selenium.webdriver.remote.webelement.WebElement (session=\"afdecdcd50121fcd333b0bb341df7390\", element=\"98773cd6-2a07-4e1f-921a-18935cbb4b2e\")>,\n",
       " <selenium.webdriver.remote.webelement.WebElement (session=\"afdecdcd50121fcd333b0bb341df7390\", element=\"0e065b9f-6a58-4913-9d73-e898a8aeb25b\")>,\n",
       " <selenium.webdriver.remote.webelement.WebElement (session=\"afdecdcd50121fcd333b0bb341df7390\", element=\"4873168c-9119-41d6-a9b1-39f89f6291cd\")>,\n",
       " <selenium.webdriver.remote.webelement.WebElement (session=\"afdecdcd50121fcd333b0bb341df7390\", element=\"a059eaf5-065d-40b3-bae4-877a34621577\")>,\n",
       " <selenium.webdriver.remote.webelement.WebElement (session=\"afdecdcd50121fcd333b0bb341df7390\", element=\"cb955cf9-4be0-4378-b91a-8d12f0bee35e\")>,\n",
       " <selenium.webdriver.remote.webelement.WebElement (session=\"afdecdcd50121fcd333b0bb341df7390\", element=\"8d5e595f-08fa-4134-a1a2-47aa3c267174\")>,\n",
       " <selenium.webdriver.remote.webelement.WebElement (session=\"afdecdcd50121fcd333b0bb341df7390\", element=\"5b9d47f6-8798-44d9-93e8-b9364406b867\")>,\n",
       " <selenium.webdriver.remote.webelement.WebElement (session=\"afdecdcd50121fcd333b0bb341df7390\", element=\"1206fda6-4636-4075-88f9-5f3069d34a8f\")>,\n",
       " <selenium.webdriver.remote.webelement.WebElement (session=\"afdecdcd50121fcd333b0bb341df7390\", element=\"5b28a8f1-2bc5-43a7-a852-4f62558fc8c9\")>,\n",
       " <selenium.webdriver.remote.webelement.WebElement (session=\"afdecdcd50121fcd333b0bb341df7390\", element=\"4972ea9f-a405-40f0-af3c-6853202d0f69\")>,\n",
       " <selenium.webdriver.remote.webelement.WebElement (session=\"afdecdcd50121fcd333b0bb341df7390\", element=\"9aae5855-fdcc-4de8-8857-be830e8275c6\")>,\n",
       " <selenium.webdriver.remote.webelement.WebElement (session=\"afdecdcd50121fcd333b0bb341df7390\", element=\"39e5fd62-58ec-46c5-9070-f0fd3325deff\")>,\n",
       " <selenium.webdriver.remote.webelement.WebElement (session=\"afdecdcd50121fcd333b0bb341df7390\", element=\"68a4ba5f-8c82-4588-9215-287f0b2e4f6a\")>,\n",
       " <selenium.webdriver.remote.webelement.WebElement (session=\"afdecdcd50121fcd333b0bb341df7390\", element=\"d1a596b9-1e0d-40ff-acb4-97ef5d7a6114\")>,\n",
       " <selenium.webdriver.remote.webelement.WebElement (session=\"afdecdcd50121fcd333b0bb341df7390\", element=\"004b9f21-27da-4481-aef4-3b741ff73b0f\")>,\n",
       " <selenium.webdriver.remote.webelement.WebElement (session=\"afdecdcd50121fcd333b0bb341df7390\", element=\"2ba80f21-9023-4d17-9945-18514d9006f0\")>,\n",
       " <selenium.webdriver.remote.webelement.WebElement (session=\"afdecdcd50121fcd333b0bb341df7390\", element=\"fc236c5d-4318-4890-a11e-20ec5efe6dc4\")>,\n",
       " <selenium.webdriver.remote.webelement.WebElement (session=\"afdecdcd50121fcd333b0bb341df7390\", element=\"eaec7189-ad08-47f5-ac68-8363379c16d0\")>,\n",
       " <selenium.webdriver.remote.webelement.WebElement (session=\"afdecdcd50121fcd333b0bb341df7390\", element=\"d558e55d-d8f3-4b81-ac99-8b6728edb0f1\")>,\n",
       " <selenium.webdriver.remote.webelement.WebElement (session=\"afdecdcd50121fcd333b0bb341df7390\", element=\"9f5d86f0-dd4a-4c6d-9624-91a1b5922992\")>,\n",
       " <selenium.webdriver.remote.webelement.WebElement (session=\"afdecdcd50121fcd333b0bb341df7390\", element=\"726772ae-0783-405a-b840-5f506f30f60d\")>,\n",
       " <selenium.webdriver.remote.webelement.WebElement (session=\"afdecdcd50121fcd333b0bb341df7390\", element=\"0b132e6e-fbdc-42c1-8475-3b89e04ca394\")>,\n",
       " <selenium.webdriver.remote.webelement.WebElement (session=\"afdecdcd50121fcd333b0bb341df7390\", element=\"a6d7bf1c-282d-42ef-b107-e2e8b19fdb82\")>,\n",
       " <selenium.webdriver.remote.webelement.WebElement (session=\"afdecdcd50121fcd333b0bb341df7390\", element=\"ac13e54b-ba52-4764-9587-da289c1b2d29\")>,\n",
       " <selenium.webdriver.remote.webelement.WebElement (session=\"afdecdcd50121fcd333b0bb341df7390\", element=\"1bf09425-df6b-4136-ac1a-6790b2efc9f2\")>,\n",
       " <selenium.webdriver.remote.webelement.WebElement (session=\"afdecdcd50121fcd333b0bb341df7390\", element=\"d4e9ccf7-73ad-41d9-b2c3-322274f8ede2\")>,\n",
       " <selenium.webdriver.remote.webelement.WebElement (session=\"afdecdcd50121fcd333b0bb341df7390\", element=\"608e65a7-dd74-4e7b-a5f3-57a10c91b8bf\")>,\n",
       " <selenium.webdriver.remote.webelement.WebElement (session=\"afdecdcd50121fcd333b0bb341df7390\", element=\"3f211ccc-5020-4f2f-945f-d3ab12fa05a5\")>,\n",
       " <selenium.webdriver.remote.webelement.WebElement (session=\"afdecdcd50121fcd333b0bb341df7390\", element=\"29372273-a046-47b7-87a6-c8fa26b90440\")>]"
      ]
     },
     "execution_count": 388,
     "metadata": {},
     "output_type": "execute_result"
    }
   ],
   "source": [
    "prc_tag2 = driver.find_elements_by_xpath('//div[@class=\"_30jeq3\"]')\n",
    "\n",
    "prc_tag2"
   ]
  },
  {
   "cell_type": "code",
   "execution_count": 389,
   "id": "051df505",
   "metadata": {},
   "outputs": [
    {
     "data": {
      "text/plain": [
       "['₹162',\n",
       " '₹522',\n",
       " '₹217',\n",
       " '₹279',\n",
       " '₹312',\n",
       " '₹404',\n",
       " '₹783',\n",
       " '₹945',\n",
       " '₹246',\n",
       " '₹612',\n",
       " '₹319',\n",
       " '₹398',\n",
       " '₹449',\n",
       " '₹299',\n",
       " '₹210',\n",
       " '₹265',\n",
       " '₹738',\n",
       " '₹215',\n",
       " '₹355',\n",
       " '₹251',\n",
       " '₹249',\n",
       " '₹399',\n",
       " '₹352',\n",
       " '₹401',\n",
       " '₹319',\n",
       " '₹252',\n",
       " '₹649',\n",
       " '₹329',\n",
       " '₹252',\n",
       " '₹292',\n",
       " '₹349',\n",
       " '₹599',\n",
       " '₹260',\n",
       " '₹237',\n",
       " '₹449',\n",
       " '₹698',\n",
       " '₹679',\n",
       " '₹379',\n",
       " '₹299',\n",
       " '₹284']"
      ]
     },
     "execution_count": 389,
     "metadata": {},
     "output_type": "execute_result"
    }
   ],
   "source": [
    "prices2 = []\n",
    "for p2 in prc_tag2:\n",
    "    prices2.append(p2.text)\n",
    "    \n",
    "prices2"
   ]
  },
  {
   "cell_type": "code",
   "execution_count": 390,
   "id": "dcb810a7",
   "metadata": {},
   "outputs": [
    {
     "data": {
      "text/plain": [
       "[<selenium.webdriver.remote.webelement.WebElement (session=\"afdecdcd50121fcd333b0bb341df7390\", element=\"2a6b0d46-847a-46b3-8add-f89830b1dfb4\")>,\n",
       " <selenium.webdriver.remote.webelement.WebElement (session=\"afdecdcd50121fcd333b0bb341df7390\", element=\"19eee0ac-6e82-4399-aff9-3e1e7c41c8df\")>,\n",
       " <selenium.webdriver.remote.webelement.WebElement (session=\"afdecdcd50121fcd333b0bb341df7390\", element=\"b80933a4-427a-4053-abf6-082da8f00583\")>,\n",
       " <selenium.webdriver.remote.webelement.WebElement (session=\"afdecdcd50121fcd333b0bb341df7390\", element=\"91b3ffa7-7638-4e36-96c2-c9dad2db3ec1\")>,\n",
       " <selenium.webdriver.remote.webelement.WebElement (session=\"afdecdcd50121fcd333b0bb341df7390\", element=\"06c71b8d-3a7b-44e6-8bc9-a7d691c3cb5a\")>,\n",
       " <selenium.webdriver.remote.webelement.WebElement (session=\"afdecdcd50121fcd333b0bb341df7390\", element=\"6b7aead4-c988-4604-be9d-2c7f88c4ce0f\")>,\n",
       " <selenium.webdriver.remote.webelement.WebElement (session=\"afdecdcd50121fcd333b0bb341df7390\", element=\"3a14586e-4398-4546-9e8d-e174ae2ff34d\")>,\n",
       " <selenium.webdriver.remote.webelement.WebElement (session=\"afdecdcd50121fcd333b0bb341df7390\", element=\"6f3e2d1a-a6d1-4935-bbdb-877e0783bd89\")>,\n",
       " <selenium.webdriver.remote.webelement.WebElement (session=\"afdecdcd50121fcd333b0bb341df7390\", element=\"5f9c1926-8b5b-496f-b45e-f4500a9ce526\")>,\n",
       " <selenium.webdriver.remote.webelement.WebElement (session=\"afdecdcd50121fcd333b0bb341df7390\", element=\"a3f65de4-06a4-460d-bc38-181ffdcfb4a3\")>,\n",
       " <selenium.webdriver.remote.webelement.WebElement (session=\"afdecdcd50121fcd333b0bb341df7390\", element=\"b137ee5d-198d-4609-bed8-05b5a91e773f\")>,\n",
       " <selenium.webdriver.remote.webelement.WebElement (session=\"afdecdcd50121fcd333b0bb341df7390\", element=\"d43086bc-6a23-442e-a749-155c1a523a6b\")>,\n",
       " <selenium.webdriver.remote.webelement.WebElement (session=\"afdecdcd50121fcd333b0bb341df7390\", element=\"0632643e-0fba-4de7-a10e-242517b12960\")>,\n",
       " <selenium.webdriver.remote.webelement.WebElement (session=\"afdecdcd50121fcd333b0bb341df7390\", element=\"22f63af6-1b28-434f-8bb5-eea24f3cd809\")>,\n",
       " <selenium.webdriver.remote.webelement.WebElement (session=\"afdecdcd50121fcd333b0bb341df7390\", element=\"38b1c30d-50b2-47f8-9658-56ccb6dea4ec\")>,\n",
       " <selenium.webdriver.remote.webelement.WebElement (session=\"afdecdcd50121fcd333b0bb341df7390\", element=\"613fcd08-91d7-4cb0-8823-2091c3ace4bf\")>,\n",
       " <selenium.webdriver.remote.webelement.WebElement (session=\"afdecdcd50121fcd333b0bb341df7390\", element=\"2af409c0-81aa-4fd7-834f-72831d502182\")>,\n",
       " <selenium.webdriver.remote.webelement.WebElement (session=\"afdecdcd50121fcd333b0bb341df7390\", element=\"04fdc43c-d33c-4c10-87e8-6d639f43e513\")>,\n",
       " <selenium.webdriver.remote.webelement.WebElement (session=\"afdecdcd50121fcd333b0bb341df7390\", element=\"ad3b85eb-8193-4552-a4a2-03fd171e282d\")>,\n",
       " <selenium.webdriver.remote.webelement.WebElement (session=\"afdecdcd50121fcd333b0bb341df7390\", element=\"7cab8153-8c97-479a-a02c-976601b613c9\")>,\n",
       " <selenium.webdriver.remote.webelement.WebElement (session=\"afdecdcd50121fcd333b0bb341df7390\", element=\"3b8b378b-8a85-4b85-85ff-9defca7a9e3f\")>,\n",
       " <selenium.webdriver.remote.webelement.WebElement (session=\"afdecdcd50121fcd333b0bb341df7390\", element=\"061e6b83-2b04-49ea-b4f6-4fa2db1875fd\")>,\n",
       " <selenium.webdriver.remote.webelement.WebElement (session=\"afdecdcd50121fcd333b0bb341df7390\", element=\"7e2cfba3-3d2e-4112-bc25-cf76f806f376\")>,\n",
       " <selenium.webdriver.remote.webelement.WebElement (session=\"afdecdcd50121fcd333b0bb341df7390\", element=\"e6a5868e-2789-42fb-bb11-0b9473acb24e\")>,\n",
       " <selenium.webdriver.remote.webelement.WebElement (session=\"afdecdcd50121fcd333b0bb341df7390\", element=\"2c778a81-6aa3-4c18-8389-f895c17af0c8\")>,\n",
       " <selenium.webdriver.remote.webelement.WebElement (session=\"afdecdcd50121fcd333b0bb341df7390\", element=\"c2e624dc-1b9e-42cd-bfff-709b9e0f07e4\")>,\n",
       " <selenium.webdriver.remote.webelement.WebElement (session=\"afdecdcd50121fcd333b0bb341df7390\", element=\"1d63fd45-6d2b-4983-8eda-0474622a3097\")>,\n",
       " <selenium.webdriver.remote.webelement.WebElement (session=\"afdecdcd50121fcd333b0bb341df7390\", element=\"23d4402a-7724-40e4-85a3-35f22cc7631c\")>,\n",
       " <selenium.webdriver.remote.webelement.WebElement (session=\"afdecdcd50121fcd333b0bb341df7390\", element=\"c5ae7945-47c5-405f-9155-70b0e0aeabdf\")>,\n",
       " <selenium.webdriver.remote.webelement.WebElement (session=\"afdecdcd50121fcd333b0bb341df7390\", element=\"afd49ee0-c391-46ee-956f-b675ea0dd70a\")>,\n",
       " <selenium.webdriver.remote.webelement.WebElement (session=\"afdecdcd50121fcd333b0bb341df7390\", element=\"d190799f-e8c0-462a-87cb-1983749427e1\")>,\n",
       " <selenium.webdriver.remote.webelement.WebElement (session=\"afdecdcd50121fcd333b0bb341df7390\", element=\"1f1320de-27bb-4996-9387-fe5136b97d00\")>,\n",
       " <selenium.webdriver.remote.webelement.WebElement (session=\"afdecdcd50121fcd333b0bb341df7390\", element=\"d8977989-2e24-46ae-8aa0-f8a794689fca\")>,\n",
       " <selenium.webdriver.remote.webelement.WebElement (session=\"afdecdcd50121fcd333b0bb341df7390\", element=\"2641e26f-35a4-4a84-af5b-eb28613bf5d0\")>,\n",
       " <selenium.webdriver.remote.webelement.WebElement (session=\"afdecdcd50121fcd333b0bb341df7390\", element=\"5ba72765-7583-4cba-a2e2-ee5ade163ece\")>,\n",
       " <selenium.webdriver.remote.webelement.WebElement (session=\"afdecdcd50121fcd333b0bb341df7390\", element=\"7ed58362-a1cc-4705-927f-c4f345fec503\")>,\n",
       " <selenium.webdriver.remote.webelement.WebElement (session=\"afdecdcd50121fcd333b0bb341df7390\", element=\"2764054e-c7ac-47a7-a7ef-8e047596db70\")>,\n",
       " <selenium.webdriver.remote.webelement.WebElement (session=\"afdecdcd50121fcd333b0bb341df7390\", element=\"6d926bc7-68c1-4968-bde3-ab333a6d52e2\")>,\n",
       " <selenium.webdriver.remote.webelement.WebElement (session=\"afdecdcd50121fcd333b0bb341df7390\", element=\"d2f2a752-92bc-4f52-a828-6a83a71f3082\")>,\n",
       " <selenium.webdriver.remote.webelement.WebElement (session=\"afdecdcd50121fcd333b0bb341df7390\", element=\"5b1614d4-5ba1-4db2-bc80-0206fbb74757\")>]"
      ]
     },
     "execution_count": 390,
     "metadata": {},
     "output_type": "execute_result"
    }
   ],
   "source": [
    "\n",
    "disc_tag2 = driver.find_elements_by_xpath('//div[@class=\"_3Ay6Sb\"]')\n",
    "\n",
    "disc_tag2"
   ]
  },
  {
   "cell_type": "code",
   "execution_count": 391,
   "id": "a4196693",
   "metadata": {},
   "outputs": [
    {
     "data": {
      "text/plain": [
       "['₹337 off',\n",
       " '₹377 off',\n",
       " '₹782 off',\n",
       " '₹1020 off',\n",
       " '₹2183 off',\n",
       " '₹1595 off',\n",
       " '₹116 off',\n",
       " '₹2754 off',\n",
       " '₹1253 off',\n",
       " '₹287 off',\n",
       " '₹1580 off',\n",
       " '₹1047 off',\n",
       " '₹1550 off',\n",
       " '₹1200 off',\n",
       " '₹1089 off',\n",
       " '₹934 off',\n",
       " '₹261 off',\n",
       " '₹570 off',\n",
       " '₹1644 off',\n",
       " '₹1048 off',\n",
       " '₹950 off',\n",
       " '₹1600 off',\n",
       " '₹847 off',\n",
       " '₹1268 off',\n",
       " '₹1679 off',\n",
       " '₹747 off',\n",
       " '₹150 off',\n",
       " '₹670 off',\n",
       " '₹1247 off',\n",
       " '₹1707 off',\n",
       " '₹1650 off',\n",
       " '₹400 off',\n",
       " '₹1735 off',\n",
       " '₹1362 off',\n",
       " '₹1776 off',\n",
       " '₹2052 off',\n",
       " '₹220 off',\n",
       " '₹1120 off',\n",
       " '₹1000 off',\n",
       " '₹915 off']"
      ]
     },
     "execution_count": 391,
     "metadata": {},
     "output_type": "execute_result"
    }
   ],
   "source": [
    "discount2 = []\n",
    "for d2 in disc_tag2:\n",
    "    discount2.append(d2.text)\n",
    "    \n",
    "discount2"
   ]
  },
  {
   "cell_type": "code",
   "execution_count": 392,
   "id": "6b983be1",
   "metadata": {},
   "outputs": [],
   "source": [
    "nxt_btn2 = driver.find_element_by_xpath('//*[@id=\"container\"]/div/div[3]/div[1]/div[2]/div[12]/div/div/nav/a[3]')\n",
    "\n",
    "nxt_btn2.click()"
   ]
  },
  {
   "cell_type": "code",
   "execution_count": 393,
   "id": "5d1abebb",
   "metadata": {},
   "outputs": [
    {
     "data": {
      "text/plain": [
       "[<selenium.webdriver.remote.webelement.WebElement (session=\"afdecdcd50121fcd333b0bb341df7390\", element=\"fd5dde75-1aa4-4223-85d0-511082eac87e\")>,\n",
       " <selenium.webdriver.remote.webelement.WebElement (session=\"afdecdcd50121fcd333b0bb341df7390\", element=\"b5b0bbcf-2868-4368-bf4a-2ff638d521c4\")>,\n",
       " <selenium.webdriver.remote.webelement.WebElement (session=\"afdecdcd50121fcd333b0bb341df7390\", element=\"c2f45c28-b9a2-439d-966e-a1bf5921e613\")>,\n",
       " <selenium.webdriver.remote.webelement.WebElement (session=\"afdecdcd50121fcd333b0bb341df7390\", element=\"a575e4d4-1d0c-4aac-a89f-7dc33a62d576\")>,\n",
       " <selenium.webdriver.remote.webelement.WebElement (session=\"afdecdcd50121fcd333b0bb341df7390\", element=\"6ff32d83-2043-4e30-93b1-0521866894ee\")>,\n",
       " <selenium.webdriver.remote.webelement.WebElement (session=\"afdecdcd50121fcd333b0bb341df7390\", element=\"9b201545-5106-4679-b87c-1748c244066d\")>,\n",
       " <selenium.webdriver.remote.webelement.WebElement (session=\"afdecdcd50121fcd333b0bb341df7390\", element=\"96ad9f7c-780e-4cb2-85e1-f56333d6708f\")>,\n",
       " <selenium.webdriver.remote.webelement.WebElement (session=\"afdecdcd50121fcd333b0bb341df7390\", element=\"aa7c2859-aa98-45d2-83cf-c595db071a4a\")>,\n",
       " <selenium.webdriver.remote.webelement.WebElement (session=\"afdecdcd50121fcd333b0bb341df7390\", element=\"18d32eb6-c85f-4b35-b991-a4d51d65d975\")>,\n",
       " <selenium.webdriver.remote.webelement.WebElement (session=\"afdecdcd50121fcd333b0bb341df7390\", element=\"73880f75-89ff-4bac-a97b-054f7fd90774\")>,\n",
       " <selenium.webdriver.remote.webelement.WebElement (session=\"afdecdcd50121fcd333b0bb341df7390\", element=\"b49912a4-edb7-4bee-9b05-57b986c531a2\")>,\n",
       " <selenium.webdriver.remote.webelement.WebElement (session=\"afdecdcd50121fcd333b0bb341df7390\", element=\"3f24f3b3-e4ef-4885-9785-0060389bcf24\")>,\n",
       " <selenium.webdriver.remote.webelement.WebElement (session=\"afdecdcd50121fcd333b0bb341df7390\", element=\"bb5d5503-e616-468e-9c17-33d2d9ff2950\")>,\n",
       " <selenium.webdriver.remote.webelement.WebElement (session=\"afdecdcd50121fcd333b0bb341df7390\", element=\"66b47b75-bca9-4a43-a75a-b741c195fe7a\")>,\n",
       " <selenium.webdriver.remote.webelement.WebElement (session=\"afdecdcd50121fcd333b0bb341df7390\", element=\"8794d24e-e06f-420d-8097-58926dd75cc6\")>,\n",
       " <selenium.webdriver.remote.webelement.WebElement (session=\"afdecdcd50121fcd333b0bb341df7390\", element=\"95d56852-4b38-417d-a982-6cad8bbc0be2\")>,\n",
       " <selenium.webdriver.remote.webelement.WebElement (session=\"afdecdcd50121fcd333b0bb341df7390\", element=\"77495fae-2fa5-4907-9e48-f6235475ca9f\")>,\n",
       " <selenium.webdriver.remote.webelement.WebElement (session=\"afdecdcd50121fcd333b0bb341df7390\", element=\"e8a85cc0-cbe1-45a9-807b-38f01eabdf16\")>,\n",
       " <selenium.webdriver.remote.webelement.WebElement (session=\"afdecdcd50121fcd333b0bb341df7390\", element=\"ff8d3f10-18cc-4d46-b00f-fb5402ec7b44\")>,\n",
       " <selenium.webdriver.remote.webelement.WebElement (session=\"afdecdcd50121fcd333b0bb341df7390\", element=\"c4828c36-e6bc-49c1-b6a0-61ef64217b73\")>,\n",
       " <selenium.webdriver.remote.webelement.WebElement (session=\"afdecdcd50121fcd333b0bb341df7390\", element=\"5f38c376-e200-4e81-9e16-5b1c71da99b3\")>,\n",
       " <selenium.webdriver.remote.webelement.WebElement (session=\"afdecdcd50121fcd333b0bb341df7390\", element=\"1e80d460-a32e-4b41-a329-977621b1e017\")>,\n",
       " <selenium.webdriver.remote.webelement.WebElement (session=\"afdecdcd50121fcd333b0bb341df7390\", element=\"ed756ffa-3988-44f8-bbc7-2f975f3f47e4\")>,\n",
       " <selenium.webdriver.remote.webelement.WebElement (session=\"afdecdcd50121fcd333b0bb341df7390\", element=\"547c1489-37e2-4a73-b6c4-88700ad53304\")>,\n",
       " <selenium.webdriver.remote.webelement.WebElement (session=\"afdecdcd50121fcd333b0bb341df7390\", element=\"b98e3cbc-0e73-4648-a8f8-4beecdb93cec\")>,\n",
       " <selenium.webdriver.remote.webelement.WebElement (session=\"afdecdcd50121fcd333b0bb341df7390\", element=\"5e5dad8f-be10-4fd1-83cc-d83c737cc823\")>,\n",
       " <selenium.webdriver.remote.webelement.WebElement (session=\"afdecdcd50121fcd333b0bb341df7390\", element=\"56918e07-7b55-4d26-a444-a5c97472a6fd\")>,\n",
       " <selenium.webdriver.remote.webelement.WebElement (session=\"afdecdcd50121fcd333b0bb341df7390\", element=\"0135e637-148a-44d5-8aeb-085e2e997e33\")>,\n",
       " <selenium.webdriver.remote.webelement.WebElement (session=\"afdecdcd50121fcd333b0bb341df7390\", element=\"64481bc7-0577-4510-8bf4-702341124bb0\")>,\n",
       " <selenium.webdriver.remote.webelement.WebElement (session=\"afdecdcd50121fcd333b0bb341df7390\", element=\"569b8ece-bca7-4319-9dcc-edb195da9b38\")>,\n",
       " <selenium.webdriver.remote.webelement.WebElement (session=\"afdecdcd50121fcd333b0bb341df7390\", element=\"9635c582-6add-4004-8c7d-c1ea760742f7\")>,\n",
       " <selenium.webdriver.remote.webelement.WebElement (session=\"afdecdcd50121fcd333b0bb341df7390\", element=\"c86878f0-8605-4b1b-9b6a-3ccfc54ee58b\")>,\n",
       " <selenium.webdriver.remote.webelement.WebElement (session=\"afdecdcd50121fcd333b0bb341df7390\", element=\"7960477a-477c-4e3d-8bda-8a01f6fcbf06\")>,\n",
       " <selenium.webdriver.remote.webelement.WebElement (session=\"afdecdcd50121fcd333b0bb341df7390\", element=\"95b252e1-6aae-43b8-b66e-7ac7df77486e\")>,\n",
       " <selenium.webdriver.remote.webelement.WebElement (session=\"afdecdcd50121fcd333b0bb341df7390\", element=\"350d43cc-8a70-410d-9088-882f68242bfb\")>,\n",
       " <selenium.webdriver.remote.webelement.WebElement (session=\"afdecdcd50121fcd333b0bb341df7390\", element=\"01cc4bef-8763-4b72-ae58-7b0827e63348\")>,\n",
       " <selenium.webdriver.remote.webelement.WebElement (session=\"afdecdcd50121fcd333b0bb341df7390\", element=\"273a2451-f608-454b-8aa2-a0b08b0e4bb6\")>,\n",
       " <selenium.webdriver.remote.webelement.WebElement (session=\"afdecdcd50121fcd333b0bb341df7390\", element=\"e19284f7-879d-4f42-926f-eb49fd468729\")>,\n",
       " <selenium.webdriver.remote.webelement.WebElement (session=\"afdecdcd50121fcd333b0bb341df7390\", element=\"04f2ee7a-28d3-4ffa-bc5e-a5e91cc4ded3\")>,\n",
       " <selenium.webdriver.remote.webelement.WebElement (session=\"afdecdcd50121fcd333b0bb341df7390\", element=\"b91e7c25-2666-4285-bded-fc068985caca\")>]"
      ]
     },
     "execution_count": 393,
     "metadata": {},
     "output_type": "execute_result"
    }
   ],
   "source": [
    "brand_tag3 = driver.find_elements_by_xpath('//div[@class=\"_2WkVRV\"]')\n",
    "brand_tag3"
   ]
  },
  {
   "cell_type": "code",
   "execution_count": 394,
   "id": "c7ebb5c5",
   "metadata": {},
   "outputs": [
    {
     "data": {
      "text/plain": [
       "['Poland',\n",
       " 'Fastrack',\n",
       " 'ROYAL SON',\n",
       " 'Billion',\n",
       " 'Elligator',\n",
       " 'ROZZETTA CRAFT',\n",
       " 'Fastrack',\n",
       " 'AISLIN',\n",
       " 'Silver Kartz',\n",
       " 'Fastrack',\n",
       " 'hipe',\n",
       " 'NuVew',\n",
       " 'ROZZETTA CRAFT',\n",
       " 'kingsunglasses',\n",
       " 'kingsunglasses',\n",
       " 'Silver Kartz',\n",
       " 'Fastrack',\n",
       " 'NuVew',\n",
       " 'Singco',\n",
       " 'GANSTA',\n",
       " 'kingsunglasses',\n",
       " 'PHENOMENAL',\n",
       " 'Singco India',\n",
       " 'ROZZETTA CRAFT',\n",
       " 'PHENOMENAL',\n",
       " 'Singco',\n",
       " 'Fastrack',\n",
       " 'CRIBA',\n",
       " 'Singco India',\n",
       " 'GANSTA',\n",
       " 'Singco India',\n",
       " 'Villain',\n",
       " 'GANSTA',\n",
       " 'PIRASO',\n",
       " 'ROZZETTA CRAFT',\n",
       " 'AISLIN',\n",
       " 'Fastrack',\n",
       " 'ROYAL SON',\n",
       " 'hipe',\n",
       " 'Silver Kartz']"
      ]
     },
     "execution_count": 394,
     "metadata": {},
     "output_type": "execute_result"
    }
   ],
   "source": [
    "brand_name3 = []\n",
    "for b3 in brand_tag3:\n",
    "    brand_name3.append(b3.text)\n",
    "    \n",
    "brand_name3"
   ]
  },
  {
   "cell_type": "code",
   "execution_count": 395,
   "id": "419ffd60",
   "metadata": {},
   "outputs": [
    {
     "data": {
      "text/plain": [
       "['hipe',\n",
       " 'ROYAL SON',\n",
       " 'kingsunglasses',\n",
       " 'Fastrack',\n",
       " 'Fastrack',\n",
       " 'PIRASO',\n",
       " 'Fastrack',\n",
       " 'Silver Kartz',\n",
       " 'PHENOMENAL',\n",
       " 'kingsunglasses',\n",
       " 'PIRASO',\n",
       " 'DAHAAZIL',\n",
       " 'PIRASO',\n",
       " 'GANSTA',\n",
       " 'PHENOMENAL',\n",
       " 'Silver Kartz',\n",
       " 'kingsunglasses',\n",
       " 'Villain',\n",
       " 'Fastrack',\n",
       " 'ROYAL SON',\n",
       " 'kingsunglasses',\n",
       " 'Elligator',\n",
       " 'Fastrack',\n",
       " 'ROYAL SON',\n",
       " 'PIRASO',\n",
       " 'hipe',\n",
       " 'kingsunglasses',\n",
       " 'style guru',\n",
       " 'HIPPON',\n",
       " 'Fastrack',\n",
       " 'PHENOMENAL',\n",
       " 'Silver Kartz',\n",
       " 'ROZZETTA CRAFT',\n",
       " 'kingsunglasses',\n",
       " 'Fastrack',\n",
       " 'VINCENT CHASE',\n",
       " 'ROZZETTA CRAFT',\n",
       " 'Flizz',\n",
       " 'Fastrack',\n",
       " 'ROYAL SON',\n",
       " 'Poland',\n",
       " 'Fastrack',\n",
       " 'ROYAL SON',\n",
       " 'Billion',\n",
       " 'Elligator',\n",
       " 'ROZZETTA CRAFT',\n",
       " 'Fastrack',\n",
       " 'AISLIN',\n",
       " 'Silver Kartz',\n",
       " 'Fastrack',\n",
       " 'hipe',\n",
       " 'NuVew',\n",
       " 'ROZZETTA CRAFT',\n",
       " 'kingsunglasses',\n",
       " 'kingsunglasses',\n",
       " 'Silver Kartz',\n",
       " 'Fastrack',\n",
       " 'NuVew',\n",
       " 'Singco',\n",
       " 'GANSTA',\n",
       " 'kingsunglasses',\n",
       " 'PHENOMENAL',\n",
       " 'Singco India',\n",
       " 'ROZZETTA CRAFT',\n",
       " 'PHENOMENAL',\n",
       " 'Singco',\n",
       " 'Fastrack',\n",
       " 'CRIBA',\n",
       " 'Singco India',\n",
       " 'GANSTA',\n",
       " 'Singco India',\n",
       " 'Villain',\n",
       " 'GANSTA',\n",
       " 'PIRASO',\n",
       " 'ROZZETTA CRAFT',\n",
       " 'AISLIN',\n",
       " 'Fastrack',\n",
       " 'ROYAL SON',\n",
       " 'hipe',\n",
       " 'Silver Kartz',\n",
       " 'Poland',\n",
       " 'Fastrack',\n",
       " 'ROYAL SON',\n",
       " 'Billion',\n",
       " 'Elligator',\n",
       " 'ROZZETTA CRAFT',\n",
       " 'Fastrack',\n",
       " 'AISLIN',\n",
       " 'Silver Kartz',\n",
       " 'Fastrack',\n",
       " 'hipe',\n",
       " 'NuVew',\n",
       " 'ROZZETTA CRAFT',\n",
       " 'kingsunglasses',\n",
       " 'kingsunglasses',\n",
       " 'Silver Kartz',\n",
       " 'Fastrack',\n",
       " 'NuVew',\n",
       " 'Singco',\n",
       " 'GANSTA']"
      ]
     },
     "execution_count": 395,
     "metadata": {},
     "output_type": "execute_result"
    }
   ],
   "source": [
    "brands = brand_name1 + brand_name2 + brand_name3[:20]\n",
    "\n",
    "brands"
   ]
  },
  {
   "cell_type": "code",
   "execution_count": 396,
   "id": "6b792e97",
   "metadata": {},
   "outputs": [
    {
     "data": {
      "text/plain": [
       "100"
      ]
     },
     "execution_count": 396,
     "metadata": {},
     "output_type": "execute_result"
    }
   ],
   "source": [
    "len (brands)"
   ]
  },
  {
   "cell_type": "code",
   "execution_count": 397,
   "id": "19d1e439",
   "metadata": {},
   "outputs": [
    {
     "data": {
      "text/plain": [
       "[<selenium.webdriver.remote.webelement.WebElement (session=\"afdecdcd50121fcd333b0bb341df7390\", element=\"2a32e00e-b635-47d3-8957-657a6c56e09f\")>,\n",
       " <selenium.webdriver.remote.webelement.WebElement (session=\"afdecdcd50121fcd333b0bb341df7390\", element=\"6bc55fcf-1ffe-4e48-a040-11ffd9332ac7\")>,\n",
       " <selenium.webdriver.remote.webelement.WebElement (session=\"afdecdcd50121fcd333b0bb341df7390\", element=\"c3a80406-157f-47d6-bea7-1736890b8b5d\")>,\n",
       " <selenium.webdriver.remote.webelement.WebElement (session=\"afdecdcd50121fcd333b0bb341df7390\", element=\"94ab619c-7ef9-426b-9112-ec14fadaf6ff\")>,\n",
       " <selenium.webdriver.remote.webelement.WebElement (session=\"afdecdcd50121fcd333b0bb341df7390\", element=\"1a4e7c88-e18e-482e-a665-c31dd20a642d\")>,\n",
       " <selenium.webdriver.remote.webelement.WebElement (session=\"afdecdcd50121fcd333b0bb341df7390\", element=\"d8e77999-2080-43f2-8739-2a07014d6226\")>,\n",
       " <selenium.webdriver.remote.webelement.WebElement (session=\"afdecdcd50121fcd333b0bb341df7390\", element=\"40f00f2b-db48-4db7-ab47-2d1eb2c34730\")>,\n",
       " <selenium.webdriver.remote.webelement.WebElement (session=\"afdecdcd50121fcd333b0bb341df7390\", element=\"0bfbaa6f-4e98-4f79-9d60-692d6184caa6\")>,\n",
       " <selenium.webdriver.remote.webelement.WebElement (session=\"afdecdcd50121fcd333b0bb341df7390\", element=\"edb341df-2bfb-4f9d-bca3-2073e071280a\")>,\n",
       " <selenium.webdriver.remote.webelement.WebElement (session=\"afdecdcd50121fcd333b0bb341df7390\", element=\"15e3da22-7211-40fc-a679-bbc41f3cc56c\")>,\n",
       " <selenium.webdriver.remote.webelement.WebElement (session=\"afdecdcd50121fcd333b0bb341df7390\", element=\"887d21e4-7eb2-4d10-839f-06e68d606392\")>,\n",
       " <selenium.webdriver.remote.webelement.WebElement (session=\"afdecdcd50121fcd333b0bb341df7390\", element=\"25066ec4-ca15-4404-b483-b25120f3ed9f\")>,\n",
       " <selenium.webdriver.remote.webelement.WebElement (session=\"afdecdcd50121fcd333b0bb341df7390\", element=\"d8b92bf8-bb33-4000-af9a-2f5ac3710648\")>,\n",
       " <selenium.webdriver.remote.webelement.WebElement (session=\"afdecdcd50121fcd333b0bb341df7390\", element=\"c8d6fde2-6249-413c-a212-9543a3476755\")>,\n",
       " <selenium.webdriver.remote.webelement.WebElement (session=\"afdecdcd50121fcd333b0bb341df7390\", element=\"2ff5cf9d-9bbf-4b62-b748-8b1a20229bf7\")>,\n",
       " <selenium.webdriver.remote.webelement.WebElement (session=\"afdecdcd50121fcd333b0bb341df7390\", element=\"4287f26d-fb11-4350-b97c-b7c8f3c1e283\")>,\n",
       " <selenium.webdriver.remote.webelement.WebElement (session=\"afdecdcd50121fcd333b0bb341df7390\", element=\"491e02ce-927a-4b30-a054-5f801988187f\")>,\n",
       " <selenium.webdriver.remote.webelement.WebElement (session=\"afdecdcd50121fcd333b0bb341df7390\", element=\"a73d3644-5851-49b3-8735-e6d2cda94734\")>,\n",
       " <selenium.webdriver.remote.webelement.WebElement (session=\"afdecdcd50121fcd333b0bb341df7390\", element=\"c43ff422-4672-43d3-88fa-a134df2874e0\")>,\n",
       " <selenium.webdriver.remote.webelement.WebElement (session=\"afdecdcd50121fcd333b0bb341df7390\", element=\"50b666a9-a779-4bea-b964-213c29454f2c\")>,\n",
       " <selenium.webdriver.remote.webelement.WebElement (session=\"afdecdcd50121fcd333b0bb341df7390\", element=\"fb528076-8a8b-40ac-8b5a-cbeaa7289386\")>,\n",
       " <selenium.webdriver.remote.webelement.WebElement (session=\"afdecdcd50121fcd333b0bb341df7390\", element=\"4597c605-1db9-439b-b379-6eec725b93ab\")>,\n",
       " <selenium.webdriver.remote.webelement.WebElement (session=\"afdecdcd50121fcd333b0bb341df7390\", element=\"8d81def9-a023-47cc-947c-811b01719786\")>,\n",
       " <selenium.webdriver.remote.webelement.WebElement (session=\"afdecdcd50121fcd333b0bb341df7390\", element=\"2f1ec890-15c9-42c7-8abf-64cd7d08cd5d\")>,\n",
       " <selenium.webdriver.remote.webelement.WebElement (session=\"afdecdcd50121fcd333b0bb341df7390\", element=\"017ac2b8-ada3-4f7f-8908-b0b43c20a5ea\")>,\n",
       " <selenium.webdriver.remote.webelement.WebElement (session=\"afdecdcd50121fcd333b0bb341df7390\", element=\"74bc2140-8713-4b20-873b-a365ce8b7729\")>,\n",
       " <selenium.webdriver.remote.webelement.WebElement (session=\"afdecdcd50121fcd333b0bb341df7390\", element=\"85830cad-f3ab-4f83-aeff-6cd293c5af9e\")>,\n",
       " <selenium.webdriver.remote.webelement.WebElement (session=\"afdecdcd50121fcd333b0bb341df7390\", element=\"0e899061-95ae-473e-adea-c0c42137f9d6\")>,\n",
       " <selenium.webdriver.remote.webelement.WebElement (session=\"afdecdcd50121fcd333b0bb341df7390\", element=\"cb6df1f4-c42d-4c2a-b935-80adbd87a233\")>,\n",
       " <selenium.webdriver.remote.webelement.WebElement (session=\"afdecdcd50121fcd333b0bb341df7390\", element=\"9771d11d-6533-4a37-9380-64d6d8ce5242\")>,\n",
       " <selenium.webdriver.remote.webelement.WebElement (session=\"afdecdcd50121fcd333b0bb341df7390\", element=\"6806158d-3515-46ef-95d8-e3f5410574d9\")>,\n",
       " <selenium.webdriver.remote.webelement.WebElement (session=\"afdecdcd50121fcd333b0bb341df7390\", element=\"9dd6add7-37b4-49bc-bd25-b45f29ac35b1\")>,\n",
       " <selenium.webdriver.remote.webelement.WebElement (session=\"afdecdcd50121fcd333b0bb341df7390\", element=\"a235994e-d823-4b86-a437-7f54bf3d25a5\")>,\n",
       " <selenium.webdriver.remote.webelement.WebElement (session=\"afdecdcd50121fcd333b0bb341df7390\", element=\"eb15868e-6140-42e2-af73-98c32130bd23\")>,\n",
       " <selenium.webdriver.remote.webelement.WebElement (session=\"afdecdcd50121fcd333b0bb341df7390\", element=\"43dce107-ab22-42f9-b39f-8ad8b1d3fc39\")>,\n",
       " <selenium.webdriver.remote.webelement.WebElement (session=\"afdecdcd50121fcd333b0bb341df7390\", element=\"1b635fdc-b279-41e7-9784-c5a96fa11f67\")>,\n",
       " <selenium.webdriver.remote.webelement.WebElement (session=\"afdecdcd50121fcd333b0bb341df7390\", element=\"884d5e84-2ad6-4f16-ab9d-830af8ecabf6\")>,\n",
       " <selenium.webdriver.remote.webelement.WebElement (session=\"afdecdcd50121fcd333b0bb341df7390\", element=\"bbbd117e-5b62-447a-89ca-9322d687046f\")>,\n",
       " <selenium.webdriver.remote.webelement.WebElement (session=\"afdecdcd50121fcd333b0bb341df7390\", element=\"3bb3802b-6357-4b34-b20f-5db3736ccc83\")>,\n",
       " <selenium.webdriver.remote.webelement.WebElement (session=\"afdecdcd50121fcd333b0bb341df7390\", element=\"b5b41b6f-ba5b-4049-bac8-ffe0d125f1a7\")>]"
      ]
     },
     "execution_count": 397,
     "metadata": {},
     "output_type": "execute_result"
    }
   ],
   "source": [
    "pd_des3 = driver.find_elements_by_xpath('//a[@class=\"IRpwTa\"]')\n",
    "\n",
    "pd_des3"
   ]
  },
  {
   "cell_type": "code",
   "execution_count": 398,
   "id": "51b88378",
   "metadata": {},
   "outputs": [
    {
     "data": {
      "text/plain": [
       "['UV Protection Wayfarer Sunglasses (Free Size)',\n",
       " 'UV Protection Wrap-around Sunglasses (Free Size)',\n",
       " 'UV Protection, Gradient Wayfarer Sunglasses (55)',\n",
       " 'Polarized, UV Protection, Riding Glasses, Mirrored Wayf...',\n",
       " 'Mirrored Round Sunglasses (53)',\n",
       " 'UV Protection, Gradient Rectangular Sunglasses (Free Si...',\n",
       " 'UV Protection Shield Sunglasses (Free Size)',\n",
       " 'Toughened Glass Lens, UV Protection Wayfarer, Rectangul...',\n",
       " 'UV Protection Wayfarer Sunglasses (Free Size)',\n",
       " 'UV Protection, Polarized Wayfarer Sunglasses (56)',\n",
       " 'UV Protection Sports Sunglasses (Free Size)',\n",
       " 'UV Protection Cat-eye Sunglasses (60)',\n",
       " 'UV Protection, Gradient Round Sunglasses (Free Size)',\n",
       " 'Mirrored, UV Protection Wayfarer, Wayfarer, Wayfarer, W...',\n",
       " 'UV Protection Rectangular Sunglasses (Free Size)',\n",
       " 'UV Protection Wayfarer, Aviator Sunglasses (88)',\n",
       " 'Mirrored, UV Protection Wayfarer Sunglasses (Free Size)',\n",
       " 'UV Protection Aviator Sunglasses (58)',\n",
       " 'UV Protection, Others Aviator Sunglasses (32)',\n",
       " 'UV Protection, Riding Glasses Aviator Sunglasses (57)',\n",
       " 'UV Protection, Mirrored Round Sunglasses (54)',\n",
       " 'UV Protection, Mirrored Retro Square Sunglasses (Free S...',\n",
       " 'UV Protection Aviator Sunglasses (Free Size)',\n",
       " 'UV Protection Retro Square Sunglasses (Free Size)',\n",
       " 'UV Protection Clubmaster Sunglasses (Free Size)',\n",
       " 'Mirrored Aviator Sunglasses (53)',\n",
       " 'Gradient, UV Protection Wayfarer Sunglasses (Free Size)',\n",
       " 'UV Protection, Night Vision, Riding Glasses, Others Rou...',\n",
       " 'Mirrored, Riding Glasses, Others Sports Sunglasses (50)',\n",
       " 'UV Protection, Night Vision, Riding Glasses Aviator Sun...',\n",
       " 'Mirrored, UV Protection, Riding Glasses, Others Wrap-ar...',\n",
       " 'Others Wayfarer Sunglasses (Free Size)',\n",
       " 'UV Protection, Riding Glasses Wayfarer Sunglasses (53)',\n",
       " 'UV Protection Aviator Sunglasses (54)',\n",
       " 'UV Protection, Riding Glasses Rectangular Sunglasses (F...',\n",
       " 'UV Protection, Mirrored Wayfarer Sunglasses (61)',\n",
       " 'UV Protection Aviator Sunglasses (Free Size)',\n",
       " 'Mirrored Aviator Sunglasses (55)',\n",
       " 'UV Protection, Gradient, Mirrored, Riding Glasses Recta...',\n",
       " 'UV Protection Oval Sunglasses (56)']"
      ]
     },
     "execution_count": 398,
     "metadata": {},
     "output_type": "execute_result"
    }
   ],
   "source": [
    "product_desc3 = []\n",
    "\n",
    "for p3 in pd_des3:\n",
    "    product_desc3.append(p3.text)\n",
    "    \n",
    "product_desc3"
   ]
  },
  {
   "cell_type": "code",
   "execution_count": 399,
   "id": "e197a747",
   "metadata": {},
   "outputs": [
    {
     "data": {
      "text/plain": [
       "['UV Protection, Gradient, Mirrored, Riding Glasses Aviat...',\n",
       " 'Polarized, UV Protection Round Sunglasses (53)',\n",
       " 'Mirrored, UV Protection Wayfarer Sunglasses (Free Size)',\n",
       " 'UV Protection Rectangular Sunglasses (Free Size)',\n",
       " 'UV Protection Wayfarer Sunglasses (Free Size)',\n",
       " 'UV Protection Aviator Sunglasses (54)',\n",
       " 'Gradient, UV Protection Wayfarer Sunglasses (Free Size)',\n",
       " 'UV Protection Aviator Sunglasses (88)',\n",
       " 'UV Protection Round Sunglasses (53)',\n",
       " 'UV Protection Round Sunglasses (Free Size)',\n",
       " 'UV Protection Aviator Sunglasses (58)',\n",
       " 'UV Protection, Night Vision, Riding Glasses Round Sungl...',\n",
       " 'UV Protection Aviator Sunglasses (Free Size)',\n",
       " 'UV Protection Aviator Sunglasses (57)',\n",
       " 'UV Protection Retro Square Sunglasses (Free Size)',\n",
       " 'UV Protection Aviator Sunglasses (62)',\n",
       " 'Mirrored, UV Protection Wayfarer Sunglasses (Free Size)',\n",
       " 'Others Retro Square Sunglasses (Free Size)',\n",
       " 'UV Protection Aviator Sunglasses (Free Size)',\n",
       " 'Polarized, UV Protection Aviator Sunglasses (58)',\n",
       " 'UV Protection Round Sunglasses (54)',\n",
       " 'UV Protection Round Sunglasses (54)',\n",
       " 'UV Protection Wayfarer Sunglasses (Free Size)',\n",
       " 'UV Protection Round Sunglasses (54)',\n",
       " 'UV Protection Aviator Sunglasses (54)',\n",
       " 'Mirrored, UV Protection, Gradient Round Sunglasses (55)',\n",
       " 'UV Protection Rectangular Sunglasses (55)',\n",
       " 'UV Protection Retro Square Sunglasses (Free Size)',\n",
       " 'UV Protection Wayfarer Sunglasses (55)',\n",
       " 'UV Protection Aviator Sunglasses (58)',\n",
       " 'UV Protection, Mirrored Retro Square Sunglasses (53)',\n",
       " 'UV Protection Oval Sunglasses (56)',\n",
       " 'UV Protection Retro Square Sunglasses (Free Size)',\n",
       " 'UV Protection Rectangular Sunglasses (Free Size)',\n",
       " 'UV Protection Aviator Sunglasses (58)',\n",
       " 'by Lenskart UV Protection Wayfarer Sunglasses (49)',\n",
       " 'UV Protection, Gradient Rectangular Sunglasses (Free Si...',\n",
       " 'UV Protection Retro Square Sunglasses (Free Size)',\n",
       " 'UV Protection Wayfarer Sunglasses (56)',\n",
       " 'UV Protection, Gradient Over-sized Sunglasses (59)',\n",
       " 'UV Protection Wayfarer Sunglasses (Free Size)',\n",
       " 'UV Protection Wrap-around Sunglasses (Free Size)',\n",
       " 'UV Protection, Gradient Wayfarer Sunglasses (55)',\n",
       " 'Polarized, UV Protection, Riding Glasses, Mirrored Wayf...',\n",
       " 'Mirrored Round Sunglasses (53)',\n",
       " 'UV Protection, Gradient Rectangular Sunglasses (Free Si...',\n",
       " 'UV Protection Shield Sunglasses (Free Size)',\n",
       " 'Toughened Glass Lens, UV Protection Wayfarer, Rectangul...',\n",
       " 'UV Protection Wayfarer Sunglasses (Free Size)',\n",
       " 'UV Protection, Polarized Wayfarer Sunglasses (56)',\n",
       " 'UV Protection Sports Sunglasses (Free Size)',\n",
       " 'UV Protection Cat-eye Sunglasses (60)',\n",
       " 'UV Protection, Gradient Round Sunglasses (Free Size)',\n",
       " 'Mirrored, UV Protection Wayfarer, Wayfarer, Wayfarer, W...',\n",
       " 'UV Protection Rectangular Sunglasses (Free Size)',\n",
       " 'UV Protection Wayfarer, Aviator Sunglasses (88)',\n",
       " 'Mirrored, UV Protection Wayfarer Sunglasses (Free Size)',\n",
       " 'UV Protection Aviator Sunglasses (58)',\n",
       " 'UV Protection, Others Aviator Sunglasses (32)',\n",
       " 'UV Protection, Riding Glasses Aviator Sunglasses (57)',\n",
       " 'UV Protection, Mirrored Round Sunglasses (54)',\n",
       " 'UV Protection, Mirrored Retro Square Sunglasses (Free S...',\n",
       " 'UV Protection Aviator Sunglasses (Free Size)',\n",
       " 'UV Protection Retro Square Sunglasses (Free Size)',\n",
       " 'UV Protection Clubmaster Sunglasses (Free Size)',\n",
       " 'Mirrored Aviator Sunglasses (53)',\n",
       " 'Gradient, UV Protection Wayfarer Sunglasses (Free Size)',\n",
       " 'UV Protection, Night Vision, Riding Glasses, Others Rou...',\n",
       " 'Mirrored, Riding Glasses, Others Sports Sunglasses (50)',\n",
       " 'UV Protection, Night Vision, Riding Glasses Aviator Sun...',\n",
       " 'Mirrored, UV Protection, Riding Glasses, Others Wrap-ar...',\n",
       " 'Others Wayfarer Sunglasses (Free Size)',\n",
       " 'UV Protection, Riding Glasses Wayfarer Sunglasses (53)',\n",
       " 'UV Protection Aviator Sunglasses (54)',\n",
       " 'UV Protection, Riding Glasses Rectangular Sunglasses (F...',\n",
       " 'UV Protection, Mirrored Wayfarer Sunglasses (61)',\n",
       " 'UV Protection Aviator Sunglasses (Free Size)',\n",
       " 'Mirrored Aviator Sunglasses (55)',\n",
       " 'UV Protection, Gradient, Mirrored, Riding Glasses Recta...',\n",
       " 'UV Protection Oval Sunglasses (56)',\n",
       " 'UV Protection Wayfarer Sunglasses (Free Size)',\n",
       " 'UV Protection Wrap-around Sunglasses (Free Size)',\n",
       " 'UV Protection, Gradient Wayfarer Sunglasses (55)',\n",
       " 'Polarized, UV Protection, Riding Glasses, Mirrored Wayf...',\n",
       " 'Mirrored Round Sunglasses (53)',\n",
       " 'UV Protection, Gradient Rectangular Sunglasses (Free Si...',\n",
       " 'UV Protection Shield Sunglasses (Free Size)',\n",
       " 'Toughened Glass Lens, UV Protection Wayfarer, Rectangul...',\n",
       " 'UV Protection Wayfarer Sunglasses (Free Size)',\n",
       " 'UV Protection, Polarized Wayfarer Sunglasses (56)',\n",
       " 'UV Protection Sports Sunglasses (Free Size)',\n",
       " 'UV Protection Cat-eye Sunglasses (60)',\n",
       " 'UV Protection, Gradient Round Sunglasses (Free Size)',\n",
       " 'Mirrored, UV Protection Wayfarer, Wayfarer, Wayfarer, W...',\n",
       " 'UV Protection Rectangular Sunglasses (Free Size)',\n",
       " 'UV Protection Wayfarer, Aviator Sunglasses (88)',\n",
       " 'Mirrored, UV Protection Wayfarer Sunglasses (Free Size)',\n",
       " 'UV Protection Aviator Sunglasses (58)',\n",
       " 'UV Protection, Others Aviator Sunglasses (32)',\n",
       " 'UV Protection, Riding Glasses Aviator Sunglasses (57)']"
      ]
     },
     "execution_count": 399,
     "metadata": {},
     "output_type": "execute_result"
    }
   ],
   "source": [
    "descriptions = product_desc1 + product_desc2 + product_desc3[:20]\n",
    "\n",
    "descriptions"
   ]
  },
  {
   "cell_type": "code",
   "execution_count": 400,
   "id": "0dc8237b",
   "metadata": {},
   "outputs": [
    {
     "data": {
      "text/plain": [
       "[<selenium.webdriver.remote.webelement.WebElement (session=\"afdecdcd50121fcd333b0bb341df7390\", element=\"2c283198-0e0a-4bbb-8f89-583edc41cb9a\")>,\n",
       " <selenium.webdriver.remote.webelement.WebElement (session=\"afdecdcd50121fcd333b0bb341df7390\", element=\"a6fed98b-628b-4c6a-889e-06abbe82eca8\")>,\n",
       " <selenium.webdriver.remote.webelement.WebElement (session=\"afdecdcd50121fcd333b0bb341df7390\", element=\"acd015e8-e13b-474b-b98d-5b9fe984e934\")>,\n",
       " <selenium.webdriver.remote.webelement.WebElement (session=\"afdecdcd50121fcd333b0bb341df7390\", element=\"49665df8-7935-47bf-aaca-62dd271ed5dd\")>,\n",
       " <selenium.webdriver.remote.webelement.WebElement (session=\"afdecdcd50121fcd333b0bb341df7390\", element=\"957b1c28-3d96-4fa9-a536-70a7cf276395\")>,\n",
       " <selenium.webdriver.remote.webelement.WebElement (session=\"afdecdcd50121fcd333b0bb341df7390\", element=\"436afe8f-94c7-4cd9-8cee-01a32f1fbf57\")>,\n",
       " <selenium.webdriver.remote.webelement.WebElement (session=\"afdecdcd50121fcd333b0bb341df7390\", element=\"50c9614c-bb36-49a4-8953-37463f2af247\")>,\n",
       " <selenium.webdriver.remote.webelement.WebElement (session=\"afdecdcd50121fcd333b0bb341df7390\", element=\"5514772d-5b1b-4f68-8fd0-e8b9955a1763\")>,\n",
       " <selenium.webdriver.remote.webelement.WebElement (session=\"afdecdcd50121fcd333b0bb341df7390\", element=\"8fc78fe1-84f7-4bb8-8708-ef393f259455\")>,\n",
       " <selenium.webdriver.remote.webelement.WebElement (session=\"afdecdcd50121fcd333b0bb341df7390\", element=\"f41605d1-b738-49d4-95ce-f6478daf88a1\")>,\n",
       " <selenium.webdriver.remote.webelement.WebElement (session=\"afdecdcd50121fcd333b0bb341df7390\", element=\"89e6f162-7832-46fa-a242-0e38d213e25d\")>,\n",
       " <selenium.webdriver.remote.webelement.WebElement (session=\"afdecdcd50121fcd333b0bb341df7390\", element=\"98773cd6-2a07-4e1f-921a-18935cbb4b2e\")>,\n",
       " <selenium.webdriver.remote.webelement.WebElement (session=\"afdecdcd50121fcd333b0bb341df7390\", element=\"0e065b9f-6a58-4913-9d73-e898a8aeb25b\")>,\n",
       " <selenium.webdriver.remote.webelement.WebElement (session=\"afdecdcd50121fcd333b0bb341df7390\", element=\"4873168c-9119-41d6-a9b1-39f89f6291cd\")>,\n",
       " <selenium.webdriver.remote.webelement.WebElement (session=\"afdecdcd50121fcd333b0bb341df7390\", element=\"a059eaf5-065d-40b3-bae4-877a34621577\")>,\n",
       " <selenium.webdriver.remote.webelement.WebElement (session=\"afdecdcd50121fcd333b0bb341df7390\", element=\"cb955cf9-4be0-4378-b91a-8d12f0bee35e\")>,\n",
       " <selenium.webdriver.remote.webelement.WebElement (session=\"afdecdcd50121fcd333b0bb341df7390\", element=\"8d5e595f-08fa-4134-a1a2-47aa3c267174\")>,\n",
       " <selenium.webdriver.remote.webelement.WebElement (session=\"afdecdcd50121fcd333b0bb341df7390\", element=\"5b9d47f6-8798-44d9-93e8-b9364406b867\")>,\n",
       " <selenium.webdriver.remote.webelement.WebElement (session=\"afdecdcd50121fcd333b0bb341df7390\", element=\"1206fda6-4636-4075-88f9-5f3069d34a8f\")>,\n",
       " <selenium.webdriver.remote.webelement.WebElement (session=\"afdecdcd50121fcd333b0bb341df7390\", element=\"5b28a8f1-2bc5-43a7-a852-4f62558fc8c9\")>,\n",
       " <selenium.webdriver.remote.webelement.WebElement (session=\"afdecdcd50121fcd333b0bb341df7390\", element=\"4972ea9f-a405-40f0-af3c-6853202d0f69\")>,\n",
       " <selenium.webdriver.remote.webelement.WebElement (session=\"afdecdcd50121fcd333b0bb341df7390\", element=\"9aae5855-fdcc-4de8-8857-be830e8275c6\")>,\n",
       " <selenium.webdriver.remote.webelement.WebElement (session=\"afdecdcd50121fcd333b0bb341df7390\", element=\"39e5fd62-58ec-46c5-9070-f0fd3325deff\")>,\n",
       " <selenium.webdriver.remote.webelement.WebElement (session=\"afdecdcd50121fcd333b0bb341df7390\", element=\"68a4ba5f-8c82-4588-9215-287f0b2e4f6a\")>,\n",
       " <selenium.webdriver.remote.webelement.WebElement (session=\"afdecdcd50121fcd333b0bb341df7390\", element=\"d1a596b9-1e0d-40ff-acb4-97ef5d7a6114\")>,\n",
       " <selenium.webdriver.remote.webelement.WebElement (session=\"afdecdcd50121fcd333b0bb341df7390\", element=\"004b9f21-27da-4481-aef4-3b741ff73b0f\")>,\n",
       " <selenium.webdriver.remote.webelement.WebElement (session=\"afdecdcd50121fcd333b0bb341df7390\", element=\"2ba80f21-9023-4d17-9945-18514d9006f0\")>,\n",
       " <selenium.webdriver.remote.webelement.WebElement (session=\"afdecdcd50121fcd333b0bb341df7390\", element=\"fc236c5d-4318-4890-a11e-20ec5efe6dc4\")>,\n",
       " <selenium.webdriver.remote.webelement.WebElement (session=\"afdecdcd50121fcd333b0bb341df7390\", element=\"eaec7189-ad08-47f5-ac68-8363379c16d0\")>,\n",
       " <selenium.webdriver.remote.webelement.WebElement (session=\"afdecdcd50121fcd333b0bb341df7390\", element=\"d558e55d-d8f3-4b81-ac99-8b6728edb0f1\")>,\n",
       " <selenium.webdriver.remote.webelement.WebElement (session=\"afdecdcd50121fcd333b0bb341df7390\", element=\"9f5d86f0-dd4a-4c6d-9624-91a1b5922992\")>,\n",
       " <selenium.webdriver.remote.webelement.WebElement (session=\"afdecdcd50121fcd333b0bb341df7390\", element=\"726772ae-0783-405a-b840-5f506f30f60d\")>,\n",
       " <selenium.webdriver.remote.webelement.WebElement (session=\"afdecdcd50121fcd333b0bb341df7390\", element=\"0b132e6e-fbdc-42c1-8475-3b89e04ca394\")>,\n",
       " <selenium.webdriver.remote.webelement.WebElement (session=\"afdecdcd50121fcd333b0bb341df7390\", element=\"a6d7bf1c-282d-42ef-b107-e2e8b19fdb82\")>,\n",
       " <selenium.webdriver.remote.webelement.WebElement (session=\"afdecdcd50121fcd333b0bb341df7390\", element=\"ac13e54b-ba52-4764-9587-da289c1b2d29\")>,\n",
       " <selenium.webdriver.remote.webelement.WebElement (session=\"afdecdcd50121fcd333b0bb341df7390\", element=\"1bf09425-df6b-4136-ac1a-6790b2efc9f2\")>,\n",
       " <selenium.webdriver.remote.webelement.WebElement (session=\"afdecdcd50121fcd333b0bb341df7390\", element=\"d4e9ccf7-73ad-41d9-b2c3-322274f8ede2\")>,\n",
       " <selenium.webdriver.remote.webelement.WebElement (session=\"afdecdcd50121fcd333b0bb341df7390\", element=\"608e65a7-dd74-4e7b-a5f3-57a10c91b8bf\")>,\n",
       " <selenium.webdriver.remote.webelement.WebElement (session=\"afdecdcd50121fcd333b0bb341df7390\", element=\"3f211ccc-5020-4f2f-945f-d3ab12fa05a5\")>,\n",
       " <selenium.webdriver.remote.webelement.WebElement (session=\"afdecdcd50121fcd333b0bb341df7390\", element=\"29372273-a046-47b7-87a6-c8fa26b90440\")>]"
      ]
     },
     "execution_count": 400,
     "metadata": {},
     "output_type": "execute_result"
    }
   ],
   "source": [
    "prc_tag3 = driver.find_elements_by_xpath('//div[@class=\"_30jeq3\"]')\n",
    "\n",
    "prc_tag3"
   ]
  },
  {
   "cell_type": "code",
   "execution_count": 401,
   "id": "9c190407",
   "metadata": {},
   "outputs": [
    {
     "data": {
      "text/plain": [
       "['₹162',\n",
       " '₹522',\n",
       " '₹217',\n",
       " '₹279',\n",
       " '₹312',\n",
       " '₹404',\n",
       " '₹783',\n",
       " '₹945',\n",
       " '₹246',\n",
       " '₹612',\n",
       " '₹319',\n",
       " '₹398',\n",
       " '₹449',\n",
       " '₹299',\n",
       " '₹210',\n",
       " '₹265',\n",
       " '₹738',\n",
       " '₹215',\n",
       " '₹355',\n",
       " '₹251',\n",
       " '₹249',\n",
       " '₹399',\n",
       " '₹352',\n",
       " '₹401',\n",
       " '₹319',\n",
       " '₹252',\n",
       " '₹649',\n",
       " '₹329',\n",
       " '₹252',\n",
       " '₹292',\n",
       " '₹349',\n",
       " '₹599',\n",
       " '₹260',\n",
       " '₹237',\n",
       " '₹449',\n",
       " '₹698',\n",
       " '₹679',\n",
       " '₹379',\n",
       " '₹299',\n",
       " '₹284']"
      ]
     },
     "execution_count": 401,
     "metadata": {},
     "output_type": "execute_result"
    }
   ],
   "source": [
    "prices3 = []\n",
    "for p3 in prc_tag3:\n",
    "    prices3.append(p3.text)\n",
    "    \n",
    "prices3"
   ]
  },
  {
   "cell_type": "code",
   "execution_count": 402,
   "id": "aee3e716",
   "metadata": {},
   "outputs": [
    {
     "data": {
      "text/plain": [
       "['₹209',\n",
       " '₹664',\n",
       " '₹299',\n",
       " '₹513',\n",
       " '₹758',\n",
       " '₹237',\n",
       " '₹509',\n",
       " '₹255',\n",
       " '₹297',\n",
       " '₹349',\n",
       " '₹331',\n",
       " '₹198',\n",
       " '₹331',\n",
       " '₹281',\n",
       " '₹399',\n",
       " '₹255',\n",
       " '₹299',\n",
       " '₹599',\n",
       " '₹674',\n",
       " '₹759',\n",
       " '₹225',\n",
       " '₹295',\n",
       " '₹647',\n",
       " '₹664',\n",
       " '₹237',\n",
       " '₹210',\n",
       " '₹349',\n",
       " '₹349',\n",
       " '₹251',\n",
       " '₹1,010',\n",
       " '₹399',\n",
       " '₹284',\n",
       " '₹499',\n",
       " '₹210',\n",
       " '₹1,085',\n",
       " '₹1,179',\n",
       " '₹499',\n",
       " '₹399',\n",
       " '₹655',\n",
       " '₹699',\n",
       " '₹162',\n",
       " '₹522',\n",
       " '₹217',\n",
       " '₹279',\n",
       " '₹312',\n",
       " '₹404',\n",
       " '₹783',\n",
       " '₹945',\n",
       " '₹246',\n",
       " '₹612',\n",
       " '₹319',\n",
       " '₹398',\n",
       " '₹449',\n",
       " '₹299',\n",
       " '₹210',\n",
       " '₹265',\n",
       " '₹738',\n",
       " '₹215',\n",
       " '₹355',\n",
       " '₹251',\n",
       " '₹249',\n",
       " '₹399',\n",
       " '₹352',\n",
       " '₹401',\n",
       " '₹319',\n",
       " '₹252',\n",
       " '₹649',\n",
       " '₹329',\n",
       " '₹252',\n",
       " '₹292',\n",
       " '₹349',\n",
       " '₹599',\n",
       " '₹260',\n",
       " '₹237',\n",
       " '₹449',\n",
       " '₹698',\n",
       " '₹679',\n",
       " '₹379',\n",
       " '₹299',\n",
       " '₹284',\n",
       " '₹162',\n",
       " '₹522',\n",
       " '₹217',\n",
       " '₹279',\n",
       " '₹312',\n",
       " '₹404',\n",
       " '₹783',\n",
       " '₹945',\n",
       " '₹246',\n",
       " '₹612',\n",
       " '₹319',\n",
       " '₹398',\n",
       " '₹449',\n",
       " '₹299',\n",
       " '₹210',\n",
       " '₹265',\n",
       " '₹738',\n",
       " '₹215',\n",
       " '₹355',\n",
       " '₹251']"
      ]
     },
     "execution_count": 402,
     "metadata": {},
     "output_type": "execute_result"
    }
   ],
   "source": [
    "prices = prices1 + prices2 + prices3[:20]\n",
    "\n",
    "prices"
   ]
  },
  {
   "cell_type": "code",
   "execution_count": 403,
   "id": "ffa07e46",
   "metadata": {},
   "outputs": [
    {
     "data": {
      "text/plain": [
       "[<selenium.webdriver.remote.webelement.WebElement (session=\"afdecdcd50121fcd333b0bb341df7390\", element=\"2a6b0d46-847a-46b3-8add-f89830b1dfb4\")>,\n",
       " <selenium.webdriver.remote.webelement.WebElement (session=\"afdecdcd50121fcd333b0bb341df7390\", element=\"19eee0ac-6e82-4399-aff9-3e1e7c41c8df\")>,\n",
       " <selenium.webdriver.remote.webelement.WebElement (session=\"afdecdcd50121fcd333b0bb341df7390\", element=\"b80933a4-427a-4053-abf6-082da8f00583\")>,\n",
       " <selenium.webdriver.remote.webelement.WebElement (session=\"afdecdcd50121fcd333b0bb341df7390\", element=\"91b3ffa7-7638-4e36-96c2-c9dad2db3ec1\")>,\n",
       " <selenium.webdriver.remote.webelement.WebElement (session=\"afdecdcd50121fcd333b0bb341df7390\", element=\"06c71b8d-3a7b-44e6-8bc9-a7d691c3cb5a\")>,\n",
       " <selenium.webdriver.remote.webelement.WebElement (session=\"afdecdcd50121fcd333b0bb341df7390\", element=\"6b7aead4-c988-4604-be9d-2c7f88c4ce0f\")>,\n",
       " <selenium.webdriver.remote.webelement.WebElement (session=\"afdecdcd50121fcd333b0bb341df7390\", element=\"3a14586e-4398-4546-9e8d-e174ae2ff34d\")>,\n",
       " <selenium.webdriver.remote.webelement.WebElement (session=\"afdecdcd50121fcd333b0bb341df7390\", element=\"6f3e2d1a-a6d1-4935-bbdb-877e0783bd89\")>,\n",
       " <selenium.webdriver.remote.webelement.WebElement (session=\"afdecdcd50121fcd333b0bb341df7390\", element=\"5f9c1926-8b5b-496f-b45e-f4500a9ce526\")>,\n",
       " <selenium.webdriver.remote.webelement.WebElement (session=\"afdecdcd50121fcd333b0bb341df7390\", element=\"a3f65de4-06a4-460d-bc38-181ffdcfb4a3\")>,\n",
       " <selenium.webdriver.remote.webelement.WebElement (session=\"afdecdcd50121fcd333b0bb341df7390\", element=\"b137ee5d-198d-4609-bed8-05b5a91e773f\")>,\n",
       " <selenium.webdriver.remote.webelement.WebElement (session=\"afdecdcd50121fcd333b0bb341df7390\", element=\"d43086bc-6a23-442e-a749-155c1a523a6b\")>,\n",
       " <selenium.webdriver.remote.webelement.WebElement (session=\"afdecdcd50121fcd333b0bb341df7390\", element=\"0632643e-0fba-4de7-a10e-242517b12960\")>,\n",
       " <selenium.webdriver.remote.webelement.WebElement (session=\"afdecdcd50121fcd333b0bb341df7390\", element=\"22f63af6-1b28-434f-8bb5-eea24f3cd809\")>,\n",
       " <selenium.webdriver.remote.webelement.WebElement (session=\"afdecdcd50121fcd333b0bb341df7390\", element=\"38b1c30d-50b2-47f8-9658-56ccb6dea4ec\")>,\n",
       " <selenium.webdriver.remote.webelement.WebElement (session=\"afdecdcd50121fcd333b0bb341df7390\", element=\"613fcd08-91d7-4cb0-8823-2091c3ace4bf\")>,\n",
       " <selenium.webdriver.remote.webelement.WebElement (session=\"afdecdcd50121fcd333b0bb341df7390\", element=\"2af409c0-81aa-4fd7-834f-72831d502182\")>,\n",
       " <selenium.webdriver.remote.webelement.WebElement (session=\"afdecdcd50121fcd333b0bb341df7390\", element=\"04fdc43c-d33c-4c10-87e8-6d639f43e513\")>,\n",
       " <selenium.webdriver.remote.webelement.WebElement (session=\"afdecdcd50121fcd333b0bb341df7390\", element=\"ad3b85eb-8193-4552-a4a2-03fd171e282d\")>,\n",
       " <selenium.webdriver.remote.webelement.WebElement (session=\"afdecdcd50121fcd333b0bb341df7390\", element=\"7cab8153-8c97-479a-a02c-976601b613c9\")>,\n",
       " <selenium.webdriver.remote.webelement.WebElement (session=\"afdecdcd50121fcd333b0bb341df7390\", element=\"3b8b378b-8a85-4b85-85ff-9defca7a9e3f\")>,\n",
       " <selenium.webdriver.remote.webelement.WebElement (session=\"afdecdcd50121fcd333b0bb341df7390\", element=\"061e6b83-2b04-49ea-b4f6-4fa2db1875fd\")>,\n",
       " <selenium.webdriver.remote.webelement.WebElement (session=\"afdecdcd50121fcd333b0bb341df7390\", element=\"7e2cfba3-3d2e-4112-bc25-cf76f806f376\")>,\n",
       " <selenium.webdriver.remote.webelement.WebElement (session=\"afdecdcd50121fcd333b0bb341df7390\", element=\"e6a5868e-2789-42fb-bb11-0b9473acb24e\")>,\n",
       " <selenium.webdriver.remote.webelement.WebElement (session=\"afdecdcd50121fcd333b0bb341df7390\", element=\"2c778a81-6aa3-4c18-8389-f895c17af0c8\")>,\n",
       " <selenium.webdriver.remote.webelement.WebElement (session=\"afdecdcd50121fcd333b0bb341df7390\", element=\"c2e624dc-1b9e-42cd-bfff-709b9e0f07e4\")>,\n",
       " <selenium.webdriver.remote.webelement.WebElement (session=\"afdecdcd50121fcd333b0bb341df7390\", element=\"1d63fd45-6d2b-4983-8eda-0474622a3097\")>,\n",
       " <selenium.webdriver.remote.webelement.WebElement (session=\"afdecdcd50121fcd333b0bb341df7390\", element=\"23d4402a-7724-40e4-85a3-35f22cc7631c\")>,\n",
       " <selenium.webdriver.remote.webelement.WebElement (session=\"afdecdcd50121fcd333b0bb341df7390\", element=\"c5ae7945-47c5-405f-9155-70b0e0aeabdf\")>,\n",
       " <selenium.webdriver.remote.webelement.WebElement (session=\"afdecdcd50121fcd333b0bb341df7390\", element=\"afd49ee0-c391-46ee-956f-b675ea0dd70a\")>,\n",
       " <selenium.webdriver.remote.webelement.WebElement (session=\"afdecdcd50121fcd333b0bb341df7390\", element=\"d190799f-e8c0-462a-87cb-1983749427e1\")>,\n",
       " <selenium.webdriver.remote.webelement.WebElement (session=\"afdecdcd50121fcd333b0bb341df7390\", element=\"1f1320de-27bb-4996-9387-fe5136b97d00\")>,\n",
       " <selenium.webdriver.remote.webelement.WebElement (session=\"afdecdcd50121fcd333b0bb341df7390\", element=\"d8977989-2e24-46ae-8aa0-f8a794689fca\")>,\n",
       " <selenium.webdriver.remote.webelement.WebElement (session=\"afdecdcd50121fcd333b0bb341df7390\", element=\"2641e26f-35a4-4a84-af5b-eb28613bf5d0\")>,\n",
       " <selenium.webdriver.remote.webelement.WebElement (session=\"afdecdcd50121fcd333b0bb341df7390\", element=\"5ba72765-7583-4cba-a2e2-ee5ade163ece\")>,\n",
       " <selenium.webdriver.remote.webelement.WebElement (session=\"afdecdcd50121fcd333b0bb341df7390\", element=\"7ed58362-a1cc-4705-927f-c4f345fec503\")>,\n",
       " <selenium.webdriver.remote.webelement.WebElement (session=\"afdecdcd50121fcd333b0bb341df7390\", element=\"2764054e-c7ac-47a7-a7ef-8e047596db70\")>,\n",
       " <selenium.webdriver.remote.webelement.WebElement (session=\"afdecdcd50121fcd333b0bb341df7390\", element=\"6d926bc7-68c1-4968-bde3-ab333a6d52e2\")>,\n",
       " <selenium.webdriver.remote.webelement.WebElement (session=\"afdecdcd50121fcd333b0bb341df7390\", element=\"d2f2a752-92bc-4f52-a828-6a83a71f3082\")>,\n",
       " <selenium.webdriver.remote.webelement.WebElement (session=\"afdecdcd50121fcd333b0bb341df7390\", element=\"5b1614d4-5ba1-4db2-bc80-0206fbb74757\")>]"
      ]
     },
     "execution_count": 403,
     "metadata": {},
     "output_type": "execute_result"
    }
   ],
   "source": [
    "disc_tag3 = driver.find_elements_by_xpath('//div[@class=\"_3Ay6Sb\"]')\n",
    "\n",
    "disc_tag3"
   ]
  },
  {
   "cell_type": "code",
   "execution_count": 404,
   "id": "f516e31a",
   "metadata": {},
   "outputs": [
    {
     "data": {
      "text/plain": [
       "['₹337 off',\n",
       " '₹377 off',\n",
       " '₹782 off',\n",
       " '₹1020 off',\n",
       " '₹2183 off',\n",
       " '₹1595 off',\n",
       " '₹116 off',\n",
       " '₹2754 off',\n",
       " '₹1253 off',\n",
       " '₹287 off',\n",
       " '₹1580 off',\n",
       " '₹1047 off',\n",
       " '₹1550 off',\n",
       " '₹1200 off',\n",
       " '₹1089 off',\n",
       " '₹934 off',\n",
       " '₹261 off',\n",
       " '₹570 off',\n",
       " '₹1644 off',\n",
       " '₹1048 off',\n",
       " '₹950 off',\n",
       " '₹1600 off',\n",
       " '₹847 off',\n",
       " '₹1268 off',\n",
       " '₹1679 off',\n",
       " '₹747 off',\n",
       " '₹150 off',\n",
       " '₹670 off',\n",
       " '₹1247 off',\n",
       " '₹1707 off',\n",
       " '₹1650 off',\n",
       " '₹400 off',\n",
       " '₹1735 off',\n",
       " '₹1362 off',\n",
       " '₹1776 off',\n",
       " '₹2052 off',\n",
       " '₹220 off',\n",
       " '₹1120 off',\n",
       " '₹1000 off',\n",
       " '₹915 off']"
      ]
     },
     "execution_count": 404,
     "metadata": {},
     "output_type": "execute_result"
    }
   ],
   "source": [
    "discount3 = []\n",
    "for d3 in disc_tag3:\n",
    "    discount3.append(d3.text)\n",
    "    \n",
    "discount3"
   ]
  },
  {
   "cell_type": "code",
   "execution_count": 405,
   "id": "55e4b45b",
   "metadata": {},
   "outputs": [
    {
     "data": {
      "text/plain": [
       "['₹790 off',\n",
       " '₹1335 off',\n",
       " '₹2300 off',\n",
       " '₹286 off',\n",
       " '₹141 off',\n",
       " '₹1362 off',\n",
       " '₹290 off',\n",
       " '₹944 off',\n",
       " '₹2001 off',\n",
       " '₹1250 off',\n",
       " '₹2268 off',\n",
       " '₹801 off',\n",
       " '₹1268 off',\n",
       " '₹1718 off',\n",
       " '₹1600 off',\n",
       " '₹944 off',\n",
       " '₹2300 off',\n",
       " '₹151 off',\n",
       " '₹225 off',\n",
       " '₹1240 off',\n",
       " '₹874 off',\n",
       " '₹2200 off',\n",
       " '₹252 off',\n",
       " '₹1335 off',\n",
       " '₹1362 off',\n",
       " '₹1256 off',\n",
       " '₹1150 off',\n",
       " '₹2150 off',\n",
       " '₹948 off',\n",
       " '₹289 off',\n",
       " '₹1600 off',\n",
       " '₹915 off',\n",
       " '₹1726 off',\n",
       " '₹989 off',\n",
       " '₹214 off',\n",
       " '₹820 off',\n",
       " '₹1757 off',\n",
       " '₹1800 off',\n",
       " '₹244 off',\n",
       " '₹1300 off',\n",
       " '₹337 off',\n",
       " '₹377 off',\n",
       " '₹782 off',\n",
       " '₹1020 off',\n",
       " '₹2183 off',\n",
       " '₹1595 off',\n",
       " '₹116 off',\n",
       " '₹2754 off',\n",
       " '₹1253 off',\n",
       " '₹287 off',\n",
       " '₹1580 off',\n",
       " '₹1047 off',\n",
       " '₹1550 off',\n",
       " '₹1200 off',\n",
       " '₹1089 off',\n",
       " '₹934 off',\n",
       " '₹261 off',\n",
       " '₹570 off',\n",
       " '₹1644 off',\n",
       " '₹1048 off',\n",
       " '₹950 off',\n",
       " '₹1600 off',\n",
       " '₹847 off',\n",
       " '₹1268 off',\n",
       " '₹1679 off',\n",
       " '₹747 off',\n",
       " '₹150 off',\n",
       " '₹670 off',\n",
       " '₹1247 off',\n",
       " '₹1707 off',\n",
       " '₹1650 off',\n",
       " '₹400 off',\n",
       " '₹1735 off',\n",
       " '₹1362 off',\n",
       " '₹1776 off',\n",
       " '₹2052 off',\n",
       " '₹220 off',\n",
       " '₹1120 off',\n",
       " '₹1000 off',\n",
       " '₹915 off',\n",
       " '₹337 off',\n",
       " '₹377 off',\n",
       " '₹782 off',\n",
       " '₹1020 off',\n",
       " '₹2183 off',\n",
       " '₹1595 off',\n",
       " '₹116 off',\n",
       " '₹2754 off',\n",
       " '₹1253 off',\n",
       " '₹287 off',\n",
       " '₹1580 off',\n",
       " '₹1047 off',\n",
       " '₹1550 off',\n",
       " '₹1200 off',\n",
       " '₹1089 off',\n",
       " '₹934 off',\n",
       " '₹261 off',\n",
       " '₹570 off',\n",
       " '₹1644 off',\n",
       " '₹1048 off']"
      ]
     },
     "execution_count": 405,
     "metadata": {},
     "output_type": "execute_result"
    }
   ],
   "source": [
    "discounts = discount1 + discount2 + discount3[:20]\n",
    "\n",
    "discounts"
   ]
  },
  {
   "cell_type": "code",
   "execution_count": 406,
   "id": "4ca07689",
   "metadata": {},
   "outputs": [],
   "source": [
    "sunglasses = pd.DataFrame({})\n",
    "\n",
    "sunglasses[' Brand Name '] = brands\n",
    "sunglasses[' Product Description '] = descriptions\n",
    "sunglasses[' Prices '] = prices\n",
    "sunglasses[' Discount Percentage '] = discounts\n"
   ]
  },
  {
   "cell_type": "code",
   "execution_count": 407,
   "id": "109c2178",
   "metadata": {},
   "outputs": [
    {
     "data": {
      "text/html": [
       "<div>\n",
       "<style scoped>\n",
       "    .dataframe tbody tr th:only-of-type {\n",
       "        vertical-align: middle;\n",
       "    }\n",
       "\n",
       "    .dataframe tbody tr th {\n",
       "        vertical-align: top;\n",
       "    }\n",
       "\n",
       "    .dataframe thead th {\n",
       "        text-align: right;\n",
       "    }\n",
       "</style>\n",
       "<table border=\"1\" class=\"dataframe\">\n",
       "  <thead>\n",
       "    <tr style=\"text-align: right;\">\n",
       "      <th></th>\n",
       "      <th>Brand Name</th>\n",
       "      <th>Product Description</th>\n",
       "      <th>Prices</th>\n",
       "      <th>Discount Percentage</th>\n",
       "    </tr>\n",
       "  </thead>\n",
       "  <tbody>\n",
       "    <tr>\n",
       "      <th>0</th>\n",
       "      <td>hipe</td>\n",
       "      <td>UV Protection, Gradient, Mirrored, Riding Glas...</td>\n",
       "      <td>₹209</td>\n",
       "      <td>₹790 off</td>\n",
       "    </tr>\n",
       "    <tr>\n",
       "      <th>1</th>\n",
       "      <td>ROYAL SON</td>\n",
       "      <td>Polarized, UV Protection Round Sunglasses (53)</td>\n",
       "      <td>₹664</td>\n",
       "      <td>₹1335 off</td>\n",
       "    </tr>\n",
       "    <tr>\n",
       "      <th>2</th>\n",
       "      <td>kingsunglasses</td>\n",
       "      <td>Mirrored, UV Protection Wayfarer Sunglasses (F...</td>\n",
       "      <td>₹299</td>\n",
       "      <td>₹2300 off</td>\n",
       "    </tr>\n",
       "    <tr>\n",
       "      <th>3</th>\n",
       "      <td>Fastrack</td>\n",
       "      <td>UV Protection Rectangular Sunglasses (Free Size)</td>\n",
       "      <td>₹513</td>\n",
       "      <td>₹286 off</td>\n",
       "    </tr>\n",
       "    <tr>\n",
       "      <th>4</th>\n",
       "      <td>Fastrack</td>\n",
       "      <td>UV Protection Wayfarer Sunglasses (Free Size)</td>\n",
       "      <td>₹758</td>\n",
       "      <td>₹141 off</td>\n",
       "    </tr>\n",
       "    <tr>\n",
       "      <th>...</th>\n",
       "      <td>...</td>\n",
       "      <td>...</td>\n",
       "      <td>...</td>\n",
       "      <td>...</td>\n",
       "    </tr>\n",
       "    <tr>\n",
       "      <th>95</th>\n",
       "      <td>Silver Kartz</td>\n",
       "      <td>UV Protection Wayfarer, Aviator Sunglasses (88)</td>\n",
       "      <td>₹265</td>\n",
       "      <td>₹934 off</td>\n",
       "    </tr>\n",
       "    <tr>\n",
       "      <th>96</th>\n",
       "      <td>Fastrack</td>\n",
       "      <td>Mirrored, UV Protection Wayfarer Sunglasses (F...</td>\n",
       "      <td>₹738</td>\n",
       "      <td>₹261 off</td>\n",
       "    </tr>\n",
       "    <tr>\n",
       "      <th>97</th>\n",
       "      <td>NuVew</td>\n",
       "      <td>UV Protection Aviator Sunglasses (58)</td>\n",
       "      <td>₹215</td>\n",
       "      <td>₹570 off</td>\n",
       "    </tr>\n",
       "    <tr>\n",
       "      <th>98</th>\n",
       "      <td>Singco</td>\n",
       "      <td>UV Protection, Others Aviator Sunglasses (32)</td>\n",
       "      <td>₹355</td>\n",
       "      <td>₹1644 off</td>\n",
       "    </tr>\n",
       "    <tr>\n",
       "      <th>99</th>\n",
       "      <td>GANSTA</td>\n",
       "      <td>UV Protection, Riding Glasses Aviator Sunglass...</td>\n",
       "      <td>₹251</td>\n",
       "      <td>₹1048 off</td>\n",
       "    </tr>\n",
       "  </tbody>\n",
       "</table>\n",
       "<p>100 rows × 4 columns</p>\n",
       "</div>"
      ],
      "text/plain": [
       "       Brand Name                                Product Description   \\\n",
       "0             hipe  UV Protection, Gradient, Mirrored, Riding Glas...   \n",
       "1        ROYAL SON     Polarized, UV Protection Round Sunglasses (53)   \n",
       "2   kingsunglasses  Mirrored, UV Protection Wayfarer Sunglasses (F...   \n",
       "3         Fastrack   UV Protection Rectangular Sunglasses (Free Size)   \n",
       "4         Fastrack      UV Protection Wayfarer Sunglasses (Free Size)   \n",
       "..             ...                                                ...   \n",
       "95    Silver Kartz    UV Protection Wayfarer, Aviator Sunglasses (88)   \n",
       "96        Fastrack  Mirrored, UV Protection Wayfarer Sunglasses (F...   \n",
       "97           NuVew              UV Protection Aviator Sunglasses (58)   \n",
       "98          Singco      UV Protection, Others Aviator Sunglasses (32)   \n",
       "99          GANSTA  UV Protection, Riding Glasses Aviator Sunglass...   \n",
       "\n",
       "    Prices   Discount Percentage   \n",
       "0      ₹209              ₹790 off  \n",
       "1      ₹664             ₹1335 off  \n",
       "2      ₹299             ₹2300 off  \n",
       "3      ₹513              ₹286 off  \n",
       "4      ₹758              ₹141 off  \n",
       "..      ...                   ...  \n",
       "95     ₹265              ₹934 off  \n",
       "96     ₹738              ₹261 off  \n",
       "97     ₹215              ₹570 off  \n",
       "98     ₹355             ₹1644 off  \n",
       "99     ₹251             ₹1048 off  \n",
       "\n",
       "[100 rows x 4 columns]"
      ]
     },
     "execution_count": 407,
     "metadata": {},
     "output_type": "execute_result"
    }
   ],
   "source": [
    "sunglasses"
   ]
  },
  {
   "cell_type": "markdown",
   "id": "a676c96e",
   "metadata": {},
   "source": [
    "### Q.No. 7 :- Scrape 100 reviews data from flipkart.com for iphone11 phone.  "
   ]
  },
  {
   "cell_type": "code",
   "execution_count": 408,
   "id": "395be8a0",
   "metadata": {},
   "outputs": [],
   "source": [
    "url7 = 'https://www.flipkart.com/apple-iphone-11-black-64-gb-includes%02earpods-power%02adapter/p/itm0f37c2240b217?pid=MOBFKCTSVZAXUHGR&lid=LSTMOBFKC%20TSVZAXUHGREPBFGI&marketplace'\n",
    "\n",
    "driver.get(url7)"
   ]
  },
  {
   "cell_type": "code",
   "execution_count": 409,
   "id": "7d240b09",
   "metadata": {},
   "outputs": [
    {
     "data": {
      "text/plain": [
       "<selenium.webdriver.remote.webelement.WebElement (session=\"afdecdcd50121fcd333b0bb341df7390\", element=\"7511a75f-94f0-44ec-a88a-bff881fcd71b\")>"
      ]
     },
     "execution_count": 409,
     "metadata": {},
     "output_type": "execute_result"
    }
   ],
   "source": [
    "rating_btn = driver.find_element_by_xpath('//div[@class=\"_3UAT2v _16PBlm\"]')\n",
    "\n",
    "rating_btn"
   ]
  },
  {
   "cell_type": "code",
   "execution_count": 410,
   "id": "7dedcae7",
   "metadata": {},
   "outputs": [],
   "source": [
    "rating_btn.click()"
   ]
  },
  {
   "cell_type": "code",
   "execution_count": 411,
   "id": "478a8308",
   "metadata": {},
   "outputs": [
    {
     "data": {
      "text/html": [
       "<div>\n",
       "<style scoped>\n",
       "    .dataframe tbody tr th:only-of-type {\n",
       "        vertical-align: middle;\n",
       "    }\n",
       "\n",
       "    .dataframe tbody tr th {\n",
       "        vertical-align: top;\n",
       "    }\n",
       "\n",
       "    .dataframe thead th {\n",
       "        text-align: right;\n",
       "    }\n",
       "</style>\n",
       "<table border=\"1\" class=\"dataframe\">\n",
       "  <thead>\n",
       "    <tr style=\"text-align: right;\">\n",
       "      <th></th>\n",
       "      <th>Number of Stars</th>\n",
       "      <th>Short Review</th>\n",
       "      <th>Full Review</th>\n",
       "    </tr>\n",
       "  </thead>\n",
       "  <tbody>\n",
       "    <tr>\n",
       "      <th>0</th>\n",
       "      <td>5</td>\n",
       "      <td>Simply awesome</td>\n",
       "      <td>Really satisfied with the Product I received.....</td>\n",
       "    </tr>\n",
       "    <tr>\n",
       "      <th>1</th>\n",
       "      <td>5</td>\n",
       "      <td>Brilliant</td>\n",
       "      <td>The Best Phone for the Money\\n\\nThe iPhone 11 ...</td>\n",
       "    </tr>\n",
       "    <tr>\n",
       "      <th>2</th>\n",
       "      <td>5</td>\n",
       "      <td>Perfect product!</td>\n",
       "      <td>Amazing phone with great cameras and better ba...</td>\n",
       "    </tr>\n",
       "    <tr>\n",
       "      <th>3</th>\n",
       "      <td>5</td>\n",
       "      <td>Worth every penny</td>\n",
       "      <td>i11 is worthy to buy, too much happy with the ...</td>\n",
       "    </tr>\n",
       "    <tr>\n",
       "      <th>4</th>\n",
       "      <td>5</td>\n",
       "      <td>Worth every penny</td>\n",
       "      <td>Previously I was using one plus 3t it was a gr...</td>\n",
       "    </tr>\n",
       "    <tr>\n",
       "      <th>...</th>\n",
       "      <td>...</td>\n",
       "      <td>...</td>\n",
       "      <td>...</td>\n",
       "    </tr>\n",
       "    <tr>\n",
       "      <th>94</th>\n",
       "      <td>5</td>\n",
       "      <td>Fabulous!</td>\n",
       "      <td>Everything is perfect pictures come out so cle...</td>\n",
       "    </tr>\n",
       "    <tr>\n",
       "      <th>95</th>\n",
       "      <td>5</td>\n",
       "      <td>Excellent</td>\n",
       "      <td>Value for money product. This iphone 11 is rea...</td>\n",
       "    </tr>\n",
       "    <tr>\n",
       "      <th>96</th>\n",
       "      <td>5</td>\n",
       "      <td>Best in the market!</td>\n",
       "      <td>The best all rounder iphone. Flipkart is doing...</td>\n",
       "    </tr>\n",
       "    <tr>\n",
       "      <th>97</th>\n",
       "      <td>4</td>\n",
       "      <td>Wonderful</td>\n",
       "      <td>I genuinely liked it. One of the best mobile p...</td>\n",
       "    </tr>\n",
       "    <tr>\n",
       "      <th>98</th>\n",
       "      <td>4</td>\n",
       "      <td>Nice product</td>\n",
       "      <td>If you are looking for a premium phone under 5...</td>\n",
       "    </tr>\n",
       "  </tbody>\n",
       "</table>\n",
       "<p>99 rows × 3 columns</p>\n",
       "</div>"
      ],
      "text/plain": [
       "   Number of Stars         Short Review  \\\n",
       "0                5       Simply awesome   \n",
       "1                5            Brilliant   \n",
       "2                5     Perfect product!   \n",
       "3                5    Worth every penny   \n",
       "4                5    Worth every penny   \n",
       "..             ...                  ...   \n",
       "94               5            Fabulous!   \n",
       "95               5            Excellent   \n",
       "96               5  Best in the market!   \n",
       "97               4            Wonderful   \n",
       "98               4         Nice product   \n",
       "\n",
       "                                          Full Review  \n",
       "0   Really satisfied with the Product I received.....  \n",
       "1   The Best Phone for the Money\\n\\nThe iPhone 11 ...  \n",
       "2   Amazing phone with great cameras and better ba...  \n",
       "3   i11 is worthy to buy, too much happy with the ...  \n",
       "4   Previously I was using one plus 3t it was a gr...  \n",
       "..                                                ...  \n",
       "94  Everything is perfect pictures come out so cle...  \n",
       "95  Value for money product. This iphone 11 is rea...  \n",
       "96  The best all rounder iphone. Flipkart is doing...  \n",
       "97  I genuinely liked it. One of the best mobile p...  \n",
       "98  If you are looking for a premium phone under 5...  \n",
       "\n",
       "[99 rows x 3 columns]"
      ]
     },
     "execution_count": 411,
     "metadata": {},
     "output_type": "execute_result"
    }
   ],
   "source": [
    "url = \"https://www.flipkart.com/apple-iphone-11-black-64-gb-includes-earpods-power-adapter/product-reviews/itm0f37c2240b217?pid=MOBFKCTSVZAXUHGR&lid=LSTMOBFKCTSVZAXUHGREPBFGI&marketplace=FLIPKART\"\n",
    "driver.get(url)\n",
    "\n",
    "time.sleep(2)\n",
    "\n",
    "# Creating empty list\n",
    "urls=[]\n",
    "short_review=[]\n",
    "complete_review=[]\n",
    "stars=[]\n",
    "time.sleep(2)\n",
    "\n",
    "#scraping 10 pages url\n",
    "url_1 = driver.find_elements_by_xpath(\"//a[@class='ge-49M _2Kfbh8']\")\n",
    "for i in url_1:\n",
    "    urls.append(i.get_attribute('href'))\n",
    "url_2 = driver.find_elements_by_xpath(\"//a[@class='ge-49M']\")\n",
    "for i in url_2:\n",
    "    urls.append(i.get_attribute('href'))\n",
    "time.sleep(4)\n",
    "\n",
    "\n",
    "for i in urls:\n",
    "    driver.get(i)\n",
    "    #for scrapping the number of stars\n",
    "    for j in driver.find_elements_by_xpath(\"//div[@class='col _2wzgFH K0kLPL']/div[1]/div[1]\"):\n",
    "        stars.append(j.text)\n",
    "    #for scrapping the short review\n",
    "    for k in driver.find_elements_by_xpath(\"//p[@class='_2-N8zT']\"):\n",
    "        short_review.append(k.text)\n",
    "    #for scrapping the complete review\n",
    "    for l in driver.find_elements_by_xpath(\"//div[@class='t-ZTKy']/div/div\"):\n",
    "        complete_review.append(l.text)\n",
    "        \n",
    "        \n",
    "        \n",
    "#Combining all the lists into a single dataframe\n",
    "df=pd.DataFrame({'Number of Stars': stars,\n",
    "                'Short Review': short_review,\n",
    "               'Full Review': complete_review})\n",
    "df"
   ]
  },
  {
   "cell_type": "markdown",
   "id": "69aa9222",
   "metadata": {},
   "source": [
    "### Q. No. 8 :- Scrape data for first 100 sneakers you find when you visit flipkart.com and search for “sneakers” in the search field. "
   ]
  },
  {
   "cell_type": "code",
   "execution_count": 19,
   "id": "491e3e70",
   "metadata": {},
   "outputs": [],
   "source": [
    "def flipkart_8():\n",
    "    driver= webdriver.Chrome(r\"C:\\Users\\R P SHUKLA\\Downloads\\chromedriver.exe\")\n",
    "    driver.get('https://www.flipkart.com/')\n",
    "    \n",
    "    \n",
    "    driver.find_element_by_xpath(\"//button[@class='_2KpZ6l _2doB4z']\").click()\n",
    "    time.sleep(2)\n",
    "    \n",
    "   \n",
    "    src=driver.find_element_by_xpath(\"//div[@class='_3OO5Xc']/input\")\n",
    "    src.send_keys('sneaker')\n",
    "    \n",
    "    \n",
    "    driver.find_element_by_xpath(\"//button[@class='L0Z3Pu']\").click()\n",
    "    time.sleep(4)\n",
    "    \n",
    "    brand=[]\n",
    "    desc=[]\n",
    "    price=[]\n",
    "    disc=[]\n",
    "    \n",
    "    for i in range(0,4):\n",
    "        for j in driver.find_elements_by_xpath(\"//div[@class='_2WkVRV']\"):\n",
    "            if len(brand)<100:\n",
    "                brand.append(j.text)\n",
    "        for k in driver.find_elements_by_xpath(\"//a[@class='IRpwTa']\"):\n",
    "            if len(desc)<100:\n",
    "                desc.append(k.text)\n",
    "        for l in driver.find_elements_by_xpath(\"//div[@class='_30jeq3']\"):\n",
    "            if len(price)<100:\n",
    "                price.append(l.text)\n",
    "        for a in driver.find_elements_by_xpath(\"//div[@class='_3Ay6Sb']\"):\n",
    "            if len(disc)<100:\n",
    "                disc.append(a.text)\n",
    "        try:\n",
    "            driver.find_element_by_xpath(\"//a[@class='_1LKTO3'][2]\").click()\n",
    "            time.sleep(2)\n",
    "        except:\n",
    "            driver.find_element_by_xpath(\"//a[@class='_1LKTO3']\").click()\n",
    "            time.sleep(2)\n",
    "        \n",
    "    info=pd.DataFrame({'Brand':brand,'Product Description':desc,'Price':price,'Discount %':disc})\n",
    "    return info"
   ]
  },
  {
   "cell_type": "code",
   "execution_count": 20,
   "id": "b9e12246",
   "metadata": {},
   "outputs": [
    {
     "data": {
      "text/html": [
       "<div>\n",
       "<style scoped>\n",
       "    .dataframe tbody tr th:only-of-type {\n",
       "        vertical-align: middle;\n",
       "    }\n",
       "\n",
       "    .dataframe tbody tr th {\n",
       "        vertical-align: top;\n",
       "    }\n",
       "\n",
       "    .dataframe thead th {\n",
       "        text-align: right;\n",
       "    }\n",
       "</style>\n",
       "<table border=\"1\" class=\"dataframe\">\n",
       "  <thead>\n",
       "    <tr style=\"text-align: right;\">\n",
       "      <th></th>\n",
       "      <th>Brand</th>\n",
       "      <th>Product Description</th>\n",
       "      <th>Price</th>\n",
       "      <th>Discount %</th>\n",
       "    </tr>\n",
       "  </thead>\n",
       "  <tbody>\n",
       "    <tr>\n",
       "      <th>0</th>\n",
       "      <td>Numenzo</td>\n",
       "      <td>Sneakers For Men</td>\n",
       "      <td>₹449</td>\n",
       "      <td>₹1550 off</td>\n",
       "    </tr>\n",
       "    <tr>\n",
       "      <th>1</th>\n",
       "      <td>City Soles</td>\n",
       "      <td>Sneakers For Men</td>\n",
       "      <td>₹664</td>\n",
       "      <td>₹335 off</td>\n",
       "    </tr>\n",
       "    <tr>\n",
       "      <th>2</th>\n",
       "      <td>Numenzo</td>\n",
       "      <td>Casual Sneakers Shoes For Men Sneakers For Men</td>\n",
       "      <td>₹378</td>\n",
       "      <td>₹621 off</td>\n",
       "    </tr>\n",
       "    <tr>\n",
       "      <th>3</th>\n",
       "      <td>M K FOOTWEAR</td>\n",
       "      <td>Sneakers For Men</td>\n",
       "      <td>₹449</td>\n",
       "      <td>₹550 off</td>\n",
       "    </tr>\n",
       "    <tr>\n",
       "      <th>4</th>\n",
       "      <td>CALCADOS</td>\n",
       "      <td>Unique &amp; Perfect Collection Combo Pack of 02 S...</td>\n",
       "      <td>₹748</td>\n",
       "      <td>₹1248 off</td>\n",
       "    </tr>\n",
       "    <tr>\n",
       "      <th>...</th>\n",
       "      <td>...</td>\n",
       "      <td>...</td>\n",
       "      <td>...</td>\n",
       "      <td>...</td>\n",
       "    </tr>\n",
       "    <tr>\n",
       "      <th>95</th>\n",
       "      <td>bluemaker</td>\n",
       "      <td>Trend Sneakers For Men</td>\n",
       "      <td>₹449</td>\n",
       "      <td>₹300 off</td>\n",
       "    </tr>\n",
       "    <tr>\n",
       "      <th>96</th>\n",
       "      <td>Zsyto</td>\n",
       "      <td>Combo Pack of 4 Latest Collection Stylish Casu...</td>\n",
       "      <td>₹398</td>\n",
       "      <td>₹500 off</td>\n",
       "    </tr>\n",
       "    <tr>\n",
       "      <th>97</th>\n",
       "      <td>URBANBOX</td>\n",
       "      <td>shoes for boys Sneakers For Men</td>\n",
       "      <td>₹199</td>\n",
       "      <td>₹1248 off</td>\n",
       "    </tr>\n",
       "    <tr>\n",
       "      <th>98</th>\n",
       "      <td>Robbie jones</td>\n",
       "      <td>Trendy Sneakers For Men</td>\n",
       "      <td>₹499</td>\n",
       "      <td>₹714 off</td>\n",
       "    </tr>\n",
       "    <tr>\n",
       "      <th>99</th>\n",
       "      <td>CALCADOS</td>\n",
       "      <td>Sneakers For Men</td>\n",
       "      <td>₹748</td>\n",
       "      <td>₹573 off</td>\n",
       "    </tr>\n",
       "  </tbody>\n",
       "</table>\n",
       "<p>100 rows × 4 columns</p>\n",
       "</div>"
      ],
      "text/plain": [
       "           Brand                                Product Description Price  \\\n",
       "0        Numenzo                                   Sneakers For Men  ₹449   \n",
       "1     City Soles                                   Sneakers For Men  ₹664   \n",
       "2        Numenzo     Casual Sneakers Shoes For Men Sneakers For Men  ₹378   \n",
       "3   M K FOOTWEAR                                   Sneakers For Men  ₹449   \n",
       "4       CALCADOS  Unique & Perfect Collection Combo Pack of 02 S...  ₹748   \n",
       "..           ...                                                ...   ...   \n",
       "95     bluemaker                             Trend Sneakers For Men  ₹449   \n",
       "96         Zsyto  Combo Pack of 4 Latest Collection Stylish Casu...  ₹398   \n",
       "97      URBANBOX                    shoes for boys Sneakers For Men  ₹199   \n",
       "98  Robbie jones                            Trendy Sneakers For Men  ₹499   \n",
       "99      CALCADOS                                   Sneakers For Men  ₹748   \n",
       "\n",
       "   Discount %  \n",
       "0   ₹1550 off  \n",
       "1    ₹335 off  \n",
       "2    ₹621 off  \n",
       "3    ₹550 off  \n",
       "4   ₹1248 off  \n",
       "..        ...  \n",
       "95   ₹300 off  \n",
       "96   ₹500 off  \n",
       "97  ₹1248 off  \n",
       "98   ₹714 off  \n",
       "99   ₹573 off  \n",
       "\n",
       "[100 rows x 4 columns]"
      ]
     },
     "execution_count": 20,
     "metadata": {},
     "output_type": "execute_result"
    }
   ],
   "source": [
    "flipkart_8()"
   ]
  },
  {
   "cell_type": "markdown",
   "id": "c8178d27",
   "metadata": {},
   "source": [
    "### Q9: Go to the link - https://www.myntra.com/shoes "
   ]
  },
  {
   "cell_type": "code",
   "execution_count": 26,
   "id": "66acc273",
   "metadata": {},
   "outputs": [],
   "source": [
    "def myntra_9():\n",
    "    driver= webdriver.Chrome(r\"C:\\Users\\R P SHUKLA\\Downloads\\chromedriver.exe\")#connecting to web driver\n",
    "    driver.get('https://www.myntra.com/shoes')\n",
    "    time.sleep(10)\n",
    "    \n",
    "    \n",
    "    c_filter=driver.find_elements_by_xpath(\"//label[@class='common-customCheckbox']\")\n",
    "    for i in c_filter:\n",
    "        if ('Black') in i.text:\n",
    "            i.click()\n",
    "            break\n",
    "    time.sleep(2)\n",
    "    \n",
    "    p_filter=driver.find_elements_by_xpath(\"//label[@class='common-customCheckbox vertical-filters-label']\")\n",
    "    for i in p_filter:\n",
    "        if ('Rs. 6649 to Rs. 13099') in i.text:\n",
    "            i.click()\n",
    "            break\n",
    "    \n",
    "    brand=[]\n",
    "    desc=[]\n",
    "    price=[]\n",
    "    \n",
    "    for i in range(0,2):\n",
    "        time.sleep(4)\n",
    "        for i in driver.find_elements_by_xpath(\"//h3[@class='product-brand']\"):\n",
    "            brand.append(i.text)    \n",
    "        for i in driver.find_elements_by_xpath(\"//h4[@class='product-product']\"):\n",
    "            desc.append(i.text)\n",
    "        for i in driver.find_elements_by_xpath(\"//div[@class='product-price']/span[1]\"):\n",
    "            price.append(i.text)\n",
    "        driver.find_element_by_xpath(\"//a[@rel='next']\").click()\n",
    "     \n",
    "    data=pd.DataFrame({'Brand':brand,'Short Description':desc,'Price':price})\n",
    "    a=data.Price.str.split('Rs.')\n",
    "    for i in range(0,len(a)):\n",
    "        data['Price'][i]=a[i][1]\n",
    "    return data"
   ]
  },
  {
   "cell_type": "code",
   "execution_count": 27,
   "id": "8020fc42",
   "metadata": {},
   "outputs": [
    {
     "data": {
      "text/html": [
       "<div>\n",
       "<style scoped>\n",
       "    .dataframe tbody tr th:only-of-type {\n",
       "        vertical-align: middle;\n",
       "    }\n",
       "\n",
       "    .dataframe tbody tr th {\n",
       "        vertical-align: top;\n",
       "    }\n",
       "\n",
       "    .dataframe thead th {\n",
       "        text-align: right;\n",
       "    }\n",
       "</style>\n",
       "<table border=\"1\" class=\"dataframe\">\n",
       "  <thead>\n",
       "    <tr style=\"text-align: right;\">\n",
       "      <th></th>\n",
       "      <th>Brand</th>\n",
       "      <th>Short Description</th>\n",
       "      <th>Price</th>\n",
       "    </tr>\n",
       "  </thead>\n",
       "  <tbody>\n",
       "    <tr>\n",
       "      <th>0</th>\n",
       "      <td>mr.wonker</td>\n",
       "      <td>Men Running Shoes</td>\n",
       "      <td>665</td>\n",
       "    </tr>\n",
       "    <tr>\n",
       "      <th>1</th>\n",
       "      <td>Puma</td>\n",
       "      <td>Sneakers</td>\n",
       "      <td>1749</td>\n",
       "    </tr>\n",
       "    <tr>\n",
       "      <th>2</th>\n",
       "      <td>MENGLER</td>\n",
       "      <td>Men Walking Shoes</td>\n",
       "      <td>645</td>\n",
       "    </tr>\n",
       "    <tr>\n",
       "      <th>3</th>\n",
       "      <td>Catwalk</td>\n",
       "      <td>Women Wedges</td>\n",
       "      <td>1097</td>\n",
       "    </tr>\n",
       "    <tr>\n",
       "      <th>4</th>\n",
       "      <td>ALDO</td>\n",
       "      <td>Men Sneakers</td>\n",
       "      <td>9999</td>\n",
       "    </tr>\n",
       "    <tr>\n",
       "      <th>...</th>\n",
       "      <td>...</td>\n",
       "      <td>...</td>\n",
       "      <td>...</td>\n",
       "    </tr>\n",
       "    <tr>\n",
       "      <th>95</th>\n",
       "      <td>Provogue</td>\n",
       "      <td>Men Solid Penny Loafers</td>\n",
       "      <td>699</td>\n",
       "    </tr>\n",
       "    <tr>\n",
       "      <th>96</th>\n",
       "      <td>Red Tape</td>\n",
       "      <td>Men DRIFT Walking Shoes</td>\n",
       "      <td>1799</td>\n",
       "    </tr>\n",
       "    <tr>\n",
       "      <th>97</th>\n",
       "      <td>Mochi</td>\n",
       "      <td>Men Solid Leather Formal Slip-Ons</td>\n",
       "      <td>1743</td>\n",
       "    </tr>\n",
       "    <tr>\n",
       "      <th>98</th>\n",
       "      <td>Fentacia</td>\n",
       "      <td>Men Formal Loafers</td>\n",
       "      <td>994</td>\n",
       "    </tr>\n",
       "    <tr>\n",
       "      <th>99</th>\n",
       "      <td>Bond Street By Red Tape</td>\n",
       "      <td>Men Solid Formal Oxfords</td>\n",
       "      <td>1049</td>\n",
       "    </tr>\n",
       "  </tbody>\n",
       "</table>\n",
       "<p>100 rows × 3 columns</p>\n",
       "</div>"
      ],
      "text/plain": [
       "                      Brand                  Short Description  Price\n",
       "0                 mr.wonker                  Men Running Shoes    665\n",
       "1                      Puma                           Sneakers   1749\n",
       "2                   MENGLER                  Men Walking Shoes    645\n",
       "3                   Catwalk                       Women Wedges   1097\n",
       "4                      ALDO                       Men Sneakers   9999\n",
       "..                      ...                                ...    ...\n",
       "95                 Provogue            Men Solid Penny Loafers    699\n",
       "96                 Red Tape            Men DRIFT Walking Shoes   1799\n",
       "97                    Mochi  Men Solid Leather Formal Slip-Ons   1743\n",
       "98                 Fentacia                 Men Formal Loafers    994\n",
       "99  Bond Street By Red Tape           Men Solid Formal Oxfords   1049\n",
       "\n",
       "[100 rows x 3 columns]"
      ]
     },
     "execution_count": 27,
     "metadata": {},
     "output_type": "execute_result"
    }
   ],
   "source": [
    "myntra_9()"
   ]
  },
  {
   "cell_type": "markdown",
   "id": "1477ac5d",
   "metadata": {},
   "source": [
    "### Q10: Go to webpage https://www.amazon.in/. Enter “Laptop” in the search field and then click the search icon. "
   ]
  },
  {
   "cell_type": "code",
   "execution_count": 28,
   "id": "3c49493f",
   "metadata": {},
   "outputs": [],
   "source": [
    "def amazone_10():\n",
    "    driver= webdriver.Chrome(r\"C:\\Users\\R P SHUKLA\\Downloads\\chromedriver.exe\")#connecting to web driver\n",
    "    driver.get('https://www.amazon.in')\n",
    "    time.sleep(4)\n",
    "    \n",
    "    search_bar=driver.find_element_by_id('twotabsearchtextbox')\n",
    "    search_bar.clear() \n",
    "    search_bar.send_keys('Laptop')\n",
    "    search_button=driver.find_element_by_xpath(\"//div[@class='nav-search-submit nav-sprite']/span/input\")\n",
    "    search_button.click()\n",
    "    time.sleep(4)\n",
    "    \n",
    "    for i in driver.find_elements_by_xpath(\"//a[@class='a-link-normal s-navigation-item']/span\"):\n",
    "        if i.text=='Intel Core i7':\n",
    "            i.click()\n",
    "            break\n",
    "    time.sleep(4) \n",
    "    \n",
    "    url=driver.find_elements_by_xpath(\"//a[@class='a-link-normal a-text-normal']\")\n",
    "    urls=[]\n",
    "    for i in url:\n",
    "        urls.append(i.get_attribute('href'))        \n",
    "    \n",
    "    title=[]\n",
    "    rating=[]\n",
    "    price=[]\n",
    "    \n",
    "    for i in urls[:5]:\n",
    "        driver.get(i)\n",
    "        time.sleep(2)\n",
    "        \n",
    "        try:   \n",
    "            for i in driver.find_elements_by_xpath(\"//span[@id='productTitle']\"):\n",
    "                title.append(i.text)\n",
    "        except NoSuchElementException:\n",
    "            title.append('NA')\n",
    "            \n",
    "        try: \n",
    "            for i in driver.find_elements_by_id(\"acrPopover\"):\n",
    "                a=i.get_attribute('title')\n",
    "                t=[]\n",
    "                t.append(a)\n",
    "        \n",
    "        except NoSuchElementException:\n",
    "            rating.append('NA')\n",
    "        rating.append(t[0])\n",
    "        \n",
    "        try:\n",
    "            for i in driver.find_elements_by_xpath(\"//td[@class='a-span12']/span[1]\"):\n",
    "                price.append(i.text)\n",
    "        except NoSuchElementException:\n",
    "            rating.append('NA')\n",
    "            \n",
    "    search_bar=driver.find_element_by_id('twotabsearchtextbox')\n",
    "    search_bar.clear() \n",
    "    search_bar.send_keys('Laptop')\n",
    "    search_button=driver.find_element_by_xpath(\"//div[@class='nav-search-submit nav-sprite']/span/input\")\n",
    "    search_button.click()\n",
    "    time.sleep(4)\n",
    "    \n",
    "    for i in driver.find_elements_by_xpath(\"//a[@class='a-link-normal s-navigation-item']/span\"):\n",
    "        if i.text=='Intel Core i9':\n",
    "            i.click()\n",
    "            break\n",
    "    time.sleep(4)   \n",
    "    \n",
    "    url=driver.find_elements_by_xpath(\"//a[@class='a-link-normal a-text-normal']\")\n",
    "    urls=[]\n",
    "    for i in url:\n",
    "        urls.append(i.get_attribute('href'))        \n",
    "    \n",
    "    for i in urls[:5]:\n",
    "        driver.get(i)\n",
    "        time.sleep(2)\n",
    "        \n",
    "        try:\n",
    "            for i in driver.find_elements_by_xpath(\"//span[@id='productTitle']\"):\n",
    "                title.append(i.text)\n",
    "        except NoSuchElementException:\n",
    "            title.append('NA')\n",
    "            \n",
    "        try: \n",
    "            for i in driver.find_elements_by_id(\"acrPopover\"):\n",
    "                a=i.get_attribute('title')\n",
    "                t=[]\n",
    "                t.append(a)\n",
    "             \n",
    "        except NoSuchElementException:\n",
    "            rating.append('NA')\n",
    "        rating.append(t[0])\n",
    "        try:\n",
    "            for i in driver.find_elements_by_xpath(\"//td[@class='a-span12']/span[1]\"):\n",
    "                price.append(i.text)\n",
    "        except NoSuchElementException:\n",
    "            price.append('NA')\n",
    "    \n",
    "    data=pd.DataFrame({'Title':title,'Rating':rating,'Price':price})\n",
    "    return data"
   ]
  },
  {
   "cell_type": "code",
   "execution_count": 29,
   "id": "695add71",
   "metadata": {},
   "outputs": [
    {
     "data": {
      "text/html": [
       "<div>\n",
       "<style scoped>\n",
       "    .dataframe tbody tr th:only-of-type {\n",
       "        vertical-align: middle;\n",
       "    }\n",
       "\n",
       "    .dataframe tbody tr th {\n",
       "        vertical-align: top;\n",
       "    }\n",
       "\n",
       "    .dataframe thead th {\n",
       "        text-align: right;\n",
       "    }\n",
       "</style>\n",
       "<table border=\"1\" class=\"dataframe\">\n",
       "  <thead>\n",
       "    <tr style=\"text-align: right;\">\n",
       "      <th></th>\n",
       "      <th>Title</th>\n",
       "      <th>Rating</th>\n",
       "      <th>Price</th>\n",
       "    </tr>\n",
       "  </thead>\n",
       "  <tbody>\n",
       "    <tr>\n",
       "      <th>0</th>\n",
       "      <td>MSI GS66 Stealth, Intel 10th Gen. i7-10875H, 1...</td>\n",
       "      <td>2.0 out of 5 stars</td>\n",
       "      <td>₹2,55,991.00</td>\n",
       "    </tr>\n",
       "    <tr>\n",
       "      <th>1</th>\n",
       "      <td>MSI GF65 Thin, Intel i7-10750H, 15.6\" FHD (39....</td>\n",
       "      <td>3.8 out of 5 stars</td>\n",
       "      <td>₹94,171.00</td>\n",
       "    </tr>\n",
       "    <tr>\n",
       "      <th>2</th>\n",
       "      <td>HP Pavilion (2021) Thin &amp; Light 11th Gen Core ...</td>\n",
       "      <td>4.5 out of 5 stars</td>\n",
       "      <td>₹84,018.00</td>\n",
       "    </tr>\n",
       "    <tr>\n",
       "      <th>3</th>\n",
       "      <td>HP Pavilion x360 (2021) 14\" (35.56cms) FHD Tou...</td>\n",
       "      <td>4.0 out of 5 stars</td>\n",
       "      <td>₹78,993.00</td>\n",
       "    </tr>\n",
       "    <tr>\n",
       "      <th>4</th>\n",
       "      <td>Mi Notebook Horizon Edition 14 Intel Core i7-1...</td>\n",
       "      <td>4.4 out of 5 stars</td>\n",
       "      <td>₹59,999.00</td>\n",
       "    </tr>\n",
       "    <tr>\n",
       "      <th>5</th>\n",
       "      <td>ASUS ZenBook Pro Duo UX581 Intel Core i9 9th G...</td>\n",
       "      <td>3.8 out of 5 stars</td>\n",
       "      <td>₹2,69,139.00</td>\n",
       "    </tr>\n",
       "    <tr>\n",
       "      <th>6</th>\n",
       "      <td>HP Omen X 2S Core i9 9th Gen 15.6-inch Dual Sc...</td>\n",
       "      <td>4.5 out of 5 stars</td>\n",
       "      <td>₹3,41,000.00</td>\n",
       "    </tr>\n",
       "    <tr>\n",
       "      <th>7</th>\n",
       "      <td>ASUS ROG Zephyrus Duo 15, 15.6\" FHD 300Hz/3ms,...</td>\n",
       "      <td>5.0 out of 5 stars</td>\n",
       "      <td>₹3,38,924.00</td>\n",
       "    </tr>\n",
       "    <tr>\n",
       "      <th>8</th>\n",
       "      <td>ASUS ZenBook Pro Duo Intel Core i9-10980HK 10t...</td>\n",
       "      <td>4.1 out of 5 stars</td>\n",
       "      <td>₹2,68,990.00</td>\n",
       "    </tr>\n",
       "    <tr>\n",
       "      <th>9</th>\n",
       "      <td>Dell XPS 9570 15.6-inch UHD Laptop (8th Gen i9...</td>\n",
       "      <td>2.4 out of 5 stars</td>\n",
       "      <td>₹2,59,848.00</td>\n",
       "    </tr>\n",
       "  </tbody>\n",
       "</table>\n",
       "</div>"
      ],
      "text/plain": [
       "                                               Title              Rating  \\\n",
       "0  MSI GS66 Stealth, Intel 10th Gen. i7-10875H, 1...  2.0 out of 5 stars   \n",
       "1  MSI GF65 Thin, Intel i7-10750H, 15.6\" FHD (39....  3.8 out of 5 stars   \n",
       "2  HP Pavilion (2021) Thin & Light 11th Gen Core ...  4.5 out of 5 stars   \n",
       "3  HP Pavilion x360 (2021) 14\" (35.56cms) FHD Tou...  4.0 out of 5 stars   \n",
       "4  Mi Notebook Horizon Edition 14 Intel Core i7-1...  4.4 out of 5 stars   \n",
       "5  ASUS ZenBook Pro Duo UX581 Intel Core i9 9th G...  3.8 out of 5 stars   \n",
       "6  HP Omen X 2S Core i9 9th Gen 15.6-inch Dual Sc...  4.5 out of 5 stars   \n",
       "7  ASUS ROG Zephyrus Duo 15, 15.6\" FHD 300Hz/3ms,...  5.0 out of 5 stars   \n",
       "8  ASUS ZenBook Pro Duo Intel Core i9-10980HK 10t...  4.1 out of 5 stars   \n",
       "9  Dell XPS 9570 15.6-inch UHD Laptop (8th Gen i9...  2.4 out of 5 stars   \n",
       "\n",
       "          Price  \n",
       "0  ₹2,55,991.00  \n",
       "1    ₹94,171.00  \n",
       "2    ₹84,018.00  \n",
       "3    ₹78,993.00  \n",
       "4    ₹59,999.00  \n",
       "5  ₹2,69,139.00  \n",
       "6  ₹3,41,000.00  \n",
       "7  ₹3,38,924.00  \n",
       "8  ₹2,68,990.00  \n",
       "9  ₹2,59,848.00  "
      ]
     },
     "execution_count": 29,
     "metadata": {},
     "output_type": "execute_result"
    }
   ],
   "source": [
    "amazone_10()"
   ]
  }
 ],
 "metadata": {
  "kernelspec": {
   "display_name": "Python 3",
   "language": "python",
   "name": "python3"
  },
  "language_info": {
   "codemirror_mode": {
    "name": "ipython",
    "version": 3
   },
   "file_extension": ".py",
   "mimetype": "text/x-python",
   "name": "python",
   "nbconvert_exporter": "python",
   "pygments_lexer": "ipython3",
   "version": "3.8.8"
  }
 },
 "nbformat": 4,
 "nbformat_minor": 5
}
